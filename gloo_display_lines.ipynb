{
 "cells": [
  {
   "cell_type": "markdown",
   "metadata": {},
   "source": [
    "# Jupyter Notebook backend demo"
   ]
  },
  {
   "cell_type": "markdown",
   "metadata": {},
   "source": [
    "This example shows how vispy's low-level gloo interface can be used to display a Canvas in a notebook. By default, vispy will detect that it is being run in a notebook and load the \"jupyter_rfb\" backend automatically. This does require that the \"jupyter_rfb\" package be installed.\n",
    "\n",
    "Due to the way widgets work in Jupyter, you can display the Canvas multiple times, but they will continue to represent the same object. In the case of timers, they will continue to run in the backgroudn until they are stopped, even if the output of your notebook cell is cleared and no canvas is visible."
   ]
  },
  {
   "cell_type": "code",
   "execution_count": 12,
   "metadata": {},
   "outputs": [],
   "source": [
    "import numpy as np\n",
    "import vispy\n",
    "import vispy.gloo as gloo\n",
    "from vispy import app\n",
    "from vispy import io\n",
    "from vispy.util.transforms import perspective, translate, rotate"
   ]
  },
  {
   "cell_type": "code",
   "execution_count": 13,
   "metadata": {},
   "outputs": [],
   "source": [
    "n = 100\n",
    "a_position = np.random.uniform(-1, 1, (n, 3)).astype(np.float32)\n",
    "a_id = np.random.randint(0, 30, (n, 1))\n",
    "a_id = np.sort(a_id, axis=0).astype(np.float32)"
   ]
  },
  {
   "cell_type": "code",
   "execution_count": 14,
   "metadata": {},
   "outputs": [],
   "source": [
    "VERT_SHADER = \"\"\"\n",
    "uniform mat4 u_model;\n",
    "uniform mat4 u_view;\n",
    "uniform mat4 u_projection;\n",
    "attribute vec3 a_position;\n",
    "attribute float a_id;\n",
    "varying float v_id;\n",
    "void main (void) {\n",
    "    v_id = a_id;\n",
    "    gl_Position = u_projection * u_view * u_model * vec4(a_position,1.0);\n",
    "}\n",
    "\"\"\"\n",
    "\n",
    "FRAG_SHADER = \"\"\"\n",
    "varying float v_id;\n",
    "void main()\n",
    "{\n",
    "    float f = fract(v_id);\n",
    "    // The second useless test is needed on OSX 10.8 (fuck)\n",
    "    if( (f > 0.0001) && (f < .9999) )\n",
    "        discard;\n",
    "    else\n",
    "        gl_FragColor = vec4(0,0,0,1);\n",
    "}\n",
    "\"\"\""
   ]
  },
  {
   "cell_type": "code",
   "execution_count": 15,
   "metadata": {},
   "outputs": [],
   "source": [
    "class Canvas(app.Canvas):\n",
    "\n",
    "    # ---------------------------------\n",
    "    def __init__(self, size=None, show=True):\n",
    "        app.Canvas.__init__(self, keys='interactive', size=size)\n",
    "\n",
    "        self.program = gloo.Program(VERT_SHADER, FRAG_SHADER)\n",
    "\n",
    "        # Set uniform and attribute\n",
    "        self.program['a_id'] = gloo.VertexBuffer(a_id)\n",
    "        self.program['a_position'] = gloo.VertexBuffer(a_position)\n",
    "\n",
    "        self.translate = 5\n",
    "        self.view = translate((0, 0, -self.translate), dtype=np.float32)\n",
    "        self.model = np.eye(4, dtype=np.float32)\n",
    "\n",
    "        gloo.set_viewport(0, 0, self.physical_size[0], self.physical_size[1])\n",
    "        self.projection = perspective(45.0, self.size[0] /\n",
    "                                      float(self.size[1]), 1.0, 1000.0)\n",
    "        self.program['u_projection'] = self.projection\n",
    "\n",
    "        self.program['u_model'] = self.model\n",
    "        self.program['u_view'] = self.view\n",
    "\n",
    "        self.theta = 0\n",
    "        self.phi = 0\n",
    "\n",
    "        self.context.set_clear_color('white')\n",
    "        self.context.set_state('translucent')\n",
    "\n",
    "        self.timer = app.Timer('auto', connect=self.on_timer, start=True)\n",
    "\n",
    "        if show:\n",
    "            self.show()\n",
    "\n",
    "    # ---------------------------------\n",
    "    def on_key_press(self, event):\n",
    "        if event.text == ' ':\n",
    "            if self.timer.running:\n",
    "                self.timer.stop()\n",
    "            else:\n",
    "                self.timer.start()\n",
    "\n",
    "    # ---------------------------------\n",
    "    def on_timer(self, event):\n",
    "        self.theta += .5\n",
    "        self.phi += .5\n",
    "        self.model = np.dot(rotate(self.theta, (0, 0, 1)),\n",
    "                            rotate(self.phi, (0, 1, 0)))\n",
    "        self.program['u_model'] = self.model\n",
    "        self.update()\n",
    "\n",
    "    # ---------------------------------\n",
    "    def on_resize(self, event):\n",
    "        gloo.set_viewport(0, 0, event.physical_size[0], event.physical_size[1])\n",
    "        self.projection = perspective(45.0, event.size[0] /\n",
    "                                      float(event.size[1]), 1.0, 1000.0)\n",
    "        self.program['u_projection'] = self.projection\n",
    "\n",
    "    # ---------------------------------\n",
    "    def on_mouse_wheel(self, event):\n",
    "        self.translate += event.delta[1]\n",
    "        self.translate = max(2, self.translate)\n",
    "        self.view = translate((0, 0, -self.translate))\n",
    "        self.program['u_view'] = self.view\n",
    "        self.update()\n",
    "\n",
    "    # ---------------------------------\n",
    "    def on_draw(self, event):\n",
    "        self.context.clear()\n",
    "        self.program.draw('line_strip')"
   ]
  },
  {
   "cell_type": "markdown",
   "metadata": {},
   "source": [
    "Every cell above was preparing our GL Canvas for operation. Now we will create the Canvas instance and because of the `self.show()` in our `__init__` method our canvas will be shown and its timer started immediately."
   ]
  },
  {
   "cell_type": "code",
   "execution_count": 16,
   "metadata": {},
   "outputs": [
    {
     "data": {
      "application/vnd.jupyter.widget-view+json": {
       "model_id": "330e37b1f92548418062b9fe286eed06",
       "version_major": 2,
       "version_minor": 0
      },
      "text/plain": [
       "RFBOutputContext()"
      ]
     },
     "metadata": {},
     "output_type": "display_data"
    },
    {
     "data": {
      "application/vnd.jupyter.widget-view+json": {
       "model_id": "f2ad5b4f26ef497998c2b6cf112208c0",
       "version_major": 2,
       "version_minor": 0
      },
      "text/html": [
       "<div class='snapshot-f2ad5b4f26ef497998c2b6cf112208c0' style='position:relative;'><img src='data:image/png;base64,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' style='width:300.0px;height:300.0px;' /><div style='position: absolute; top:0; left:0; padding:1px 3px; background: #777; color:#fff; font-size: 90%; font-family:sans-serif; '>snapshot</div></div>"
      ],
      "text/plain": [
       "CanvasBackend(css_width='300px')"
      ]
     },
     "execution_count": 16,
     "metadata": {},
     "output_type": "execute_result"
    }
   ],
   "source": [
    "c = Canvas(size=(300, 300))\n",
    "c"
   ]
  },
  {
   "cell_type": "markdown",
   "metadata": {},
   "source": [
    "When timers are involved we can run the `stop` and `start` methods to turn them on/off and see the result in the widget displayed above."
   ]
  },
  {
   "cell_type": "code",
   "execution_count": 17,
   "metadata": {},
   "outputs": [],
   "source": [
    "c.timer.stop()"
   ]
  },
  {
   "cell_type": "code",
   "execution_count": 18,
   "metadata": {},
   "outputs": [],
   "source": [
    "c.timer.start()"
   ]
  },
  {
   "cell_type": "code",
   "execution_count": 19,
   "metadata": {},
   "outputs": [],
   "source": [
    "img=c.render('line_strip')\n",
    "vispy.io.image.write_png(\"vispy.png\", img)"
   ]
  },
  {
   "cell_type": "code",
   "execution_count": null,
   "metadata": {},
   "outputs": [],
   "source": []
  }
 ],
 "metadata": {
  "kernelspec": {
   "display_name": "Python 3 (ipykernel)",
   "language": "python",
   "name": "python3"
  },
  "language_info": {
   "codemirror_mode": {
    "name": "ipython",
    "version": 3
   },
   "file_extension": ".py",
   "mimetype": "text/x-python",
   "name": "python",
   "nbconvert_exporter": "python",
   "pygments_lexer": "ipython3",
   "version": "3.11.5"
  }
 },
 "nbformat": 4,
 "nbformat_minor": 4
}
