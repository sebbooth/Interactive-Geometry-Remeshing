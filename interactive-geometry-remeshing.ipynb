{
 "cells": [
  {
   "cell_type": "markdown",
   "metadata": {},
   "source": [
    "# Interactive Geometry Remeshing\n",
    "\n",
    "A Python implementation of Pierre Alliez, Mark Meyer, and Mathieu Desbrun's research paper \"Interactive Geometry Remeshing.\""
   ]
  },
  {
   "cell_type": "code",
   "execution_count": 40,
   "metadata": {},
   "outputs": [],
   "source": [
    "import math\n",
    "import random\n",
    "import os\n",
    "\n",
    "import igl\n",
    "import numpy as np\n",
    "import meshplot as mp\n",
    "import scipy as sp\n",
    "import ipywidgets as iw\n",
    "\n",
    "import vispy\n",
    "from vispy import io\n",
    "from vispy import app, gloo\n",
    "from vispy.gloo import Program\n",
    "from PIL import Image"
   ]
  },
  {
   "cell_type": "markdown",
   "metadata": {},
   "source": [
    "## Defining Feature Edges With Dihedral Angle Thresholding\n"
   ]
  },
  {
   "cell_type": "code",
   "execution_count": 41,
   "metadata": {},
   "outputs": [
    {
     "data": {
      "application/vnd.jupyter.widget-view+json": {
       "model_id": "370c3cd11f41464f8d16cf8ccb8c9ae1",
       "version_major": 2,
       "version_minor": 0
      },
      "text/plain": [
       "Renderer(camera=PerspectiveCamera(children=(DirectionalLight(color='white', intensity=0.6, position=(2.4139499…"
      ]
     },
     "metadata": {},
     "output_type": "display_data"
    },
    {
     "data": {
      "text/plain": [
       "1"
      ]
     },
     "execution_count": 41,
     "metadata": {},
     "output_type": "execute_result"
    }
   ],
   "source": [
    "def feature_edges(v,f,threshold):\n",
    "    edge_faces = []\n",
    "\n",
    "    dihedral_threshold = threshold/180 * np.pi\n",
    "    f_normals = igl.per_face_normals(v,f,np.ndarray([0,0]))\n",
    "    edge_flaps = igl.edge_flaps(f)\n",
    "    edges = edge_flaps[0]\n",
    "    \n",
    "    threshold_edges = []\n",
    "    for i in range(edges.shape[0]):\n",
    "        # find normals of faces connecting edge\n",
    "        edge_face_norms = f_normals[edge_flaps[2][i]]\n",
    "\n",
    "        # find dihedral angle between edge faces\n",
    "        f1n = edge_face_norms[0] / np.linalg.norm(edge_face_norms[0])\n",
    "        f2n = edge_face_norms[1] / np.linalg.norm(edge_face_norms[1])\n",
    "        dihedral_angle = np.arccos(np.clip(np.dot(f1n, f2n), -1.0, 1.0))\n",
    "\n",
    "        # add angles greater than threshold to list\n",
    "        if dihedral_angle > dihedral_threshold or (-1 in edge_flaps[2][i]):\n",
    "            threshold_edges.append(edges[i])\n",
    "            \n",
    "            # add edge faces to list\n",
    "            if edge_flaps[2][i][0] != -1:\n",
    "                edge_faces.append(edge_flaps[2][i][0])\n",
    "            if edge_flaps[2][i][1] != -1:\n",
    "                edge_faces.append(edge_flaps[2][i][1])\n",
    "\n",
    "    threshold_edges = np.array(threshold_edges)\n",
    "    return threshold_edges, edge_faces\n",
    "\n",
    "\n",
    "\n",
    "v, f = igl.read_triangle_mesh(\"data/fandisk.obj\")\n",
    "feature_edge_list, edge_faces = feature_edges(v,f,20)\n",
    "\n",
    "col = np.ones_like(f)\n",
    "col[edge_faces, 1:] = 0\n",
    "\n",
    "p = mp.plot(v, f, c=col, shading={\"wireframe\": 0})\n",
    "p.add_lines(v[feature_edge_list][:,0], v[feature_edge_list][:,1], shading={\"line_color\": \"yellow\"})"
   ]
  },
  {
   "cell_type": "markdown",
   "metadata": {},
   "source": [
    "## Parametrization onto Square Map"
   ]
  },
  {
   "cell_type": "code",
   "execution_count": 42,
   "metadata": {},
   "outputs": [
    {
     "data": {
      "application/vnd.jupyter.widget-view+json": {
       "model_id": "17504a9d70954cb9b798ba86bca5dce3",
       "version_major": 2,
       "version_minor": 0
      },
      "text/plain": [
       "Renderer(camera=PerspectiveCamera(children=(DirectionalLight(color='white', intensity=0.6, position=(2.4139499…"
      ]
     },
     "metadata": {},
     "output_type": "display_data"
    },
    {
     "data": {
      "application/vnd.jupyter.widget-view+json": {
       "model_id": "00c44d0bb08b4e89ace842b52e66546d",
       "version_major": 2,
       "version_minor": 0
      },
      "text/plain": [
       "interactive(children=(Dropdown(description='mode', options=('2D', '3D'), value='2D'), Output()), _dom_classes=…"
      ]
     },
     "metadata": {},
     "output_type": "display_data"
    }
   ],
   "source": [
    "def circle_to_square(x_circ,y_circ):\n",
    "    x = 0.5 * np.sqrt( 2 + x_circ**2 - y_circ**2 + 2*x_circ*np.sqrt(2) ) - 0.5 * np.sqrt( 2 + x_circ**2 - y_circ**2 - 2*x_circ*np.sqrt(2) )\n",
    "    y = 0.5 * np.sqrt( 2 - x_circ**2 + y_circ**2 + 2*y_circ*np.sqrt(2) ) - 0.5 * np.sqrt( 2 - x_circ**2 + y_circ**2 - 2*y_circ*np.sqrt(2) )\n",
    "    x = round(max(min(1,x),-1),5)\n",
    "    y = round(max(min(1,y),-1),5)\n",
    "    return [x,y]\n",
    "\n",
    "def parametrize(v,f):\n",
    "    ## Find the open boundary\n",
    "    bnd = igl.boundary_loop(f)\n",
    "    \n",
    "    ## Map the boundary to a circle, preserving edge proportions\n",
    "    bnd_uv = igl.map_vertices_to_circle(v, bnd)\n",
    "    \n",
    "    # remap circle boundary onto square\n",
    "    bnd_uv = np.array([circle_to_square(x_circ,y_circ) for [x_circ,y_circ] in bnd_uv])\n",
    "\n",
    "    # force points into corners\n",
    "    TL = np.array([-1,1])\n",
    "    TR = np.array([1,1])\n",
    "    BL = np.array([-1,-1])\n",
    "    BR = np.array([1,-1])\n",
    "    bndTL = 0\n",
    "    bndTR = 0\n",
    "    bndBL = 0\n",
    "    bndBR = 0\n",
    "    for coordi, coord in enumerate(bnd_uv):\n",
    "        if np.linalg.norm(coord-TL) < np.linalg.norm(bnd_uv[bndTL]-TL):\n",
    "            bndTL = coordi\n",
    "        if np.linalg.norm(coord-TR) < np.linalg.norm(bnd_uv[bndTR]-TR):\n",
    "            bndTR = coordi\n",
    "        if np.linalg.norm(coord-BL) < np.linalg.norm(bnd_uv[bndBL]-BL):\n",
    "            bndBL = coordi\n",
    "        if np.linalg.norm(coord-BR) < np.linalg.norm(bnd_uv[bndBR]-BR):\n",
    "            bndBR = coordi\n",
    "\n",
    "    bnd_uv[bndTL] = TL\n",
    "    bnd_uv[bndTR] = TR\n",
    "    bnd_uv[bndBL] = BL\n",
    "    bnd_uv[bndBR] = BR\n",
    "    ## Harmonic parametrization for the internal vertices\n",
    "    return igl.harmonic(v, f, bnd, bnd_uv, 1)\n",
    "\n",
    "\n",
    "v, f = igl.read_triangle_mesh(\"data/fandisk.obj\")\n",
    "uv = parametrize(v,f)\n",
    "feature_edge_list, _ = feature_edges(v,f,20)\n",
    "\n",
    "\n",
    "p = mp.plot(v, f, c=np.ones_like(f), shading={\"wireframe\": False})\n",
    "p.add_lines(v[feature_edge_list][:,0], v[feature_edge_list][:,1], shading={\"line_color\": \"yellow\"})\n",
    "@iw.interact(mode=['2D','3D'])\n",
    "def switch(mode):\n",
    "    if mode == \"3D\":\n",
    "        mp.plot(v, f, c=uv[:,0],shading={\"wireframe\": 0}, plot=p)\n",
    "        p.add_lines(v[feature_edge_list][:,0], v[feature_edge_list][:,1], shading={\"line_color\": \"yellow\"})\n",
    "        \n",
    "    if mode == \"2D\":\n",
    "        mp.plot(uv, f, c=uv[:,0], shading={\"wireframe\": 1, \"line_width\":0.2}, plot=p)\n",
    "        p.add_lines(uv[feature_edge_list][:,0], uv[feature_edge_list][:,1], shading={\"line_color\": \"yellow\"})\n",
    "        p.add_points(uv, shading={\"point_size\": .04})"
   ]
  },
  {
   "cell_type": "markdown",
   "metadata": {},
   "source": [
    "## Geometry Maps\n",
    "\n",
    "- Using the chosen paramterization, generate an atlas of geometry maps containing useful data pertaining to the input mesh.\n",
    "- The area distortion and curvature maps will be used to generate a control map which determines the densities of resamplings on the parameterization. (Allows user to control how vertices are distributed across remesh).\n",
    "- The embedding and face index maps can be used to convert the 2D remesh back into 3D. (allows for quick lookups of xyz coordinates based on uv coordinates)\n",
    "- Additional maps (normal, colour, texture) can be generated if we wish for our remesh to contain any such attributes."
   ]
  },
  {
   "cell_type": "markdown",
   "metadata": {},
   "source": [
    "### 1. Area Distortion Map"
   ]
  },
  {
   "cell_type": "code",
   "execution_count": 4,
   "metadata": {},
   "outputs": [
    {
     "data": {
      "application/vnd.jupyter.widget-view+json": {
       "model_id": "138a5e30143747f18fe2275419d5a585",
       "version_major": 2,
       "version_minor": 0
      },
      "text/plain": [
       "Renderer(camera=PerspectiveCamera(children=(DirectionalLight(color='white', intensity=0.6, position=(0.0, 0.0,…"
      ]
     },
     "metadata": {},
     "output_type": "display_data"
    },
    {
     "data": {
      "text/plain": [
       "2"
      ]
     },
     "execution_count": 4,
     "metadata": {},
     "output_type": "execute_result"
    }
   ],
   "source": [
    "def normalizeZeroToOne(arr):\n",
    "    if(min(arr) < 0):\n",
    "        arr -= min(arr)\n",
    "    return (1/max(arr)) * arr\n",
    "    \n",
    "def areaDistortion(v,uv,f):\n",
    "    a3d = igl.doublearea(v,f)\n",
    "    a2d = igl.doublearea(uv,f)\n",
    "\n",
    "    VF, NI = igl.vertex_triangle_adjacency(f,v.shape[0])\n",
    "    face_area_distortion = a3d/a2d\n",
    "\n",
    "    vert_area_distortion = np.zeros_like(v[:,0])\n",
    "    for i in range(v.shape[0]):\n",
    "        face0 = NI[i]\n",
    "        facen = NI[i+1]\n",
    "        faces = VF[face0:facen]\n",
    "        faceAreas = a3d[faces]\n",
    "        faceAreas = (1/np.sum(faceAreas)) * faceAreas\n",
    "        #print(i, faces,faceAreas)\n",
    "\n",
    "        vertAD = 0\n",
    "        for facei, face in enumerate(faces):\n",
    "            vertAD += face_area_distortion[face] * faceAreas[facei]\n",
    "        vert_area_distortion[i] = vertAD\n",
    "\n",
    "    return normalizeZeroToOne(vert_area_distortion)\n",
    "\n",
    "\n",
    "v, f = igl.read_triangle_mesh(\"data/fandisk.obj\")\n",
    "uv = parametrize(v,f)\n",
    "feature_edge_list, _ = feature_edges(v,f,10)\n",
    "area_distortion = areaDistortion(v,uv,f)\n",
    "\n",
    "a = mp.plot(uv, f, c=area_distortion, shading={\"wireframe\": 0, \"line_width\":0.2})\n",
    "a.add_lines(uv[feature_edge_list][:,0], uv[feature_edge_list][:,1], shading={\"line_color\": \"black\"})\n",
    "a.add_points(uv, shading={\"point_size\": .03, \"point_color\": \"black\"})"
   ]
  },
  {
   "cell_type": "markdown",
   "metadata": {},
   "source": [
    "### 2. Curvature Maps"
   ]
  },
  {
   "cell_type": "code",
   "execution_count": 5,
   "metadata": {},
   "outputs": [
    {
     "data": {
      "application/vnd.jupyter.widget-view+json": {
       "model_id": "50df18d878e145ad9545c55ee794c445",
       "version_major": 2,
       "version_minor": 0
      },
      "text/plain": [
       "Renderer(camera=PerspectiveCamera(children=(DirectionalLight(color='white', intensity=0.6, position=(0.0, 0.0,…"
      ]
     },
     "metadata": {},
     "output_type": "display_data"
    },
    {
     "data": {
      "application/vnd.jupyter.widget-view+json": {
       "model_id": "2a66747119b0464fa3ccd3b1ab07d729",
       "version_major": 2,
       "version_minor": 0
      },
      "text/plain": [
       "interactive(children=(Dropdown(description='mode', options=('Gaussian', 'Max', 'Min', 'Total'), value='Gaussia…"
      ]
     },
     "metadata": {},
     "output_type": "display_data"
    }
   ],
   "source": [
    "def curveMaps(v,f):\n",
    "    gaussCurv = igl.gaussian_curvature(v,f)\n",
    "    _, _, maxCurv, minCurv = igl.principal_curvature(v, f)\n",
    "    totalCurv = maxCurv * maxCurv + minCurv * minCurv\n",
    "\n",
    "    gaussCurv = normalizeZeroToOne(gaussCurv * gaussCurv)\n",
    "    maxCurv = normalizeZeroToOne(maxCurv)\n",
    "    minCurv = normalizeZeroToOne(minCurv)\n",
    "    totalCurv = normalizeZeroToOne(totalCurv)\n",
    "\n",
    "    return gaussCurv, maxCurv, minCurv, totalCurv\n",
    "\n",
    "\n",
    "v, f = igl.read_triangle_mesh(\"data/fandisk.obj\")\n",
    "uv = parametrize(v,f)\n",
    "feature_edge_list, _ = feature_edges(v,f,10)\n",
    "gaussCurv, maxCurv, minCurv, totalCurv = curveMaps(v,f)\n",
    "\n",
    "a = mp.plot(uv, f, c=gaussCurv, shading={\"wireframe\": 0, \"line_width\":0.2})\n",
    "a.add_lines(uv[feature_edge_list][:,0], uv[feature_edge_list][:,1], shading={\"line_color\": \"black\"})\n",
    "a.add_points(uv, shading={\"point_size\": .03, \"point_color\": \"black\"})\n",
    "@iw.interact(mode=['Gaussian','Max','Min','Total'])\n",
    "def switch(mode):\n",
    "    if mode == \"Gaussian\":\n",
    "        mp.plot(uv, f, c=gaussCurv, shading={\"wireframe\": 0, \"line_width\":0.2}, plot=a)\n",
    "        a.add_lines(uv[feature_edge_list][:,0], uv[feature_edge_list][:,1], shading={\"line_color\": \"black\"})\n",
    "        a.add_points(uv, shading={\"point_size\": .03, \"point_color\": \"black\"})\n",
    "        \n",
    "    if mode == \"Max\":\n",
    "        mp.plot(uv, f, c=maxCurv, shading={\"wireframe\": 0, \"line_width\":0.2}, plot=a)\n",
    "        a.add_lines(uv[feature_edge_list][:,0], uv[feature_edge_list][:,1], shading={\"line_color\": \"black\"})\n",
    "        a.add_points(uv, shading={\"point_size\": .03, \"point_color\": \"black\"})\n",
    "        \n",
    "    if mode == \"Min\":\n",
    "        mp.plot(uv, f, c=minCurv, shading={\"wireframe\": 0, \"line_width\":0.2}, plot=a)\n",
    "        a.add_lines(uv[feature_edge_list][:,0], uv[feature_edge_list][:,1], shading={\"line_color\": \"black\"})\n",
    "        a.add_points(uv, shading={\"point_size\": .03, \"point_color\": \"black\"})\n",
    "        \n",
    "    if mode == \"Total\":\n",
    "        mp.plot(uv, f, c=totalCurv, shading={\"wireframe\": 0, \"line_width\":0.2}, plot=a)\n",
    "        a.add_lines(uv[feature_edge_list][:,0], uv[feature_edge_list][:,1], shading={\"line_color\": \"black\"})\n",
    "        a.add_points(uv, shading={\"point_size\": .03, \"point_color\": \"black\"})"
   ]
  },
  {
   "cell_type": "markdown",
   "metadata": {},
   "source": [
    "### 3. Embedding Map"
   ]
  },
  {
   "cell_type": "code",
   "execution_count": 6,
   "metadata": {},
   "outputs": [
    {
     "data": {
      "application/vnd.jupyter.widget-view+json": {
       "model_id": "201d6f1f22774e2a8e3b5346581af0a9",
       "version_major": 2,
       "version_minor": 0
      },
      "text/plain": [
       "Renderer(camera=PerspectiveCamera(children=(DirectionalLight(color='white', intensity=0.6, position=(0.0, 0.0,…"
      ]
     },
     "metadata": {},
     "output_type": "display_data"
    },
    {
     "data": {
      "application/vnd.jupyter.widget-view+json": {
       "model_id": "20ac7af716bb4c27a3f752bba1c85a32",
       "version_major": 2,
       "version_minor": 0
      },
      "text/plain": [
       "interactive(children=(Dropdown(description='mode', options=('Vertex Position', 'xMap', 'yMap', 'zMap'), value=…"
      ]
     },
     "metadata": {},
     "output_type": "display_data"
    }
   ],
   "source": [
    "def scalarToRGB(scalarMap):\n",
    "    rgbMap = []\n",
    "    for i in range(scalarMap.shape[0]):\n",
    "        r = min(1/3,scalarMap[i])\n",
    " \n",
    "        g = min(max(0,(scalarMap[i]-1/3)),1/3)\n",
    " \n",
    "        b = min(max(0,(scalarMap[i]-2/3)),1/3)\n",
    "            \n",
    "        rgbMap.append([r,g,b])\n",
    "    return np.array(rgbMap)\n",
    "\n",
    "def embeddingMaps(v):\n",
    "    xMap = v[:,0].copy()\n",
    "    yMap = v[:,1].copy()\n",
    "    zMap = v[:,2].copy()\n",
    "    xMap = normalizeZeroToOne(xMap)\n",
    "    yMap = normalizeZeroToOne(yMap)\n",
    "    zMap = normalizeZeroToOne(zMap)\n",
    "    \n",
    "    return scalarToRGB(xMap), scalarToRGB(yMap), scalarToRGB(zMap)\n",
    "\n",
    "v, f = igl.read_triangle_mesh(\"data/fandisk.obj\")\n",
    "uv = parametrize(v,f)\n",
    "feature_edge_list, _ = feature_edges(v,f,10)\n",
    "xMap, yMap, zMap = embeddingMaps(v)\n",
    "\n",
    "a = mp.plot(uv, f, c=v, shading={\"wireframe\": 0, \"line_width\":0.2})\n",
    "a.add_lines(uv[feature_edge_list][:,0], uv[feature_edge_list][:,1], shading={\"line_color\": \"black\"})\n",
    "a.add_points(uv, shading={\"point_size\": .03, \"point_color\": \"black\"})\n",
    "@iw.interact(mode=['Vertex Position','xMap','yMap','zMap'])\n",
    "def switch(mode):\n",
    "    if mode == \"Vertex Position\":\n",
    "        mp.plot(uv, f, c=v, shading={\"wireframe\": 0, \"line_width\":0.2}, plot=a)\n",
    "        a.add_lines(uv[feature_edge_list][:,0], uv[feature_edge_list][:,1], shading={\"line_color\": \"black\"})\n",
    "        a.add_points(uv, shading={\"point_size\": .03, \"point_color\": \"black\"})\n",
    "        \n",
    "    if mode == \"xMap\":\n",
    "        mp.plot(uv, f, c=xMap, shading={\"wireframe\": 0, \"line_width\":0.2}, plot=a)\n",
    "        a.add_lines(uv[feature_edge_list][:,0], uv[feature_edge_list][:,1], shading={\"line_color\": \"black\"})\n",
    "        a.add_points(uv, shading={\"point_size\": .03, \"point_color\": \"black\"})\n",
    "        \n",
    "    if mode == \"yMap\":\n",
    "        mp.plot(uv, f, c=yMap, shading={\"wireframe\": 0, \"line_width\":0.2}, plot=a)\n",
    "        a.add_lines(uv[feature_edge_list][:,0], uv[feature_edge_list][:,1], shading={\"line_color\": \"black\"})\n",
    "        a.add_points(uv, shading={\"point_size\": .03, \"point_color\": \"black\"})\n",
    "        \n",
    "    if mode == \"zMap\":\n",
    "        mp.plot(uv, f, c=zMap, shading={\"wireframe\": 0, \"line_width\":0.2}, plot=a)\n",
    "        a.add_lines(uv[feature_edge_list][:,0], uv[feature_edge_list][:,1], shading={\"line_color\": \"black\"})\n",
    "        a.add_points(uv, shading={\"point_size\": .03, \"point_color\": \"black\"})\n"
   ]
  },
  {
   "cell_type": "markdown",
   "metadata": {},
   "source": [
    "### 4. Face Index Map"
   ]
  },
  {
   "cell_type": "code",
   "execution_count": 54,
   "metadata": {},
   "outputs": [
    {
     "data": {
      "application/vnd.jupyter.widget-view+json": {
       "model_id": "ae3b14d5b3034f8cb5da7e962c50c207",
       "version_major": 2,
       "version_minor": 0
      },
      "text/plain": [
       "Renderer(camera=PerspectiveCamera(children=(DirectionalLight(color='white', intensity=0.6, position=(0.0, 0.0,…"
      ]
     },
     "metadata": {},
     "output_type": "display_data"
    },
    {
     "data": {
      "text/plain": [
       "2"
      ]
     },
     "execution_count": 54,
     "metadata": {},
     "output_type": "execute_result"
    }
   ],
   "source": [
    "def indexMap(v,f):\n",
    "    face_index_list = []\n",
    "    face_index_map = {}\n",
    "    \n",
    "    for i in range(f.shape[0]):\n",
    "        face_col = [int(random.uniform(0,255)),int(random.uniform(0,255)),int(random.uniform(0,255))]\n",
    "        face_index_list.append(face_col)\n",
    "        while str(face_index_list[i]) in face_index_map:\n",
    "            face_index_list[i] = [int(random.uniform(0,255)),int(random.uniform(0,255)),int(random.uniform(0,255))]\n",
    "        face_index_map[str(face_index_list[i])] = i\n",
    "        \n",
    "    face_index_list = np.array(face_index_list)\n",
    "    return face_index_list, face_index_map\n",
    "\n",
    "\n",
    "random.seed(1)\n",
    "v, f = igl.read_triangle_mesh(\"data/fandisk.obj\")\n",
    "uv = parametrize(v,f)\n",
    "feature_edge_list, _ = feature_edges(v,f,10)\n",
    "face_index_list, face_index_map = indexMap(v,f)\n",
    "\n",
    "face_index_list = (1/255) * face_index_list\n",
    "\n",
    "a = mp.plot(uv, f, c=face_index_list, shading={\"wireframe\": 0, \"line_width\":0.2})\n",
    "a.add_lines(uv[feature_edge_list][:,0], uv[feature_edge_list][:,1], shading={\"line_color\": \"black\"})\n",
    "a.add_points(uv, shading={\"point_size\": .03, \"point_color\": \"black\"})"
   ]
  },
  {
   "cell_type": "markdown",
   "metadata": {},
   "source": [
    "### 5. (optional) Additional Maps\n",
    "\n",
    "ex: normal, texture, color\n",
    "\n",
    "Useful if the remeshed model needs these attributes added after remeshing, not needed for remeshing process itself."
   ]
  },
  {
   "cell_type": "code",
   "execution_count": 8,
   "metadata": {},
   "outputs": [
    {
     "data": {
      "application/vnd.jupyter.widget-view+json": {
       "model_id": "6b8da9c604f9405bae3b399582b29327",
       "version_major": 2,
       "version_minor": 0
      },
      "text/plain": [
       "Renderer(camera=PerspectiveCamera(children=(DirectionalLight(color='white', intensity=0.6, position=(0.0, 0.0,…"
      ]
     },
     "metadata": {},
     "output_type": "display_data"
    },
    {
     "data": {
      "text/plain": [
       "2"
      ]
     },
     "execution_count": 8,
     "metadata": {},
     "output_type": "execute_result"
    }
   ],
   "source": [
    "v, f = igl.read_triangle_mesh(\"data/fandisk.obj\")\n",
    "uv = parametrize(v,f)\n",
    "feature_edge_list, _ = feature_edges(v,f,10)\n",
    "\n",
    "v_p = np.hstack([uv, np.zeros((uv.shape[0],1))])\n",
    "pvn = igl.per_vertex_normals(v,f)\n",
    "\n",
    "a = mp.plot(uv, f, c=pvn, shading={\"wireframe\": 0, \"line_width\":0.2})\n",
    "a.add_lines(uv[feature_edge_list][:,0], uv[feature_edge_list][:,1], shading={\"line_color\": \"black\"})\n",
    "a.add_points(uv, shading={\"point_size\": .03, \"point_color\": \"black\"})"
   ]
  },
  {
   "cell_type": "markdown",
   "metadata": {},
   "source": [
    "## Combining Maps to Create Control Map (User-Controlled)"
   ]
  },
  {
   "cell_type": "code",
   "execution_count": 9,
   "metadata": {},
   "outputs": [
    {
     "data": {
      "application/vnd.jupyter.widget-view+json": {
       "model_id": "f5a81bfa420542a48831002b27c0adf3",
       "version_major": 2,
       "version_minor": 0
      },
      "text/plain": [
       "Renderer(camera=PerspectiveCamera(children=(DirectionalLight(color='white', intensity=0.6, position=(0.0, 0.0,…"
      ]
     },
     "metadata": {},
     "output_type": "display_data"
    },
    {
     "data": {
      "application/vnd.jupyter.widget-view+json": {
       "model_id": "628973ba156b4cd88baa5a3f830c4077",
       "version_major": 2,
       "version_minor": 0
      },
      "text/plain": [
       "interactive(children=(FloatSlider(value=0.5, description='areaDistortionFactor', max=1.0), FloatSlider(value=0…"
      ]
     },
     "metadata": {},
     "output_type": "display_data"
    }
   ],
   "source": [
    "def designControlMap(v,f):\n",
    "    uv = parametrize(v,f)\n",
    "    feature_edge_list, _ = feature_edges(v,f,10)\n",
    "    \n",
    "    area_distortion = areaDistortion(v,uv,f)\n",
    "    gaussCurv, maxCurv, minCurv, totalCurv = curveMaps(v,f)\n",
    "\n",
    "    areaDistortionFactor = 0.5\n",
    "    gaussCurvFactor = 0.5\n",
    "    maxCurvFactor = 0.5\n",
    "    minCurvFactor = 0.5\n",
    "    totalCurvFactor = 0.5\n",
    "    \n",
    "    controlMap =  areaDistortionFactor * area_distortion + gaussCurvFactor * gaussCurv + maxCurvFactor * maxCurv + minCurvFactor * minCurv + totalCurvFactor * totalCurv\n",
    "    controlMap = normalizeZeroToOne(controlMap)\n",
    "\n",
    "    a = mp.plot(uv, f, c=controlMap, shading={\"wireframe\": 0, \"line_width\":0.2})\n",
    "    @mp.interact(areaDistortionFactor = (0.0,1.0),gaussCurvFactor = (0.0,1.0),maxCurvFactor = (0.0,1.0),minCurvFactor = (0.0,1.0),totalCurvFactor = (0.0,1.0))\n",
    "    def ff(areaDistortionFactor, gaussCurvFactor,maxCurvFactor,minCurvFactor,totalCurvFactor):\n",
    "        controlMap =  areaDistortionFactor * area_distortion + gaussCurvFactor * gaussCurv + maxCurvFactor * maxCurv + minCurvFactor * minCurv + totalCurvFactor * totalCurv\n",
    "        controlMap = normalizeZeroToOne(controlMap)\n",
    "        mp.plot(uv, f, c=controlMap, shading={\"wireframe\": 0, \"line_width\":0.2}, plot=a)\n",
    "        print(\"Control Map Parameters:\")\n",
    "        print(areaDistortionFactor,\",\",gaussCurvFactor,\",\",maxCurvFactor,\",\",minCurvFactor,\",\",totalCurvFactor)\n",
    "\n",
    "v, f = igl.read_triangle_mesh(\"data/fandisk.obj\")\n",
    "\n",
    "feature_edge_list, _ = feature_edges(v,f,10)\n",
    "xMap, yMap, zMap = embeddingMaps(v)\n",
    "uv = parametrize(v,f)\n",
    "designControlMap(v,f)"
   ]
  },
  {
   "cell_type": "markdown",
   "metadata": {},
   "source": [
    "## Save Control Map Based on User Preferences\n",
    "\n",
    "Instructions:\n",
    "\n",
    "1. Adjust control map parameters above to your preference. (For most meshes I would recommend only using the area distortion and total curvature)\n",
    "2. Copy the parameters output at the bottom and paste them into the function call for ```createControlMap(v,f, <Control Map Parameters> )```"
   ]
  },
  {
   "cell_type": "code",
   "execution_count": 10,
   "metadata": {},
   "outputs": [
    {
     "data": {
      "application/vnd.jupyter.widget-view+json": {
       "model_id": "dcb021e5aa69426b8f99aa0456e09c87",
       "version_major": 2,
       "version_minor": 0
      },
      "text/plain": [
       "Renderer(camera=PerspectiveCamera(children=(DirectionalLight(color='white', intensity=0.6, position=(0.0, 0.0,…"
      ]
     },
     "metadata": {},
     "output_type": "display_data"
    },
    {
     "data": {
      "text/plain": [
       "<meshplot.Viewer.Viewer at 0x2817fdbd6d0>"
      ]
     },
     "execution_count": 10,
     "metadata": {},
     "output_type": "execute_result"
    }
   ],
   "source": [
    "def createControlMap(v,f,\n",
    "                     areaDistortionFactor,gaussCurvFactor,maxCurvFactor,minCurvFactor,totalCurvFactor\n",
    "                    ):\n",
    "    uv = parametrize(v,f)    \n",
    "    area_distortion = areaDistortion(v,uv,f)\n",
    "    gaussCurv, maxCurv, minCurv, totalCurv = curveMaps(v,f)\n",
    "    controlMap =  areaDistortionFactor * area_distortion + gaussCurvFactor * gaussCurv + maxCurvFactor * maxCurv + minCurvFactor * minCurv + totalCurvFactor * totalCurv\n",
    "    return normalizeZeroToOne(controlMap)\n",
    "\n",
    "controlMap = createControlMap(v,f,\n",
    "0.3 , 0.0 , 0.0 , 0.0 , 0.5\n",
    "                             )\n",
    "mp.plot(uv, f, c=controlMap, shading={\"wireframe\": 0, \"line_width\":0.2, \"colormap\": \"Greys\"})"
   ]
  },
  {
   "cell_type": "markdown",
   "metadata": {},
   "source": [
    "## Generating Images of Maps with OpenGL\n",
    "\n",
    "- For converting the igl generated scalar maps (which are just NumPy arrays containing vertex/face attributes) into images, I pack the maps into vertex buffers and pass them through an OpenGL shader.\n",
    "- I found that there was some sort of conflict when running Meshplot and PyOpenGL in the same environment so I used the VisPy library for this step.\n",
    "\n",
    "  Note: Make sure when running the following code blocks that you don't resize any of the renders before they've been exported as the export is based on the window size - If the maps are different sizes it causes issues.\n"
   ]
  },
  {
   "cell_type": "code",
   "execution_count": 11,
   "metadata": {},
   "outputs": [],
   "source": [
    "def buildGLBuffers(uv,f,map):\n",
    "    vertexBuffer = []\n",
    "    colorBuffer = []\n",
    "    if (map.shape[0] == uv.shape[0]):\n",
    "        if (len(map.shape) > 1):\n",
    "            for face in f:\n",
    "                for vert in face:\n",
    "                    vertexBuffer.append(tuple(uv[vert]))\n",
    "                    colorBuffer.append((map[vert][0],map[vert][1],map[vert][2],0))\n",
    "        else:\n",
    "            for face in f:\n",
    "                for vert in face:\n",
    "                    vertexBuffer.append(tuple(uv[vert]))\n",
    "                    colorBuffer.append((map[vert],map[vert],map[vert],0))\n",
    "                \n",
    "    if (map.shape[0] == f.shape[0]):\n",
    "        if (len(map.shape) > 1):\n",
    "            for facei, face in enumerate(f):\n",
    "                for vert in face:\n",
    "                    vertexBuffer.append(tuple(uv[vert]))\n",
    "                    colorBuffer.append((map[facei][0],map[facei][1],map[facei][2],0))\n",
    "                    \n",
    "    return vertexBuffer, colorBuffer"
   ]
  },
  {
   "cell_type": "code",
   "execution_count": 12,
   "metadata": {},
   "outputs": [],
   "source": [
    "class Canvas(app.Canvas):\n",
    "    def __init__(self, size=128):\n",
    "        super().__init__(size=(size, size))\n",
    "\n",
    "        self.program = Program(vertex, fragment, len(vertexBuffer))\n",
    "        self.program['color'] = colorBuffer\n",
    "        self.program['position'] = vertexBuffer\n",
    "        \n",
    "        gloo.set_viewport(0, 0, *self.physical_size)\n",
    "\n",
    "        self.show()\n",
    "\n",
    "    def on_draw(self, event):\n",
    "        gloo.clear()\n",
    "        self.program.draw('triangles')\n",
    "\n",
    "    def on_resize(self, event):\n",
    "        gloo.set_viewport(0, 0, *event.physical_size)\n",
    "\n",
    "mapSize = 128"
   ]
  },
  {
   "cell_type": "code",
   "execution_count": 13,
   "metadata": {},
   "outputs": [
    {
     "data": {
      "application/vnd.jupyter.widget-view+json": {
       "model_id": "be2bad55bde34190afba6d3f9da33667",
       "version_major": 2,
       "version_minor": 0
      },
      "text/plain": [
       "RFBOutputContext()"
      ]
     },
     "metadata": {},
     "output_type": "display_data"
    },
    {
     "data": {
      "application/vnd.jupyter.widget-view+json": {
       "model_id": "a6d95f0b42c9462ca1a7dc1daf7fba59",
       "version_major": 2,
       "version_minor": 0
      },
      "text/html": [
       "<div class='snapshot-a6d95f0b42c9462ca1a7dc1daf7fba59' style='position:relative;'><img src='data:image/png;base64,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' style='width:128.0px;height:128.0px;' /><div style='position: absolute; top:0; left:0; padding:1px 3px; background: #777; color:#fff; font-size: 90%; font-family:sans-serif; '>snapshot</div></div>"
      ],
      "text/plain": [
       "CanvasBackend(css_height='128px', css_width='128px')"
      ]
     },
     "execution_count": 13,
     "metadata": {},
     "output_type": "execute_result"
    }
   ],
   "source": [
    "vertex = \"\"\"\n",
    "    attribute vec4 color;\n",
    "    attribute vec2 position;\n",
    "    varying vec4 v_color;\n",
    "    void main()\n",
    "    {\n",
    "        gl_Position = vec4(position, 0.0, 1.0);\n",
    "        v_color = vec4(1,1,1,1)-color;\n",
    "    } \"\"\"\n",
    "\n",
    "fragment = \"\"\"\n",
    "    varying vec4 v_color;\n",
    "    void main()\n",
    "    {\n",
    "        gl_FragColor = v_color;\n",
    "    } \"\"\"\n",
    "\n",
    "vertexBuffer, colorBuffer =  buildGLBuffers(uv,f,controlMap)\n",
    "\n",
    "c = Canvas(mapSize)\n",
    "c"
   ]
  },
  {
   "cell_type": "code",
   "execution_count": 14,
   "metadata": {},
   "outputs": [],
   "source": [
    "img=c.render('triangle_strip')\n",
    "vispy.io.image.write_png(\"controlMap.png\", img)"
   ]
  },
  {
   "cell_type": "code",
   "execution_count": 15,
   "metadata": {},
   "outputs": [
    {
     "data": {
      "application/vnd.jupyter.widget-view+json": {
       "model_id": "f7a05fc13a7d4126b00ac1da2e9aa73a",
       "version_major": 2,
       "version_minor": 0
      },
      "text/plain": [
       "RFBOutputContext()"
      ]
     },
     "metadata": {},
     "output_type": "display_data"
    },
    {
     "data": {
      "application/vnd.jupyter.widget-view+json": {
       "model_id": "d60d2161efcb48ed94236e9e51d00ddb",
       "version_major": 2,
       "version_minor": 0
      },
      "text/html": [
       "<div class='snapshot-d60d2161efcb48ed94236e9e51d00ddb' style='position:relative;'><img src='data:image/png;base64,iVBORw0KGgoAAAANSUhEUgAAAIAAAACACAYAAADDPmHLAACMLUlEQVR42oTcZ1zP7R/38UqDkJFVWUUlJZFkhCiyR0hWUjITGWUkhdAgZURGVEZWKCN7ZI9CIlEyKhKRVNb76vNxHcdZ5/m/HteN581+5P36fb/HcYdCu9YmuBNhye6/W43w3sWsw6HhOORvAQWzcdBRX8RSuk3HvFOuOGljxKZlvcTicktm77MSea5hrFr0BWa7rgFG9jorrf5WG55vVkKngyVLCjZh54uCpQ/1CqTu9nckzcB70vaFIVLMKxXp0pHtmBxozQ6WlUJrU0vmWmsbDNeEs9cPVdlBv3esuNd72Pyeze7dOAylhLpM1cgQbXzaspPd97JW/b2w2GAj+56nxjY7fMWZIjO2fuU2dGulwtSULsI0/DtzidqIhd5L2JE7qzDmlylrf+AyMoa6sGXK+5hWh+8InprDLmw6DavxQeyKzm98qDWcvfmwBmlZk5h9eiP0eXKPLdd1Y2dzHRD3oAE7Y6fCxvgloI/1VTa1qQvblu4EBQqA6Fe7wkQIAoVguiuTjVlwlC3z8sWecG2WYufI3s2NhverYGY2RYvVbR+PNA8XZrXhOV5fi0fbR4osoocagnvugdu0BHwu6Idkr8ss6/goFIUHsA61yuH+K4Xt1PuFsde7s2uFr7D12hFWf8V7vFQbxyxSU1leo2Wwa1HAQi99wrrFdaSfDq2l310SpfhXk7Bd4zzLMaiG5X9qs9t+RdDZlsSuNavJVuho4vXelWzmkGg8+76UrVq+n/1s0pYN3GuPfcdt2NJQffR60JB18i9CrYR3UqxbGaPxaXSBRhdodDE8jS6GV2i8j4nhxfjrbQrk8GJ8rWU5PLyeojePXyUAMm2TggyhfvAcfJx2ijmucUOrfSrSMnd19uadDxo9vI3WDdujv1lNXLFejtcvO2OXwiV2oZ8r03nmjl8GyzGs7AhqzPsKi+QrGFsYwTQ/A9/8DrBtQ68jQ/8abs5xZ8eiOkG3TzazmpGKDzVvs3E1kpmnRwDKrk2F2cCDeO0fhpg2zdnhb7dxrMUkttxnH3v/JAGhk0+xur0KoX4gRLp7zEEqSfVBtrkeO7/9CdLbDmOeL+qwvKNt0OJZOZuh3xORmiel23a/pSZDHzEangYXaPDjI/syGj28QyobEmvNoltYo/WN3yxuZimsXNXY+BQzRLZ8yOY5qONh5FdWw14XD6ZeYHM01vPw5N/DExq+8vj5na9CYdOTVBRetawSQbOdEzgA8uuBM6MITuyYik7GXaXfOW2Z25RPmFxzKTpusGVXt1hIC0c9xXDT7jizKpTZH1PEUcsx2NTpJSYrFmGbgRt7Vh6P8hI1djCvHNGWDdGydj08nP6ZeaptYbFTzPDlzjE2eGoiLExGsPcN3dmUxrew4JEZ6/n2BfJOeLMzPz6xCc0ao67/Fdat/2aYlt6Rwu/PlM5c/oHAaEVW6NEVBzPfspiLNZhWThhyDkZKn3rFwl/jLVv9WFcyeeeKy+sGs9KTZ1lfXyPYLMhl37RUYZkfKl3a/lii0QUaXaDRKw9v2DqYxyftAmojp6s9S9+xlP17fBqeJDUy/huAiIA039GWAyDVOv99EuQf0YBtnc7szplMrAmKY/rPk6Wu7z9gxMNVzORtNJuqF4KmR1RRUvFZxDQmj61rtxGh2x3YOmV9Zpj4FHPtw5Ca8BMzw/3ZlZwydq2oD7ukbw+Lb1F42zaUHc/cwGr7T8WypN9sbMBA1tb7A6a7j5Xamz2Uftadhict9mLOy+bSuSWnmLHCWSQ+eYbF2kps50JLhEwrZpsfn2MqwQFoHryFvb+4ECcGbpOCa/qgmmkI6/T1CDs52gamHTezxznGeNViDqPxX3ybKNHoT77bsOmmRbic2hkFo49JAWFGEo0u0Ohi+P4RSxgNf9/wE1rkvpHE8MTnp9XfAN6ZfELlCCiAyqLWlDO1I/ooaOcite1ej/l+KcWnJYVSSo4jcswaSInKL5mqwgaMbBwtlV0eiaV3PjCfstZVNF3gUYXu+kksZtpmPJ00glXLUWc/Sl+iw+me0uBOJcxvayZLaDgKt7rtYx9tE6FpdV7yLbqLLldvMNUJc9mDe+dh+/wd+1L7EvO2KEDXxm0km+5tMHP2a9anzyZp1HRLhF0azOZuWchUZt/k0YXvbVuw1LWB7OGZ3sh97ylF2EcwGl/XKFWi0b0b32NR55uxW58jJKuNoXJ8Gr7y+A8nD0Bk8WtGw4vxHXPiodDgvBcoAqFB2Lj/yN/pjp6nw3HwzFU83eCMNgXNMCx8I7s2KYS5uh1ilzVaSuvrBrOjvc7hqZsj+j/ZDN39HVBeNxTa/aIwPUABv+5UvDKOdGanulmitP44nB7uKz1dESv1WrWOzdLYy0K7bYbVhGIWFu+A/AM1WLfv99mzS5YVv2Qupn+4y7q0nYA956+yeiq9ELTiOuv57Kxk61vK9ufMYFFjL8Fh43VpY4+pkv4dPbw5o8bO2Zqz5p5KPDoJmd4Eyx+2Y1s2/RW8tyO2xVtJ7fQ+SjT8puLO7KXTC7bsyFnkDdBjNHqTx+sZjR5zci6j8cmBmBeMxqfRhTEDX/L4JrdfyvEPp3/6J4DKEVgUrYHX0imSCECw83OWbLY1ZPt/6kP38jqpOEkF0bWD2IpT2+DS0hXzk2zhoLkRdXb2YbqnZrDO/T7gj+coRgH0VvVlr1vk4EmDKObYUZfduqSD2MvX4Pohlo2yP4LJHUsZkqLZHpefrMnyFGxOLZI83jaRfub3YRn7+mNEXiZ0XQ+yPx8eSbYf05Fr2gZ37E6xsvh4OG19JWWuzWaLJidCr/w5D2+nswA+Zn9YoWZD9lLtHT4d/8Bo/Lan20m9njdiTXS80CY1gtH4NHrl4TeZncRBteWs8+I0PJ7VSI7ve64OE+Mnjq4Od9s+cvjK44/q+p0DEOObj/oFhWebN0MQAfw7gtO6f5AwuDeGLz3Eej51lPaUTsaczT+ke7XucwDEdcpBqId1hFdgd46AAiB3+22AW426bFatSMybPYh96l+HDbSNR+nZI8zFYwkyfujhz6ND2K0xnX2K74fVKv2Q/X0uu2b1DR/+3MeLQWaSv0MRy/09CLGLlyGvMJLNGruYZfdORYxKHw6g+rUtrJO5EqKXnWXjlIuhmKuG9bV2ovfJsfiyrR4OhO9i+m4WrEmOBvxb9GD3hi9jGx/q4eC8I4zGd8ibJeXu3Mnq6jdE9WfKPDxZcHgAyz3VljXTforYUV0YjU+jCzT+U+cTKJgZwmh8Gl2g8U2TC6G3TkcGIMYnND6h8asEUKYyk1mN+PqfCCgAgUIQklq8r4LGJ/FF7uxJaBkHICKwz6mH9bnZbNrG9Tw+6XAiCornXDCv+y/Wb7UFdm5sj06q/6AAonbOxszhxvhgN1OyiK2JRKMY6anKU1y5ckB64pHDwp6mMIuKz75Sry8mxjRin594IbH5OjZxRgmuGq2W44sAdFop4FChJ0vc/ZjR+BZfdVh8+nfJ19NJqgZVOK3dyna9yZfDO5/WYt1jtCXvhoN5eDF+R78vbPMXNUajC2L8sF+O2D5ZkYnhxfjqmi8ZjS8COJXal4nxbzl0hkJqorkcn6i0NOEIhMrjV47AtK+VRONv6TiXKekeYDQ+yct5wMaFmmN/ggmj8Yvd57Ob85ewU42nM4s7BoiamwHvYSHMo18yclb4MrWx/aQ2rbvic51LEg0vGL7bz94tuoi9fbWkvslAi7qvmVG7YbDclsAar73M4xOlcnN2xGcvRiouxJFIS6Y2aj6j8d8+KsT0khHM5ZATbC1joeykj4jJMxB4YQjboTef0fAJb1ew32b6Un03d4nGz7Oux9oWp8vhvceUsIbnuko0ukDDTxoaiXMq7kyMLwJ4FzWCxxfDb+8eigCnFTw8GbR85N8ABFOtcA6gcgQ1M96yCPUwqa1+BEs+u0LatEwLKm+1ZQQ5LVqjhn8ao/EFCsDmS0tWcvMW+9Q+F0MnzETmxR/I9r6D1RX3/21uHdlNxyR2Md0KIy5+YVYRLaVfDrexSLlIogBo+MpSgxagR5eF7Nl+b7i+t2OJ445hXdh8KXXVYBZS/BL1Mq9xAHcO92fvA6qjaZ+vUAvZxCqPT54pZLAh6kFwd1Fk9rMd2NGujbDtQDzsxzZmDkE+WH3Hna3a81QOT3q83IX6D9owGl8ztL104tQDFlOrHQ9fefzvimex86azHD/xaXUOYJB/Hg8vxhcB0PgyABpeaLnvgFQ5gMohiABOL37LaHwRAEm5FoCoHZYyggUWqYiPfsIcSy+w2YYDMejuYKY/tAZ2ja2FxEHrWeDKseziBUP8+GHECram49G0N8xwXTZefL9cRVJrxyo8LnqiWnyGROOXRITCo0wbk77qMQqAnP12Drl1Q9jZ+x9wVVcJh/c8x7f+ARKNLwJY2WUdvLVD2MDDkbjcrSmj8cm08Abwz23OxPiPPndhhwJny+H3153P5it1Z2L88hbnWE6BNqPRU9Q8GI0v0OjC7cdjOAAavvL4zZ/rVBn/vPE+ZL1TYZ0Oe0Dh85UgkMoBKDTvKE1aogSzoz2l34NSJBq/usF6FvIwldH4AkWwtWcCbrTeyCiEWQOypQ5bWsAqNwZeOu3YjfVRcO6Wh1W/x2JF2mcOgDwM+sWGD5yAkQeuSMlb1sApqRjdZnix8iXJON/CTjJ1Wc9unMtlNL73aA1Gowvx1T4xGl8hYitcZ6QyGv75psG4OeG5dH/jNxkAjW/iGYc2z47B4JMVo9GXHrJnPeytJBq+/lAP1ifzJhPj1ysNY9nXcuTwXdLXsCjT5UyM33r+PTbffjOj4cX4HldvwWx3Ww5AjE9odMHC4rUcv0oAq6o9ZLHOtf4TQGV9vQ2rCDwxqEoEj7OaYvxsXSYCEBHU8p7GEjOXsFsamxlFcHT5TWbSrQNTeLgC1bp+wsj1DxmNv+RxLotw85coAn3DTVItx1fsUu0F7GvDaMmo3SicK1NnI3Jc2Lvw+Sxl/y85ft1O71nwYTs5fNA8RUYB7PseLNH4IoDqZrukB3HWktaAijPRizVMu+8V6fw2X0bDTywcx9b8Gs/E+JZfQ5hn/YlVxvczy0RY14YyADE+ofFFAJm3j6CR6yEeXhDjd9A5CAUxfOUAhO1xMzFaa7RksCdLovEbT45mFAFpoDWPAxARnM3qC+WQCEkEQGh4lTOhUnyAGaMIaHwSdrsd5ofMYd8a3ufxs26uZW+ezMP+zCCpR8EHeB9QZKURL6potT6WUQCEhjdN3yNRAP0uzcXHT/2qjC/8SPkoXag1kA14t5QdPZWBsrE6aBdqJP0+Up+d320ux9+xfoqUEZ8lOT+MZWL8s9fWsTPGvnJ40n38OewfvpaHF+PbvtnAaHwRQMqb4fAdpVtl/EPNbdFXM435fznGw5OXZQlQiEwqgWC+fCp2tlWSKIDKaPgmYQelMVMSsDEtS0bAAVxfJRVX05QRZL94wMZUPBrJzQb1sbr7dSYC0Oquzk7OvMDjj3+zkNH4E98Doe7fcd1hH8b5KzCKYJWiudRyxm6p6L0+lIw8JQogu9EQqeimFptz/DMTARC14Z2qoOH3DGyJbkFf2ISRjZgYn2hkHYFfrW7Q/VDGaHzy020BCj/2kE66akLbtYDH18vtKlW/FSyHF6LvX+PhxfgCjS8CKPN8j7PbbaqMP/vu5yrjiwBofBEAjS8DoOGFPUuKpbS8i1X0v+DLKgcgIljxuikOmNyTEYx7fIpRBOSplwsTEVAAIoKzpjascgDjmqyF1pwx7GvGERkAWb5pm9RkSITk1ikPycs3IG13OKMIpt78LD2q/oUlmA1iAeb1pPY9YqU+ixrDtWc39myOO9rMH4zs7OGY7joQxs5Z0q4zHkyMPz7BGjkvHBgN7zfwPTvn1R45d/rI8TtoejMxPElLeQWzWx5Q2byE0fhC5oVk6fbjav8ZPzBhA49PaPykhGMcgBifTD0WKa1wdmSv1B9Coc7oY/8JIDrIkBm89mKVx8/rf5cNmtyNVQ5AREAGZg5jFMH4rX2YiKDpNycknU5lFIHhxFXS88Y1EKaYyyiCkpAZTHv4ZSSG6CEwQJ8tf/sap984Mr3YXCYCOJZvIh1vlSHpjXRmlQOIVXsqifFbPTdkYvymEc7wq6MhqQ+YjWjHL1LxoRQ5/rKZnViwQyceXowvHAm3kqbP8uDhxfiC6+Lf0vZ1T+X4HxfacQCnJlzm8QmNL9D4IoAbn0tgt+QOc/xS+s/4F93l+BzAJO/FoAiEX/N6VRn/5vEt7HzNWPbvAMrrXWKzTwxmFIGpdgcmIhjcPRI7XvZhIgARwdGRr9iISftx404cBzD16nLkLe8MraRacnwyopE6fH53ZrU+TUdrZTWpVXy85FX7sqSyeAJupw3C4EmajAK4meEjPVjwk92eP4Dp1fOXdgRvYxQAGenvyygAEQGNTxq3OsLmldRkFEDd3q2gHPWQtdFQlWh4YhL4nH3fbyCNt3gghyfZHSfitXqPKuMLrXs3kp7ejKoyvgiAxhcB8PgVxPgyABEBjS9YtVZk/w7AYV4Nds55oRzfZuc2JiLIq/kRM723ywgoABFBaKoxmuT3k8oXlzEe3yoAvpk2ePfYF+G3jNmrlNkVZ4DJTARA4+dkTYXS8k8wDCiSFrXsyd7ZPsXcoUOYCECz30Tp3TAt6V5SA1Y5gMNp9yQKoJbfCFY5gFW3+7BPB3+if24y6qmulmh4k2qrpSbHtCWv0veMhj/i+VWi4Y1PvmbKAe94eDG+sLpVKyksx73K+EK7zSsl7XWz2JPGOzB+vwoLNkxDSZgJG/b5IhS6D3YCoQho+D9TtJgIgHgv+wr3w2VVxhd6veuK98W/sGFibxkBBSAiMLjVC+dX35coAOFo01RGAaxXC8L35ZOYoVodJgIgvcwC2Ivmi3j81HX9GUVw9nURC7b/IFEEoQtnSz1+KkpYfBk9j9pIFMDSADspO1WPLdl0BV7fH1chhhfCbQNYg50LWRe984yGtzlmINH4A543k55+uowItcHM5FoYDh7/KscXDjVuJg3VcasyvjDBcIPUe6ydHP/+jzw5vkDjiwBo/CoB9GrpBs+yGCYCoOHF+JUVXFnLwwsiAGJ3XBfVP19lIgARwRHFJ2xqbW+mOkYbGx4ZsLUR3bCppjZrb2HMDHf74N78DsjKV2Q0PnF1VIRv+TLmNfEl9jZrKuVcayktbbJU2tW7IwLV/0ERkEMrn7HwwbYSDV8ZDX9xnYWkY6XJohOvIyK6GStd3BlntVuwXoFNkO/YReob3BqhY65WGZ/Q8GJ8MvO2jWTc82KV8UmP06cR381c2tmoa5XxRQA0ftyYHog+/x5/QtYytd5L4ONdi820VpIUxPiVA4g0/oRhWy0lGr3VoOYSBSD4dGyA48qfZAQUQOUI1IuUJBEAofEFEYAgxl98Iwa9l7xFjuFrRsPz+Mmb5PgksOkhzK2nL+U+d2bHNrRE0qVRONPKhlEE5H5Qd3wY5SuJAC7srit1XhjBnhzJx52Rt6p41qp3FTS+CIDG3158gonxRQBr6p3HvYyrbFm9+fiZHMcBDFTbhe9fLjIanvyaVRFV/iAenWhsfcMqjy8CoOHPOrRmNLwYXwRA44sAUiPHyvHrDC6FQk6/MzAM3M5oeEGMX9vKHfHh8yUKgEYX7iWPZRQB6XC1EaMIfCa1YCKAeX/eo9BAjRn47JLqDHsOs75FWFC8XxLjiwCOLmvJ9Jp9Y3V0vmFJecXNoHogowhI/0ensXXaRCYCIEGnPNm2FR5MRJDUdT4LiBshzbv/Ei97efH4Ag0f8rG9RMNnJ09gI0JqItzpTpXxf0/shf57XsgAaPy6P43hcctdjk9GuzjJAI4t3sjDi/FFAGJ8QqMrqgxl21apyuGtO95jlccnxVPPSDS+zclsRuPLAEQEHXI8MFczjtHwghh/2eVi9md/N0kEICIQAXjPsYGjczSe17rIaHxBBEDDCxRAZRRA7mhdpqE1EpN+jEP95w6MxpcBNLVjykq1JRFBxksN5vCyERMBNJu1kzlcvFIFDU+q1dDjAATvZEf8TNSTxn66DeucZVKg3yA4rf0M9/43eHgxPjH4eggdK/4OnQab8vguoSUspWUpj09oeJJk4cRoeO18Z7ZPvRp8tcxY6vcdTIwvAhDjexvoImvjOgROUWRtyh7L8XW/d5MB7I7+jOyhmew/AYgITD60wIS4A2zHo0v/Gb9aJw02wdsV5UUXmFmD5jy8QAGICN6+nCKpa6fA8cJflQO4rNBemrR8ZJUAaqzPkiYWnGebTrXj8U+qZbBJW1WloRZtJRr/u2szlqTVTaIIrvd6ytru9pfjk5jR3eBnH8QoAELDk8trL7Ht0YFIiTDFTP8CRgGICGh4MT5JCVvFTPZZY8unrhzAkGa14PJykRx/Sdd7WBCSWWV8EYAYn9DwR3+OYclH1Xl4Mb4IgMYXAZSdbswBiPFFABvt90ChWtRgCA9VzbDV5gOrPH5laclJ+DbIvEoAIgIKgAxolskuudxlFIH25VypcgCC/WKP/wRAdmS4syO1zvL42oueMBp/c9Q6OMcWsPqJNXHPKk663W8hYpz1Jcd3PpKtlRML3nhJjk8+j8vi4Yn2O305/o/xJ9DOR1UOT1Q3XucAiFL/AOa2+a/QfW+Z+VADbDa3ZIbl1owC0PncEeX5k3l8khewnscXAbTSb1nx6tOWLGskSMebTK0yvghAjE++qLhJYnxy61ky870Yg6573aoGsGTGKUYRCBQCjf71ZA+JAhARkA0f5zKKQARAxPiDS7UQ5Ggt0fiCGL+z3n0OQHA3eymFGhXIAFxWXoXKBV9kfTbh8Ucu82M0PtGY7AKHY9d5fNJjzl+1g41xQjUdNupXmBifmBpXDF0niscXKICM32Yw2b1Iji/Q8JW18OjBHG/GS7Pm/mF1vjRjx6fMwazUUDa2ZhiPP9EiDzZXRvH4IgAx/iedUzz8/OF1JTG+CECMTwLNZ0sFeqfl+AfvDmTH5txgYvy9e6bz+EeCu0BBDP9vIoLrC2OkygGICGj8Y3OasJUu/fHb7AxTdSnk8UUA1o7R7FDaUezotFOi8QUa32DkAKgf0JHjv8zyhW79sTy+VvdBjALYo7Ybt87VwJFnufDa8ITHFwGQwCWx6Hx+L48vApDmzuDhya6cO4wiEB7FpckAaHRHA1sp414JXm8ewCKjDBFTOJMdb+OFlc/C0bdkJaMAaHiBhifq47Tw9lQ2ByDGJzS8QAH8HLRVamq5C2PSm0ujWltLDZK0WeUAEh+6QLP9NR7/Y7oBfE4tYzS+CIDGL7+7Cgqq/XtA+F8RVA6gn95jjFl+UjrbcbIc/98BJBnrcgRkXkQaEwGICBSt70K5oYVE44sAZn3uz+OLABxMbFFLowhbVwfx+D0H3OAAykw00HCONoo/GjLDXSdwYco5DkBE8DbxBRvhZ8lEAGJ8oesQd0YBdM0Ix8jlefBfBibGF2h8gcavHMAvj0MouHca1juHSFqGqSwu4DRbfM4b6yYMkaZ/0WY0vnnDfuhw4ZUcXwTQ/aEXfJ2NGY0/om/tKgGI8c2vOcvxnZuq8fhbBvyR4097sfl/B/C/YhDDC2J8tS8bOQBBR2M6OtX/JwIKQERw+uZADsD8UkUM99pLFICIwCCsLRZa12c0/vfzzSQan0zvshGvLMxRWvEPNDlhtxyf0PACBfDW0JUpbNrORAA0PtEz21DFoe6doThcnS2LXyllpw9lW1e9R1aTUdIz925S8IJ09qZoDo//7wBo+I06X5jp1/n/CSAwJlkGYG/owAEkKZzF+9JSicavHACNXzmABrfqsN6KLRiNLwKg8fusvMAB0Pjn3l3i8VVU9KsGUHuu+38c85yN0/l9GQVAwwtieDE+CfJujlPpOtiUXouVdBjAKAIKQESgefcNu7byFpKjQmGjOpglDZ7FNLrE40yTbmg8by270HMZWsUfxdwT83Am8QQblDWbTY56h5rT/trzdRVMJ7VilSNYrbsfqtH+bNumov/n+DUafOPh5z7PZf8e/+q2HBhdf8lo/B5ZO5kIQERAAZB/j09ofIHGF2h8QuP/6uXDw8f1CWI/guL/fvMj8rGp8yk5/qeYnozGn9IxCjGHCrB0h60c//qZDjIAkz6ZMgAa/7RRIhT0T7ghKOHK/xxfBFA5gq4vCqQlbuOZCIDGFwGICE52CmUUgY3JcMQffcucml9mFAEFQOLcfzLNOg8R6zWW9T9piFG3EtnVtIN/6bRkYnxCwwsigDrDk7Ch4gmjF6nOARAaX6DhBRpe+Pf4hIYX3oQvleqNuMB+qozAkhq1WWzHMdiYfogdqbiCkk7X9GDRdiLbtHglxntosiCPLOb0pjW6DVvBlLT0WOdez+T4hMavHIAYn9D4EbqBMgBC488NCucAxs1U4QBo/F1rJvw3gH/7dwAiAho+8ukXJgJo2bw1FE7fxeMmp9n9JaqwafeRGUxLkhFQAOScmQmjAE46LWD9Aw7i1+k9OFnwHMNVduJwzgNGARAafqXnLqbdOxUWbZrAfcBr1nnBLHR2/inR8IIIgCx18EXdPQ9ZxnZ1jHMLwPbD9vhoOR77N2xkPl8HsehaHjAdOZw9sR6KmfXr4kCmCgv7E8njO4W2YiIAEYEIoPaE7UwEICIQAeQG5TIaXwRQu+iEHF8E0P/nPAzt1VCOnznChVVvNZXZfx3H4xMxvt/zUhmAGJ/Q+Iqus3n8pu9W/A3g/xWB8ryPeH20uUQRiPFFADS+CEBEQAGICAZ+OsARkKwr51HnzyAcKnuLEYVtWLvWDxmNXzkAEYHDDQVMMwzG3huKeLJlBjOb8YPx8BXyMq0YjR8Y1oKJ8RNnarG2+vNlAOG7NGFbGsLjiwAEMb4IgMYXARAaXxABkEFzHrD0rvWkdq650vOBXdnVUUVwnLAVPcy3otfNPDYlsAsH8O/xR06bwOOLAIgYXwRA45OLLkc5gORZfRkFQOOX7r8lA3BY0FwGQONzADtnauPfEdDwQvkyAyYiMDCaCdehvVjmzBRMCvrNWk9Sw9fiPOZ8phq2Ne3B8geflRFQAIQCEBE8GpvCATwLu4bokkPM5c0IFthwDLIDbTkCCoDQ8F+0mrL2T/eg92EbLHHYy1L828BrcjKzrLcLo5WjmQhg5dE6TARA5qeVVdFqvAm7kzACpS02s7IiC9am1AiX9ecgKCaBNZluiLXnfmGHy0lGAZRE3pQBuJ04xOMfmH6b/a8AIrx8OIDopBGMRhdafK2Ovju/8/BTho7Evtgi/Kl1l1EAYnwRwIC4X3L80AU14bXIl1EEky4t5QBo/CfTL8IiMpVxAMI1J58q41cOQERAAfz/IqAARASRLc04AjIvMxe3ljZHvciziD23mBUnhTCHLCUZQdrEWlUC2BFoje7Rp1jC216slmpvbJ65nwOg4cnEgYOgoRnH4+st7ScDePm4G/Y2MkLGYz9GwzfsnwTjz7ZMjB+W7SbHJ7p6oxkNL1AAhMYX/h0AofFX3JnHLG8nsOe7RrD8zupou+4901I/gEfFoTz+snkLERg4osr4hMavHMCrK4bY9GEqjvRbybZnTePxRQA0fuUAXJ604/EJjS8CsF+s+jcAGl7wibjO/lcARAQgGPtelcZY7WfNwjdJFICIgAIgFAB5OsmSiQB8Hy7HnuMfWfyfk1g35Cer5/RMRrDolTMTAWT7LWJpE6bj2N0mbFHCNonGrxzAmMsDWOUAaHhyQd0fBY3XMqvly1A4bwciY+KRF/VXec0GmF8RPbEZO4CpVbuJoA49Ybk9HwGn1jOl4oU8fMP63eX4w7pEy/GN+nRiNRukYoBqQ0TFdZHjXxiyCcMvm8gAsjJvyvEJjV85ABpfs+dkSYwvAqDxybuPz9ivocaMxucAvjZcg8pujdhfRUKdDfD2mVvF54rHGVFNai3HDwowYR4rlmGpSxJqv2rDbBctxMraPVG4YwOe+/3BggU5cDc+yeztQ9na6fewvpoVo+HF+Ha3pjEKYHVyK+w4OJmdaVILSZuNGQ0vxn+y6zRbtCiYxzfttomp+wdAYUI43hUOkJacHyLZdLbj8Xue7cVofCLGz+rQkVEAIgIaXqDxCQ0v0PgkqG+Z1E5JlV0fnIFWU5fhvuYsFI3/jVsGPRmNLwLYfXAMjy8CGDI6GCOevZXjH6wzmcevHMD49K7QStOVTms5MJ8xJ+HidVcGsOKXF1xnmTGFhibKVQLo3aCoSgAWKx9wBELlCCgAcuuuIcuapssmF27E71FKOO+ggjsrUjmANp1vw+VlExbSKox5loXw+ORKsi3zzV8M685u+Dz3OHPPqI2rV+YxGl6Mb30tgLV60ALOT4JwsfVfSXO3MIqg2eEFjAIQEQxecUgS45O7G5azsBMfsKH1BDR7ms/MNJqzNVuOYHPdq1LkqRkom5uOnNvH2ZXaKdh8dTjTcevJkobH8/AFNi7M7sw0RgF0+tIdG5x3cQAJw34jzX6IHN/Z3g7KPvM4AvIzqYMMQIxP7sc8ZSfHrmWVA8hb+ESOLwLY4DQN23IeywCMVhv/DaByBP8rgH9HQE7fuiYN6tafA3iY9Yb1WXiGA8i5NIW5f9sC8+QhaBGQjHMhmbg+swujAKaEqTHlu+G4oRyMQ0O1WHyzlTw+ibg1i+lXb4t353chXu+v/hqpjAJo+UOD0fiNhz3CyN292XKN5ZjnuI/1GXseabPcJc3hH1l2+SNG419ouwWvT1ug7uI1qPnQjIcnuVHXJAqAxic0PMk7PpeJAGh8QsNP+fUeM/SN0XDHDbYz/6QMYKVTqgxgd7a1HJ/Q8AKNr9KzPt4r6zMRwIbAKXJ8gcb/caMuBtT0Q7nKO0bjf357SAbQ7+SCvwGsz2uPyhFQACICMX7lCDoXpUhi/BdGETA9NEuO3+Fge+wte8NoeKHbci/mWZaNqBtZaKd/mrXP8WcUwAt/PUYB7AmOx5SmQ5h156OY3aaUtS05gNvvPHn8PjXs4bF1BstudhTxb6dwADQ8GbYqvEoAIoIHScFMBDDxkhqPX21dKKPx8xVPsKZTdXDLyECquX4oync+xMcGaVjR14G5n8+Ubk4pYuW9j/D4IoAP6xfJADaW6mPTM09GAdD4kb+iZQDatQ0xvsSffXgaj01be1YJIK9GXRzZtaZKAF4DU/Axvwmj8UUAqzQOywB89zozCoAohLVfDYpAEAEQMfy0088ZTO7jbnZ6FTS+CID0altHBnBt/CnYfao47M2bgtHHXrA2J64zCuDr4lOMxi/pFczSfiRji+sRDJ0UzfI+aEtpYRmMAmjbdjfcTVLZwh0XGAVwWv85i7d/idS2rTDjeVOOgIYf82keK/PRZZGrTDC/4kZB42fqebK58XGsdtJDOf7dlOtMjH8s1Bavj9jhy4IVeLLCn4nx58Xvk+OLAGh8EYDnltk4nd5MBlAal81EAMMCd2HBK20ZAI0vAiC6Xuk8vgiA0PACjW/5KBDtDPLw++5THv+NSSwHEFLeFp0U7WQAV6yb/g2gcgTLWwyXzlf7I8cXAVSOoLHBAkYB5OI4owAUS+ugfck+RuOTCPcjjMa3v5fK7vRYiV05X+Cge4cVdpvFnkxbga8WFfd/ld3o6LtaCptzFTbO5xFz7hyzPT0ZtX/Y8vivCwPx4FkTZv/MBlpu4RxAr5hwlrhyLzNM2ChF/xoF44y7HID6ljg2/NJrHn+8kSeGNLpSJQAanrxsPI7H1zWO5/EvGXkwGp+I8YkYn9D4mR9zOYDaJaWo67CYUQBifBGAftkOdE2xRH2ztSx64B2JIiAaK9qxxo8tGAVA43t+28rjExqfRP85LwPwnD8UUY71/xuAac0arHIAIgIxPvH90QuBRU5SRIrxf8afm10X97+kst7Zb1DssRhZbiHY9X05W5V8ntX3KEaHHRqMhheGjj3G+n5zwaD1N3Fv5G322m4irm54zCiAJ15L4X5iBvul+ZrHJ7WuPmY2p56yzgtGshZD27A3b75g2JNZaDLQETc9zsrxCY1fOYB9B1vj9O8ARuM/t/nE429Jfso4gAFjcWPrVfxRfo/CB6swdpo62/GoLXsX58cBJNTQ5PHrRZTJABa3e4gNKZ+Q8dyE0fiVAzB5Pgzr6msyCqB5YzX2bk9IlQB613n8d/wnbn9VBOA8KJVRAITGFwEQBcXrEyFUDkCMT06/94HPp1genuz4M5KJ8cmLRqfRSncxKyh7yVrOH8XaBFlgX+go5mmlwGh4wcv6Npu9xRdRx82Z6UdP9PPKx/meRuxrWgyPT/bfN2ct53xnHuWtYdCmEwfwYcRl6LSdJvWbp8O2DKgGp2WD4KR3klEA87quQVCzJ4iKdMLPrxPQsZmuROOXmixDWnGYDGCGUwiPr7exF3Mp6c1On10GP5PfSMxax1QO2PD4YWc2Mxo/NrIYTm3yGY0v0PiVA9gxtqYcP2j2a8wOeS0D8LvbgKXX7CcDIDS8cKSmO49vtiKAzT0RLQOYvmcopt46ymj83k8P/xPAD82mcOycL4nhBQqA0PCvoxMlGp5UL03l8ScU/kRCzgFWefydV/yZe+FDdqb7T+htO80meVmgnX01PO2tw3bWssEF59Os6YibjAIord6erbC6h18Td+KVrh6e1vvMAbxtlIfxff4y3XqcnZ76nI3rvefv+BVcTibjZdAbeE8eKAM4WNIM0V1Uke1exra0sEVHjRIZQJ39K3j8SWMvscVzHkB1R385PhkwPpjR+K8TurJ71srINvoDF5MmLGT/LXbBYiubffKsDOCN8j1o1hrK7s9oyONfWGLAAezWawDfF4ZVAngW5wrrvmtYxM7LjMbfkmGHjhNeVQnA8cAfHn+I/2YeP3yYHxoqK/8NgIYXxPiZ2+7BcrYVqxzAo9YWcNN5iuRxbjy+0ZApLO1zb5a0JYXFblRCoEck1tZ8yaat3c9Mxl2Cze+f2HtAFe3bLWcXja/jfe+5LKp0LYzcIljDAy3Z9Ql7sKK4KZrONmdxvgFYc32hDMBbOR/H2iz5q5UqlDI8kHxsMfa/9MLumpt4/HLDO8hSWYdNtmWMxv+yMhMr+lzi8UUA65Su8fgiAJvfo6BklS0D6FSvB1QOLZABtE+uIeX/vs1e2luyAJ14RgE8bGrI6tRexAE0fZctAyA0vkDjH879J4AdVrEcgIjg58MRPD6xnBMsA9it/ZzHFwGICGj86xpzZADj1yjIAIiC1cgSCDS8IAIg04ZM4/ErB0C8mnxEkdk2NNTQ5wD02ylxADS+COCYaj1G4xMaXwRA45PBWw9UCeD3Z3O29FEcNPrWY/M7/obHY0UOwNrCnl32PMEUdRxw4M1YDuDnwZ1I7PuLUQB7l7fAIotJbKLZKWb4yE4GsMZiIH5U783jj/5+htH4v363kAGkPlRiIoDsHqUs+tHsKgE8GzeOx+9WNJHH73PsB4bfSGDHJtdgND6h4efYGiB17liWrr4FS2qncwDXSpdBw7uQUQDEeEMWj09iLsbLACbtD+bxycvbN6oE4GqeKgP4MPwVwtet5gAIjd9u84t/Aji3uRXOT6jBRAAa0fZSf8XOzGPyV46Axi9u25n5TDrNdi4cw0Z+iGR/Lq9lH7V/ouOF25g5fA/2qy9gGj9SmIdZGlx6NmD6K+awCcuNeHyiqJfCRAAkNqQG+15DF5cM9nMAdrW3YuQDL6YU2IydtNLExchyGL0ORl+DE2zYutlYNmkK9nc0RaPUGqg9ogtyLdTY7+5uCGpZzmj8940C0VHJDjvDNJjHrZn4VEOFx991VJkDIHMMVKBW7y4HQOMTGp+8u6nA/ry7x/Qy9yJ54Uus0urJPrs2ZGqJ0fiWr8rjP+2uxrz928LzjTaPT76a3GA963xii6dpcwDDU77JAMhMYzdGAdD449vc4ACCHhbz+MHfr+Le3dS/AdDwggjAyO4lJs79WiUAegqIABq9isPhE4dlAENruHAAO1rcYDT+7KZejMYnND6pNceEifFJ/sQbjMbvExHKAYzqoo2Lr2ezR5ObYkDLzmzJ0j2MAvgzN4kjSC7owfxUFiDfWBn+6h3Q23c+W7jOmJnm72QUwJq1dnB7dZbHN10yhVEAJoqBmHc2H4HJUXJ8EUDm8QMcQN7NzUjvFYOAzWOhO2ARj//DYxEHcPhLLCK1AhGw5ByCZ+TjpVMTzK0Xgf2NVkInrykPL8Z/nTAHsVvfsoHXX7CwDgEygPvTy1DYPYMDOGmwkA1625rtKY2VAZA9vSywZYQB8pfMxs/EEXJ8IsYnLYa8RlkrPxkAUVhbNBdEBEDjk9l3u3AEIgTv+TGMxhcB+MTXYbmOjsx2XRIzPjKC3ZmsjepGQ1B4PxungjthgfJjhA6rx34kZbGPDiVs5ManWGCowGh8EUDl8d/+dMOeEe6s+V4vJoYnjR5ls45X8uAUEsOUcx2w2Sea0fBCn6BsdP18mO0ySkdvpeaI7tsPdb2qMQrg6MZMdn97HzYsshY7vtuF3VK6zBy23GYtfu1lFAD5dwD5VkPZFPWtbGO78bgc9QUe69yxM8YcrVsO4uGJ2mZdGcCCitct0Vn5QQYQGlAX8dWHwb9F3n8CIA96hOL+w14ygJHHYmUAhMYPjNrxTwC5a6JhUc3tfwYwVPsdowDUbj5Bybi0/4wfvqEDj//L15/R+ITGJzS+CMDOqAOP/9yvmxyfjDLWYhYv8vBWbz3cxjZmdutMGQ0/MqiU0fi/fBIxcHIftknll0QBkDO3NuDZvOU8/kjLt0hRNGL/DoBQAImOmgjxW4LitA2YvyitSgCHV2/AwjfdZQCeJz7y+HNjx+PCUGWWZdGQbe9eAv/wiczrpSbbuacndoSHwm7XXB6/bMla2P6xR1+TxCoBpOnckgFsNb2B9ffqYpFyS5Z7P4/R+CT46RkOgFAANPzaeX74mb9fBuC0yAHH19bhAC6WBTGX/k2xUK37PwHQ+CIAEQEFICIQARARgIhAjF85AKXxhfB7X8B0T5Syd1pboLLoOZzy8qC7Rh91u+9E87trkKzbFv7Zs9E9YQSidIahX84bHp/cuNqV0fhdL1Zco6blsXlDxzEKoOehfJYYX5fFrQ/EVeXpjAIQKgdADHRGIK7Yg6noRGFWwn0ZAKEARAQ0fsK3IgxsoIORrq+w71gCuv3whYfGdqztdQpRU6qh4H4zlvDGCLrHSpDQ/hobNGs1owDMP2/Hr4uvsPxwdQ5gweb2HMDBGfEcAI1PvuSqIi4/WQbwem0BCi87Ib/6CA4gYmwkB9D6lSUWfVqHvW552NgsHNW+DecAVozvywFEmr7iAGh8krHQDIOPKeJB80scAFHQKOxYJYDOJntZlKrlfwLo5NUV869fwjsHT8l5eA98z58gPbGexQHsW3OXA6hp04lRAIQCIBQAoQBI5QDM54zFuSPFUPA4zn5GRLN4e2dG48+qvxbN7A+x1tuyEHz9CaMAvhfsxfnp9xH0w5Y53x3IKIIVD/+w/xUAWbNxINuyzgl7zVyxvfZcHt/Vc6QMgMYnND5xef6dx1d+dp0DqK2UikNT3qHd8oto7FAOlbhSHt+tsyGjABQSh2LSumwZwNC6Bti6ZA/6brXhABZc6o8v3jfx/oZJlQDaebTBK/c4HG3zvkoAdjO3Mvr2UwAGM+xkAD7Tcti/Awgz9/8bANn0wVCOLwLY/2AddPao8PACBSAioPGJZ7+vTARAdrntYoGLbyHDbx6KipNwbfEstDzTHLFbVqJjxQk58nA1nAiNg3HoUQyIXspG+39gFACJauDJbphrIuNmNThUnFUcc7LZRzVdRgH0jMjAp8JMOT5pUash6jbrAMuyr8zf7AesPl+VAZBfBSvZofX20DfsipY9Q3l8Mr7Ba+ZuXZdZrH+KoFff8HRbddjbbMLAMaZ4dTgBn+8sh6eyAibu+gINPUemX8eAA8gc/4YDKLV0Qmm9z/imOYgDWDkikgPYPCiEiQDK3j7Gg0VxjALwNJ2HV/mRaFb/LtIvHuMAxs0w5wDI/sBezDU0FjWbtoZ6ogKPT9DbnN3drM4B0PikLHgZfMY7/hMAjU/SI/eyxHq7eXwRQEFIKhPjk3K13jIAEUGBvyd7cHs2s7d9LyOgAAgFQCgAIgIoinrMAWhsT+QANraxQ+zBURgb3oMFtdrFEYgAGvV4jsvtHqOu0yacbKPGAXwxtma7hjjw+Prz2zOKgMYXARQPfgWV7ta4vLiQ0fgTbzVHjZFf2OFGBYiNrngiPhoCi4muLG7dHla7f2e4jixmt5Oi2eVZzziA242joTjnL/sARVjb9cXhu1Pg2z8EPy7owzwtmgOwsc5Fwy530a/aMJZ16RIaLfNDn/TbHMAfZCD6xnyWUaNDlQDqfn+Ay9blmDy3Obb1PYibzWMxOTQHkRqLULJ2OzqGbsNxW0scDv6Ci8krZQClqR9RcE8Pqzf+xvPkMA6AKEx19K8SQHH8aw5AqBxAmXIKD0/GPQpn3mfL2IjH5pjoHcMBjF56ABEXDmHJ/h0sIXMAvNP2Y0CHdHTo/QE9HyxEy651cXJOT8Q1M8CH0hM4bLeROQ/MYiKAF90zOYAOzu05glVvtVjQrDiOQASQG1yI2n1TUHiqjpTueJEDODvxCn5ZtmU0PomrnYCraMmedbfhAHocrsHjF3cBPs2NYg7ZgVg8LhqzFK5j3turaNEliVkk7uLxrZ77Qtkpj7n61MTldSPgr3AYr8eowvRge0bjh8edqzh9T6z4Zp7EgIB+aK7eD8PsOmFu/a0cQHftiieRzSQEDdFh6V+V4PlEg+184cpo/FMHrXHq4hkOgCy8uY0DeNqtnwzgXlKqDMDg/Ugef8n7wv8E8GBV6N8AyLKijqgzrUgGcGmSOovpO57R+IIYX6DxRQBN08+wbaHVcPFeHjv5sSast46HSawmTIc/Z+U9/DgCCqCtVU3WVX0Pu5tzEAHfd8H5zT242WqiQe+PUF2giW8eQaz5TXMOYGnzXziYkYkp05NlAM6LziLDqwh+F5xxoeZjbG5aE4UPtTiC1nceQbVmOQcQOFUXlspGuGHwkXU/oYScKw5w3jsdw+NCmd6KY9g15iu8PqyAqWkQ+xN4BK1WaKBBUTlML7vj09rmGDZ5Pxbrb8OYBfOwRcuXvanztOL1sZTlXt+ErX33Qy13LEa/zeQA+h88gMkaSRxAtG07DqC8niJW6BaglXIrdlCtXAYwu2fa3/ErBXAvUokD+Fhqi8QZujB5oYqXb905ADKy3o8qAdD4uyOfoN9max5/tkbW3wBofHIpJYMjaKw7jlEAz2e2wrbuv9jtwjS2730HlKQYsyKPhuyoVxsMv5GEd+M1WZuvU3B2niYWTX0Pm9njOIAOhnE8/v5tCRzAx9OtUX3IEQy5as+iMu8wnYzVHMG/A6i5MRgt4spwfqErqxxAgF0hlI4c5wCM0w5xAHldEmAUsIgDWJ77HLX/bMfe2r/R44U++z5zE+JLomQA4YqhTKnVCUzUK+Dxv590xIn2ZmxDRCwC15YwrxvHsctFD+adx/L4xHBXBOZ8voAue7oi4nsx/ugF4WjfYYzGL+iwFu7hb+CWfBIGJtEsaPQOtIy/wmZ/uYV6SoGMxidntFxh3XEsFmQfwAI3Bxh8eI6M2o3xxugZigticdXBB0Fzr/L4pP+brXDcWBODx43kAAiN3+uSIiwGBHEAR+88+CcAMf7/CqBxQTf0H6iKib5Xpeuf50qmJVZSeac5uG8zBc7vVmPaQi0ZQOcrSjBwDkdTozV4Uf8AEiKKWT/LPJzzjcXh+8Zo0PQPG/UpkRU3iGI1ii8g9sJbFlUwnwNQ9Ilgi07OgpnZG7TsbssBPHMuZss3HcOS++M4AhGAWvWBHEDxpG44X2ssj7+oYS1MGmrJAYS3b4gpA3URu6cmTh4/hjYBtfFulw5auaTAcVBb3PhzGzF39REzKQcl++zQfdsqGUCjpK5Y/yMEK5PeY9zndcgdPQu1nH6yxj1a4s3ZIyyqrBo+OuyD2et6bOA3fWxxXgSjip/ZUWMRXpbeYlsGBaOz+SDm+PQUJu8/JwMICcqoEoDSrwNsz+oGcHp2EmkD2/D45JLfah6/pPk2mM1V+U8A3xRvMYWOUcogrzK6oOPODI6AhhcsxvxmNL5PSAeEBpvKAEa/Pslo/Ksv7HG/dy/87NgFP4+exZjCMIxYUxtj13aVATQMDufxZ+j6YerJMg5Au8tyLA/0QvuwW2h0cwdGT/Bj570fMBpftdlrDmB3sxD4HlzFKgdg2jcRAcbKTAQw6udw+P2oi7nRVziAOM2nMgD7whocgMqbGDSy3I0FQ8+iZa146N+suL5taYrG0Zc5gK7lddALbaCyah5ysnfikcdZ6M3bhi+q6/Gz1wlMmu+ELKseqNY8HDlZ3VlsgBNcJh5hP/v1xm+Dl9Dd68FKhg/H78/OmLF0LY76DkFIwRNoJ1R8ZsNxCFW8j2a2xWy0ihI6v+4B1ZVTcLu/Idx7VUeXAdaYGVYXP9XXIGVRxZ+RZw5bHRvU1gqGZkYsnAK0OIDUfcPZfY+2TARAaHy/H8lY2DeEx3/4+sLfAGh8EcDdqUOhfM1Ouu6Uw2h8gSLY2OiaFKm3QgZw90V9/IkpxU+r1Xhz7zZm2aRi0qM/WGqch9r2NXA2/yusNw9D1PGVeJn8mgMQ4xvk2PP4tVLbo7rOIygPGIeC0jEYXPFkMbnnw8NvcDuM9buaISliLq6l/TV/Uz4bGF2EMZNOYqPOPQ4g5dMXnLifhrSSVxzAvc9vkNR7BwdQo8N4GQCNnzl5ElLG7caV0Js4sN4KZe3bQFHdWQYQoq+PV0fdWXBpHdxu4cZqWAVi/cFyNB2lwVLP2OJMnXTUHF8NK8xMcf5wOeq/i8L4X9fhFV2GL0t6IytmN5qVN0CPq45Y3bY6tu8OhZ96Jtaf6QpP7QIWYm2F6crtofSjOQdA+qhW3NByVLHW2ADTvH4gPjQPt75tRkLgO/w6/YQj+Fg2GQcSPDGyZT4HML35INRM+MmCMrtzACuLN/4TgBif0PiVA7BdsUkGcNHoIBMB+F+8yAZvPMt+f6mP9P5vkeF0Bl2aROKPz2RMfXwQ+7beqBLAKPqfQv5vAJ57hkPjbhxSUy4gwSoU3bwHoqBTCPv3+LYPQzFi8zjY7H6AJMO1HEDfV6osLaY6GictxaE9W/AIa9m7Xum4MEAPP+KSOYDpLVxlAPXqVZxDThWgQ4oFlBV6Y5LWGFw3n8MBWHqEYtD6vlgc3AuPEntg2OKveD2vFkqndoC17UXM3tYfV5qP4fEzKuIo618RQN8E7I1uix33bDH8xxB0Xm6IRiqKHMALoydY9jkc6TbjYKTtB62Ku7q782BoeJ3E2qiheLTmBHY2uwfv1qpI6NWCPWodg04dX3EA7fK00LzTRTQvTkGfx27w1HXjAM4N18UQ914ygLZn1WH7voQDIBSASUgCVtwIQMQU4/8EsLPtAqawvG9LkDa+p6sEQOOLAArNXWQAhAJoH2bPsrruZSKABh0eo9ORZ+h0yUoGYBJeDYMfnMawZ19wKX0xXqXVwp6bb7B29aUqAWxu1IbH/z7aGYY+QXBaB3bG/QwHIMY/0HgbuizWZCFjtXl8S1cjNtOvgIkA4r8fZhTAucgJmOK5ggPon2SEW7fb4GWICwegbW2EsYojsGP+VGje0MTJa0sx5sZJTM/qgatJy7HkagnmD5+IISmquFZxJXZyPY2kTffRwO4RZqYPxabHnaDvfQEPWp6A+aoYxEbb4oavBYwHmeHU41r4NqEEbXaMxbYIfzxQvosbPveg8VEb8zz74uflFNy6vh2nbKIQ2MydrR76DDFXu1QJQGmNH1Y3voe7D55zAOtHOeBK7aP48WA3B9DqxlP0vDsT/lsqrrPOczmAKcuqcwDkTvxDOGi7otYuTR5/0xuFvwHQ+GRacBr7CHcZAI3/nwBqX2EUQMenjxC4zZx97jUNoYXHsXlnSzyfsA4We+di2fA5eNT1RZUAvN1yZAAz/lzGjgOzsLHdQbTbb8IogDYvZjKv6VocgNNVI4wr64cpWQ3Zg36z2BnDUfBLUmaGQxqxpDX1sOG8DtQW+PH4iXtPoTA9HasOnsJHrXK8TwnnAH7tjsCBbrPwbf4AGK5rzML7FME0MQ2HhzTnAMxCauDediXU3foVP4cvxt59C3Dq3DEodT6BJ1PW40Kt9qj/YQ66HF7M48/YYIYVpqlYNssWL2c54qNdYw5go7cFBixaD80eUzF9tBc2L3+H3a4NmLnfRbSc/AH3jYYy356xaJjxHkHbnZFmUBOed+IwwHFLlQBISXg7nB67kgNoMfoM0g4NYRQBBUD2RgzFiIptiAggcdqbfwIQ44sAqqsv5ADI8z+OeLBnjwxgQrAuEwHoLmrCkow3MArgyXZDVA9TwLD8CA5g9k5XDuBt9SYo/NAJDSreXXnfbGDT4C0yfzgxEcDob2ehPWo/TnUYBPPFC1jbj6kygDJ3Jx5f79k1fBjVGmOuKDOjHveZ2/vBUB7zg/mPaMPqDV3IARiMzMfaDwsrziedsKE8AYaOXhxAZkA5xuzTQ331h9CqXRtDdk/C9B3r0fujN/ZXHKDW1ihgFl5HcWqUOa4V3YTzaDXMmBzEyl+3xmTFAZhedwwUh63G2T3f0HbAAJhMiUJid11kBxRhveVbNBz+A80tgxBuZF3xOrGC3tQVCLCfjGajI9Hg1jHmbHAT647PwIk2IzmAa5cWcAB3X+mjZodEnO3hi1sJFzEp4TyztgxD+vpYRgFsyXnGAcy5UwLj/A04cCxMBlD++0SVAGh8DmD29D4gFz8c5fFFADS+CICYfZ/AKADFVuaMxnedfBHp733Q/JAdXJS9MdtpN4vtYwCF3t+Rv2QJVsU4YlfnLNgtTakSwLdJ5sj1i0esbiGOntnJRACPnlbcX6cd5QC6Zrrj7shnuO7yAiMD/w9ddx5V89r/f1yaJGmSShnLkKRCmSsNRCIUJYqipBEpc5RIkSGlQYNEKSVDREpChkQp0iSVJlGS0OT129f7rL1v575/3z8e/52zTu3X8/PZ17XWWcyg8aMyfWj8LepRRLmzGHLXEzHctgLjOQcl5nFIDHqiY3HWjR+2IlaYkv0GL1t/UgCxuhEwfTMCS+9qwMHhF8mflYCtywIQ16aFR0pSGLfND5dXPMbYOZy3Wb8J6u1nIG1SD5xb3tD4fw5tgmW4O8qudUBNaS6WbitGaf5lOL1QR6HRK9gXCODUzTfwD+Vcv1aeR+raSPhMdcIpLS0oeRTjxBZ17JqzAe07zdGeZ4YRm0aSTNO9wLC3cDpbDoOBz3Cu9CMueVzDum8JUHlUi/CKBsx0EcbcubOg3l9JAWS0u+Cw130kvzrzrwBMDqkQFkD/rBoSGSYO79JwVHS8/HcAXNzxuQE4JUnzAvgQsQLdK08Qze0hvADY+F0CbzG6/CnmzUtC9JEbFEDcGiEKIKLyFZS8G1C5vRfbXDUICyBqwmAK4OOKQ6jZ6QXX+8EYfn0dJDztYOqgR+Mzrz9JUAC6ogo4Xu+OggorBBm+w+JZn4nZEEHOwVOO+Iak0fimaxIgsWIRjX+3JgWfHyylAMorzlIAf0zCKYBinQP4HXYNI1uf40iMH177ySKxSBFyc3dDIzIIRnaOiGmOR0G6IU64lGJq5AOoNBzGxZVL0HJyKUrHv8Z0hxR0q0vBZlsCqjuioLHrIwp3C8N/QRISbWJxbmoVfHu/IPapM3qbiqG/SwTqCdGIGGQDW/4q5GQMhI1ULeSqD+KVziLMuPYCw6P7UPLzHE6NvIaTTZ8h5fsRjYOEMNvjAAWwc4kgRo0SQ7D1J2j2ZPACkHM/TuNbed/DopqzuDGiHGJieTR+3/MN/xuAlOV03vjPSyIw4aY0DxufGwAbnxvAVdtpFEDLd1lMW+WBZ3HmUHp0E9WJnAOftAYFMLHRDCLl9ng4wg33k5TBH1NLot8/hZXAEBzkv4182/3YnMWH/jdK/wrgQXoABTDZ5j1qmqwRlrcZ+5xjKQDu+C5tw/D4+Hzc3VZFJpzuQoBQLZynzkRC1Fbc9OzDkq0b8alTCb2zGiGwsAOLimVR7zQEFeVFuDFEEUa9bRTA3n2/yfqcVLi5lMFwbDLyEhNw1M0VnqH2GF0xEvoOK/DQpAJB2zoQqC2NbdIyqNDLQueYNKit4MOqmlEUQPxtE6R8XIi9D07jYXYbnC5lYJxXOMTX2+Kq4xaE9XK+s/0tOCGoQ2yoKJ4OvAH7DfnQ3XwcJ4/a4pa9BK5+NYb0mBKMi+vAYyE+XH4uh8w5nP9u+0YMt+7AyHNtUPgkzgugasV3qMuEk3bhBzS+861PvABqah/wAnildZMCYAaIPNAEwx2fG0CgzkyyjN+RRI7bzMPGZ9j4JUt9CTeAl0rl+LVTEPMUVqLHqYjGj9fLxc/dIph34R2+h6qgpyEd81+mUwAfBq3gBWAzUhaHiznXLgNFiNgIUwQsANGeo7wAFvmqYoXDbUwx+I21JU/IwqMVcIlSRebPMnwP2o4JJwcSFoDh5014/+0u/JIfYVn9dhz43IwyhRx8FJtP8g8rYbUM55U6+jNWVI/HhyhHRGccxHvTZNxUrIf/pRcQzt6G8oRHKMl7iX5Vcc4w7xC44BrZbeYPH6cbkD7WjPSXDrgvGY1U3Sakn5+KHw6F0Jw8A5+ObkCn3HTo7GzDonHx8Bf2hre1Kk7sL8TNcmmsLLHD9kQ3+JX5YLHJOwxQyoBN6kAsVLyBqbateJziCeG3brhUeggyrr4UwM4xRykANU05tNbvgGaFBI2fc14YPdXJvADY+ONbH6D32jLo6HSSSp9TiJu7lfAC0L4Ry8MdnxtAcfpI3vjdFUMRP7sbNfN34ZRxPMYGhMLvVSMOB02BkXs3FmxtoPHLz7hC5Lov3qm9RIzFUcId/8qEFwjp/YY22ctw2ZyB/sX6GPTWGLurTv4rgIr8jfio5Q6HjQMwdp4LTk06yBt/nH8Jmtddhd2LTiIVOIfGX5isiW07a3Cf873PuJ1swQyP2dCZ5wzhTSXYYnQKuXF/yIu3VXhX8w799va4nn+JsAD4N/jhzu3l+FZ6AEteWmDR8s/Qu2SKmcuDccDpGSQnhtH4EySz4Bj2DqfnaEOkfQpafu1Hg+9mZAlEUADSIw0xV/UjDjgsxhvjPEjnqkPl7DGYbZrPeYuKojwsBPnv+LFCRBQXlq7HcHFZzmtZADf1OL9XRhFmacrCQ/cL+Ldtx6MvuVAN8SHC/S5IPRoMp3ceFICU1iA4GLkQr+gvMFBxRKtUO56qPaLxuQGslJfnBZA1/up/AjjcuoE3vuVHWZhunktYAGx8bgBs/L8D8HfeSQE89E6D71hB3M014gyzEEuvfIX/igqSW92MDQbP0HhaFgVX3XFfrR5rFQZSANzx89Yr4cLBWopg1JkQPD9vQlgAAWd6eAHkzltNCrathLbbM0x9kwDN/EnkWm0XlhSOhZp9DviN52DtoHhoqJdCa1EQycroQOo1JVRnXEObXz78zD5i8+evmBmphpLHpVi/bSoCztkgJicHvwfOpQAkfVVQyjkwpoxOh73zN6xVzETZ7ja8d4lB+PcpKJu9C5bGwlgrXYg1YenQ6GrDyxv6FEDvE3XM+ykDZ4s+dMgVQmuhCe7b7MGr62pwPKmOkrIkZPcGwXSeAcSeroJJ0A/IFVli7k8TCM8fitD7tlDVdkGyVi00JRZBMSsPNinF8Lqdg4GL1uH6ulZY3aki0xqMcd54FVK/tFEAGe6pvABi75f+TwD3txf8J4AMteu8ANj4fwegOoXzHVowgqhkd3NOxtZE4c80sv78LVjUbIDFU0GU6uZCy2ItTgzhR908JdS1LkPyn7mY73gaOXtMeeN3GqyhAMaKt5DFwmcIC6BndDYFILL7ASaW8GPLajssFTcmG6d5IqlvDGHjt1ufQ9AGHyTvzcLt8/Xkq3I8ViruQ01hDiJiPyGiSwmpyqVo6xoOp/BamO4wx37/fdA5dAN1l7Phem0hpvYkoSIhEPr9Fhi+bBKe6WZgu8lu2BbPwF3FIrhV12OYcAiy94lgc9k9zGoVwAyTz/CSGQSTKm9c0G1Bx6+ZuO2ihWV2JhRAa2M4BATacWrCLBSoGGGWqzLCCkQw404r6spE4XnoMcY9WQqXVYdw5JM9bJJE8OWYD2qCD+LmpWt4MPcC9J5MxPSf5pBZtg1ut/IpAIEnNvDOP49lk77Dtf0PlIXdKYAzxu95AZSrz+cFwLAARN9JEBYAww2AoQCI3FPCAmDDc7HxpX7doQC4EcyLH0xYAGvi8zAzugJDDw/B3N4PqA0/hCvjB0Lj1BxcjkxCR7cN2ZOkhZaL1tgWtgQ377djVY4aWSR/H2O2RuJWmRS6UozRZxBMuAFcezQAOq2RFIDq8DwEfp6JVNNrkIktQuPkCPJ+7hW8WD4ZupwnO3h4GYYfDEfYcc7p2/kOHpt/grXkSlQqTEfm9fWw5jyJA+zPI1D5KsaZKaHR3BKjC4OhPksWhVmdeO/zDMP6+KDYYAKb0aVYp2cMxyWmkLhlAf/trZixURF1K3dB7+hK7JExgKrzFlzaXYbRnZdh+qMKohJXYXFPDomVsgiePA+zfH9C9uVCPFF+BK23OogdORQpC22R6vcQ+q9rcXDZU5hVqeOlWz4esj/1fE4qTm80RnioEyafCcDRe6fRIiqG4QMf8wIwWN1PAWyKO00eBU2E5d2L5ED7YEyqWgvFSaPJhdAS3A8eSSImm5Meq1H4Ua4JteQf/wTg+GghL4Djr/VQr3KEcMf/OwCGAti5E58PfCPz+P+QIyduQjViIm/8hpTNmH92IgbOW0QBsPHfLVFA6rGfMJ+2B3YlboQ7voqXCo1fUL8cQm7xkJkvj1KDacg0OYAnT+fDpHgqBWAodI8C0PsijFXyG7EVc3F00UTe+CNCbHFNKhA6Tt9wWxY4E64Hu5b7sPT0xouzH/FG/Rza12Rh7c0c7HKVhNb3SLxI8cK+KcYYWF+GOKUJ0Nf/SQFEV+tCbrgZNL22I7PFB6tEhXHRUBB8tupIaZ+AtJN/KIBIk0JYjh2P664hqLs5EZk2y+EyxBqV6/3gKpGJnMZT0PUeCsOwdtyKVuF81m4wXtYGzsUDobmJnAPwQXRxrpGbi5MwWUoQQnv4UWUWBM0z0ymAiAXeiOWfgqxrEbi8owyu+92QeXEEL4AR4Zd4Aazi/H5s/JmxgRSA6DV/pH1LRbDu1v8NgI3PDYCNzw3g3I9+dMzrx/IL5bwA3sf7EzZ+3oD5xM1/FklLkSb7BiUR4+o+KHuWE7lJM2Hf2Ixao4nYwV+EiVq+5EOMP4JULmKYgTdaNRsRcGQZXm2xQa/IcsICWK/gQQEUlLuhwGQbDEeOxVHjJ0hUuoHd1zUpgCw+IQqgovwFGn2+oIxzZX3ushDznEUh/uAiJ6hk9K9yRWfDPsSp+aJrzxNM+FIH/gp7WP7yw/DSGyi8+ISw8ReNF8fGbWZQ/dQF8QmbsHXjFLwt0oJOfRgE1r/B4wFnER+Wgf1+3/C7owEeK7dj2IQZuFS5GP4tiogb+BX9q/VQGj0ZtT1RMDf+DX/XVuQc7kKvcBBcq4Xh5P0Zqw5HwPrTVOwqcUJv/CLslpiAcS9M0d6di7pHS5G3bgfcj4zERnkLXgCDIYyjO27zAmDaZmbzAkiSP/CvANj4/x2A2c/JFAAzIMTWHUzwpJ2EO/7fATAlArW8AFLzvGh835XrUVQSANcBrRArHQuFKAfiMayU7Kq2w9qQuxQAG99/7hEK4ImDI/YFumPCZhkan+GOv2ZjM+7t1cQwF2+otUWjfUk3TtVN/FcARnfHUgBdx74ge4c3Xiqux5zH2tBN1sCCABNeAHnZ65DzWB3fe1ShPKgKh0XmYeNeIZg2BsGqsxe+C/dD56UEoiQrodcwBT/jRmFbyg/MTdiHqbm5qL9QgqfzZyDr+kk0RB6BX0sGkvy0YVHvguO+EhCedwnzvx6F2yM5NHb0Y9vbfoSNX4HH4/fB5rgWrK358NizDU9emeIN/y5oiF5CUFM41uh0QNZqGx7k9KFkVyCUe9ei0TUTB8XGQjxACpP22aJyiiluFDuj4PoJXNnJj0GqnTheNgc3MzhnmMRP0GqTxjrlUOTm62OKeCBC92yF6J9gVB7MQfbiQuRe0cd5RUkk2Iag0awXn5ADva2JZMrIOyi1jSEUgFVqL7q2vqcAws4sJv9XAGz8kMuTafxND4txstoLbS91iI77TMwa9IzIXumHeeEpRJi9Qd21MsIC0DqqQ7gBtIpZ4+qm9fjSdxgrtXtgG7ODcAOw071FAaS63MN+ExWctUiH3HcnNLZYImTQEDwMboNDw0IK4MtBV+x9OxHxj3bj2BkFeO7aAoGAYIRMMoa/lS4FYPtuEq53aeKtqydq381C68wgBEU0Y16QOZLdjsHoQQN0fHbgUZQUYs4Ewf5JBm503cVQD0vEDVKmAGyXn8OY+b1IEFFGne06DMsdh+NO44ndzQPIzs9F0VNn8uTXXcR9MMWHO/tR0ieCjuJ78HjoAVOjd7j12Qo+M0Nx1d0QogcvQ1swDp/v7kOsUykUD4vCqIL/fwI4V/ILFpna/wpgvvRRXgDnRmbwAljqe/B/Ajg4+wMF8Ghexj8BsPH/fwHc21MGoQPGFAEbn4uNz2xxeUnjj/BaS+yOziUxJX9ofBdDRdwXnEQBXJ8sgz2hfyC/5BcMc6RxdN4m9PTsxFX5Hl4AmrKjKACLV2mYUTAQrub7UTvAgEwen4LrsSKEBaC4aA4F8Oe+F255SOFajjFMg4WwLqsZ73KH4Y5MO26qaMNMZDosjy2CZ683BlUXoKjvJURMh2HMoEXwddDE/I4AjHPRQErhDaKzdw2CRv4iLABmxTng81Y7XL3COXjOjIBL5mSceRKNsb9XYUHaYwRKX0WL2ROkmyvjNeeAePHXSIrApNaSvIncAYn+PJj3d6K9/wmO3bHCzVortF9/gPrfEeDvc4Ly8o2I8R6BwNdhWH0kEIdXTqC/uWTpwQR0TijC/q7jSLn3CmuHjoJElhSiu+bi7PVJ2CFyC8KtySjYeAnq7M8r4GABsPG5AbDxmVv4wAvA4+7D/wSgfd4aTM7YQIpg0YlOwg2ACbbs4xmuv4cXgEGIP43fN1gP9j+9kWYkgT3vdeHkn0ABHJ9hgw3HxpEDYm4UAG98Swn8LhSD+hBB0paSQhGwAObum0UBBK6JQ3vabQrgAOcEnTh/ELbYNeJmsxMk86pwbJMIlt8KhtzCLHxq3AL32FgkGL7/VwDiWoG4cbIcOuWhWCq6A28lPGE67hYkDWvJyDNFaNrogm3DKikAsV0V+PltEkTa9sBxxGKMfNSPMydX4LCdHJR150PeqRKrYxTJUNUX2ML5bu+yKaPxuQEwQrkb8S15IsalBCO3VQcOf4ZQAEm2TQhf9hLts8whONULbxLv4U73KdwJOg1fIzHc3HkRz7Q5N5PE6YhUS4Li2Rbc+WgKI76LOOa4AvzhPbhzwhFXy4byAng0+AhGhaj/E8CePMxd7YGi1HGwenQbZ8oEiMn3WIQcrKIAdlluQY6hK0UwwGbMUApgjtkJisCUcxL/OwCbxqeEOz7XmheSFMBM6bEUwOG2ZzgtlkfjHzeKwmTtk0RKJY/Gv6xyAd5lk2ERtgWdSeU0fsLzaBrfyC8CTd3VGGWrCrdrdzBbyBlWzzrJ+RxBiuDvAAolCyiAl8rHKYD6wBAKILytH9PTbTGtTxjDE6IgnDMRCpH3kPk2EdXtwzHlhx5U6wZDMfom3JPP4lNRLyS/bUe93HhkzRqP0IStGHFpDDZvfYO5CpwbittBEjfLHYq2fljZshT8LdsQOfA6cYvYwAtghZYdBfCpIoCn5XwS2oc1ouLtbc7XzSpM731JAcgVPIS51muY9FXhgQznib4VC52OKhjOWAKVGSaoHSiPexMi8CZ9MOzXX6QAxtVGUQAqXnbQ+FaJstxAGAQ0I+GNGy7MuwKxhx0UwYKaYF4A/K1ZCMr9xAsg/YQPRcAC+I4SiuD/G8BZLROIN53kBXBnqie6bzbgnJgAkZCNoAB284+kABhuAGbvZtDw6UJtePbnKTaqmoPvlREFwB3fpuIk1tZLwud3BaJktkLAcS0FwMZnWuSLafzCr+MglGeFZPlj6BIdif07T2CLSCauxtQjNVMV4dNUUCTojNXBxUib04/iaDP4PouBqq0YhG9UwDpjMK4LD8TO/S+QUlKLOmVhfNt3D2P5dbBN9RX6Z3ghdnE1it/5kow3TuTvAAQj0/Ci9gP8jPagvEmMx9LEgQJgDm53gIOvLKKCRiHd3QSt0SJwHCoD/S23KIC3HxIoAOtuTSi3cz6Xaa0UwKL99aTVzhKew47heLkCajzrYLw4HgP/dOOiuiauCedj9TtJGJ/fh/R9nANnVR1u+mr9K4CXV56j8pY4RXBFvB+qUzXI+fNxiAucTxH0nmjkBZDK+Xx5ASw+6QKGBcAdf6iPFwXgc9iZxucGwLDx3ywJJNwAmoZ1oXuaNvIzX1AAkdm3UNBmwxt/+agRyJliRGQzj1AA3PFX+HygAIyOGUFZJR4KukGYOFMHlc9mYsjuFyROYBrZ8jSRxmcSXq3kjW+vfg+j6q1ofOnqhcThtStq3OYi6+1IKAqpIy5qIPZbrsZy6T/Y3LsI/oMEofViCXIKo9GZloS0T4fRrDsJ7h6xiNq5BwXLLmD77gW4/zwESz/tgoNHFPH+c5LIrbhAerdWUwAvxA78JwD93xRAgu0MHM5+jmb9EgS9uI3ALcpY49mDrtkFOCJiiQWyZlj23BIbH1rj60p7sn5WFsaoNWDxLWmUj3aHcmsoOrWkMK3GF+frbeAR6AJPW0ecNu7C3SPzkLc+GW7HsvBlykgKQGRtOV4niPIC+D1fkSJYpdaE3XcnE24AzIDg0DYKoL9cBDu6zcnfATBsePu0++T6TH0af7hLETn1ZjoFsKrOBUGbftH4zJa4NzCWz0NtWR0FEKn8jMZXXMGPymkWkIlZhezliyH9ewheTJyEU7+3EjY+M1hKisZX+WqBc+IjoXvQFOXdBZgksxxKxy6CL/gKyg0OQP3RSYgXP0Cy+R8U+C+l8XcHcP7ZbFX0zhsFEY1rCDQOxeNtiyBSuxxa1/ZSADWD68jkwfZkkOtsSE2OhHK3KKZ5ZSKsVwSjDMvx+Egtqi7Ox6Vh7WSkbRkvAKW14/GSEw8bn/EYvgvZm1QpgPs7iimAj+HRkD06Ff0PY7HL6wVefl2Fp6f9YSbzErPHfcGN0/mkJdgPKe890P+2kZQZ6+BT/2Xk/JiKQVP3o2+jK3xqLiLd7zh0OKGlDH+GoulJePAlG0mbAzA0WJzcsJFE9pNxuM55GGtSD/AC8LNbS+N/XuMBiZvm8J4jjmklUf8JYPOdNzT+y2IJ9OgpUQRPzbXJrLRNhI2vabGHuPg7ExYAww1AREGQsAC+p/aRXdLySAl+jGP518h/j/9OwgXvzk1F2PQmTEjehxBbaaQ2hiH94jFIeNqQiqPaSKgThcmaj3gqZIOW7d14UXYLGcmBWK2jj/iMI/jpvRwe0rvQG2KAB5YuEAiuw6ehJWiMnY/Nnn+w4fR6TH0gjubsu3At+oJo17nY6N4MzncTIg2NCd+qwWhTdCWSo+0ogKlJ/YSNz8XG5wZQKVuLoEErcfTIDawI/oAhpb8ogJLC89Ae/RjiOwpRovwN00bZ4sWwz6RBwBkyKlvxyt8ObUJPyW0DWQi/fIvvKVX4ktyN58+asC6jFC78U9Da7Qu+32sxpuUPzrRIYe6fc9gSGkkBhI2egXVBmQh9tgCDz2XT+MwrzQgcmmyPE+aqFAAbnzk9aOJ/Apisvg4MC4CNzw3AdIon4QYwtMgWyvI1NL4B55dlEi9GQGKYJM41ZJCR13SJ4g1vrBjsDT6Nr4QbQPGQMtx/H47Z17Ogm9yP3AOfMaDblND4Q78TNj4zuWQFjb9aJYQ3vqTSAN74FQvsafxTFaOJ1relONbdDantauhJcUH4nyYa//0EW9g6HkL1TxdYXFmMpatyaPxdAkspAFIwC08nJ5F3s/kga7kJV9tzkHh+FranapKICn+enMH5MJuzGTf3+lEA03c/wU//XBqfUZ3WTQFYqlpQADOmH0XhwxTiv6WVpC5RwRyRFqx/fxfz9d8TmwOct+uwPli3b8AF60FY0HEB0wLSIZmzDnc4MVt7pCC15iPkH+9CeHsUXgTpwfdLDDbFnCcT7gmhay8fhnV5QUN3B43P3Nt7ALGzhhNuAMyAGtsaCsBG1AulwnlQvSFHuAFUPp3JG595KzQRYW1NhAXwYc05rExKJW+lJ6B45koKQG7XQXLWWhUV8tdwZsw48ncA2ysnEK3X7gi/YAV9j0tYfHQwDCva8MLlIYZ8XIghP2+iua4XBqJX4LW0CjYJwfA2rYLgcE4MtxqR4V1O4y8cL4vHS3+jzCaCLHZWR+ODJhiPioDxzA68auOn8e9c2YAX2Rm4XOCB8647sG+GL2QLHDEh2xguMQI47sC5LyvfQMJFBzxReYPCQwvx8HI8XHWbiMY7PqSeP0sBrOt/QFgEm2IOI0HpBtoPP8O79YMpgN3Xf1IAGfsv46hvFJmY2kTWLzEkcXMXYtT0Q/huKg3cPo7EmQoYVfUEMTbeJDh6EpYf/EC8DrvjZ8tZcuygKwWwd1c79Dafx4nFNsSysAxnnxZQAGGJV3HNIQNLU0PBr6hB46fNEMFIPxN4+/oRCiBD5DsvgIdlGdib+wErrYoIC4BJVwwjLACGDc+EnlEmu1t7aPzgnbqQCr2A9bVWhBvA1suOuBLOeX07J8Hem/PUC93A7LevScbkIaREYw3GaYYRFgBFwAlgW8clfNCcgcTfl0nJpl1omLIV1QcysVztGIbUPMH2g3eRHqeE2x7PUNqUhk2ds5G7h3Nid+jBVm9DpEmcgMBAHWy5N5XGl7aXhUXPRSQ+nYfvffvw5HARNgvPR82+TWiqFoNA6jHELBPFqccnUfdIjBfAjqu2hEVgEtlFIrPkKACTXTaEBSB/7x0FwHdDEBWd+0le4VMi1f2RCE44Sb4nrYaifT08zyni5DdTdHAGixYUwt0tzyDKfxaugr54fSUcs5odsF+1FNE7X2GbGOdNdTkc6nrbseyQBtKUL0L0YyCkCswogAK9Edj3uhOX6nIpgMBsCQw/PpEEWx+n8Y+XPsEAqRNjEeT4gCKIvTmOAriwTYCw4R3ME6HpZ0b2XYrgEdV2QuLYDiju4iMsAJuyQXi7LpmGTzZJQ+ilKHybew8eZjlkda4tRcAN4HvIYPg1DiWV8eEUwEHrSHzcOg1nxJZBsF0X3ye6oq7zOwXQKXAFl9rNCAtgdtMJLB/qhNbmVGQVC6HiixyNX6BwEh+7QtG0+gSGuK+CRVM1jb+xPBJCfE00/iufObji0ItZ+cZkWe8ymC1RwillZSj25MHLcQvSfDLxOtmOAmCknzWipiYQc5VXo2D6InRyroyy9nZwHleMi/I/odVzHHoH0/Fu6ngKoHHFeWjwJZDUAVowWpwEV681eJO8EsXL+pDq342IVTOh9TAOIWdOI35OPCnazI8T0dUQVSpGYNpmwgKo0vwDE+mbFMD7es51+VwzubRXgnSO2Yd1RifInw87cNXdgxT3nsVFKwMa/5PTTOQ6N9H4vADueh5CZMoM5DfO5wWQLtyKpbpziUnHcXKi9DJhwzMGH2oJG547fs9EY4QdfEbY+Iz96G3EKngXQho1yJ+uJGLsNxzpA96iV9YRk7/mYEdhNaqfeJMxsoaoWVID26OaWGwjjaT50hizJhsfQzZBx3cSjS/4ewp0v4dj9UQ9XBk+HMMeJqOhbjDOjQXCT0UhbdEvHHX8iFuV9RRA8VtJ1Bwahkl8fLj/sR1SF1Px8PoyaHctxPRB33H+9x+EuV/EPud8HL1XjAMnHiI/+ScuZEQSbgBbU99TBKNWrEFv71Js/jkQIu/HIXH6O2gLXsf54gOo6FYjAXvm4Vu+My78eYa9DweA7/Ak5B06BFOVLvic9MfvD1Mw7PoW/Py+E+UyWyA/KwGaP7XROOkHGrSnos5pMB7EXCU2yWqYHbWd6GxuIjGDz+DFTFs8P+yFLOnl5POxqTjxeiSqvnVCqGAuBRBuFYhHgwJwxF4FP44sJANW2jXzAjidexBGCYcQMVGVAtDmvJYZuVf6FMD3UE9i37uWAjjkmvSPwQnQ0RXmjT90zQH42aRhB+cJci5PI7m+ScS8poTsDS0k/z1+Ul4wjR/gFknjM2x8p3wfPKl8gAb9IYiU68HCkHYIbhsPh54oGp9ZU3UAit9mwfawH84snEMBzBu3GFIlnO/CoQ/hUbUIawL0oPS9AlYVjWj1EoL+8BhS1CCCXa4DsCdiHLIH3YCaxgY8dNWh8bm8ZiyGyCYHfNYO5ly5suGTW4hpo7dixCMPDIz7Cfeuw7gb0ImE90ewQpaPTPIdD0+fARBwjwGf91OUjhmOEwMT4Zf3EiKcQ2rBgnucN9x9rH30Ea2GUTAYcwLzgnTxdOILclm2AAbqy/B5QwM+dxwiO4/kkw3bogkbn5ksIQWpC64QVE+E/4tYFC+cxAvgyKJATLGrg3/gCZyqXkXjL1xthAHRD0wxM3YaUsYv+FcAVt/O8MZ/aXsKV+6H8sYv/GqPPK9+Mv+hJGEBXDXl/BBZBoSNz+xMmUPY+IkzrqF0tw9WFomRi6OmEsGkJpjE18DhjSoODC5C44sY+PZNxa7HErAZ4IaI8QY0/nEXJRqfiR3wAiOD+yBqlIMC7yQ43C3CPbcoyA55T7ZvzMURu3QEmApynnhrpEbFYHXUUgogqN8d8x85Y1fpQHiUBmDpUDV87l2N/b+ew3uvDPm+8yEkpi3CVJ9szEkcjzsXupB9YAEqhqfhSlkbqdSfhFalEmx4FYQD+46jQLkD2bkL8K59Eu75TEDAjnT0K+7C9OkdiKqJh6x6Jrbnp2O21xOUqtQTjRZ+4ltzCnGl/DBYLoAKQyXC/yGObKxqILXh8jD7/gCmmQ0wceBDen0mibhph90jr2P2qisUAGOTrkoB/FE5BsPmIRTAQPM7WLpMCZLqKbAJd/8ngENllhBZ9hC6GTZw/jgJSed1CQsgYGEnjc8NYKVZPo6HDqYAOu02w+HADdLj/4I3vohXKQJWHyMtKzeR2+UTScnMHyR5wQaSfXcgYeMzbHyGjT9e9hz5nBNHJg1UQm1ZCn66DUZehRp2bc2mADr1rDHG/QMkMzWxW2cJ1B9FYGC8K+Z3RmJadBcSTt+lANxVfaGioYgi16kwsevH0wsfYRi2AhuP6sNh4EH8tlsN5/kbkdvUSQHYlWtQAAwb/+8AtvjuhGjGOHzdtQrT1sdD4dB9CsC0+zt5tsQIAm/HoqOGc4VeeAepIStJn7U6+SwpSixGi5FKgfOwkLaAn54jlkz7hKc7nuKBfgr2x9ZBJ20b+ANeorkMKJvwmwSq1OJL1HJya1wCJI34KABGkm8pJI8LUQBMYdJjCiD25DK8mWZJtCX9/h3AsOmKFEBo7F5EqygSNv7p97fJhrH5vPH5IhWQrKVEAViLFRMWwN6QT5h4qJOU/1Ak6s2TCRs/7P0U+l+6btUsgetZSwz49AwlgYJY6VsE919zYb5JGLUlv/HVyga5Nx/Q+N5qo2n863vFaPyl+aOxJ6QKEU7ZeFbpSOP/cV9O41u2ZyCrsQTaRwJw6+dDGl87SxJN56zRar8dYTajobf4G9ICSjG1aCFOCOcirWInhM63QOWGFH4JXIRY/UScM0/CF5l1+GAuA/5l13G0ZRL8FwejefoZFOhqIMV+LazfDsZKhXHYqdCOx2rn0NEmgCS3LSRE4SyxsFxK8nbUkdXu8eTS9njYWk6BtZ8lXtzPwVzPl5j5XR8+Lgo4d3ojVurMQtiqVrzIacHLwrcYdmQIeWTlQvxd95C86ETUOMdRAHY9sZhyTARrPE/+EwCH0RRDwgJgdvwah/lSeRh6oQ9u24djxrRKMqAsxxWDK/nQ8OILBdAndRX3r04nl7VqCAsgM20rb3zmlp4K+Xt8C/0EtO3aQOSjppHHh8cSNjzDhmfY8MxFDQvCxheU/IoTzcpkbYocRjUI4d19L3wxKqLxlwjU0PiMwMZGpI7ww2MlFRr/5IQIxKyqwJAOK86/64WPMmKI3/gGDZl3oNF3H9KXteG+/wBGRe9B6dFgpHmWcs4qXqidZQN7/Xhyp90UlXsnQvLUa9KweAoF0HqrmijEp2L2qS48lzeCtsUE+LSOxcNVOmTZkkNYnZJCJr/JIIPG7sAvy5ewCo3EK841/65ZAyzD+DHk9iC8yluPqQslcWMaH/xvF6HEQJS8Vi0n53K7CX/SDkw72YgfYvJY9eg4Rmx7Tm54bSLvF5bwAriYuxlOR5WJ1fTpxCd+NGEBMCwAZk1C/T8BNHg4g0XAAliufYkCEHOTwVTfhYQNz2SVg+wrlSFsfO8303D6qAG5lXOYAjC5vpOw8a28xGn83A3yUClVg56JBB4Kp8CsNApqPaOwd5g6zC5fwOCeCho/P3M4jV/ULkrjMzOFs0iN2HeE9vxC+5pQHDJwxYTuUAogIWoL+qL98K5vPgXwnnMqz3PbA6+ri8Gvm4uMkXeQnl0NV5d6CuBIXCy6zj3BtNcToT9kFfoL5DFi6jrc6OhDU1ov9PO1cGT3FJJcvR35AcJ4KKlPcu5UwNv8MDyTNiPxyxlMUFiAGTeWQ2T2Vs53vBnyuo5j7pTbyFvxA8s5b4HQEHd8/+mIABcfrHt+FuK+6nik9gwHw4sQb7YMJoPkSL1ECQnbP4LUrhxHIq5dRPOz9Xi+4hHOGXuj2+EACbNtxvy3oygAw3dvCBufubJnApkqepvsXfKCdB13Jy+Xrif/CiBNcyUvAF23dl4AdutMcM6PjwI4XG0IjUEa5EfLZ974fb6JND6z1PQHXk2u45wFFoOvdS9h4zNsfIaNz7DxGTb+wuAY+AQYoPtcGibu84OXVzQWO6li6PDPuDtmIGHjMysjHmBNzBLccbyBcbWfoPW8FWtt10JYN47Gf6kxiMb3DnWj8X3LH0FspAH5IO+P5NGz0VxdDu91lhhvV4FCu2oYfDmPfWp9kNg9iwLguxaN5ZcnINLcGvusOB+SVCDkZmxCkPYRtDw7Ch3TCOwQVcGk6Xsg/YvzpN6XQJnCGVT69FIAHk8bEJ2ngrwyWbRaZyCz7xAqZovA29cbo2ZI4dbK3yiZP5sEJYuTE6uEieuP//A8G0DuNawhinqWZN7nd1A5OQxxofmEBaC4tgiabw7Bz7CTnPD5QAEMf/iN3HQR5QVglC6K+2knyAA2PlNQ+RAvbplQAM8/1vHGL1owB1qOeyiAylX1hAXQvs8bSnUCFAAb/r/HHxk7CRPaj+Pnq0rYfzfBxUA1fAx6SfLfiWL7xxAaXs/K7X/GZ9j4emcj4J0yDie690G9tghyCkI0PvPptjXUtOdj+o9ICqA+bTZejdiCHR0eMJMxg7ycOAZekMHerodoXC+Bk35rYfxQBfd3KyEs8T52t07G3LYezLRRRNSmm6jh7wK/4Gtcm1uEqsGrsVOpCZMmfoK/6VVYrBeB6DFTvPp1BhsMdsJLaRr8VhWir8oLQ6+UcN5CfViRokkBXE4wxHO+g9j+XhsCzRk4Xd+KqOgx8OmxxoDIUTj4y5lzjrEhRiM8yD7dJsICmPdTi1ybl0kmLdhHWAA+uxvJ2H0JxOfmEvKE85Zg47/xX0lYAHe+ppL+sPe8AAyXtGHTvru8AEz56jAgfVccja9qUwnBx/eg9GYUBSA2vJPG5wZwysmP/D0+s5VzImfUzZShZBlMAbDxGTY+w8Znxm7WJWx8ho1vm38AUQOaiILFGKI3RvZf4zMvR8tgS/YR5FcNRoppL43PaD5YAekrYvBefpACqD2xl2h02hKblzMxRN+CAgi79BNxqbNIvnoF/GV3Yp/lPApgsng8vk9bjjmcE3LZmy5sqpdBk/ofdC58BvOX8diUIo3hVcex1qUUB0fwA2Kf4fRTDoMl0nH/POdnFwvA8w37MCXuGNYKNmKOuTEWH/gGFZF3GHvrNbKeeyNUfg8s7swiq5NOk/FG48nhAHMceaVODL7eJZc2x2L3aRFUdpbARqyHeCYPISyA4omZhAUgOdQeqQlZGPq1CcVrjhJuAMk2jTQ+N4Dv6S9pfF4AM9KrsGJBObYIiuLBCTca/71DBwmxfELY+NcXBGG49z+qXFaSv8dPt9iF2a9GkbXNK0j6djPiNEucTJcuwqAWbRSLatD4miq7aPy41HIav8bTFu+3LSOtMl/JFe1AGp9RNE7FrORp8O6q53zoFTS+pc91fI3agWLDu7jdfwLGtfpQN47Cxhk3CYvA+3kmBXBu6FaMSOV8CP4CGDbzKAVQYLYRTmprSN1VZ5w8uxelixLRz/56tt/BGGqWCsPX0tDkXDGP/+yHQEEERDsVIbNBCHwTONffBXnQDhSHUmgOGoQ1IBvZhVlOUrj3fTyGjjWFQqo0SpbIkU3yQG//MFyaKo7LWXpQnr8Izx4MhJ5IKNGYM5a45XVAxWo5NuyUR0v7ILwbPYRsVwtBtM1VzFrijkEi5qR38iZeAAwbX6Ktl7Dxmd+Dmwkbn6mTTSADKudPw6SLQyB9rIgCGFmbi3plcago/caxb5mkX/oDb/z9nY9w/WQBOdFVQVgAbHxGKHwySXIcQdj4ciV3/s/x1ytHwWbYDix+9QxZXa04GJJG4//8M4c3/jPY4UadFpavj+AF0DS8n8wRkSAsghl2L4n19f0UARu/csxU1BasowCGhy0lLIDBtToUwOYtuzHxQjpMA2OharoPcT8W4/krD0wpvYbmtIcIuzIRGjdeo39RMMInbIPiozi0j5CCspIGBD1a4K53mQy76kgBTPz+iwKo01OHs8YCGN5WhZSjM+zXmCKkT5jsm6CMYY9n42TUbhI/vJt0dluTCy7euHJ4J87MMCEWe7vJ9+2akFx4k3xIHUqcf37B8Ngqklg/g8jt2UrjNy+ZTzKUVfBEM56U6JzjBXDqTMN/ArjSewv9OzxofDvteAogdtBJwgJg2PjcAC42xNH4bpvMkNVvT/aO7Sbq3oXk+p/hMN67DB6L7FHwXgtNy6OgobAHo8MMaXhn/6+88Rk2vkzbahSlmRD+Amkan2HjSyzURr6dPAwM27FMTYzcfXoTj2dLkm2X80n7HT8S1exFAbivTMEtE3cskbxKrmQGE9mQTWjc+Qn5Ud/wRT8arrsAp+oP2PppARr3hGFu7UN8uTMXb7enQH74E+g5iMC1eyQK7xfCUssJLjtLUDD8EEZdrodM5TAUliyBecErNOZlwFN/JzwNt8KpMBWmtWFY0VsEl5x4OA5cipxrezFD4QDSOhORXbSVKJToEoeTW7HYjB8Zwr/II/8AmK+y4gXAyPZvJtwAmBxVZ55dKz+RHzH+ND6zpXAzL4A3Cx7A7Mj0fwJg448XP/6vABZ6hUNtnBBv/IDiLGxWvUmMhJz/NT4jvOY3YeO/Nr37f47PsPEZNr5wymNslXpHUk4L0vgVFVo0frT4BRpe/2kCSR7YwQvg4YJEiFy4SFgAwYr2cFaoxZUnr+D4cxhy1MrIuhA5fJ0zBDWBA7HOw5243rtDPKuaydKML3iW8xhdb/jgOVUQT3Zuxt25PzDCJgR9SpsgEfIe/bVRaNZVRoaZHoZWeeBJ8UVkLYrB7+fOcNXJhcDXy1DoFYPB5F6YqznhdNkoaDy4AOvBO7Fg+x3O+eMFOgy+YKdvL16LzMLEP4uwaHkgrqrPpghamj8SN588hOY/wu0nR0lXnjVhEVyxWEZMrxiD77w69BW6idtsVYz1rEHGDT3s+pZDul6l8AJg2PhKX/cSNj43AGbAIJ05FAAbn//JM2z5FMYLID34Ho3P6FVnEhaAQI0zfnx8QsqE9Akb/u/xGTa+8h5XVIwpJvlnHEndFhUa/1zI4P8Zf5HAcpwpPU92RJ4kLICq30Wku2QpYREEuT0jttuPEzY+c8mgkbAAnC+6YaR9L4k83IyR2y7gM+dRZ5aO6cQ09cNwTB6D/DeBqAk/AskHD5GzYhrin/kh2vYXEh2SELFMHm5SzRihugAK6XtQufIhds4wgNqVa2hy3Y5cFRs4DYjF2Rn9WPd5LRSdPSAl5YRTrlfxOiUKx+QL8VrnF6S+uFAAqXpyGNtjRaa/3090lqyD5FUhOD78x4ljkeT8pwbIixtiz+LjZOGnPXCdZ0QubZLgeZs3gfQcf8iz/MUa4vNbgheAueE54nDfjlAAObPO0PjcALjjN7t/hniNKe7brf2f8VNm3SVs/M8zPmB8awlWFrsgMDoOVcqXaHhmul05jZ+6RvN/xmeEsz+QY1dOEhZAt1A1WTQ4H/M+3iPh9iKEje8iHkuu82eQUxLJeCsvAmPjOhxZaI+Bf1wJG18k5jc5ZhwGIdxGlKsRtnGugy6mqzFVTwJuQlpA9V2c2pyOQW52WOwmAcnl71BgdRCbbknhtpUAxAuuoP3mPs7XhBxm3bGHetYatMcXYeCcDOw9JQedccew5DTnZxkjh95vTfhdMB9z94sguLgZgRGf4FQ/moz/WIPHDpcogO+bjbBJyIdUGPph8KIWPFvTRd4d0CBzqqdjsnok5oh3kj7EUQDMr0YvwsbXkT5NWADf1ygQFoCFy1fCAmCOJ+RBcOxWEp/d9Z8A3EWaeePrHJmH15JD/ycA5g/nQ2AB/F/jM2x8hg3/9/ju+n7ge+BMvsidwwLhLjL/+z/Y+Gl5z0nqak/0526kALju3VDlcRx6mZjNusdjndKEYxYJ6F32FUMry0n/MU8YWChg+YoN5PWSD8TH/hBCf33E+djp4B/wGGNPtkNqYyeCXY+jLz6W3Oy0wp7+5TgwRx9ajdux7qU9Lrz/jf6Ax5xYhCCW4IDTO2YgsLIEHw0nwqV/MOx7ZFDd+B4/fKejeAUfPAwMKYCDIwNR6LeCPBi6GS3XYpD5SpEotX0iMs/FiZ19LbmacxDb75rhntNiwg2AsZItQufuwai7LkSiVsQjbm8u2f88lZhL6WHSuR7SUW9I4y9MViTcAJgB7OnnBsAdX1i+C69GV1MAHUofafyTa2soAK2fhvjltRHTZGchJkeRHDF0IYcF04mUxAV0r/yHf0czjX/nThjhBsCw4QVcBxG5oG//CoA5I9uKdpnNxOezK3nx0Qada0aSgrBHnJN3KQ8bf7VmJSkUOEHjD5sQj/06b2Gmu4pn6euRRPxSD14qLUb+3vdoLrEhA13CsP15PyR0hqNJywOar2QwPHcoDB6fxIsda1GV9Q5efoVoHm+N6aGC0Gh+iEUKv+Arfx6hr+vx5ogAYpr3YMjZBeS01VYKIL3Xk3ADkNm9CI++Lcfkb5U4++ozQi6sQp/GI/L2eCXWtb3G13XTCQtAb7ULuSomj4hML4wKP0jY+Fxdz1cTbgDcCFgADDcARR11+Gh6E14As/k3Eja+5Q4bCuBRxW0KgI3/fwVwubmGF4DvkB28ABg2Phcb/wnnSsS8erSbtH/eRrgBMIou5fikG42k2m2ERcCw4Zm1eYNpfOHvLzEs0R+bQ4aQxGxzhHJGYfqUrhC5ESYYyRmE0WodiV/jBqPfnB/mB78iylySWMyuQ63XevgJDkPiE84rN9McuxLn4pqfLiovvoex9VysGDsHOyqt8fDLKNhHRyGw7CnKtxrByM8OJy5swDHRrzDMi8GKnAZo8kuioT2ZXJYxJW9Gr8WcPzqYuOskVC9MQ29qAC+APHdzOAiFojhWjSIIdA4gadpfyNqBK0hCQzS5v3cfBcCNwNF1MeYVx5Alva4QG3+J2MY6oarFluweH0jeTT1P4zMbAuT+CYCN/9VmCY2//s1lwg3gnF0MER3ygQJg4zNs/L8DYNj4fwcQo7wBFebaPHuSLtP4P1do8LDxxyyqI6kaWjQ+NwCmzP0J3O4txA+nAYSNb5dzj3MzGULjM7e3pGPmjjsUAFO9IgFqvaKo2NKKTdGlZGz7MBIyNp1cVr6HiAELaPxLEb/gzncNn3cvQ3tACAwubYZ+WBXkAtYjPeYASk9lw/CAGULc5LEufCk27eVH6Y7jSG8oQp+QB6ZHfMaEebk0fto1Hwg7fkSaVCMKLfjg2hWBrSNEcL2jDB+fKaJqtBgFkN1cD6XIKMINgHGx/EbOi4SQwlhz8r7NnljJzKUAGHmZEph/lUXFXTvi5ltCAXAjYAFwI9ibmsoLgBsBCyDSUx8D2Pi/042h4tYH2elXYa77DPk2JvT0s/GPOH6nAMStZnC+95aQfU5WJCX7B3H8LgPboDgyelQwjc+EXbXijc81pDmZ58KyX4QbANMnKoGTzstofIYN7z/EBBLVdwgbf950T0zoOMUbn3HTEMfYV53kSfB5CoCxHnMb4/3qSbHsW9KlL0/Mrs0kCkGzIZUphDPOJ/BZLR5Pj7RgvsgGco//BHmgpon7Bg/wVJDzIe88TeI1R8Dv0U2ocN46pZW9OCQ/m0Qer4BM5GB4NPiSe0M7SLV+LhIPzsOmk08Q9akWmgdO4JD2b9x4u4HsFgyGh/Z1PAhegPSLbWRPQhOJ+nWBsAgYg/YDGLXpFC8CFgAzXaUQklryWCo7l7TrCaLv4F3iLyOGZQtvEDb+vwIY5bOHN/5qjbMYcfUcjf/fAQSvHfuvANj475968sbnYuMz7UmVyPRcSVoE0sjf4xvEBJP0G2NofG4ATOGwizQ+N4D2d29R9MaFFJ6pwVIhGeQpPCZsdC6h11OQ9b4FL/608YxfvxtdKt7YOskI75ZaQnOZG6k2OUDEcrcS89BcciXGCmeW+2BcaQRh4zMX1zkR2X2GUBuVAG3Pekh5zMHLYemYen0NVGeWUAD8awPQ8TyKzGxOhOf2d7wAmI0KkWhsnkkBLOgeTONLjNqBIi0+CoCpnrsUN7d8hKNyNck8fJGY842kALgR9ERHItxhLw8LgBsBC4AbAQuAG8HOCN9/AmDjK7zg3H/dL6Fxyql/BbAzZx1h4zNsfG4A3PG5ATBLpvzg0Q+fQ+P7y30i3ACWLxAnh0vKyd8BMK+6/Wl4ZqBhFPlpGfovCqZp5LyYHGEBxJqtRN/V7ciP2AS9sPXk5Z5etLw2pvE/GdqTqY+ykOwoCNmgRSTCZA7hU/Ql80M9yfnsPuKUeYpsWqBKvsguJWx85u3NR+Ssw1fO76yN/aYNGFXeD7H3TeTIsRpyMWIWETxqghHJk3kBMPIqMXCWkaAAfl8zoghUK9aS/CfxFMG9mx2k3XY5BcBYjJiOsl/OmPH2KC8Ccc5hjxkt/pkYqa3jCQs8zbPjZAgZ4BAcTgFUGZhRANzxJ+0+SeMHa3+CR7IfkWjvJMpDv2L3gcPkCv8aMrm4nHDH52LjJ0rEYk/zAN74fwfACIVvpeGZBotTvPEnStng4tF2wh2/48pHGj9uewy+nMkn5jqDCBufi41/KC+FhGrE4VTSaYgX65NVBvexYHcdsSiYRM7+iiQb4/KR8b4f0zyXwEXXDmoW06C6YSo2XFdF/vnNqI5/jGwRR5y7nIhmSQEaP9XXkMZn2qR2k56G/SR91TFSOH4vVpgLkZgBtiQtaBJkL0QQFgCz+q4AWSM/jXAjiI9OQMq8P3j+qpsiYO5lL6IAuBEwAdeHEBbByBxpwg3gUc89Gt/PqIjwAqiMU6QAusK/oTltDo3PDeD/N/6QHDNeAN7JLf8KgJkgXM3DxucGwI3g7+GZO+VavPG9XzyFrOcDGv/vAOxOy+KNyCHizQmLBcCYtAmRw+8ayb06DwQcPErC51TBcq8SYQGw4ZnRU3bB+bkrFqhNwrI3N5DrrUh+/fkCjXZPLNY3wJzVKbDuG4lhLqFIapLBUfUsZIvPwMTDm7G4XxJmu2KQo6MPs0E3MU8niARr+ZJFpb0k1e0G6e8ZTUpKvuN15EPSrbObGPVJkwUPpMimo04UwOFMf0hXfeDZ5i3Ki4CxyMumAJhgE02yfqsc4UYQJTcHrQ38xPG0PAXAcANgBmQu6qIAuOMHeb+B8XWHfz393OG543MDYOMzJpN1ec4NtCZs/HtHrQl3fOa4XAJveO74DBueOz43AO7wzGudnzT+9s7JeNSqRBEI7DMjJVVT0FR6hCdk71De+G2SYWSd+3E07/AkTiu7ccG2HmNEjhG5dVNIXmwdsR6+G3df5JHQsSfIT5sG0tBURJaNykCWiTQExjjCsMoVW5v2ILGhG0cMZCHUvQQ39efQ+NtOVxO5KM6rfYYMNAvryGXN/eSm5TYKwO9HHwUwS349FPZfwJLlpUjISobE182EG4H9iC3YafwRUm1fKAKuZTuziHTDWRJv/IEC4EbAAmAsgq5gAOehN8wwJrwAhhRqUgBsfCZY6wMF8Pf4fwfg+mQgeVPsR/47gB0XijHZZzgqZwvS6FyankE8bPgBM7Ig/lruX+Mz3OG54ydd3Yp4KQXYcp5e5vCgI4SN7zCrjHDHX/BpATk6fw/ZaNry/+qu86+g6i2MwyBIZTiQGBA4QCiDoAyKaTIYAlmrFJQKhBxTMyMxCAQEJckBEgVRBgEzVCQNFYxCCQw1IVRwZHDAKVDESq44gO7rflv7e9G6Pzx/wFmfd591DmUalsHnp2/BprP7KML3exqnV04ruwcChxeujjfBzm0bcPy3Bq5Q8RnHZxw/bto1ap1xH3aPaKEPHYpowJR0OpVjSXH1JWR2vQp4BL8/aAaO75ihRzqa6ynhmAUtfzxJDYDxANjMuiwlxe8zNQLmM2gnra1eDcU70kAGwApcq0EGwHgAMgINic/k+u+ecvh7AE9MrOgLEn/c/kCadtSFPtbXAhkA4/CHllqAxB/YeQUkfmnedPD1+hYm9WuHP2aWKsXas5/C8ZndW24gA9DPvkFBja6QtTCVmv3aFQ3DlYp9oZvC4SW+dsMBMPt2KPibDqHYVGdyMDCDsTVxpJUWQEcX61DD5FlkERYN0VtCSS8oieauaaMRDSsQf/g8feD4jOOzlXGPoNKrkYbrjYXKo8VgMejyPwbALu7cDi+9mkReKbW0fU0C3b/eCjKCYcufHMJH88jCKwQjkCHwAPImGZPlnSqQEezWe0DHnfpAo8l+SmhcChpbNp9E/O/v3cIA/i0+aw/pg/hsyon5tORCDHnNSVSicxZQv+FLEL+PkTdd7DeBtCtq6cGDDLC1SACOf6g1HtoGX4O3J+dC1/ifBTdDyJkI6u8cTg3NfjTc0BVC7U7C9J/n0OzZycAjiPx6iGLsn69Uu2ZT9h4HMvrUBXxfX065bXF0+MxwuuahCyZae6l1y6fQc9l9CByzii4sMYS2yt2QrneFDrxgA3+esgTTpmbK7GFGi08vINdCB9qePAsu9nUiqyP71AASokuV7xwtoerAZMqKqae+prmUPVMLukfMVwNgPIBFZxNpk9lWxXq3iRoB4wGcck+GpaabnxqB7VVfatherkbAA5ARYAAcn3W9fj13p6fiywAk/sujAv4RnwWUOGMAHF8GcL1phhrAhK+O0NBiS3rzYimUZnuSR+UcmKhZQfOiekLNk9/S3gPDMACOLyQ8W71rOvAAbOO2Un7VFXg16Cz0OmNGncuGw7T80eQ+Twu6l/kp5xeNBx7A0fplwOFFTp0JSHzmfG+0oj+mFt6v6g9+Mx6Tc6wbDP54NaS+aEub9hfTb4nadD5Dl15ySYJnB8A4/q38v6UV9waOzzZUPEdf3NsEMgKWsOp1SK7NARkB4/iCR8C23XVUI9Dg8O31utBmY44BcHwZgMQPrNtGG50Wq/gyAI4vA1huW48B6H7bg8KSWsHJLEWZVRYMHF1wdFHRuRC6DmCuUx0kjjhBxosGwJGKSMoY0YeMZz2C9Pm7lKL3BgPHZxxe4jd1NwAOf3aAI3D853MjqTB5H6X4+IO5lQNZe6ZCnfvb9CCsnvb6eFPuqf/AAPsK0sxvA46/MOw7FV8G8Em5IXB8xvE7tiyBwef+59NqQ9LViaBHo2fCV6+uQfzwtRvhzvo+IAPoFqxNgzVTlbhPzsMHZ22eGgEz0ckCf48OkBGsm2mEETCNrvHZs/E5PDNv6oUBHB/ZoPxiWgEcvmt8GYDjTnOEb7sSCRz/caU7rV5TBDfb46g69hj4p2XBYJdRdDfOHKYU/kh+HnMwAAkv8QUPYFuRlsLxC4oaQP9SBxj/6EKdnQUwMOQCZdzuRi8Oi4So0Ffo0Y5OCis5Ct/dMSD/9VOh9x+lVLMhH5Kdsil97jlKtUsknUPh0Fy8h6rTM2BSWSG1jAuktXM/gMCCWJqYkkQmPUso7dJQ4Ph61c9T3bAIRQbAOD4rKzOkS3mZcH10B5mG96YF+nsRn2n8upNOZ9YCj+BwVRbwCPLPp0JysTF0P/nRUyM4cM0dA5ARaEj8EJsL5Ea21DF2EAbQNbzErx25XcUPPZ2C+AZTCyjEcRZMXvwGNNWV0yjDBiib5wU8AI4vOL4MQMJLfA7P2kNjMQBWFppEM6deg6ZpbbRrSDDczY2FdyIPk310f8XI0ZuW7TGAq910yLO+EDQD4pWkAnvFc/EZhcMLDi84PrNu2kKHmv4DI1snK3s+t1SmG7bBN1Gn6E78Hoi3/Nv05rEUU5pIJwKNoXHZm6DR2wrxV9yZADIAxgOQEfAAWL8F8Yrh4vtwcuz7agT9S2epETAZAPPRdAINDi84Put1dS/suP28GgDHZxy+a3wZwBeNASq+DKBl1FrgAeR43yJPv25g8vFftO/rvtDa8ybc73mGfBd1U3IOzlXOHb+h/Hl6KgbAOHpXHF1IeIk/Puo94PAbywuBw9e4OgGHb153BH7wL6SDP70Lge9ZUUaSLnB4qwmvAMe/HXAZfHVSlDGXD4HElwGsGWMHHF/wCATHd3loCnOyY6HptYHUS/cY/DnqBAQ3e1PJ8XLYet6a7DNIjSD4gKEagQyBR8DS263h1+KbT41ADUCuX9dcE/G1hvXAANiLEXcgcdNoOvd7JZTP11F+mj0EA5D4TOIzji84vgxAwrOQvcuA41dtyweOv/JWIXB8m9JO4BGwC2HrKM42EDZ6DIBBaxqgxefJm6wmBmbW54JrdAyFv3IDxoVPpnsn8qAlt51SnnzFs9ovX6a8oh3wRnxfaty8AfbW+NBt51zYdvwq/WylDT8dCqQWr0qIMO5Gv9ubwMUezjRUcyts+CWKPIOiaG26B9hNnU1ZgevIYnwyLMwMVPGz9Ev+MYDSsVogA5AR8ABkBMJ30mN4V99M2TCjFtxOXFIjEBr/L74M4HOPSBVfBnDkh4Uqvq2tNwZQcuM5eG2PEVWaZtJN7zywmh8MfsV15H6vHYYGHCbrZE/w988ll29GKnmTbGjnru2QdrCDPtTUgk7Nzyim13jlr1OxiktdLO1YFaXk3dmgJP2WpnTkVSjvX31Abp2PlBmvfa8UNesqsak7lKyYKKXl3iplYtC7yldGOcrX1y8qB+0KlD+ey1LmOAxVeprtJwNNH3hoPZES9KOgyLyZKjzSYYt21ZNnvgw7w4/RehtPuPVQk6bNCIDQprkYwZGgn9UILs+P/9cRaHSNz56Nz56NLwPg+EziM44vJLzE5/ASn8NLfNsV7sDxBccXMgAZgUQXHN0o6B2Fw+tVvAAc3ie9HiS8xPc6uBk4et3qYwqHjw51AQ4/xSgcOLzJ0nDg8PZf1igcf9DD0zD7RwPgEaS8HAk8gmBNe5ARRE3sgLtRmSAjkCHwCGQIPAIZAo9AhsAjkCHwCGQIPALGI5Ah8AgYj4DxAP4LItNQrKnvmwQAAAAASUVORK5CYII=' style='width:128.0px;height:128.0px;' /><div style='position: absolute; top:0; left:0; padding:1px 3px; background: #777; color:#fff; font-size: 90%; font-family:sans-serif; '>snapshot</div></div>"
      ],
      "text/plain": [
       "CanvasBackend(css_height='128px', css_width='128px')"
      ]
     },
     "execution_count": 15,
     "metadata": {},
     "output_type": "execute_result"
    }
   ],
   "source": [
    "vertex = \"\"\"\n",
    "    attribute vec4 color;\n",
    "    attribute vec2 position;\n",
    "    varying vec4 v_color;\n",
    "    void main()\n",
    "    {\n",
    "        gl_Position = vec4(position, 0.0, 1.0);\n",
    "        v_color = vec4(color.rgb,1);\n",
    "    } \"\"\"\n",
    "\n",
    "fragment = \"\"\"\n",
    "    varying vec4 v_color;\n",
    "    void main()\n",
    "    {\n",
    "        gl_FragColor = v_color;\n",
    "    } \"\"\"\n",
    "\n",
    "vertexBuffer, colorBuffer = buildGLBuffers(uv,f,face_index_list)\n",
    "\n",
    "c = Canvas(mapSize)\n",
    "c"
   ]
  },
  {
   "cell_type": "code",
   "execution_count": 16,
   "metadata": {},
   "outputs": [],
   "source": [
    "img=c.render('triangle_strip')\n",
    "vispy.io.image.write_png(\"faceIndexMap.png\", img)"
   ]
  },
  {
   "cell_type": "code",
   "execution_count": 17,
   "metadata": {},
   "outputs": [
    {
     "data": {
      "application/vnd.jupyter.widget-view+json": {
       "model_id": "3ccbccba6c624db0908296fda4d8056a",
       "version_major": 2,
       "version_minor": 0
      },
      "text/plain": [
       "RFBOutputContext()"
      ]
     },
     "metadata": {},
     "output_type": "display_data"
    },
    {
     "data": {
      "application/vnd.jupyter.widget-view+json": {
       "model_id": "6fb035b8681142d6b6ec74f9573b6644",
       "version_major": 2,
       "version_minor": 0
      },
      "text/html": [
       "<div class='snapshot-6fb035b8681142d6b6ec74f9573b6644' style='position:relative;'><img src='data:image/png;base64,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' style='width:128.0px;height:128.0px;' /><div style='position: absolute; top:0; left:0; padding:1px 3px; background: #777; color:#fff; font-size: 90%; font-family:sans-serif; '>snapshot</div></div>"
      ],
      "text/plain": [
       "CanvasBackend(css_height='128px', css_width='128px')"
      ]
     },
     "execution_count": 17,
     "metadata": {},
     "output_type": "execute_result"
    }
   ],
   "source": [
    "vertex = \"\"\"\n",
    "    attribute vec4 color;\n",
    "    attribute vec2 position;\n",
    "    varying vec4 v_color;\n",
    "    void main()\n",
    "    {\n",
    "        gl_Position = vec4(position, 0.0, 1.0);\n",
    "        v_color = vec4(color.rgb,1);\n",
    "    } \"\"\"\n",
    "\n",
    "fragment = \"\"\"\n",
    "    varying vec4 v_color;\n",
    "    void main()\n",
    "    {\n",
    "        gl_FragColor = v_color;\n",
    "    } \"\"\"\n",
    "\n",
    "vertexBuffer, colorBuffer = buildGLBuffers(uv,f,xMap)\n",
    "c = Canvas(mapSize)\n",
    "c"
   ]
  },
  {
   "cell_type": "code",
   "execution_count": 18,
   "metadata": {},
   "outputs": [],
   "source": [
    "img=c.render('triangle_strip')\n",
    "vispy.io.image.write_png(\"xMap.png\", img)"
   ]
  },
  {
   "cell_type": "code",
   "execution_count": 19,
   "metadata": {},
   "outputs": [
    {
     "data": {
      "application/vnd.jupyter.widget-view+json": {
       "model_id": "80a6a1ca63ef4fb9a5912a7437caeec1",
       "version_major": 2,
       "version_minor": 0
      },
      "text/plain": [
       "RFBOutputContext()"
      ]
     },
     "metadata": {},
     "output_type": "display_data"
    },
    {
     "data": {
      "application/vnd.jupyter.widget-view+json": {
       "model_id": "2eae4b9978144d959db8965300addaa8",
       "version_major": 2,
       "version_minor": 0
      },
      "text/html": [
       "<div class='snapshot-2eae4b9978144d959db8965300addaa8' style='position:relative;'><img src='data:image/png;base64,iVBORw0KGgoAAAANSUhEUgAAAIAAAACACAYAAADDPmHLAAAa20lEQVR42tWceV8TSxOFG1CQTUQQ0YuouCui4o4KIii4gQrz/T9K3p6kipxUqnqZmaDvH+d3R0hmMn2ePlXdE64rigetonjk9djridczr+deL71ee731euf13mvT66PXJ69dry9ee15fvb57/fQ69Prl9cfr2KsI6NjQkdAfod+gX6BD0gHoJ+kH6TvpG+kraZ/uZY/uq9Rnus9SO3TfpbZpHEpt0bh8IL2n8dqgsSv1hsbyFY3rCxrjdRrvpzT2a+TDKnnysNXx577XPa87Xre9bnmteN30uu617HXN6z+vq15XvC57LXjNe815XfS64DXjNe015TXRcp2T36eLrRogvKKb2AAQtmggdmigGIRvNNAHZMpRwwD8K+ZvCfPfK+aj8VXMZ+PvCvNL42+A+Utg/iKZfwnMnyXzz5P5k23zi2K8BOAuXeQ+0cYgrAkQXgAInAofWnoq7AsQfisgDMJ8BCDF/H3F/M9g/g6Yvy3M3xTms/Ga+ZbxTxNmPZuPs57NvwbmXyHzF8D8i2T+jGL+Oa+xEoDbdAEJwiMFhHW6ES4PmAofWt1UCMFwSAayqUd/aebnmp8a+W8SzY9Fvpz1WuQvtfoj/1KrG/lo/lSf+UVxtgRghS4QA4FLw1O6EUwF7hUkDJgMXCYYiO9kDpvFcHAPgWrKfIx8Nr9qvW868rVZnxP5Vr1H88d7zC+KMyUAN+gCN4kyCwTsEdboRjgVsFeIwbADQHATuQ/m8Cxl434o+hkRmq/V+1zztXr/LmB+nUYvN/Kteo/Nnm5+UYyUACzTya+3ujBoqYAgaKlglQhcRXDPwEBwuWAoEAzWHmjf0Feh/YCarPd/M/Kteo/NXqfT75o/2mN+UQyVACzRya+1ujCEQJCpwEtI7hVkiZAwbBhAMBQIBmsHtNuQdoTqRv7LDPOtWZ8S+Sn1Pmb+cNv8onAlAFfp5P+1ujBoIFgwaKmglQiGgcsEAoFQMBgMBwKCkEhtG/oY0JbQZqt3tstGb1CRL2e9Fvmp9b53mdeJfN384rgNwCJRdbXVhaGJVNBKRAgIhkKCwXAgIKgPmXpv6F2r12Rc0uGGzhv4vFXN12Z9SuSH6r3V6bP5I33mF3/aACzQiRdbYRhSe4UQDFgmNCAYCgYD4UBAGJIm9EYIr/eq1dvRY8yz6Wy8ZX6o0bMiX+7qheq9bPak+VzvwfyjjvnF7zYA83TihZYNQ0qJ0EAIwSCBkFAwGAgHAoJ6VUHaeV4IPW/1m7wOn5M/9xMwfVCRL+u9bPZkp6+Yf9xrfvGrDcAcnXi+lQ7DUgYMWjJIIDQoWBIOCYmm54ZC75HnfyqEnwmNfgz3wKaz8aHtXCvy5RJP1vtYs9e7zAuZXxy2AZilk14kVYEhViJkOlhAMBQaGAwH6kmDkud+LBQy+SHcBz9b4QTk+2Xz5axPiXyt3stmT1vmleY70/zioA3ADJ34QisOAwPBMIT6BZkMMh20hGAoNDAQDtRqA9LO+7ClG4wmW0az+D55EsQiXy7xUuq91ul31vgx84ufbQCmiajzdAEJBMLAQGjJkLqS0ICwoMC0kIBIUOrqviK8Ln4ezWRp9ArcJ983J2Ru5Gv1Xuv0+5d5IfOLH20AJumkU3QBBkKDgYHQysRlAYPVM2jlQkKhgYFwoO42JO3ct1u6wWiyZrQ0exnuncdCRr5c4mnre63eB5Z5EfOL720AJuikky0bBglEDIbY0lJLCA0KBAPhkJA0pRVFN4U0k9Foy2w2nMWTREZ+ar03mr0M84tvbQDO0QnHSSlAhGDAMqGlg0wICYUGBsKhQWLpZitsoCV5reWWbjCajEaj2VdAfP88HjxZtCWeVe+tZk8x/1fY/OJrG4BRomms1YUhBkSsVFh9g0yIEBQIBsKBgEgtV5B1riVFmsHS6MVWv9HSbJ7trNASL1Tv48u8HuOF+cV+G4Czra5GW71AIBQIhJYOsVIhgQhBgWAgHBIQC5Yqss57RVHMZDQazZ4D8ZjwGOXU+/RlXt+sB/OLvTYAI3SyM6AQFDnpEGsmNSjmxeDhoF5WtDgAaddZaNkGazNaGi3NZs2A5H5+c83eifFgfvGlBODYn6xU+6QjQhoUWsnIASIExawYMBzI+ZYNidRChkLnmVc017INvijuJWQ0axpUo95XML/43AagrB+o4VYvFAiHBkMuEFPipiUUM2LgZls2IBYsdWSdf1bRhVa+yWw0axKUEvkVzd/vN7/YLQE4ohMd0UnbGmqpYBQyKVKBCEExKQZEg0MCooFiabaVZp4l7brnW+kGayajxkE8VqdjfgeA33SSP6AjqaGOEIgiBEQICi0pxsWgWHBokGiw1NW0Ie2zTLbSDUaT0WwUjxcaH+n0Y+bv6eYXOyUAvFZk/RbqA2NIB0ItGTnN5ZgyOBYgGiiWpiJKOceEoVxz0WDWWUUVZn2O+TukTyUAB3SSQ0UaGGpSGFAUrBwwzooB0gbxnKHxhmVdJ8VYzdwzikYMVYh8zfwvtvnFdgnADyCIdSCUA0UoKQoBBafG8UhXKiAaJGeNQY/BM5ZhYMpszTF2uNUb67LZhia8Sr3PNL8DwHeg5zvsGLEsMGJQxPqKY9fbdB4NwypEgiIGTR3cMwPWSESyBA7p6muu5TjAz9D4isu8HvM/gfkfO3Inb/ymyAIjlBgWGEn9RXk81AvIkRiUY2tgreWr0PFI+Pfm+4aN1VHIUDCyinKbvUzzi60SgH14M+urkAVFLDFyyokGiFlenLFScboBfctb143XFANzDP0T0O8KqtPsRczvAMB14gucBJUDRwoguZBooFiwaMA0qRSzUnQYkPbayAOdquYXmyUAu64bF6wvilLg0ABJKS9VQbFWLyFwquowooMBqoFmr8f8TdKHEoAdeMOu0GdDXyL6G7BowITAyRn8FP1oUNq5c5q9RPM7AGy7bkywdgztJuqzy4Nn0MDEwNH0PUPfGpL1eas2e2w+RD6aX7wvAWA6toU+1dRORKngnAYwGKu52m9AsaY7YU8/pd5L8zsAbMKLtuCNEoqPrj9SYtpOUCo8VYFJhWWvomLlsE6plKDVaPY084t3JQD8w02QhGErU5uKYu/JgSgGTAosaMTnmkotjal9lQZEzWavx3gyvwPAO/jhB1DIuM2G9cG4dgigFFhyIdl18dIVUhOlUAIhZ33M/IRZf6KNEoCNzsHJDyUMgzI5R++dDqn2+UKQ5PQ4KeWrjkKgaDAk7uzlmN8B4I0/eEvSYMgFoY7R0uyQ3glZkKTCEVNuGUwtcxoUGgg59T4Q+Sceb3Q8d8Vrf1DqDSkEQpOGpxptGa5pQ/nsFhynkWih98cab4RBmp9T763xecsAvPQHr0gSBIZBQjBIo3MMlzelKZRu7wfwuUMKQSKBQBDq1nttPE4AeOEPSr0kMQgMgwbB3zI7xXDlJlVpSdHU9TcSzh9KJQlCg5F/Iprorlj3B89JVUEYhNFNGv4mIAlELkipCoERAgFLQ9XID4yHK575g1LrJAaBYbBA+FtmpxrzJqLX4r6q6HWFc1lQaDDINKgb+crnd8UTf/CUlAKClgZVDM+N0qZNr6JXmbLOE0ogq/EORX6k0bPM7wCw5g9KSRAYBlkeLBAizcZA1IThKUa+rKEYGCEQtLLQwKxHuWLVHzwmMQixVLBWDrGBrzJbciO6qumWgS9qKgaFvE9r9SV7rlitTxwXVzzyB6VWSQyClgpWeQhpEIMm+5ImDA99nucVlXJ/2v1YTXdDsx7HxBUP/MFDkgQhNRU0rTek0IBag5gS5VVNzvm8KVCEQAj1WjWN7wJw3x+UekBiEEKpoPULqKeKniRKe688fwgOHNDYDB8kuClwWCBYEDRofBeAu/7gHglhwFRgGDAVEAapNdDjGloT0kAJgdGk4c8yVSXZtDSQ2/Mh8ys0ua644w9K3SUhDJgKoRKBpq1G9KiCVpXrpqSSNthNG10XCgsEDYIGjeeEdMUtf3CbpMGglQitTNQ1/GFE2rUtIEMN7GkangODBQEbmmJ8hSWtK1b8QalbpFwYNAiaMPwhXEdTTkLFepYcPQ2oLgghCOoYH1ilueKGP7hJSoFBlggc+EEazqaHZAGhJUNVk6uoCghWEqQan7hR5Yrr/qDUDVIKDDIVZCw3ZXjM9HsBac0swoDGNG14VRg0CNisnCVuhlxxzR8skyQMDIQGAyYCD3bM+LqGx0y/K2SllVYaTlsxCLQt+Ca3qE8AWPIHpa6Rlp0NhIRBgoAzrinDc01n3XH9pQtB4DQIQZC6d5G6n5EKQgiCBkzvBeCqP/iPtASSQCAMWCYQBLl8rGJ2U6ajtMSSaVDX8LpAhCBI2XJ/mfG6HgCu+INSV0ESiBgMCMLdTKNTDA+Zbhl/29Ad+IxctlZdeGPL2uxqGgYNgthzhTrPV9oAXPYHi6BcIDQQsFG06nKKck23jL8lhIllQbDWgOpue2urgoZBcMWCPyh1GaQBgVAgEDEY5CpCzkZZq6uYnmr8Ldfbw2DZ4r6gCeNzYEiBoKkUQAjo2BXz/uASaAEUgwKBwHRAGLBnkEtMubrQQMk1XTN+RRF/Dixb2BPUeY6RC0NqCuQ+do493l4vAZjzB6XmhXKgsICwege51JSQWIDcdummh4yX12IIuBzUeYCVA0QOBFW/eyAfgoktcFfM+oOLoDkhCwoJhwSDgQitMKxlp7YXocFxy6UZf1MRnp8h4J6Al4ix5xyamnjCaT3UykkCw3B5DVdc8AesWdBFRXOGJCQIRSgl6sJhJYZlvEwdPF/5eu4JuB9oSjEQLAhizwxCj7c1w5VH9q447w9mQBcUzWaIQbGA0KCwVh0pcFibVSnGs5YFBNwPVFUqCDkQWE8PLcMTv5/himl/UOq80EyG5HsYGkwOWUaqrD4sODQoGIaY8axr9JqyhHA/EHuWUQeIlO81hFLAMlwzOvC01hWT/mAKNJ2hKUUIFMIggdCgyF2FWEtTbTUSMh4BKqHBfiAFhBw4qn65RTNcmh16JG98TldM+INSk0JThvA1/N5x0AS8X8KAJcaCItZ4aoCkrEaWnW08lhmGAPcJ8LsQ1lZ3LhAaCFYKoOHSbMvgxO1412MeGxhT+bpzpDGvUa+z9N8x+rmEgYHQykVKE5oCiAYGrkZkH4HGY4JwTyC3ua0vymhflgmBYX2jSesH2HQ2WzO4ytY6ybUNY9NQ44o00894jXgNeQ3Tv88KEBAGCYTsP2R/EWpIY4AwFBIGaTrLSo6635ewgLC+cCsNR5PrPBRT5NpGosYUhYwfJg2BRgCEUXEOTBmr5Mhe47wLN6kWJLIJZSAWwWwuG4suvo+RsgKR2+DWdyesr7Kh4WhylR3QmG6XAJwBs1Cjivh3bD5Lg2BYgIAwSCCs8jPp0noTCxit75CrEk25exmy8cx5fM4g3Aej0cyUTa2YVmy5HiPZMAsK/F0MACdA0GDQUuecSytHsZ5Fg0YDJJQeWFJCfUYqHFhSJBzaUnVZ0fUM3YjLHbN5qBAQGgT4XgkBayjh3LEECpWpkDSgYj1J6qoltr9hLV9Rqfse2uaYtkmm7aQaELljb4zUiVkIRAiAVAgIhPZ1hrvqSyELkioaEZ8VgZOrFtmfhJIjBEdo1cKao9fNwjm0tKm6SaaBogDijrwpbQ111AeCVs9rQnCMkgAOCziGbMnXtoXnEtfi+zy5P3lfMmEsMKymNWUlg7unU3Tus/TfKfq51a/kpkwCHO6PHxTUEYgHrg8CbZbVgOBI05AiFxbex2/SL9Kh1wHpF9yrCrpMCgsODRCreZUbaOOuu6oaFeebdPpu6gC21h0PEA+YBkQfBKkpUBECzUhNv4QOhdE/vX54fff65rXv9ZV+dgD3jeCr6Sd7I7rvY61nCS2h5TLa2jyTSaP1JVX6EaVpdYcwcDiYv8XgVIZARrdVChIhiBnOprPxbP5X0j7pO732QNy7NhGOnF62jkagVIUaXNkwY9mJ7ZFoS11tFVMRCPcTBuJAgeE0IciJdA0ACQECoEHwjX7/A953EBgLBOQEkqGOrD5K9iSVdkytXVOr38hYsTieLdogHDoDAuf0nmCkWQhiKYDplZMCCAH/+xvoOyg2PtqEsXQyfjiBRhMAmM4AIHP56uRNazfLN9goBK46BFXLgEyBPa8voD2hfdcPCsJijZlMEmw8T1KAx816gNYUANpGF8DgQrPgh+uHoIdkWRJqNIUp/UBTKbBPhu+SdoR2hT6DJCwpSfKTPl9SCoT2IZoAQCSDs2iPQaD2BQhCTQiaTgFpfGn0ttfHBG2DPpEQFguOPde/6vjjEnoBbRXQNAAkhx9ckq2BYEHA3bG65dsgBCkpgE3gV4j6XTKPjd/0+kB6r+iD0CZpi4SAaGB8cd1m04QgVgpym8BcALSoYxBy0+AEBrGzVwxHAEiAILbJo6359+h+0PgtMPyd14bXW9Ab0FuhDdI7EkIiwfgkIFBLAT4+l3sCKVvSTQCgkcswIAjWkkmC0AeDCyyLjC1bzXhtV0+ajrP9M93PJzKEjWfTS4Nfe73yepmoV6TXAhIJxaaAgEuBCcGwAkGoFDQJANY3jjKsbSlpkLKZgmD8CciKd22NL5s6nu1Y3znm38EMZ9Ofe617PRN6SpI/XyeV73tBYjAYircKBJ8VCLCh7usHZFNYBYJUAGQ9w5q2Y0CggRDaTEqR1c1jI4eG40xn03G2b7puzL+F2f4CTH/iteb1GLSqiH+3RnoiAGEgXtJ13tJ1LQjUfsA1DEEqANzYYIMjIQilQe56WApfG9vCtUyXs700nmv7azKGjX9KBpaGPvJ6QLofEb/uIb2PwUAg1uk6GgQ8mfac3hTWToKKKeC0zpc/tAWBlQhyF03upEmD5SaNZnjMdDnbsb5L43m2s/F3vW5n6A6pfN89AoOBeEwgMASvBgXBRAYEKQBwZ8uNDEIQS4PQhkiq+H1oNhoeMh27eau+a8bfI0NXvK57LdN/b4CuKyp/fpN0i87BMDykVCgheJYAgbU87GkM5RPD2N9eVIDA4dIHO9oQBNYGiLadagnfw+eRhsdMx5jXjJdRf49m8C0ykY0uAbhGWvL6j3RV6D/6/TV6DwPBIDwgCNYUCLgx3E6A4GRPRVsdpPzNRcrfezIAPHjcyYYg0DY9rC3TkPA9DJQ0PGY6LuNeBIwvZ+Z91437FZjFEoDS5EWvy16XSPOg8t8L9PsrBMQ1Os+tChDENopOAwLHdVJ2saGSgNujch8hpk+u12zN8BTT+XM/d92lm2U8z/pbBgBs/mUy+qLXBa8Zr/OgGfr5rNccwXAlEQIe11wIiioQTKdD4J7DIDKtIQisrdAU4VKTz4GGWzt01mxn47nGr4LxHPfcwEkAuNaj+XNk8qTXuNc50hgcj9PvpwmESwTBkgEB9gQIwVYOBK5BCAQIDjdCnrvuxoa1y2Xti6dIM/s9nB9nujXbtTU8z3iu8zzrJQArAoBlMfPL2T1Fho94OdKQ0AjBME1pEUsCXB28pvtECGLPDY4kBCmPkRMhcHKnC3e3Qtud2sOSkHCpiYbLeA+ZzjEfMp6FAODsZwBK88savkjmz5Kh5Qw/6zWsGM8qfzfqNUGJMUcQXaXzcmPIqwNcInKZrQyB/NM76/uEiRA4ud2Ju1pyi1N7IIJAaCZrZmuz3DJd1vdVYTzHPQKgzX4EoKz7SzRrL9Es5ugvZ/8ZmuXDhkYIknGC5gJBtEhQWRDwZtFLuvcNmhw5EPQ9RcyFQIDQB0AIAvmEbCMg6wmbnOXSdGu2a8aj+akAyKZvjgzk2T8KAFg6QwCMETQzrrcULNF1Vuhz3KfPvkb3xaVWQiCfIGZBIL9antgXqADgAw/5FAxhCOm16zVbGl7FdG3bNgcAbvo4+nn2nycjzxEAZ8nkkBiACZECXAq0foAh4EnGZZaX3FkQxP4SOxECFQAJAYOAMMSEj1HRcCve+UGLNJ4VA8Cq/wwA132O/gUx+ycEACzNeNYYpcYUpMAlZ5cCbWWAu4UlBNp3CSQEfd8nGK4OgQs9CmUIEASEQeqFEBq+Ls7/xJjtrIeuGgB3XD8AWvTzen+GDBwnQyUAlkZJ51x3WXjB9TaEshSkbBkPFAKlLzABwMed+Bw8pnXXa7g0Xc501iNnA1An/svB5yUfRz/Ofo5/BCBVvD8wEUgBLAXYD2BTaD1BPA0IggBoX4xYV2S9X87y0DP3OrPfAkBGvzb7Of4ZgBwIGAAuAyVMcpdwyfWWAtkP4MpA7hZWhiC2YQQQuJj5qXrieg3HmS4VMr9O/EsAMPrl7J8lw6Zct/6PVZDcHbwAKYANIZcC2Q/IlQHuEVSBIOn5AfQFWQA8CWjNUMz8JuMfAeCuHxs/fsjDe/3TZBwDUAUCBoDLAKfAPKQAN4RYCrAfwJUBLg9TIZB/c5ADgcuZ/XXNH8Ts1+Kfox8bPzn7Of61ff9cALAPOG+kADeE/F2Cu677hRLeKRwYBNrWMYHg6ppvAZBifs7sT41/rfHTZj/HvwSgqiZctwzMiBTAhhBLAUOA3yjClcFpQFAbgH9l9uNjX5793Pjx7MdHvVj/6wIw7rp9gJUC2BDecL1LQ24K5cqgDgTqdwqUP0l3/8+zX8a/jH45+7X4ZwDqQMDv5zJgpYBWChACbAoHDsFoIgBNNH6nMftl9Mdm/6AA4DJgpQCWAq0fiEHAW8ZNQVAZgNMyv+nZL+s/AiAVMlsTA8BlgFNgznU3hzgFsBRgP2BBgBtF+ATRggD/Aqnvy6YAgTtt8+vMfg0ArfGzZj/GfwoAuZpw/WWAU0ArBdrSEPsBuTIYBATuX6r7VWY/ftHTmv1a/A8SANkMYgqESsHfgMD9zbqf0/hZsx+/4q3N/lj8DxKAnBRY+UsQZAFwmtEfm/1a9MvZL5s//pbvoACQfQA2g1oKpPQDg4bA/b+ZzwDgwx6Ofpz9WvOn1f9BAJCSAlYpCDWFg4DA/evm50S/Nfu5+dPq/2kAIFNAKwVaP2CtDJqEwP3tpi+n68fv+nP0x2a/Fv+nAUAoBWKlQDaF1vIwBEFonwAhiALQpPmDiP7Q7A/F/2kDgPsCoVIQagqbggD/TyXuXzU/FP1a4ydnf2r8Nw2ALANaCmBDiKUA+wFsCuXKoEkI3P+D+TL65ey/mjD7/wYAVgpgQ8ilQOsHmoAg9OyghOB/PTfMN58GxowAAAAASUVORK5CYII=' style='width:128.0px;height:128.0px;' /><div style='position: absolute; top:0; left:0; padding:1px 3px; background: #777; color:#fff; font-size: 90%; font-family:sans-serif; '>snapshot</div></div>"
      ],
      "text/plain": [
       "CanvasBackend(css_height='128px', css_width='128px')"
      ]
     },
     "execution_count": 19,
     "metadata": {},
     "output_type": "execute_result"
    }
   ],
   "source": [
    "vertexBuffer, colorBuffer = buildGLBuffers(uv,f,yMap)\n",
    "c = Canvas(mapSize)\n",
    "c"
   ]
  },
  {
   "cell_type": "code",
   "execution_count": 20,
   "metadata": {},
   "outputs": [],
   "source": [
    "img=c.render('triangle_strip')\n",
    "vispy.io.image.write_png(\"yMap.png\", img)"
   ]
  },
  {
   "cell_type": "code",
   "execution_count": 21,
   "metadata": {},
   "outputs": [
    {
     "data": {
      "application/vnd.jupyter.widget-view+json": {
       "model_id": "d22ab4f8dac342cf99887415903a9e62",
       "version_major": 2,
       "version_minor": 0
      },
      "text/plain": [
       "RFBOutputContext()"
      ]
     },
     "metadata": {},
     "output_type": "display_data"
    },
    {
     "data": {
      "application/vnd.jupyter.widget-view+json": {
       "model_id": "f756ea22c52047ab8ac747d654f36899",
       "version_major": 2,
       "version_minor": 0
      },
      "text/html": [
       "<div class='snapshot-f756ea22c52047ab8ac747d654f36899' style='position:relative;'><img src='data:image/png;base64,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' style='width:128.0px;height:128.0px;' /><div style='position: absolute; top:0; left:0; padding:1px 3px; background: #777; color:#fff; font-size: 90%; font-family:sans-serif; '>snapshot</div></div>"
      ],
      "text/plain": [
       "CanvasBackend(css_height='128px', css_width='128px')"
      ]
     },
     "execution_count": 21,
     "metadata": {},
     "output_type": "execute_result"
    }
   ],
   "source": [
    "vertexBuffer, colorBuffer = buildGLBuffers(uv,f,zMap)\n",
    "c = Canvas(mapSize)\n",
    "c"
   ]
  },
  {
   "cell_type": "code",
   "execution_count": 22,
   "metadata": {},
   "outputs": [],
   "source": [
    "img=c.render('triangle_strip')\n",
    "vispy.io.image.write_png(\"zMap.png\", img)"
   ]
  },
  {
   "cell_type": "markdown",
   "metadata": {},
   "source": [
    "## Discretize the Control Map with an Error-Diffusion Dithering Algorithm\n",
    "\n",
    "- Using a dithering algorithm on the control map, we generate a set of sampling points for creating the new set of vertices for the remesh.\n",
    "- For full transparency, I started with this Floyd-Steinberg dithering code from https://github.com/10mrohit/floyd-steinberg-dithering by 10mrohit on github, and then modified it to fit the purposes of this project.\n",
    "- Made to work more like  \"A Simple and Efficient Error-Diffusion Algorithm\" by Victor Ostromoukhov, which is the algorithm recommended in \"Interactive Geometry Remeshing\"\n",
    "\n",
    "  Dither() is called like so: ```Dither(\"controlMap.png\", output=\"discreteControlMap.png\", level=75, intensity=1)```\n",
    "\n",
    "  - Set ```level``` to an integer from 0 to 127 and adjust if necessary to reduce artifacts in the output - it selects a set of coefficients from a hardcoded list of 128 smoothly interpolated sets.\n",
    "  - Set ```Intensity``` to a float at or around 1 to adjust the number of samples. Any values under 0.95 will start to create a lot of artifacts and you are better off adjusting the input control map to a smaller size if you want even less samples."
   ]
  },
  {
   "cell_type": "code",
   "execution_count": 25,
   "metadata": {},
   "outputs": [],
   "source": [
    "class Dither():\n",
    "    def __init__(self, path, level=1, intensity=1, algorithm=None, output=None):\n",
    "        self.distribution = np.array([\n",
    "            [13, 0, 5],[13, 0, 5],[21, 0, 10],[7, 0, 4],[8, 0, 5],[47, 3, 28],[23, 3, 13],\n",
    "            [15, 3, 8],[22, 6, 11],[43, 15, 20],[7, 3, 3],[501, 224, 211],[249, 116, 103],\n",
    "            [165, 80, 67],[123, 62, 49],[489, 256, 191],[81, 44, 31],[483, 272, 181],[60, 35, 22],\n",
    "            [53, 32, 19],[237, 148, 83],[471, 304, 161],[3, 2, 1],[481, 314, 185],[354, 226, 155],\n",
    "            [1389, 866, 685],[227, 138, 125],[267, 158, 163],[327, 188, 220],[61, 34, 45],[627, 338, 505],\n",
    "            [1227, 638, 1075],[20, 10, 19],[1937, 1000, 1767],[977, 520, 855],[657, 360, 551],[71, 40, 57],\n",
    "            [2005, 1160, 1539],[337, 200, 247],[2039, 1240, 1425],[257, 160, 171],[691, 440, 437],[1045, 680, 627],\n",
    "            [301, 200, 171],[177, 120, 95],[2141, 1480, 1083],[1079, 760, 513],[725, 520, 323],[137, 100, 57],[2209, 1640, 855],\n",
    "            [53, 40, 19],[2243, 1720, 741],[565, 440, 171],[759, 600, 209],[1147, 920, 285],[2311, 1880, 513],[97, 80, 19],\n",
    "            [335, 280, 57],[1181, 1000, 171],[793, 680, 95],[599, 520, 57],[2413, 2120, 171],[405, 360, 19],[2447, 2200, 57],\n",
    "            [11, 10, 0],[158, 151, 3],[178, 179, 7],[1030, 1091, 63],[248, 277, 21],[318, 375, 35],[458, 571, 63],[878, 1159, 147],\n",
    "            [5, 7, 1],[172, 181, 37],[97, 76, 22],[72, 41, 17],[119, 47, 29],[4, 1, 1],[4, 1, 1],[4, 1, 1],[4, 1, 1],[4, 1, 1],\n",
    "            [4, 1, 1],[4, 1, 1],[4, 1, 1],[4, 1, 1],[65, 18, 17],[95, 29, 26],[185, 62, 53],[30, 11, 9],[35, 14, 11],[85, 37, 28],\n",
    "            [55, 26, 19],[80, 41, 29],[155, 86, 59],[5, 3, 2],[5, 3, 2],[5, 3, 2],[5, 3, 2],[5, 3, 2],[5, 3, 2],[5, 3, 2],[5, 3, 2],\n",
    "            [5, 3, 2],[5, 3, 2],[5, 3, 2],[5, 3, 2],[5, 3, 2],[305, 176, 119],[155, 86, 59],[105, 56, 39],[80, 41, 29],[65, 32, 23],\n",
    "            [55, 26, 19],[335, 152, 113],[85, 37, 28],[115, 48, 37],[35, 14, 11],[355, 136, 109],[30, 11, 9],[365, 128, 107],[185, 62, 53],\n",
    "            [25, 8, 7],[95, 29, 26],[385, 112, 103],[65, 18, 17],[395, 104, 101],[4, 1, 1]\n",
    "        ])\n",
    "        self.intensity = intensity\n",
    "        self.distCoeffs = (1/np.sum(self.distribution[level])) * self.distribution[level]\n",
    "        self.path = self.get_path(path)\n",
    "        self.algorithm = algorithm\n",
    "        self.output = output\n",
    "        self.func = self.get_func(self.algorithm)\n",
    "        self.func(self.path)\n",
    "\n",
    "    def get_path(self, path):\n",
    "        if path.startswith('/') and not path.startswith('~/'):\n",
    "            return os.getcwd() + '/' + path\n",
    "        else:\n",
    "            return path\n",
    "\n",
    "    def get_func(self, algorithm):\n",
    "        return self.floyd_steinberg_dither\n",
    "\n",
    "    def apply_threshold(self, value):\n",
    "        return 255 * math.floor(value/128)\n",
    "\n",
    "    def floyd_steinberg_dither(self, image_file):\n",
    "        samples = 0\n",
    "        d10 = self.distCoeffs[0]\n",
    "        d01 = self.distCoeffs[1]\n",
    "        dn11 = self.distCoeffs[2]\n",
    "        new_img = Image.open(image_file)\n",
    "\n",
    "        new_img = new_img.convert('RGB')\n",
    "        pixel = new_img.load()\n",
    "        \n",
    "        x_lim, y_lim = new_img.size\n",
    "        \n",
    "        for y in range(1, y_lim):\n",
    "            for x in range(1, x_lim):\n",
    "                pixel[x, y] = (int(pixel[x, y][0] * (1/self.intensity)),0,0)\n",
    "                \n",
    "        for y in range(1, y_lim):\n",
    "            for x in range(1, x_lim):\n",
    "                oldpixel, _, _ = pixel[x, y]\n",
    "                newpixel = self.apply_threshold(oldpixel)\n",
    "                pixel[x, y] = newpixel, newpixel, newpixel\n",
    "                error = oldpixel - newpixel\n",
    "            \n",
    "                if x < x_lim - 1:\n",
    "                    value = pixel[x+1, y][0] + round(error * d10)\n",
    "                    pixel[x+1, y] = (value, value, value)\n",
    "\n",
    "                if x > 1 and y < y_lim - 1:\n",
    "                    value = pixel[x-1, y+1][0] + round(error * d01)\n",
    "                    pixel[x-1, y+1] = (value, value, value)\n",
    "\n",
    "                if y < y_lim - 1:\n",
    "                    value = pixel[x, y+1][0] + round(error * dn11)\n",
    "                    pixel[x, y+1] = (value, value, value)\n",
    "\n",
    "                if pixel[x, y][0] == 0:\n",
    "                    samples +=1\n",
    "        print(\"Samples:\",samples)\n",
    "        if self.output:\n",
    "            new_img.save(self.output)\n",
    "            display(new_img)\n",
    "        else:\n",
    "            new_img.show()\n"
   ]
  },
  {
   "cell_type": "code",
   "execution_count": 26,
   "metadata": {},
   "outputs": [
    {
     "name": "stdout",
     "output_type": "stream",
     "text": [
      "Samples: 572\n"
     ]
    },
    {
     "data": {
      "image/png": "[encoded data removed]",
      "text/plain": [
       "<PIL.Image.Image image mode=RGB size=114x114>"
      ]
     },
     "metadata": {},
     "output_type": "display_data"
    },
    {
     "data": {
      "text/plain": [
       "<__main__.Dither at 0x2811fe60d50>"
      ]
     },
     "execution_count": 26,
     "metadata": {},
     "output_type": "execute_result"
    }
   ],
   "source": [
    "Dither(\"controlMap.png\", output=\"discreteControlMap.png\", level=30, intensity=1)"
   ]
  },
  {
   "cell_type": "markdown",
   "metadata": {},
   "source": [
    "## Generate List of Vertices Based on Discretized Control Map and Triangulate with Delauney Algorithm"
   ]
  },
  {
   "cell_type": "code",
   "execution_count": 34,
   "metadata": {},
   "outputs": [
    {
     "data": {
      "application/vnd.jupyter.widget-view+json": {
       "model_id": "f6eb2b2d2aa94ab19113021e677bedee",
       "version_major": 2,
       "version_minor": 0
      },
      "text/plain": [
       "Renderer(camera=PerspectiveCamera(children=(DirectionalLight(color='white', intensity=0.6, position=(0.0, 0.0,…"
      ]
     },
     "metadata": {},
     "output_type": "display_data"
    },
    {
     "data": {
      "text/plain": [
       "1"
      ]
     },
     "execution_count": 34,
     "metadata": {},
     "output_type": "execute_result"
    }
   ],
   "source": [
    "def imageToMapCoords(imgX,imgY,height,width):\n",
    "    x = (imgX*2-width) / width\n",
    "    y = -(imgY*2-height) / height\n",
    "    return x,y\n",
    "\n",
    "def mapToImageCoords(mapX, mapY, height, width):\n",
    "    x = (mapX + 1)/2 * width\n",
    "    y = (-mapY + 1)/2 * height\n",
    "    x = min(int(x), width-1)\n",
    "    y = min(int(y), height-1)\n",
    "    return x,y\n",
    "    \n",
    "def uvFromControlMap(filename):\n",
    "    newUV = []\n",
    "    im = np.array(Image.open(filename))\n",
    "    for y in range(im.shape[0]):\n",
    "        for x in range(im.shape[1]):\n",
    "            if (im[y,x,0] == 0):\n",
    "                u,v=imageToMapCoords(x,y,im.shape[0],im.shape[1])\n",
    "                newUV.append([u,v])\n",
    "    return np.array(newUV)\n",
    "            \n",
    "def featureGraph(v,f):\n",
    "    feature_edge_list, _ = feature_edges(v,f,20)\n",
    "    bnd = igl.boundary_loop(f)\n",
    "    feature_graph = igl.map_vertices_to_circle(v, bnd)\n",
    "    feature_graph = np.array([circle_to_square(x_circ,y_circ) for [x_circ,y_circ] in feature_graph])\n",
    "    for coord in uv[feature_edge_list]:\n",
    "        feature_graph = np.append(feature_graph, coord, axis=0)\n",
    "    return feature_graph\n",
    "    \n",
    "\n",
    "\n",
    "remeshUV=uvFromControlMap(\"discreteControlMap.png\")\n",
    "feature_graph = featureGraph(v,f)\n",
    "\n",
    "remeshUV = np.append(remeshUV, feature_graph, axis=0)\n",
    "remeshF = sp.spatial.Delaunay(remeshUV).simplices\n",
    "\n",
    "p=mp.plot(remeshUV, delauney, shading={\"wireframe\": 1, \"line_width\":0.9})\n",
    "p.add_points(remeshUV, shading={\"point_size\": .06, \"point_color\": \"black\"})"
   ]
  },
  {
   "cell_type": "markdown",
   "metadata": {},
   "source": [
    "## Optimize 2D Mesh\n",
    "\n",
    "### 1. Geometry Optimization with Laplacian Flow"
   ]
  },
  {
   "cell_type": "code",
   "execution_count": 35,
   "metadata": {},
   "outputs": [],
   "source": [
    "def laplacianFlow(uvCoords, uvF, features):\n",
    "    adj_list = igl.adjacency_list(uvF)\n",
    "    for i in range(len(adj_list)):\n",
    "        p = uvCoords[i]\n",
    "        deltaT = 0.3\n",
    "        if p not in features:\n",
    "            lapFlow = np.array([0,0])\n",
    "    \n",
    "            w = 1/len(adj_list[i])\n",
    "            \n",
    "            for adjVi in adj_list[i]:\n",
    "                adjV = uvCoords[adjVi]\n",
    "                w = w                               # fix weight function\n",
    "                lapFlow = lapFlow + w * (adjV - p)\n",
    "            uvCoords[i] = p + deltaT*lapFlow\n",
    "    return uvCoords"
   ]
  },
  {
   "cell_type": "markdown",
   "metadata": {},
   "source": [
    "### 2. Connectivity Optimization with Edge Swaps"
   ]
  },
  {
   "cell_type": "code",
   "execution_count": 36,
   "metadata": {},
   "outputs": [],
   "source": [
    "def edgeSwaps(uvCoords, uvF, features, numSwaps):\n",
    "    bnd_edges = igl.exterior_edges(uvF)\n",
    "    adj_list = igl.adjacency_list(uvF)\n",
    "    edgeList, _, edgeFaceTop = igl.edge_topology(uvCoords, uvF)\n",
    "    \n",
    "    for i in range(numSwaps):\n",
    "        edge = edgeList[random.randint(0,len(edgeList)-1)]\n",
    "        edgeV0 = uvCoords[edge[0]]\n",
    "        edgeV1 = uvCoords[edge[1]]\n",
    "\n",
    "        if edge in bnd_edges:\n",
    "            continue\n",
    "        elif edge in features:\n",
    "            continue\n",
    "        elif (edgeV0 in features) and (edgeV1 in features):\n",
    "            continue\n",
    "        else:\n",
    "            edgeV0Adj = adj_list[edge[0]]\n",
    "            edgeV1Adj = adj_list[edge[1]]\n",
    "            \n",
    "            oppEdge = []\n",
    "            for adjV in edgeV0Adj:\n",
    "                if adjV in edgeV1Adj:\n",
    "                    oppEdge.append(adjV)\n",
    "  \n",
    "            edgeV0AdjVal = len(edgeV0Adj)\n",
    "            edgeV1AdjVal = len(edgeV1Adj)\n",
    "            oppEdgeV0Val = len(adj_list[oppEdge[0]])\n",
    "            oppEdgeV1Val = len(adj_list[oppEdge[1]])\n",
    "\n",
    "            if (edgeV0AdjVal+edgeV1AdjVal > oppEdgeV0Val+oppEdgeV1Val):\n",
    "                edgeFaces = edgeFaceTop[i]\n",
    "    \n",
    "                v0 = uvF[edgeFaces][0][0]\n",
    "                v1 = uvF[edgeFaces][0][1]\n",
    "                v2 = uvF[edgeFaces][0][2]\n",
    "\n",
    "                for vn in  uvF[edgeFaces][0]:\n",
    "                    if vn not in uvF[edgeFaces][1]:\n",
    "                        v3 = vn\n",
    "\n",
    "                uvF[edgeFaces][0] = [v0,v2,v3]\n",
    "                uvF[edgeFaces][1] = [v2,v3,v1]\n",
    "                adj_list = igl.adjacency_list(uvF)\n",
    "                edgeList, _, edgeFaceTop = igl.edge_topology(uvCoords, uvF)            \n",
    "    return uvF"
   ]
  },
  {
   "cell_type": "markdown",
   "metadata": {},
   "source": [
    "### 3. Combine Optimization Algorithms to Obtain Desirable Mesh\n",
    "```edgeSwaps()``` and ```laplacianFlow()``` can be performed iteratively to the user's liking."
   ]
  },
  {
   "cell_type": "code",
   "execution_count": 37,
   "metadata": {},
   "outputs": [
    {
     "data": {
      "application/vnd.jupyter.widget-view+json": {
       "model_id": "69bc506fb0b34c63ad24be28eb8a55e3",
       "version_major": 2,
       "version_minor": 0
      },
      "text/plain": [
       "Renderer(camera=PerspectiveCamera(children=(DirectionalLight(color='white', intensity=0.6, position=(0.0, 0.0,…"
      ]
     },
     "metadata": {},
     "output_type": "display_data"
    }
   ],
   "source": [
    "feature_edge_list, _ = feature_edges(v,f,20)\n",
    "remeshF = edgeSwaps(remeshUV, remeshF, feature_edge_list,300)\n",
    "remeshUV = laplacianFlow(remeshUV, delauney, feature_graph)\n",
    "    \n",
    "p=mp.plot(remeshUV, remeshF, shading={\"wireframe\": 1, \"line_width\":0.9})"
   ]
  },
  {
   "cell_type": "markdown",
   "metadata": {},
   "source": [
    "## Convert 2D UV Coordinates to 3D Using Embedding Maps\n",
    "\n",
    "Note that the embedding maps have limited resolution so this solution results in a fair bit of distortion. If one used a face index map for quick lookups and then calculated positions based on barycentric coordinates within faces, much higher resolution could be achieved. I ran into issues preserving "
   ]
  },
  {
   "cell_type": "code",
   "execution_count": 44,
   "metadata": {},
   "outputs": [
    {
     "name": "stdout",
     "output_type": "stream",
     "text": [
      "[[0.13436424 0.84743374 0.76377462]\n",
      " [0.25506903 0.49543509 0.44949106]\n",
      " [0.65159297 0.78872335 0.09385959]\n",
      " ...\n",
      " [0.36349441 0.92929824 0.35480862]\n",
      " [0.37826262 0.82114691 0.64515967]\n",
      " [0.13359143 0.90037266 0.22341113]]\n"
     ]
    },
    {
     "data": {
      "application/vnd.jupyter.widget-view+json": {
       "model_id": "ab0805dcd526490b80d179ee788156b8",
       "version_major": 2,
       "version_minor": 0
      },
      "text/plain": [
       "Renderer(camera=PerspectiveCamera(children=(DirectionalLight(color='white', intensity=0.6, position=(7.2418498…"
      ]
     },
     "metadata": {},
     "output_type": "display_data"
    }
   ],
   "source": [
    "def uvMapToXYZ(uvCoords, v, xMapImg, yMapImg, zMapImg):\n",
    "    newV = []\n",
    "    Xim = np.array(Image.open(xMapImg))\n",
    "    Yim = np.array(Image.open(yMapImg))\n",
    "    Zim = np.array(Image.open(zMapImg))\n",
    "\n",
    "    xRange = max(v[:,0]) - min(v[:,0])\n",
    "    yRange = max(v[:,1]) - min(v[:,1])\n",
    "    zRange = max(v[:,2]) - min(v[:,2])\n",
    "    \n",
    "    for [xMap, yMap] in uvCoords:\n",
    "        imX, imY = mapToImageCoords(xMap, yMap, Xim.shape[0], Xim.shape[1])\n",
    "        uvXYZ = [xRange*np.sum(Xim[imY,imX]),\n",
    "                 yRange*np.sum(Yim[imY,imX]),\n",
    "                 zRange*np.sum(Zim[imY,imX])]\n",
    "        newV.append(uvXYZ)\n",
    "\n",
    "    return (1/255)*np.array(newV)\n",
    "\n",
    "\n",
    "remeshV = uvMapToXYZ(remeshUV, v, \"xMap.png\", \"yMap.png\", \"zMap.png\")\n",
    "p=mp.plot(remeshV, remeshF, shading={\"wireframe\": 1, \"line_width\":0.2})"
   ]
  },
  {
   "cell_type": "markdown",
   "metadata": {},
   "source": []
  },
  {
   "cell_type": "code",
   "execution_count": 57,
   "metadata": {},
   "outputs": [
    {
     "ename": "NameError",
     "evalue": "name 'faceIndexMap' is not defined",
     "output_type": "error",
     "traceback": [
      "\u001b[1;31m---------------------------------------------------------------------------\u001b[0m",
      "\u001b[1;31mNameError\u001b[0m                                 Traceback (most recent call last)",
      "Cell \u001b[1;32mIn[57], line 1\u001b[0m\n\u001b[1;32m----> 1\u001b[0m \u001b[38;5;28mprint\u001b[39m(faceIndexMap)\n",
      "\u001b[1;31mNameError\u001b[0m: name 'faceIndexMap' is not defined"
     ]
    }
   ],
   "source": [
    "print(faceIndexMap)"
   ]
  },
  {
   "cell_type": "code",
   "execution_count": 62,
   "metadata": {},
   "outputs": [
    {
     "ename": "KeyError",
     "evalue": "'[39, 137, 155]'",
     "output_type": "error",
     "traceback": [
      "\u001b[1;31m---------------------------------------------------------------------------\u001b[0m",
      "\u001b[1;31mKeyError\u001b[0m                                  Traceback (most recent call last)",
      "Cell \u001b[1;32mIn[62], line 13\u001b[0m\n\u001b[0;32m      8\u001b[0m         newV\u001b[38;5;241m.\u001b[39mappend(uvXYZ)\n\u001b[0;32m     10\u001b[0m     \u001b[38;5;28;01mreturn\u001b[39;00m (\u001b[38;5;241m1\u001b[39m\u001b[38;5;241m/\u001b[39m\u001b[38;5;241m255\u001b[39m)\u001b[38;5;241m*\u001b[39mnp\u001b[38;5;241m.\u001b[39marray(newV)\n\u001b[1;32m---> 13\u001b[0m remeshV \u001b[38;5;241m=\u001b[39m uvMapToXYZ(remeshUV, v, f, \u001b[38;5;124m\"\u001b[39m\u001b[38;5;124mfaceIndexMap.png\u001b[39m\u001b[38;5;124m\"\u001b[39m, face_index_map)\n",
      "Cell \u001b[1;32mIn[62], line 7\u001b[0m, in \u001b[0;36muvMapToXYZ\u001b[1;34m(uvCoords, v, f, faceIndexMapImg, faceIndexMap)\u001b[0m\n\u001b[0;32m      5\u001b[0m     imX, imY \u001b[38;5;241m=\u001b[39m mapToImageCoords(xMap, yMap, faceIndexMapIm\u001b[38;5;241m.\u001b[39mshape[\u001b[38;5;241m0\u001b[39m], faceIndexMapIm\u001b[38;5;241m.\u001b[39mshape[\u001b[38;5;241m1\u001b[39m])\n\u001b[0;32m      6\u001b[0m     faceIndex \u001b[38;5;241m=\u001b[39m faceIndexMapIm[imX, imY][\u001b[38;5;241m0\u001b[39m:\u001b[38;5;241m3\u001b[39m]\n\u001b[1;32m----> 7\u001b[0m     \u001b[38;5;28mprint\u001b[39m(faceIndexMap[\u001b[38;5;28mstr\u001b[39m(\u001b[38;5;28mlist\u001b[39m(faceIndex))])\n\u001b[0;32m      8\u001b[0m     newV\u001b[38;5;241m.\u001b[39mappend(uvXYZ)\n\u001b[0;32m     10\u001b[0m \u001b[38;5;28;01mreturn\u001b[39;00m (\u001b[38;5;241m1\u001b[39m\u001b[38;5;241m/\u001b[39m\u001b[38;5;241m255\u001b[39m)\u001b[38;5;241m*\u001b[39mnp\u001b[38;5;241m.\u001b[39marray(newV)\n",
      "\u001b[1;31mKeyError\u001b[0m: '[39, 137, 155]'"
     ]
    }
   ],
   "source": [
    "def uvMapToXYZ(uvCoords, v, f, faceIndexMapImg, faceIndexMap):\n",
    "    newV = []\n",
    "    faceIndexMapIm = np.array(Image.open(faceIndexMapImg))\n",
    "    for [xMap, yMap] in uvCoords:\n",
    "        imX, imY = mapToImageCoords(xMap, yMap, faceIndexMapIm.shape[0], faceIndexMapIm.shape[1])\n",
    "        faceIndex = faceIndexMapIm[imX, imY][0:3]\n",
    "        print(faceIndexMap[str(list(faceIndex))])\n",
    "        newV.append(uvXYZ)\n",
    "    \n",
    "    return (1/255)*np.array(newV)\n",
    "\n",
    "\n",
    "remeshV = uvMapToXYZ(remeshUV, v, f, \"faceIndexMap.png\", face_index_map)\n",
    "#p=mp.plot(remeshV, remeshF, shading={\"wireframe\": 1, \"line_width\":0.2})"
   ]
  },
  {
   "cell_type": "code",
   "execution_count": null,
   "metadata": {},
   "outputs": [],
   "source": []
  }
 ],
 "metadata": {
  "kernelspec": {
   "display_name": "Python 3 (ipykernel)",
   "language": "python",
   "name": "python3"
  },
  "language_info": {
   "codemirror_mode": {
    "name": "ipython",
    "version": 3
   },
   "file_extension": ".py",
   "mimetype": "text/x-python",
   "name": "python",
   "nbconvert_exporter": "python",
   "pygments_lexer": "ipython3",
   "version": "3.11.5"
  }
 },
 "nbformat": 4,
 "nbformat_minor": 4
}
