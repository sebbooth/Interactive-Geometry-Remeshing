{
 "cells": [
  {
   "cell_type": "markdown",
   "metadata": {},
   "source": [
    "# Interactive Geometry Remeshing\n",
    "\n",
    "A Python implementation of Pierre Alliez, Mark Meyer, and Mathieu Desbrun's research paper \"Interactive Geometry Remeshing.\"\n",
    "\n",
    "Link to google drive with demo video: https://drive.google.com/drive/folders/1yvPP3hPceYbScddZL6QRBsEnUGWdBCpy?usp=drive_link\n"
   ]
  },
  {
   "cell_type": "markdown",
   "metadata": {},
   "source": [
    "## Dependencies\n",
    "\n",
    "All geometry processing is done with NumPy and igl, I did have to use VisPy and Pillow (PIL)or handling some image processing, although neither are used for any built-in mesh/geometry algorithms. In order to run VisPy in a Jupyter notebook you also need \n",
    " \n",
    "```conda install -c conda-forge vispy``` \n",
    "\n",
    "or\n",
    "\n",
    "```pip install --upgrade vispy```\n",
    "\n",
    "and\n",
    "\n",
    " ```pip install Pillow```\n"
   ]
  },
  {
   "cell_type": "code",
   "execution_count": 269,
   "metadata": {},
   "outputs": [],
   "source": [
    "import math\n",
    "import random\n",
    "import os\n",
    "\n",
    "import igl\n",
    "import numpy as np\n",
    "import meshplot as mp\n",
    "import scipy as sp\n",
    "import ipywidgets as iw\n",
    "\n",
    "import vispy\n",
    "from vispy import io\n",
    "from vispy import app, gloo\n",
    "from vispy.gloo import Program\n",
    "from PIL import Image"
   ]
  },
  {
   "cell_type": "markdown",
   "metadata": {},
   "source": [
    "## Defining Feature Edges With Dihedral Angle Thresholding\n",
    "\n",
    "Extract mesh \"features\" which we will try to preserve throughout the remeshing.\n"
   ]
  },
  {
   "cell_type": "code",
   "execution_count": 270,
   "metadata": {},
   "outputs": [
    {
     "data": {
      "application/vnd.jupyter.widget-view+json": {
       "model_id": "3aca862ec50c40c09bf4974728e57c97",
       "version_major": 2,
       "version_minor": 0
      },
      "text/plain": [
       "Renderer(camera=PerspectiveCamera(children=(DirectionalLight(color='white', intensity=0.6, position=(0.0, 0.00…"
      ]
     },
     "metadata": {},
     "output_type": "display_data"
    },
    {
     "data": {
      "text/plain": [
       "1"
      ]
     },
     "execution_count": 270,
     "metadata": {},
     "output_type": "execute_result"
    }
   ],
   "source": [
    "def feature_edges(v,f,threshold):\n",
    "    edge_faces = []\n",
    "\n",
    "    dihedral_threshold = threshold/180 * np.pi\n",
    "    f_normals = igl.per_face_normals(v,f,np.ndarray([0,0]))\n",
    "    edge_flaps = igl.edge_flaps(f)\n",
    "    edges = edge_flaps[0]\n",
    "    \n",
    "    threshold_edges = []\n",
    "    for i in range(edges.shape[0]):\n",
    "        # find normals of faces connecting edge\n",
    "        edge_face_norms = f_normals[edge_flaps[2][i]]\n",
    "\n",
    "        # find dihedral angle between edge faces\n",
    "        f1n = edge_face_norms[0] / np.linalg.norm(edge_face_norms[0])\n",
    "        f2n = edge_face_norms[1] / np.linalg.norm(edge_face_norms[1])\n",
    "        dihedral_angle = np.arccos(np.clip(np.dot(f1n, f2n), -1.0, 1.0))\n",
    "\n",
    "        # add angles greater than threshold to list\n",
    "        if dihedral_angle > dihedral_threshold or (-1 in edge_flaps[2][i]):\n",
    "            threshold_edges.append(edges[i])\n",
    "            \n",
    "            # add edge faces to list\n",
    "            if edge_flaps[2][i][0] != -1:\n",
    "                edge_faces.append(edge_flaps[2][i][0])\n",
    "            if edge_flaps[2][i][1] != -1:\n",
    "                edge_faces.append(edge_flaps[2][i][1])\n",
    "\n",
    "    threshold_edges = np.array(threshold_edges)\n",
    "    return threshold_edges, edge_faces\n",
    "\n",
    "\n",
    "\n",
    "v, f = igl.read_triangle_mesh(\"data/faceMesh.obj\")\n",
    "feature_edge_list, edge_faces = feature_edges(v,f,20)\n",
    "\n",
    "col = np.ones_like(f)\n",
    "col[edge_faces, 1:] = 0\n",
    "\n",
    "p = mp.plot(v, f, c=col, shading={\"wireframe\": 0})\n",
    "p.add_lines(v[feature_edge_list][:,0], v[feature_edge_list][:,1], shading={\"line_color\": \"yellow\"})"
   ]
  },
  {
   "cell_type": "markdown",
   "metadata": {},
   "source": [
    "## Parametrization onto Square Map"
   ]
  },
  {
   "cell_type": "code",
   "execution_count": 271,
   "metadata": {},
   "outputs": [
    {
     "data": {
      "application/vnd.jupyter.widget-view+json": {
       "model_id": "d75e08d618434f6e8541b819b4486c94",
       "version_major": 2,
       "version_minor": 0
      },
      "text/plain": [
       "Renderer(camera=PerspectiveCamera(children=(DirectionalLight(color='white', intensity=0.6, position=(0.0, 0.00…"
      ]
     },
     "metadata": {},
     "output_type": "display_data"
    },
    {
     "data": {
      "application/vnd.jupyter.widget-view+json": {
       "model_id": "2a886dfb626a4e9aa754d24b911c4de6",
       "version_major": 2,
       "version_minor": 0
      },
      "text/plain": [
       "interactive(children=(Dropdown(description='mode', options=('2D', '3D'), value='2D'), Output()), _dom_classes=…"
      ]
     },
     "metadata": {},
     "output_type": "display_data"
    }
   ],
   "source": [
    "def circle_to_square(x_circ,y_circ):\n",
    "    x = 0.5 * np.sqrt( 2 + x_circ**2 - y_circ**2 + 2*x_circ*np.sqrt(2) ) - 0.5 * np.sqrt( 2 + x_circ**2 - y_circ**2 - 2*x_circ*np.sqrt(2) )\n",
    "    y = 0.5 * np.sqrt( 2 - x_circ**2 + y_circ**2 + 2*y_circ*np.sqrt(2) ) - 0.5 * np.sqrt( 2 - x_circ**2 + y_circ**2 - 2*y_circ*np.sqrt(2) )\n",
    "    x = round(max(min(1,x),-1),5)\n",
    "    y = round(max(min(1,y),-1),5)\n",
    "    return [x,y]\n",
    "\n",
    "def parametrize(v,f):\n",
    "    ## Find the open boundary\n",
    "    bnd = igl.boundary_loop(f)\n",
    "    \n",
    "    ## Map the boundary to a circle, preserving edge proportions\n",
    "    bnd_uv = igl.map_vertices_to_circle(v, bnd)\n",
    "    \n",
    "    # remap circle boundary onto square\n",
    "    bnd_uv = np.array([circle_to_square(x_circ,y_circ) for [x_circ,y_circ] in bnd_uv])\n",
    "\n",
    "    # force points into corners\n",
    "    TL = np.array([-1,1])\n",
    "    TR = np.array([1,1])\n",
    "    BL = np.array([-1,-1])\n",
    "    BR = np.array([1,-1])\n",
    "    bndTL = 0\n",
    "    bndTR = 0\n",
    "    bndBL = 0\n",
    "    bndBR = 0\n",
    "    for coordi, coord in enumerate(bnd_uv):\n",
    "        if np.linalg.norm(coord-TL) < np.linalg.norm(bnd_uv[bndTL]-TL):\n",
    "            bndTL = coordi\n",
    "        if np.linalg.norm(coord-TR) < np.linalg.norm(bnd_uv[bndTR]-TR):\n",
    "            bndTR = coordi\n",
    "        if np.linalg.norm(coord-BL) < np.linalg.norm(bnd_uv[bndBL]-BL):\n",
    "            bndBL = coordi\n",
    "        if np.linalg.norm(coord-BR) < np.linalg.norm(bnd_uv[bndBR]-BR):\n",
    "            bndBR = coordi\n",
    "\n",
    "    bnd_uv[bndTL] = TL\n",
    "    bnd_uv[bndTR] = TR\n",
    "    bnd_uv[bndBL] = BL\n",
    "    bnd_uv[bndBR] = BR\n",
    "    \n",
    "    ## Harmonic parametrization for the internal vertices\n",
    "    return igl.harmonic(v, f, bnd, bnd_uv, 1)\n",
    "\n",
    "v, f = igl.read_triangle_mesh(\"data/faceMesh.obj\")\n",
    "uv = parametrize(v,f)\n",
    "feature_edge_list, _ = feature_edges(v,f,20)\n",
    "\n",
    "\n",
    "p = mp.plot(v, f, c=np.ones_like(f), shading={\"wireframe\": False})\n",
    "p.add_lines(v[feature_edge_list][:,0], v[feature_edge_list][:,1], shading={\"line_color\": \"yellow\"})\n",
    "@iw.interact(mode=['2D','3D'])\n",
    "def switch(mode):\n",
    "    if mode == \"3D\":\n",
    "        mp.plot(v, f, c=uv[:,0],shading={\"wireframe\": 0}, plot=p)\n",
    "        p.add_lines(v[feature_edge_list][:,0], v[feature_edge_list][:,1], shading={\"line_color\": \"yellow\"})\n",
    "        \n",
    "    if mode == \"2D\":\n",
    "        mp.plot(uv, f, c=uv[:,0], shading={\"wireframe\": 1, \"line_width\":0.2}, plot=p)\n",
    "        p.add_lines(uv[feature_edge_list][:,0], uv[feature_edge_list][:,1], shading={\"line_color\": \"yellow\"})\n",
    "        p.add_points(uv, shading={\"point_size\": .04})"
   ]
  },
  {
   "cell_type": "markdown",
   "metadata": {},
   "source": [
    "## Geometry Maps\n",
    "\n",
    "- Using the chosen paramterization, generate an atlas of geometry maps containing useful data pertaining to the input mesh.\n",
    "- The area distortion and curvature maps will be used to generate a control map which determines the densities of resamplings on the parameterization. (Allows user to control how vertices are distributed across remesh).\n",
    "- The embedding and face index maps can be used to convert the 2D remesh back into 3D. (allows for quick lookups of xyz coordinates based on uv coordinates)\n",
    "- Additional maps (normal, colour, texture) can be generated if we wish for our remesh to contain any such attributes."
   ]
  },
  {
   "cell_type": "markdown",
   "metadata": {},
   "source": [
    "### 1. Area Distortion Map"
   ]
  },
  {
   "cell_type": "code",
   "execution_count": 272,
   "metadata": {},
   "outputs": [
    {
     "data": {
      "application/vnd.jupyter.widget-view+json": {
       "model_id": "38378980b46f4e62b9fb313efccaec5d",
       "version_major": 2,
       "version_minor": 0
      },
      "text/plain": [
       "Renderer(camera=PerspectiveCamera(children=(DirectionalLight(color='white', intensity=0.6, position=(0.0, 0.0,…"
      ]
     },
     "metadata": {},
     "output_type": "display_data"
    },
    {
     "data": {
      "text/plain": [
       "2"
      ]
     },
     "execution_count": 272,
     "metadata": {},
     "output_type": "execute_result"
    }
   ],
   "source": [
    "def normalizeZeroToOne(arr):\n",
    "    if(min(arr) < 0):\n",
    "        arr -= min(arr)\n",
    "    return (1/max(arr)) * arr\n",
    "    \n",
    "def areaDistortion(v,uv,f):\n",
    "    a3d = igl.doublearea(v,f)\n",
    "    a2d = igl.doublearea(uv,f)\n",
    "\n",
    "    VF, NI = igl.vertex_triangle_adjacency(f,v.shape[0])\n",
    "    face_area_distortion = a3d/a2d\n",
    "\n",
    "    vert_area_distortion = np.zeros_like(v[:,0])\n",
    "    for i in range(v.shape[0]):\n",
    "        face0 = NI[i]\n",
    "        facen = NI[i+1]\n",
    "        faces = VF[face0:facen]\n",
    "        faceAreas = a3d[faces]\n",
    "        faceAreas = (1/np.sum(faceAreas)) * faceAreas\n",
    "        #print(i, faces,faceAreas)\n",
    "\n",
    "        vertAD = 0\n",
    "        for facei, face in enumerate(faces):\n",
    "            vertAD += face_area_distortion[face] * faceAreas[facei]\n",
    "        vert_area_distortion[i] = vertAD\n",
    "\n",
    "    return normalizeZeroToOne(vert_area_distortion)\n",
    "\n",
    "\n",
    "v, f = igl.read_triangle_mesh(\"data/faceMesh.obj\")\n",
    "uv = parametrize(v,f)\n",
    "feature_edge_list, _ = feature_edges(v,f,10)\n",
    "area_distortion = areaDistortion(v,uv,f)\n",
    "\n",
    "a = mp.plot(uv, f, c=area_distortion, shading={\"wireframe\": 0, \"line_width\":0.2})\n",
    "a.add_lines(uv[feature_edge_list][:,0], uv[feature_edge_list][:,1], shading={\"line_color\": \"black\"})\n",
    "a.add_points(uv, shading={\"point_size\": .03, \"point_color\": \"black\"})"
   ]
  },
  {
   "cell_type": "markdown",
   "metadata": {},
   "source": [
    "### 2. Curvature Maps"
   ]
  },
  {
   "cell_type": "code",
   "execution_count": 273,
   "metadata": {},
   "outputs": [
    {
     "data": {
      "application/vnd.jupyter.widget-view+json": {
       "model_id": "70e9595aabc948a792b3fd46f1a5a316",
       "version_major": 2,
       "version_minor": 0
      },
      "text/plain": [
       "Renderer(camera=PerspectiveCamera(children=(DirectionalLight(color='white', intensity=0.6, position=(0.0, 0.0,…"
      ]
     },
     "metadata": {},
     "output_type": "display_data"
    },
    {
     "data": {
      "application/vnd.jupyter.widget-view+json": {
       "model_id": "03fe690ec53749ffa81c65ebce43d1d1",
       "version_major": 2,
       "version_minor": 0
      },
      "text/plain": [
       "interactive(children=(Dropdown(description='mode', options=('Gaussian', 'Max', 'Min', 'Total'), value='Gaussia…"
      ]
     },
     "metadata": {},
     "output_type": "display_data"
    }
   ],
   "source": [
    "def curveMaps(v,f):\n",
    "    gaussCurv = igl.gaussian_curvature(v,f)\n",
    "    _, _, maxCurv, minCurv = igl.principal_curvature(v, f)\n",
    "    totalCurv = maxCurv * maxCurv + minCurv * minCurv\n",
    "\n",
    "    gaussCurv = normalizeZeroToOne(gaussCurv * gaussCurv)\n",
    "    maxCurv = normalizeZeroToOne(maxCurv)\n",
    "    minCurv = normalizeZeroToOne(minCurv)\n",
    "    totalCurv = normalizeZeroToOne(totalCurv)\n",
    "\n",
    "    return gaussCurv, maxCurv, minCurv, totalCurv\n",
    "\n",
    "\n",
    "v, f = igl.read_triangle_mesh(\"data/faceMesh.obj\")\n",
    "uv = parametrize(v,f)\n",
    "feature_edge_list, _ = feature_edges(v,f,10)\n",
    "gaussCurv, maxCurv, minCurv, totalCurv = curveMaps(v,f)\n",
    "\n",
    "a = mp.plot(uv, f, c=gaussCurv, shading={\"wireframe\": 0, \"line_width\":0.2})\n",
    "a.add_lines(uv[feature_edge_list][:,0], uv[feature_edge_list][:,1], shading={\"line_color\": \"black\"})\n",
    "a.add_points(uv, shading={\"point_size\": .03, \"point_color\": \"black\"})\n",
    "@iw.interact(mode=['Gaussian','Max','Min','Total'])\n",
    "def switch(mode):\n",
    "    if mode == \"Gaussian\":\n",
    "        mp.plot(uv, f, c=gaussCurv, shading={\"wireframe\": 0, \"line_width\":0.2}, plot=a)\n",
    "        a.add_lines(uv[feature_edge_list][:,0], uv[feature_edge_list][:,1], shading={\"line_color\": \"black\"})\n",
    "        a.add_points(uv, shading={\"point_size\": .03, \"point_color\": \"black\"})\n",
    "        \n",
    "    if mode == \"Max\":\n",
    "        mp.plot(uv, f, c=maxCurv, shading={\"wireframe\": 0, \"line_width\":0.2}, plot=a)\n",
    "        a.add_lines(uv[feature_edge_list][:,0], uv[feature_edge_list][:,1], shading={\"line_color\": \"black\"})\n",
    "        a.add_points(uv, shading={\"point_size\": .03, \"point_color\": \"black\"})\n",
    "        \n",
    "    if mode == \"Min\":\n",
    "        mp.plot(uv, f, c=minCurv, shading={\"wireframe\": 0, \"line_width\":0.2}, plot=a)\n",
    "        a.add_lines(uv[feature_edge_list][:,0], uv[feature_edge_list][:,1], shading={\"line_color\": \"black\"})\n",
    "        a.add_points(uv, shading={\"point_size\": .03, \"point_color\": \"black\"})\n",
    "        \n",
    "    if mode == \"Total\":\n",
    "        mp.plot(uv, f, c=totalCurv, shading={\"wireframe\": 0, \"line_width\":0.2}, plot=a)\n",
    "        a.add_lines(uv[feature_edge_list][:,0], uv[feature_edge_list][:,1], shading={\"line_color\": \"black\"})\n",
    "        a.add_points(uv, shading={\"point_size\": .03, \"point_color\": \"black\"})"
   ]
  },
  {
   "cell_type": "markdown",
   "metadata": {},
   "source": [
    "### 3. Embedding Map"
   ]
  },
  {
   "cell_type": "code",
   "execution_count": 274,
   "metadata": {},
   "outputs": [
    {
     "data": {
      "application/vnd.jupyter.widget-view+json": {
       "model_id": "067e107f23f54a3bac275b551acf7208",
       "version_major": 2,
       "version_minor": 0
      },
      "text/plain": [
       "Renderer(camera=PerspectiveCamera(children=(DirectionalLight(color='white', intensity=0.6, position=(0.0, 0.0,…"
      ]
     },
     "metadata": {},
     "output_type": "display_data"
    },
    {
     "data": {
      "application/vnd.jupyter.widget-view+json": {
       "model_id": "7b77d88450b349a9966327557d142968",
       "version_major": 2,
       "version_minor": 0
      },
      "text/plain": [
       "interactive(children=(Dropdown(description='mode', options=('Vertex Position', 'xMap', 'yMap', 'zMap'), value=…"
      ]
     },
     "metadata": {},
     "output_type": "display_data"
    }
   ],
   "source": [
    "def scalarToRGB(scalarMap):\n",
    "    rgbMap = []\n",
    "    for i in range(scalarMap.shape[0]):\n",
    "        r = min(1/3,scalarMap[i])\n",
    " \n",
    "        g = min(max(0,(scalarMap[i]-1/3)),1/3)\n",
    " \n",
    "        b = min(max(0,(scalarMap[i]-2/3)),1/3)\n",
    "            \n",
    "        rgbMap.append([r,g,b])\n",
    "    return np.array(rgbMap)\n",
    "\n",
    "def embeddingMaps(v):\n",
    "    xMap = v[:,0].copy()\n",
    "    yMap = v[:,1].copy()\n",
    "    zMap = v[:,2].copy()\n",
    "    xMap = normalizeZeroToOne(xMap)\n",
    "    yMap = normalizeZeroToOne(yMap)\n",
    "    zMap = normalizeZeroToOne(zMap)\n",
    "    \n",
    "    return scalarToRGB(xMap), scalarToRGB(yMap), scalarToRGB(zMap)\n",
    "\n",
    "\n",
    "v, f = igl.read_triangle_mesh(\"data/faceMesh.obj\")\n",
    "uv = parametrize(v,f)\n",
    "feature_edge_list, _ = feature_edges(v,f,10)\n",
    "xMap, yMap, zMap = embeddingMaps(v)\n",
    "\n",
    "a = mp.plot(uv, f, c=v, shading={\"wireframe\": 0, \"line_width\":0.2})\n",
    "a.add_lines(uv[feature_edge_list][:,0], uv[feature_edge_list][:,1], shading={\"line_color\": \"black\"})\n",
    "a.add_points(uv, shading={\"point_size\": .03, \"point_color\": \"black\"})\n",
    "@iw.interact(mode=['Vertex Position','xMap','yMap','zMap'])\n",
    "def switch(mode):\n",
    "    if mode == \"Vertex Position\":\n",
    "        mp.plot(uv, f, c=v, shading={\"wireframe\": 0, \"line_width\":0.2}, plot=a)\n",
    "        a.add_lines(uv[feature_edge_list][:,0], uv[feature_edge_list][:,1], shading={\"line_color\": \"black\"})\n",
    "        a.add_points(uv, shading={\"point_size\": .03, \"point_color\": \"black\"})\n",
    "        \n",
    "    if mode == \"xMap\":\n",
    "        mp.plot(uv, f, c=xMap, shading={\"wireframe\": 0, \"line_width\":0.2}, plot=a)\n",
    "        a.add_lines(uv[feature_edge_list][:,0], uv[feature_edge_list][:,1], shading={\"line_color\": \"black\"})\n",
    "        a.add_points(uv, shading={\"point_size\": .03, \"point_color\": \"black\"})\n",
    "        \n",
    "    if mode == \"yMap\":\n",
    "        mp.plot(uv, f, c=yMap, shading={\"wireframe\": 0, \"line_width\":0.2}, plot=a)\n",
    "        a.add_lines(uv[feature_edge_list][:,0], uv[feature_edge_list][:,1], shading={\"line_color\": \"black\"})\n",
    "        a.add_points(uv, shading={\"point_size\": .03, \"point_color\": \"black\"})\n",
    "        \n",
    "    if mode == \"zMap\":\n",
    "        mp.plot(uv, f, c=zMap, shading={\"wireframe\": 0, \"line_width\":0.2}, plot=a)\n",
    "        a.add_lines(uv[feature_edge_list][:,0], uv[feature_edge_list][:,1], shading={\"line_color\": \"black\"})\n",
    "        a.add_points(uv, shading={\"point_size\": .03, \"point_color\": \"black\"})\n"
   ]
  },
  {
   "cell_type": "markdown",
   "metadata": {},
   "source": [
    "### 4. Face Index Map"
   ]
  },
  {
   "cell_type": "code",
   "execution_count": 275,
   "metadata": {},
   "outputs": [
    {
     "data": {
      "application/vnd.jupyter.widget-view+json": {
       "model_id": "2febc1a93dbe4d8889d807e9e6c074ab",
       "version_major": 2,
       "version_minor": 0
      },
      "text/plain": [
       "Renderer(camera=PerspectiveCamera(children=(DirectionalLight(color='white', intensity=0.6, position=(0.0, 0.0,…"
      ]
     },
     "metadata": {},
     "output_type": "display_data"
    },
    {
     "data": {
      "text/plain": [
       "2"
      ]
     },
     "execution_count": 275,
     "metadata": {},
     "output_type": "execute_result"
    }
   ],
   "source": [
    "def indexMap(v,f):\n",
    "    face_index_list = []\n",
    "    face_index_map = {}\n",
    "    \n",
    "    for i in range(f.shape[0]):\n",
    "        face_col = [int(random.uniform(0,255)),int(random.uniform(0,255)),int(random.uniform(0,255))]\n",
    "        face_index_list.append(face_col)\n",
    "        while str(face_index_list[i]) in face_index_map:\n",
    "            face_index_list[i] = [int(random.uniform(0,255)),int(random.uniform(0,255)),int(random.uniform(0,255))]\n",
    "        face_index_map[str(face_index_list[i])] = i\n",
    "        \n",
    "    face_index_list = np.array(face_index_list)\n",
    "    return face_index_list, face_index_map\n",
    "\n",
    "\n",
    "random.seed(1)\n",
    "v, f = igl.read_triangle_mesh(\"data/faceMesh.obj\")\n",
    "uv = parametrize(v,f)\n",
    "feature_edge_list, _ = feature_edges(v,f,10)\n",
    "face_index_list, face_index_map = indexMap(v,f)\n",
    "\n",
    "face_index_list = (1/255) * face_index_list\n",
    "\n",
    "a = mp.plot(uv, f, c=face_index_list, shading={\"wireframe\": 0, \"line_width\":0.2})\n",
    "a.add_lines(uv[feature_edge_list][:,0], uv[feature_edge_list][:,1], shading={\"line_color\": \"black\"})\n",
    "a.add_points(uv, shading={\"point_size\": .03, \"point_color\": \"black\"})"
   ]
  },
  {
   "cell_type": "markdown",
   "metadata": {},
   "source": [
    "### 5. (optional) Additional Maps\n",
    "\n",
    "ex: normal, texture, color\n",
    "\n",
    "Useful if the remeshed model needs these attributes added after remeshing, not needed for remeshing process itself."
   ]
  },
  {
   "cell_type": "code",
   "execution_count": 276,
   "metadata": {},
   "outputs": [
    {
     "data": {
      "application/vnd.jupyter.widget-view+json": {
       "model_id": "a6f0cec34e9741769e934ee926e982f0",
       "version_major": 2,
       "version_minor": 0
      },
      "text/plain": [
       "Renderer(camera=PerspectiveCamera(children=(DirectionalLight(color='white', intensity=0.6, position=(0.0, 0.0,…"
      ]
     },
     "metadata": {},
     "output_type": "display_data"
    },
    {
     "data": {
      "text/plain": [
       "2"
      ]
     },
     "execution_count": 276,
     "metadata": {},
     "output_type": "execute_result"
    }
   ],
   "source": [
    "v, f = igl.read_triangle_mesh(\"data/faceMesh.obj\")\n",
    "uv = parametrize(v,f)\n",
    "feature_edge_list, _ = feature_edges(v,f,10)\n",
    "\n",
    "v_p = np.hstack([uv, np.zeros((uv.shape[0],1))])\n",
    "pvn = igl.per_vertex_normals(v,f)\n",
    "\n",
    "a = mp.plot(uv, f, c=pvn, shading={\"wireframe\": 0, \"line_width\":0.2})\n",
    "a.add_lines(uv[feature_edge_list][:,0], uv[feature_edge_list][:,1], shading={\"line_color\": \"black\"})\n",
    "a.add_points(uv, shading={\"point_size\": .03, \"point_color\": \"black\"})"
   ]
  },
  {
   "cell_type": "markdown",
   "metadata": {},
   "source": [
    "## Combining Maps to Create Control Map (User-Controlled)"
   ]
  },
  {
   "cell_type": "code",
   "execution_count": 277,
   "metadata": {},
   "outputs": [
    {
     "data": {
      "application/vnd.jupyter.widget-view+json": {
       "model_id": "8ba40d13b0db44b89458e7dea864438a",
       "version_major": 2,
       "version_minor": 0
      },
      "text/plain": [
       "Renderer(camera=PerspectiveCamera(children=(DirectionalLight(color='white', intensity=0.6, position=(0.0, 0.0,…"
      ]
     },
     "metadata": {},
     "output_type": "display_data"
    },
    {
     "data": {
      "application/vnd.jupyter.widget-view+json": {
       "model_id": "99dbb950cfa6439f9af0fe6ad4ed7945",
       "version_major": 2,
       "version_minor": 0
      },
      "text/plain": [
       "interactive(children=(FloatSlider(value=0.5, description='areaDistortionFactor', max=1.0), FloatSlider(value=0…"
      ]
     },
     "metadata": {},
     "output_type": "display_data"
    }
   ],
   "source": [
    "def designControlMap(v,f):\n",
    "    uv = parametrize(v,f)\n",
    "    feature_edge_list, _ = feature_edges(v,f,10)\n",
    "    \n",
    "    area_distortion = areaDistortion(v,uv,f)\n",
    "    gaussCurv, maxCurv, minCurv, totalCurv = curveMaps(v,f)\n",
    "\n",
    "    areaDistortionFactor = 0.5\n",
    "    gaussCurvFactor = 0.5\n",
    "    maxCurvFactor = 0.5\n",
    "    minCurvFactor = 0.5\n",
    "    totalCurvFactor = 0.5\n",
    "    \n",
    "    controlMap =  areaDistortionFactor * area_distortion + gaussCurvFactor * gaussCurv + maxCurvFactor * maxCurv + minCurvFactor * minCurv + totalCurvFactor * totalCurv\n",
    "    controlMap = normalizeZeroToOne(controlMap)\n",
    "\n",
    "    a = mp.plot(uv, f, c=controlMap, shading={\"wireframe\": 0, \"line_width\":0.2})\n",
    "    @mp.interact(areaDistortionFactor = (0.0,1.0),gaussCurvFactor = (0.0,1.0),maxCurvFactor = (0.0,1.0),minCurvFactor = (0.0,1.0),totalCurvFactor = (0.0,1.0))\n",
    "    def ff(areaDistortionFactor, gaussCurvFactor,maxCurvFactor,minCurvFactor,totalCurvFactor):\n",
    "        controlMap =  areaDistortionFactor * area_distortion + gaussCurvFactor * gaussCurv + maxCurvFactor * maxCurv + minCurvFactor * minCurv + totalCurvFactor * totalCurv\n",
    "        controlMap = normalizeZeroToOne(controlMap)\n",
    "        mp.plot(uv, f, c=controlMap, shading={\"wireframe\": 0, \"line_width\":0.2}, plot=a)\n",
    "        print(\"Control Map Parameters:\")\n",
    "        print(areaDistortionFactor,\",\",gaussCurvFactor,\",\",maxCurvFactor,\",\",minCurvFactor,\",\",totalCurvFactor)\n",
    "\n",
    "v, f = igl.read_triangle_mesh(\"data/faceMesh.obj\")\n",
    "\n",
    "feature_edge_list, _ = feature_edges(v,f,10)\n",
    "xMap, yMap, zMap = embeddingMaps(v)\n",
    "uv = parametrize(v,f)\n",
    "designControlMap(v,f)"
   ]
  },
  {
   "cell_type": "markdown",
   "metadata": {},
   "source": [
    "## Save Control Map Based on User Preferences\n",
    "\n",
    "Instructions:\n",
    "\n",
    "1. Adjust control map parameters above to your preference. (For most meshes I would recommend only using the area distortion and total curvature)\n",
    "2. Copy the parameters output at the bottom and paste them into the function call for ```createControlMap(v,f, <Control Map Parameters> )```"
   ]
  },
  {
   "cell_type": "code",
   "execution_count": 278,
   "metadata": {},
   "outputs": [
    {
     "data": {
      "application/vnd.jupyter.widget-view+json": {
       "model_id": "5bec4b0bfba4476ca316d7e72497dde3",
       "version_major": 2,
       "version_minor": 0
      },
      "text/plain": [
       "Renderer(camera=PerspectiveCamera(children=(DirectionalLight(color='white', intensity=0.6, position=(0.0, 0.0,…"
      ]
     },
     "metadata": {},
     "output_type": "display_data"
    },
    {
     "data": {
      "text/plain": [
       "<meshplot.Viewer.Viewer at 0x12a75df8dc0>"
      ]
     },
     "execution_count": 278,
     "metadata": {},
     "output_type": "execute_result"
    }
   ],
   "source": [
    "def createControlMap(v,f,\n",
    "                     areaDistortionFactor,gaussCurvFactor,maxCurvFactor,minCurvFactor,totalCurvFactor\n",
    "                    ):\n",
    "    uv = parametrize(v,f)    \n",
    "    area_distortion = areaDistortion(v,uv,f)\n",
    "    gaussCurv, maxCurv, minCurv, totalCurv = curveMaps(v,f)\n",
    "    controlMap =  areaDistortionFactor * area_distortion + gaussCurvFactor * gaussCurv + maxCurvFactor * maxCurv + minCurvFactor * minCurv + totalCurvFactor * totalCurv\n",
    "    return normalizeZeroToOne(controlMap)\n",
    "\n",
    "controlMap = createControlMap(v,f,\n",
    "0.7 , 0.0 , 0.0 , 0.0 , 0.5\n",
    "                             )\n",
    "mp.plot(uv, f, c=controlMap, shading={\"wireframe\": 0, \"line_width\":0.2, \"colormap\": \"Greys\"})"
   ]
  },
  {
   "cell_type": "markdown",
   "metadata": {},
   "source": [
    "## Generating Images of Maps with OpenGL\n",
    "\n",
    "- For converting the igl generated scalar maps (which are just NumPy arrays containing vertex/face attributes) into images, I pack the maps into vertex buffers and pass them through an OpenGL shader.\n",
    "- I found that there was some sort of conflict when running Meshplot and PyOpenGL in the same environment so I used the VisPy library for this step.\n",
    "- This serves as a good demonstration of how this algorithm would be well-suited to real-time interactive remeshing; The research paper recommended using GPU-accelerated algorithms and by passing user controlled parameters as uniforms to an openGL shader the user could see a live preview of what their control map looks like. Compute shaders could be run on the maps to generate remeshes in real-time.\n",
    "\n",
    "  Note: Make sure when running the following code blocks that you don't resize any of the renders before they've been exported as the export is based on the window size - If the maps are different sizes it causes issues.\n"
   ]
  },
  {
   "cell_type": "code",
   "execution_count": 279,
   "metadata": {},
   "outputs": [],
   "source": [
    "def buildGLBuffers(uv,f,map):\n",
    "    vertexBuffer = []\n",
    "    colorBuffer = []\n",
    "    if (map.shape[0] == uv.shape[0]):\n",
    "        if (len(map.shape) > 1):\n",
    "            for face in f:\n",
    "                for vert in face:\n",
    "                    vertexBuffer.append(tuple(uv[vert]))\n",
    "                    colorBuffer.append((map[vert][0],map[vert][1],map[vert][2],0))\n",
    "        else:\n",
    "            for face in f:\n",
    "                for vert in face:\n",
    "                    vertexBuffer.append(tuple(uv[vert]))\n",
    "                    colorBuffer.append((map[vert],map[vert],map[vert],0))\n",
    "                \n",
    "    if (map.shape[0] == f.shape[0]):\n",
    "        if (len(map.shape) > 1):\n",
    "            for facei, face in enumerate(f):\n",
    "                for vert in face:\n",
    "                    vertexBuffer.append(tuple(uv[vert]))\n",
    "                    colorBuffer.append((map[facei][0],map[facei][1],map[facei][2],0))\n",
    "                    \n",
    "    return vertexBuffer, colorBuffer"
   ]
  },
  {
   "cell_type": "code",
   "execution_count": 280,
   "metadata": {},
   "outputs": [],
   "source": [
    "class Canvas(app.Canvas):\n",
    "    def __init__(self, size=128):\n",
    "        super().__init__(size=(size, size))\n",
    "\n",
    "        self.program = Program(vertex, fragment, len(vertexBuffer))\n",
    "        self.program['color'] = colorBuffer\n",
    "        self.program['position'] = vertexBuffer\n",
    "        \n",
    "        gloo.set_viewport(0, 0, *self.physical_size)\n",
    "\n",
    "        self.show()\n",
    "\n",
    "    def on_draw(self, event):\n",
    "        gloo.clear()\n",
    "        self.program.draw('triangles')\n",
    "\n",
    "    def on_resize(self, event):\n",
    "        gloo.set_viewport(0, 0, *event.physical_size)\n",
    "\n",
    "mapSize = 128"
   ]
  },
  {
   "cell_type": "code",
   "execution_count": 281,
   "metadata": {},
   "outputs": [
    {
     "data": {
      "application/vnd.jupyter.widget-view+json": {
       "model_id": "0c3ed8c9c82f4c14b5bd778b753d7828",
       "version_major": 2,
       "version_minor": 0
      },
      "text/plain": [
       "RFBOutputContext()"
      ]
     },
     "metadata": {},
     "output_type": "display_data"
    },
    {
     "data": {
      "application/vnd.jupyter.widget-view+json": {
       "model_id": "0075f2a0144d454290268b48280f783f",
       "version_major": 2,
       "version_minor": 0
      },
      "text/html": [
       "<div class='snapshot-0075f2a0144d454290268b48280f783f' style='position:relative;'><img src='data:image/png;base64,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' style='width:128.0px;height:128.0px;' /><div style='position: absolute; top:0; left:0; padding:1px 3px; background: #777; color:#fff; font-size: 90%; font-family:sans-serif; '>snapshot</div></div>"
      ],
      "text/plain": [
       "CanvasBackend(css_height='128px', css_width='128px')"
      ]
     },
     "execution_count": 281,
     "metadata": {},
     "output_type": "execute_result"
    }
   ],
   "source": [
    "vertex = \"\"\"\n",
    "    attribute vec4 color;\n",
    "    attribute vec2 position;\n",
    "    varying vec4 v_color;\n",
    "    void main()\n",
    "    {\n",
    "        gl_Position = vec4(position, 0.0, 1.0);\n",
    "        v_color = vec4(1,1,1,1)-color;\n",
    "    } \"\"\"\n",
    "\n",
    "fragment = \"\"\"\n",
    "    varying vec4 v_color;\n",
    "    void main()\n",
    "    {\n",
    "        gl_FragColor = v_color;\n",
    "    } \"\"\"\n",
    "\n",
    "vertexBuffer, colorBuffer =  buildGLBuffers(uv,f,controlMap)\n",
    "\n",
    "c = Canvas(mapSize)\n",
    "c"
   ]
  },
  {
   "cell_type": "code",
   "execution_count": 282,
   "metadata": {},
   "outputs": [],
   "source": [
    "img=c.render('triangle_strip')\n",
    "vispy.io.image.write_png(\"controlMap.png\", img)"
   ]
  },
  {
   "cell_type": "code",
   "execution_count": 283,
   "metadata": {},
   "outputs": [
    {
     "data": {
      "application/vnd.jupyter.widget-view+json": {
       "model_id": "af25102f02624792b4c5f16d8034fa86",
       "version_major": 2,
       "version_minor": 0
      },
      "text/plain": [
       "RFBOutputContext()"
      ]
     },
     "metadata": {},
     "output_type": "display_data"
    },
    {
     "data": {
      "application/vnd.jupyter.widget-view+json": {
       "model_id": "1d0eede2dfa8495da15cb156421c876b",
       "version_major": 2,
       "version_minor": 0
      },
      "text/html": [
       "<div class='snapshot-1d0eede2dfa8495da15cb156421c876b' style='position:relative;'><img src='data:image/png;base64,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' style='width:128.0px;height:128.0px;' /><div style='position: absolute; top:0; left:0; padding:1px 3px; background: #777; color:#fff; font-size: 90%; font-family:sans-serif; '>snapshot</div></div>"
      ],
      "text/plain": [
       "CanvasBackend(css_height='128px', css_width='128px')"
      ]
     },
     "execution_count": 283,
     "metadata": {},
     "output_type": "execute_result"
    }
   ],
   "source": [
    "vertex = \"\"\"\n",
    "    attribute vec4 color;\n",
    "    attribute vec2 position;\n",
    "    varying vec4 v_color;\n",
    "    void main()\n",
    "    {\n",
    "        gl_Position = vec4(position, 0.0, 1.0);\n",
    "        v_color = vec4(color.rgb,1);\n",
    "    } \"\"\"\n",
    "\n",
    "fragment = \"\"\"\n",
    "    varying vec4 v_color;\n",
    "    void main()\n",
    "    {\n",
    "        gl_FragColor = v_color;\n",
    "    } \"\"\"\n",
    "\n",
    "vertexBuffer, colorBuffer = buildGLBuffers(uv,f,face_index_list)\n",
    "\n",
    "c = Canvas(mapSize)\n",
    "c"
   ]
  },
  {
   "cell_type": "code",
   "execution_count": 284,
   "metadata": {},
   "outputs": [],
   "source": [
    "img=c.render('triangle_strip')\n",
    "vispy.io.image.write_png(\"faceIndexMap.png\", img)"
   ]
  },
  {
   "cell_type": "code",
   "execution_count": 285,
   "metadata": {},
   "outputs": [
    {
     "data": {
      "application/vnd.jupyter.widget-view+json": {
       "model_id": "a9e65ffc02a844c8afa4b5d86cc03b29",
       "version_major": 2,
       "version_minor": 0
      },
      "text/plain": [
       "RFBOutputContext()"
      ]
     },
     "metadata": {},
     "output_type": "display_data"
    },
    {
     "data": {
      "application/vnd.jupyter.widget-view+json": {
       "model_id": "9cd43ebfbece44588b6f9d01e8419a82",
       "version_major": 2,
       "version_minor": 0
      },
      "text/html": [
       "<div class='snapshot-9cd43ebfbece44588b6f9d01e8419a82' style='position:relative;'><img src='data:image/png;base64,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' style='width:128.0px;height:128.0px;' /><div style='position: absolute; top:0; left:0; padding:1px 3px; background: #777; color:#fff; font-size: 90%; font-family:sans-serif; '>snapshot</div></div>"
      ],
      "text/plain": [
       "CanvasBackend(css_height='128px', css_width='128px')"
      ]
     },
     "execution_count": 285,
     "metadata": {},
     "output_type": "execute_result"
    }
   ],
   "source": [
    "vertex = \"\"\"\n",
    "    attribute vec4 color;\n",
    "    attribute vec2 position;\n",
    "    varying vec4 v_color;\n",
    "    void main()\n",
    "    {\n",
    "        gl_Position = vec4(position, 0.0, 1.0);\n",
    "        v_color = vec4(color.rgb,1);\n",
    "    } \"\"\"\n",
    "\n",
    "fragment = \"\"\"\n",
    "    varying vec4 v_color;\n",
    "    void main()\n",
    "    {\n",
    "        gl_FragColor = v_color;\n",
    "    } \"\"\"\n",
    "\n",
    "vertexBuffer, colorBuffer = buildGLBuffers(uv,f,xMap)\n",
    "c = Canvas(mapSize)\n",
    "c"
   ]
  },
  {
   "cell_type": "code",
   "execution_count": 286,
   "metadata": {},
   "outputs": [],
   "source": [
    "img=c.render('triangle_strip')\n",
    "vispy.io.image.write_png(\"xMap.png\", img)"
   ]
  },
  {
   "cell_type": "code",
   "execution_count": 287,
   "metadata": {},
   "outputs": [
    {
     "data": {
      "application/vnd.jupyter.widget-view+json": {
       "model_id": "1ddd14c211f64599812ea8f84cb7af46",
       "version_major": 2,
       "version_minor": 0
      },
      "text/plain": [
       "RFBOutputContext()"
      ]
     },
     "metadata": {},
     "output_type": "display_data"
    },
    {
     "data": {
      "application/vnd.jupyter.widget-view+json": {
       "model_id": "9e6bc6b574c042438c2e03119b5f286c",
       "version_major": 2,
       "version_minor": 0
      },
      "text/html": [
       "<div class='snapshot-9e6bc6b574c042438c2e03119b5f286c' style='position:relative;'><img src='data:image/png;base64,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' style='width:128.0px;height:128.0px;' /><div style='position: absolute; top:0; left:0; padding:1px 3px; background: #777; color:#fff; font-size: 90%; font-family:sans-serif; '>snapshot</div></div>"
      ],
      "text/plain": [
       "CanvasBackend(css_height='128px', css_width='128px')"
      ]
     },
     "execution_count": 287,
     "metadata": {},
     "output_type": "execute_result"
    }
   ],
   "source": [
    "vertexBuffer, colorBuffer = buildGLBuffers(uv,f,yMap)\n",
    "c = Canvas(mapSize)\n",
    "c"
   ]
  },
  {
   "cell_type": "code",
   "execution_count": 288,
   "metadata": {},
   "outputs": [],
   "source": [
    "img=c.render('triangle_strip')\n",
    "vispy.io.image.write_png(\"yMap.png\", img)"
   ]
  },
  {
   "cell_type": "code",
   "execution_count": 289,
   "metadata": {},
   "outputs": [
    {
     "data": {
      "application/vnd.jupyter.widget-view+json": {
       "model_id": "4e29935833a149d1b8d7a9279becdb0f",
       "version_major": 2,
       "version_minor": 0
      },
      "text/plain": [
       "RFBOutputContext()"
      ]
     },
     "metadata": {},
     "output_type": "display_data"
    },
    {
     "data": {
      "application/vnd.jupyter.widget-view+json": {
       "model_id": "8c4d0d189bef4d63ad65d6dd6b57c43d",
       "version_major": 2,
       "version_minor": 0
      },
      "text/html": [
       "<div class='snapshot-8c4d0d189bef4d63ad65d6dd6b57c43d' style='position:relative;'><img src='data:image/png;base64,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' style='width:128.0px;height:128.0px;' /><div style='position: absolute; top:0; left:0; padding:1px 3px; background: #777; color:#fff; font-size: 90%; font-family:sans-serif; '>snapshot</div></div>"
      ],
      "text/plain": [
       "CanvasBackend(css_height='128px', css_width='128px')"
      ]
     },
     "execution_count": 289,
     "metadata": {},
     "output_type": "execute_result"
    }
   ],
   "source": [
    "vertexBuffer, colorBuffer = buildGLBuffers(uv,f,zMap)\n",
    "c = Canvas(mapSize)\n",
    "c"
   ]
  },
  {
   "cell_type": "code",
   "execution_count": 290,
   "metadata": {},
   "outputs": [],
   "source": [
    "img=c.render('triangle_strip')\n",
    "vispy.io.image.write_png(\"zMap.png\", img)"
   ]
  },
  {
   "cell_type": "markdown",
   "metadata": {},
   "source": [
    "## Discretize the Control Map with an Error-Diffusion Dithering Algorithm\n",
    "\n",
    "- Using a dithering algorithm on the control map, we generate a set of sampling points for creating the new set of vertices for the remesh.\n",
    "- For full transparency, I started with this Floyd-Steinberg dithering code from https://github.com/10mrohit/floyd-steinberg-dithering by 10mrohit on github, and then modified it to fit the purposes of this project.\n",
    "- Made to work more like  \"A Simple and Efficient Error-Diffusion Algorithm\" by Victor Ostromoukhov, which is the algorithm recommended in \"Interactive Geometry Remeshing\"\n",
    "\n",
    "  Dither() is called like so: ```Dither(\"controlMap.png\", output=\"discreteControlMap.png\", level=75, intensity=1)```\n",
    "\n",
    "  - Set ```level``` to an integer from 0 to 127 and adjust if necessary to reduce artifacts in the output - it selects a set of coefficients from a hardcoded list of 128 smoothly interpolated sets.\n",
    "  - Set ```Intensity``` to a float at or around 1 to adjust the number of samples. Any values under 0.95 will start to create a lot of artifacts and you are better off adjusting the input control map to a smaller size if you want even less samples."
   ]
  },
  {
   "cell_type": "code",
   "execution_count": 291,
   "metadata": {},
   "outputs": [],
   "source": [
    "class Dither():\n",
    "    def __init__(self, path, level=1, intensity=1, algorithm=None, output=None):\n",
    "        self.distribution = np.array([\n",
    "            [13, 0, 5],[13, 0, 5],[21, 0, 10],[7, 0, 4],[8, 0, 5],[47, 3, 28],[23, 3, 13],\n",
    "            [15, 3, 8],[22, 6, 11],[43, 15, 20],[7, 3, 3],[501, 224, 211],[249, 116, 103],\n",
    "            [165, 80, 67],[123, 62, 49],[489, 256, 191],[81, 44, 31],[483, 272, 181],[60, 35, 22],\n",
    "            [53, 32, 19],[237, 148, 83],[471, 304, 161],[3, 2, 1],[481, 314, 185],[354, 226, 155],\n",
    "            [1389, 866, 685],[227, 138, 125],[267, 158, 163],[327, 188, 220],[61, 34, 45],[627, 338, 505],\n",
    "            [1227, 638, 1075],[20, 10, 19],[1937, 1000, 1767],[977, 520, 855],[657, 360, 551],[71, 40, 57],\n",
    "            [2005, 1160, 1539],[337, 200, 247],[2039, 1240, 1425],[257, 160, 171],[691, 440, 437],[1045, 680, 627],\n",
    "            [301, 200, 171],[177, 120, 95],[2141, 1480, 1083],[1079, 760, 513],[725, 520, 323],[137, 100, 57],[2209, 1640, 855],\n",
    "            [53, 40, 19],[2243, 1720, 741],[565, 440, 171],[759, 600, 209],[1147, 920, 285],[2311, 1880, 513],[97, 80, 19],\n",
    "            [335, 280, 57],[1181, 1000, 171],[793, 680, 95],[599, 520, 57],[2413, 2120, 171],[405, 360, 19],[2447, 2200, 57],\n",
    "            [11, 10, 0],[158, 151, 3],[178, 179, 7],[1030, 1091, 63],[248, 277, 21],[318, 375, 35],[458, 571, 63],[878, 1159, 147],\n",
    "            [5, 7, 1],[172, 181, 37],[97, 76, 22],[72, 41, 17],[119, 47, 29],[4, 1, 1],[4, 1, 1],[4, 1, 1],[4, 1, 1],[4, 1, 1],\n",
    "            [4, 1, 1],[4, 1, 1],[4, 1, 1],[4, 1, 1],[65, 18, 17],[95, 29, 26],[185, 62, 53],[30, 11, 9],[35, 14, 11],[85, 37, 28],\n",
    "            [55, 26, 19],[80, 41, 29],[155, 86, 59],[5, 3, 2],[5, 3, 2],[5, 3, 2],[5, 3, 2],[5, 3, 2],[5, 3, 2],[5, 3, 2],[5, 3, 2],\n",
    "            [5, 3, 2],[5, 3, 2],[5, 3, 2],[5, 3, 2],[5, 3, 2],[305, 176, 119],[155, 86, 59],[105, 56, 39],[80, 41, 29],[65, 32, 23],\n",
    "            [55, 26, 19],[335, 152, 113],[85, 37, 28],[115, 48, 37],[35, 14, 11],[355, 136, 109],[30, 11, 9],[365, 128, 107],[185, 62, 53],\n",
    "            [25, 8, 7],[95, 29, 26],[385, 112, 103],[65, 18, 17],[395, 104, 101],[4, 1, 1]\n",
    "        ])\n",
    "        self.intensity = intensity\n",
    "        self.distCoeffs = (1/np.sum(self.distribution[level])) * self.distribution[level]\n",
    "        self.path = self.get_path(path)\n",
    "        self.algorithm = algorithm\n",
    "        self.output = output\n",
    "        self.func = self.get_func(self.algorithm)\n",
    "        self.func(self.path)\n",
    "\n",
    "    def get_path(self, path):\n",
    "        if path.startswith('/') and not path.startswith('~/'):\n",
    "            return os.getcwd() + '/' + path\n",
    "        else:\n",
    "            return path\n",
    "\n",
    "    def get_func(self, algorithm):\n",
    "        return self.floyd_steinberg_dither\n",
    "\n",
    "    def apply_threshold(self, value):\n",
    "        return 255 * math.floor(value/128)\n",
    "\n",
    "    def floyd_steinberg_dither(self, image_file):\n",
    "        samples = 0\n",
    "        d10 = self.distCoeffs[0]\n",
    "        d01 = self.distCoeffs[1]\n",
    "        dn11 = self.distCoeffs[2]\n",
    "        new_img = Image.open(image_file)\n",
    "\n",
    "        new_img = new_img.convert('RGB')\n",
    "        pixel = new_img.load()\n",
    "        \n",
    "        x_lim, y_lim = new_img.size\n",
    "        \n",
    "        for y in range(1, y_lim):\n",
    "            for x in range(1, x_lim):\n",
    "                pixel[x, y] = (int(pixel[x, y][0] * (1/self.intensity)),0,0)\n",
    "                \n",
    "        for y in range(1, y_lim):\n",
    "            for x in range(1, x_lim):\n",
    "                oldpixel, _, _ = pixel[x, y]\n",
    "                newpixel = self.apply_threshold(oldpixel)\n",
    "                pixel[x, y] = newpixel, newpixel, newpixel\n",
    "                error = oldpixel - newpixel\n",
    "            \n",
    "                if x < x_lim - 1:\n",
    "                    value = pixel[x+1, y][0] + round(error * d10)\n",
    "                    pixel[x+1, y] = (value, value, value)\n",
    "\n",
    "                if x > 1 and y < y_lim - 1:\n",
    "                    value = pixel[x-1, y+1][0] + round(error * d01)\n",
    "                    pixel[x-1, y+1] = (value, value, value)\n",
    "\n",
    "                if y < y_lim - 1:\n",
    "                    value = pixel[x, y+1][0] + round(error * dn11)\n",
    "                    pixel[x, y+1] = (value, value, value)\n",
    "\n",
    "                if pixel[x, y][0] == 0:\n",
    "                    samples +=1\n",
    "        print(\"Samples:\",samples)\n",
    "        if self.output:\n",
    "            new_img.save(self.output)\n",
    "            display(new_img)\n",
    "        else:\n",
    "            new_img.show()\n"
   ]
  },
  {
   "cell_type": "code",
   "execution_count": 292,
   "metadata": {},
   "outputs": [
    {
     "name": "stdout",
     "output_type": "stream",
     "text": [
      "Samples: 2162\n"
     ]
    },
    {
     "data": {
      "image/png": "[encoded data removed]",
      "text/plain": [
       "<PIL.Image.Image image mode=RGB size=128x128>"
      ]
     },
     "metadata": {},
     "output_type": "display_data"
    },
    {
     "data": {
      "text/plain": [
       "<__main__.Dither at 0x12a804d3b50>"
      ]
     },
     "execution_count": 292,
     "metadata": {},
     "output_type": "execute_result"
    }
   ],
   "source": [
    "Dither(\"controlMap.png\", output=\"discreteControlMap.png\", level=30, intensity=1)"
   ]
  },
  {
   "cell_type": "markdown",
   "metadata": {},
   "source": [
    "## Generate List of Vertices Based on Discretized Control Map and Triangulate with Delauney Algorithm"
   ]
  },
  {
   "cell_type": "code",
   "execution_count": 293,
   "metadata": {},
   "outputs": [
    {
     "data": {
      "application/vnd.jupyter.widget-view+json": {
       "model_id": "1dded80669cc49a299516ee02cb0fe5f",
       "version_major": 2,
       "version_minor": 0
      },
      "text/plain": [
       "Renderer(camera=PerspectiveCamera(children=(DirectionalLight(color='white', intensity=0.6, position=(0.0, 0.0,…"
      ]
     },
     "metadata": {},
     "output_type": "display_data"
    },
    {
     "data": {
      "text/plain": [
       "1"
      ]
     },
     "execution_count": 293,
     "metadata": {},
     "output_type": "execute_result"
    }
   ],
   "source": [
    "def imageToMapCoords(imgX,imgY,height,width):\n",
    "    x = (imgX*2-width) / width\n",
    "    y = -(imgY*2-height) / height\n",
    "    return x,y\n",
    "\n",
    "def mapToImageCoords(mapX, mapY, height, width):\n",
    "    x = (mapX + 1)/2 * width\n",
    "    y = (-mapY + 1)/2 * height\n",
    "    x = min(int(x), width-1)\n",
    "    y = min(int(y), height-1)\n",
    "    return x,y\n",
    "    \n",
    "def uvFromControlMap(filename):\n",
    "    newUV = []\n",
    "    im = np.array(Image.open(filename))\n",
    "    for y in range(im.shape[0]):\n",
    "        for x in range(im.shape[1]):\n",
    "            if (im[y,x,0] == 0):\n",
    "                u,v=imageToMapCoords(x,y,im.shape[0],im.shape[1])\n",
    "                newUV.append([u,v])\n",
    "    return np.array(newUV)\n",
    "            \n",
    "def featureGraph(v,f):\n",
    "    feature_edge_list, _ = feature_edges(v,f,20)\n",
    "    bnd = igl.boundary_loop(f)\n",
    "    feature_graph = igl.map_vertices_to_circle(v, bnd)\n",
    "    feature_graph = np.array([circle_to_square(x_circ,y_circ) for [x_circ,y_circ] in feature_graph])\n",
    "    for coord in uv[feature_edge_list]:\n",
    "        feature_graph = np.append(feature_graph, coord, axis=0)\n",
    "    return feature_graph\n",
    "    \n",
    "\n",
    "\n",
    "remeshUV=uvFromControlMap(\"discreteControlMap.png\")\n",
    "feature_graph = featureGraph(v,f)\n",
    "\n",
    "remeshUV = np.append(remeshUV, feature_graph, axis=0)\n",
    "remeshF = sp.spatial.Delaunay(remeshUV).simplices\n",
    "\n",
    "p=mp.plot(remeshUV, remeshF, shading={\"wireframe\": 1, \"line_width\":0.9})\n",
    "p.add_points(remeshUV, shading={\"point_size\": .06, \"point_color\": \"black\"})"
   ]
  },
  {
   "cell_type": "markdown",
   "metadata": {},
   "source": [
    "## Optimize 2D Mesh\n",
    "\n",
    "### 1. Geometry Optimization with Laplacian Flow"
   ]
  },
  {
   "cell_type": "code",
   "execution_count": 294,
   "metadata": {},
   "outputs": [],
   "source": [
    "def laplacianFlow(uvCoords, uvF, features):\n",
    "    adj_list = igl.adjacency_list(uvF)\n",
    "    for i in range(len(adj_list)):\n",
    "        p = uvCoords[i]\n",
    "        deltaT = 0.3\n",
    "        if p not in features:\n",
    "            lapFlow = np.array([0,0])\n",
    "    \n",
    "            w = 1/len(adj_list[i])\n",
    "            \n",
    "            for adjVi in adj_list[i]:\n",
    "                adjV = uvCoords[adjVi]\n",
    "                w = w                               # fix weight function\n",
    "                lapFlow = lapFlow + w * (adjV - p)\n",
    "            uvCoords[i] = p + deltaT*lapFlow\n",
    "    return uvCoords"
   ]
  },
  {
   "cell_type": "markdown",
   "metadata": {},
   "source": [
    "### 2. Connectivity Optimization with Edge Swaps"
   ]
  },
  {
   "cell_type": "code",
   "execution_count": 295,
   "metadata": {},
   "outputs": [],
   "source": [
    "def edgeSwaps(uvCoords, uvF, features, numSwaps):\n",
    "    bnd_edges = igl.exterior_edges(uvF)\n",
    "    adj_list = igl.adjacency_list(uvF)\n",
    "    edgeList, _, edgeFaceTop = igl.edge_topology(uvCoords, uvF)\n",
    "    \n",
    "    for i in range(numSwaps):\n",
    "        edge = edgeList[random.randint(0,len(edgeList)-1)]\n",
    "        edgeV0 = uvCoords[edge[0]]\n",
    "        edgeV1 = uvCoords[edge[1]]\n",
    "\n",
    "        if edge in bnd_edges:\n",
    "            continue\n",
    "        elif edge in features:\n",
    "            continue\n",
    "        elif (edgeV0 in features) and (edgeV1 in features):\n",
    "            continue\n",
    "        else:\n",
    "            edgeV0Adj = adj_list[edge[0]]\n",
    "            edgeV1Adj = adj_list[edge[1]]\n",
    "            \n",
    "            oppEdge = []\n",
    "            for adjV in edgeV0Adj:\n",
    "                if adjV in edgeV1Adj:\n",
    "                    oppEdge.append(adjV)\n",
    "  \n",
    "            edgeV0AdjVal = len(edgeV0Adj)\n",
    "            edgeV1AdjVal = len(edgeV1Adj)\n",
    "            oppEdgeV0Val = len(adj_list[oppEdge[0]])\n",
    "            oppEdgeV1Val = len(adj_list[oppEdge[1]])\n",
    "\n",
    "            if (edgeV0AdjVal+edgeV1AdjVal > oppEdgeV0Val+oppEdgeV1Val):\n",
    "                edgeFaces = edgeFaceTop[i]\n",
    "    \n",
    "                v0 = uvF[edgeFaces][0][0]\n",
    "                v1 = uvF[edgeFaces][0][1]\n",
    "                v2 = uvF[edgeFaces][0][2]\n",
    "\n",
    "                for vn in  uvF[edgeFaces][0]:\n",
    "                    if vn not in uvF[edgeFaces][1]:\n",
    "                        v3 = vn\n",
    "\n",
    "                uvF[edgeFaces][0] = [v0,v2,v3]\n",
    "                uvF[edgeFaces][1] = [v2,v3,v1]\n",
    "                adj_list = igl.adjacency_list(uvF)\n",
    "                edgeList, _, edgeFaceTop = igl.edge_topology(uvCoords, uvF)            \n",
    "    return uvF"
   ]
  },
  {
   "cell_type": "markdown",
   "metadata": {},
   "source": [
    "### 3. Combine Optimization Algorithms to Obtain Desirable Mesh\n",
    "```edgeSwaps()``` and ```laplacianFlow()``` can be performed iteratively to the user's liking."
   ]
  },
  {
   "cell_type": "code",
   "execution_count": 296,
   "metadata": {},
   "outputs": [
    {
     "data": {
      "application/vnd.jupyter.widget-view+json": {
       "model_id": "723cd044a6b64d1d964da6124783bb78",
       "version_major": 2,
       "version_minor": 0
      },
      "text/plain": [
       "Renderer(camera=PerspectiveCamera(children=(DirectionalLight(color='white', intensity=0.6, position=(0.0, 0.0,…"
      ]
     },
     "metadata": {},
     "output_type": "display_data"
    }
   ],
   "source": [
    "feature_edge_list, _ = feature_edges(v,f,20)\n",
    "remeshF = edgeSwaps(remeshUV, remeshF, feature_edge_list,300)\n",
    "remeshUV = laplacianFlow(remeshUV, remeshF, feature_graph)\n",
    "    \n",
    "p=mp.plot(remeshUV, remeshF, shading={\"wireframe\": 1, \"line_width\":0.9})"
   ]
  },
  {
   "cell_type": "markdown",
   "metadata": {},
   "source": [
    "## Convert 2D UV Coordinates to 3D Using Embedding Maps\n",
    "\n",
    "Note that the embedding maps have limited resolution so this solution results in a fair bit of distortion. If one used a face index map for quick lookups and then calculated positions based on barycentric coordinates within faces, much higher resolution could be achieved. I ran into issues preserving "
   ]
  },
  {
   "cell_type": "code",
   "execution_count": 297,
   "metadata": {},
   "outputs": [
    {
     "data": {
      "application/vnd.jupyter.widget-view+json": {
       "model_id": "af7675b70522464fb9cd1cb22529c153",
       "version_major": 2,
       "version_minor": 0
      },
      "text/plain": [
       "Renderer(camera=PerspectiveCamera(children=(DirectionalLight(color='white', intensity=0.6, position=(0.2238929…"
      ]
     },
     "metadata": {},
     "output_type": "display_data"
    }
   ],
   "source": [
    "def uvMapToXYZ(uvCoords, v, xMapImg, yMapImg, zMapImg):\n",
    "    newV = []\n",
    "    Xim = np.array(Image.open(xMapImg))\n",
    "    Yim = np.array(Image.open(yMapImg))\n",
    "    Zim = np.array(Image.open(zMapImg))\n",
    "\n",
    "    xRange = max(v[:,0]) - min(v[:,0])\n",
    "    yRange = max(v[:,1]) - min(v[:,1])\n",
    "    zRange = max(v[:,2]) - min(v[:,2])\n",
    "    \n",
    "    for [xMap, yMap] in uvCoords:\n",
    "        imX, imY = mapToImageCoords(xMap, yMap, Xim.shape[0], Xim.shape[1])\n",
    "        uvXYZ = [xRange*np.sum(Xim[imY,imX]),\n",
    "                 yRange*np.sum(Yim[imY,imX]),\n",
    "                 zRange*np.sum(Zim[imY,imX])]\n",
    "        newV.append(uvXYZ)\n",
    "\n",
    "    return (1/255)*np.array(newV)\n",
    "\n",
    "\n",
    "remeshV = uvMapToXYZ(remeshUV, v, \"xMap.png\", \"yMap.png\", \"zMap.png\")\n",
    "p=mp.plot(remeshV, remeshF, shading={\"wireframe\": 1, \"line_width\":0.2})"
   ]
  },
  {
   "cell_type": "code",
   "execution_count": null,
   "metadata": {},
   "outputs": [],
   "source": []
  }
 ],
 "metadata": {
  "kernelspec": {
   "display_name": "Python 3 (ipykernel)",
   "language": "python",
   "name": "python3"
  },
  "language_info": {
   "codemirror_mode": {
    "name": "ipython",
    "version": 3
   },
   "file_extension": ".py",
   "mimetype": "text/x-python",
   "name": "python",
   "nbconvert_exporter": "python",
   "pygments_lexer": "ipython3",
   "version": "3.9.13"
  }
 },
 "nbformat": 4,
 "nbformat_minor": 4
}
