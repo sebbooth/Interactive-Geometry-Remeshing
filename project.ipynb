{
 "cells": [
  {
   "cell_type": "markdown",
   "metadata": {},
   "source": [
    "# Neighborhood Computations"
   ]
  },
  {
   "cell_type": "code",
   "execution_count": 179,
   "metadata": {},
   "outputs": [],
   "source": [
    "import numpy as np\n",
    "import igl\n",
    "import math\n",
    "import random\n",
    "import meshplot as mp\n",
    "import scipy as sp\n",
    "import ipywidgets as iw\n",
    "\n",
    "import vispy\n",
    "from vispy import io\n",
    "from vispy import app, gloo\n",
    "from vispy.gloo import Program\n",
    "from PIL import Image\n",
    "import jupyter_rfb"
   ]
  },
  {
   "cell_type": "markdown",
   "metadata": {},
   "source": [
    "## Defining Feature Edges With Dihedral Angle Thresholding\n",
    "### TODO: User Constraints?\n",
    "Not sure how to implememt click-to-select vertices/faces, but maybe user-inputted list?"
   ]
  },
  {
   "cell_type": "code",
   "execution_count": 304,
   "metadata": {},
   "outputs": [
    {
     "data": {
      "application/vnd.jupyter.widget-view+json": {
       "model_id": "392e405d0a3e4a919237f6341921b6a0",
       "version_major": 2,
       "version_minor": 0
      },
      "text/plain": [
       "Renderer(camera=PerspectiveCamera(children=(DirectionalLight(color='white', intensity=0.6, position=(0.0, 0.0,…"
      ]
     },
     "metadata": {},
     "output_type": "display_data"
    },
    {
     "data": {
      "text/plain": [
       "1"
      ]
     },
     "execution_count": 304,
     "metadata": {},
     "output_type": "execute_result"
    }
   ],
   "source": [
    "def feature_edges(v,f,threshold):\n",
    "    edge_faces = []\n",
    "\n",
    "    dihedral_threshold = threshold/180 * np.pi\n",
    "    f_normals = igl.per_face_normals(v,f,np.ndarray([0,0]))\n",
    "    edge_flaps = igl.edge_flaps(f)\n",
    "    edges = edge_flaps[0]\n",
    "    \n",
    "    threshold_edges = []\n",
    "    for i in range(edges.shape[0]):\n",
    "        # find normals of faces connecting edge\n",
    "        edge_face_norms = f_normals[edge_flaps[2][i]]\n",
    "\n",
    "        # find dihedral angle between edge faces\n",
    "        f1n = edge_face_norms[0] / np.linalg.norm(edge_face_norms[0])\n",
    "        f2n = edge_face_norms[1] / np.linalg.norm(edge_face_norms[1])\n",
    "        dihedral_angle = np.arccos(np.clip(np.dot(f1n, f2n), -1.0, 1.0))\n",
    "\n",
    "        # add angles greater than threshold to list\n",
    "        if dihedral_angle > dihedral_threshold or (-1 in edge_flaps[2][i]):\n",
    "            threshold_edges.append(edges[i])\n",
    "            \n",
    "            # add edge faces to list\n",
    "            if edge_flaps[2][i][0] != -1:\n",
    "                edge_faces.append(edge_flaps[2][i][0])\n",
    "            if edge_flaps[2][i][1] != -1:\n",
    "                edge_faces.append(edge_flaps[2][i][1])\n",
    "\n",
    "    threshold_edges = np.array(threshold_edges)\n",
    "    return threshold_edges, edge_faces\n",
    "\n",
    "\n",
    "\n",
    "v, f = igl.read_triangle_mesh(\"data/curve.off\")\n",
    "feature_edge_list, edge_faces = feature_edges(v,f,20)\n",
    "\n",
    "col = np.ones_like(f)\n",
    "col[edge_faces, 1:] = 0\n",
    "\n",
    "p = mp.plot(v, f, c=col, shading={\"wireframe\": 0})\n",
    "p.add_lines(v[feature_edge_list][:,0], v[feature_edge_list][:,1], shading={\"line_color\": \"yellow\"})"
   ]
  },
  {
   "cell_type": "markdown",
   "metadata": {},
   "source": [
    "## Parametrization onto Square Map"
   ]
  },
  {
   "cell_type": "code",
   "execution_count": 307,
   "metadata": {},
   "outputs": [
    {
     "data": {
      "application/vnd.jupyter.widget-view+json": {
       "model_id": "422fa82fed0c495682354084e04f4b81",
       "version_major": 2,
       "version_minor": 0
      },
      "text/plain": [
       "Renderer(camera=PerspectiveCamera(children=(DirectionalLight(color='white', intensity=0.6, position=(0.0, 0.0,…"
      ]
     },
     "metadata": {},
     "output_type": "display_data"
    },
    {
     "data": {
      "application/vnd.jupyter.widget-view+json": {
       "model_id": "5eb4d71f60284ad98380dae85af1f398",
       "version_major": 2,
       "version_minor": 0
      },
      "text/plain": [
       "interactive(children=(Dropdown(description='mode', options=('2D', '3D'), value='2D'), Output()), _dom_classes=…"
      ]
     },
     "metadata": {},
     "output_type": "display_data"
    }
   ],
   "source": [
    "def circle_to_square(x_circ,y_circ):\n",
    "    x = 0.5 * np.sqrt( 2 + x_circ**2 - y_circ**2 + 2*x_circ*np.sqrt(2) ) - 0.5 * np.sqrt( 2 + x_circ**2 - y_circ**2 - 2*x_circ*np.sqrt(2) )\n",
    "    y = 0.5 * np.sqrt( 2 - x_circ**2 + y_circ**2 + 2*y_circ*np.sqrt(2) ) - 0.5 * np.sqrt( 2 - x_circ**2 + y_circ**2 - 2*y_circ*np.sqrt(2) )\n",
    "    x = round(max(min(1,x),-1),5)\n",
    "    y = round(max(min(1,y),-1),5)\n",
    "    return [x,y]\n",
    "\n",
    "def parametrize(v,f):\n",
    "    ## Find the open boundary\n",
    "    bnd = igl.boundary_loop(f)\n",
    "    \n",
    "    ## Map the boundary to a circle, preserving edge proportions\n",
    "    bnd_uv = igl.map_vertices_to_circle(v, bnd)\n",
    "    \n",
    "    # remap circle boundary onto square\n",
    "    bnd_uv = np.array([circle_to_square(x_circ,y_circ) for [x_circ,y_circ] in bnd_uv])\n",
    "\n",
    "    # force points into corners\n",
    "    TL = np.array([-1,1])\n",
    "    TR = np.array([1,1])\n",
    "    BL = np.array([-1,-1])\n",
    "    BR = np.array([1,-1])\n",
    "    bndTL = 0\n",
    "    bndTR = 0\n",
    "    bndBL = 0\n",
    "    bndBR = 0\n",
    "    for coordi, coord in enumerate(bnd_uv):\n",
    "        if np.linalg.norm(coord-TL) < np.linalg.norm(bnd_uv[bndTL]-TL):\n",
    "            bndTL = coordi\n",
    "        if np.linalg.norm(coord-TR) < np.linalg.norm(bnd_uv[bndTR]-TR):\n",
    "            bndTR = coordi\n",
    "        if np.linalg.norm(coord-BL) < np.linalg.norm(bnd_uv[bndBL]-BL):\n",
    "            bndBL = coordi\n",
    "        if np.linalg.norm(coord-BR) < np.linalg.norm(bnd_uv[bndBR]-BR):\n",
    "            bndBR = coordi\n",
    "\n",
    "    bnd_uv[bndTL] = TL\n",
    "    bnd_uv[bndTR] = TR\n",
    "    bnd_uv[bndBL] = BL\n",
    "    bnd_uv[bndBR] = BR\n",
    "    ## Harmonic parametrization for the internal vertices\n",
    "    return igl.harmonic(v, f, bnd, bnd_uv, 1)\n",
    "\n",
    "\n",
    "v, f = igl.read_triangle_mesh(\"data/curve.off\")\n",
    "uv = parametrize(v,f)\n",
    "feature_edge_list, _ = feature_edges(v,f,20)\n",
    "\n",
    "\n",
    "p = mp.plot(v, f, c=np.ones_like(f), shading={\"wireframe\": False})\n",
    "p.add_lines(v[feature_edge_list][:,0], v[feature_edge_list][:,1], shading={\"line_color\": \"yellow\"})\n",
    "@iw.interact(mode=['2D','3D'])\n",
    "def switch(mode):\n",
    "    if mode == \"3D\":\n",
    "        mp.plot(v, f, c=uv[:,0],shading={\"wireframe\": 0}, plot=p)\n",
    "        p.add_lines(v[feature_edge_list][:,0], v[feature_edge_list][:,1], shading={\"line_color\": \"yellow\"})\n",
    "        \n",
    "    if mode == \"2D\":\n",
    "        mp.plot(uv, f, c=np.ones_like(f), shading={\"wireframe\": 1, \"line_width\":0.2}, plot=p)\n",
    "        p.add_lines(uv[feature_edge_list][:,0], uv[feature_edge_list][:,1], shading={\"line_color\": \"black\"})\n",
    "        p.add_points(uv, shading={\"point_size\": .04})"
   ]
  },
  {
   "cell_type": "markdown",
   "metadata": {},
   "source": [
    "## Geometry Maps"
   ]
  },
  {
   "cell_type": "markdown",
   "metadata": {},
   "source": [
    "### 1. Area Distortion Map"
   ]
  },
  {
   "cell_type": "code",
   "execution_count": 306,
   "metadata": {},
   "outputs": [
    {
     "data": {
      "application/vnd.jupyter.widget-view+json": {
       "model_id": "157cad17d3f8480bae7e795f9af40e8b",
       "version_major": 2,
       "version_minor": 0
      },
      "text/plain": [
       "Renderer(camera=PerspectiveCamera(children=(DirectionalLight(color='white', intensity=0.6, position=(0.0, 0.0,…"
      ]
     },
     "metadata": {},
     "output_type": "display_data"
    },
    {
     "data": {
      "text/plain": [
       "2"
      ]
     },
     "execution_count": 306,
     "metadata": {},
     "output_type": "execute_result"
    }
   ],
   "source": [
    "def normalizeZeroToOne(arr):\n",
    "    if(min(arr) < 0):\n",
    "        arr -= min(arr)\n",
    "    return (1/max(arr)) * arr\n",
    "    \n",
    "def areaDistortion(v,uv,f):\n",
    "    a3d = igl.doublearea(v,f)\n",
    "    a2d = igl.doublearea(uv,f)\n",
    "\n",
    "    VF, NI = igl.vertex_triangle_adjacency(f,v.shape[0])\n",
    "    face_area_distortion = a3d/a2d\n",
    "\n",
    "    vert_area_distortion = np.zeros_like(v[:,0])\n",
    "    for i in range(v.shape[0]):\n",
    "        face0 = NI[i]\n",
    "        facen = NI[i+1]\n",
    "        faces = VF[face0:facen]\n",
    "        faceAreas = a3d[faces]\n",
    "        faceAreas = (1/np.sum(faceAreas)) * faceAreas\n",
    "        #print(i, faces,faceAreas)\n",
    "\n",
    "        vertAD = 0\n",
    "        for facei, face in enumerate(faces):\n",
    "            vertAD += face_area_distortion[face] * faceAreas[facei]\n",
    "        vert_area_distortion[i] = vertAD\n",
    "\n",
    "    return normalizeZeroToOne(vert_area_distortion)\n",
    "\n",
    "\n",
    "v, f = igl.read_triangle_mesh(\"data/curve.off\")\n",
    "uv = parametrize(v,f)\n",
    "feature_edge_list, _ = feature_edges(v,f,10)\n",
    "area_distortion = areaDistortion(v,uv,f)\n",
    "\n",
    "a = mp.plot(uv, f, c=area_distortion, shading={\"wireframe\": 0, \"line_width\":0.2})\n",
    "a.add_lines(uv[feature_edge_list][:,0], uv[feature_edge_list][:,1], shading={\"line_color\": \"black\"})\n",
    "a.add_points(uv, shading={\"point_size\": .03, \"point_color\": \"black\"})"
   ]
  },
  {
   "cell_type": "markdown",
   "metadata": {},
   "source": [
    "### 2. Curvature Maps"
   ]
  },
  {
   "cell_type": "code",
   "execution_count": 183,
   "metadata": {},
   "outputs": [
    {
     "data": {
      "application/vnd.jupyter.widget-view+json": {
       "model_id": "9f3022e594d44055a905458967de32f8",
       "version_major": 2,
       "version_minor": 0
      },
      "text/plain": [
       "Renderer(camera=PerspectiveCamera(children=(DirectionalLight(color='white', intensity=0.6, position=(0.0, 0.0,…"
      ]
     },
     "metadata": {},
     "output_type": "display_data"
    },
    {
     "data": {
      "application/vnd.jupyter.widget-view+json": {
       "model_id": "b18dc9a190e145b78802091647b71f3f",
       "version_major": 2,
       "version_minor": 0
      },
      "text/plain": [
       "interactive(children=(Dropdown(description='mode', options=('Gaussian', 'Max', 'Min', 'Total'), value='Gaussia…"
      ]
     },
     "metadata": {},
     "output_type": "display_data"
    }
   ],
   "source": [
    "def curveMaps(v,f):\n",
    "    gaussCurv = igl.gaussian_curvature(v,f)\n",
    "    _, _, maxCurv, minCurv = igl.principal_curvature(v, f)\n",
    "    totalCurv = maxCurv * maxCurv + minCurv * minCurv\n",
    "\n",
    "    gaussCurv = normalizeZeroToOne(gaussCurv * gaussCurv)\n",
    "    maxCurv = normalizeZeroToOne(maxCurv)\n",
    "    minCurv = normalizeZeroToOne(minCurv)\n",
    "    totalCurv = normalizeZeroToOne(totalCurv)\n",
    "\n",
    "    return gaussCurv, maxCurv, minCurv, totalCurv\n",
    "\n",
    "\n",
    "v, f = igl.read_triangle_mesh(\"data/curve.off\")\n",
    "uv = parametrize(v,f)\n",
    "feature_edge_list, _ = feature_edges(v,f,10)\n",
    "gaussCurv, maxCurv, minCurv, totalCurv = curveMaps(v,f)\n",
    "\n",
    "a = mp.plot(uv, f, c=gaussCurv, shading={\"wireframe\": 0, \"line_width\":0.2})\n",
    "a.add_lines(uv[feature_edge_list][:,0], uv[feature_edge_list][:,1], shading={\"line_color\": \"black\"})\n",
    "a.add_points(uv, shading={\"point_size\": .03, \"point_color\": \"black\"})\n",
    "@iw.interact(mode=['Gaussian','Max','Min','Total'])\n",
    "def switch(mode):\n",
    "    if mode == \"Gaussian\":\n",
    "        mp.plot(uv, f, c=gaussCurv, shading={\"wireframe\": 0, \"line_width\":0.2}, plot=a)\n",
    "        a.add_lines(uv[feature_edge_list][:,0], uv[feature_edge_list][:,1], shading={\"line_color\": \"black\"})\n",
    "        a.add_points(uv, shading={\"point_size\": .03, \"point_color\": \"black\"})\n",
    "        \n",
    "    if mode == \"Max\":\n",
    "        mp.plot(uv, f, c=maxCurv, shading={\"wireframe\": 0, \"line_width\":0.2}, plot=a)\n",
    "        a.add_lines(uv[feature_edge_list][:,0], uv[feature_edge_list][:,1], shading={\"line_color\": \"black\"})\n",
    "        a.add_points(uv, shading={\"point_size\": .03, \"point_color\": \"black\"})\n",
    "        \n",
    "    if mode == \"Min\":\n",
    "        mp.plot(uv, f, c=minCurv, shading={\"wireframe\": 0, \"line_width\":0.2}, plot=a)\n",
    "        a.add_lines(uv[feature_edge_list][:,0], uv[feature_edge_list][:,1], shading={\"line_color\": \"black\"})\n",
    "        a.add_points(uv, shading={\"point_size\": .03, \"point_color\": \"black\"})\n",
    "        \n",
    "    if mode == \"Total\":\n",
    "        mp.plot(uv, f, c=totalCurv, shading={\"wireframe\": 0, \"line_width\":0.2}, plot=a)\n",
    "        a.add_lines(uv[feature_edge_list][:,0], uv[feature_edge_list][:,1], shading={\"line_color\": \"black\"})\n",
    "        a.add_points(uv, shading={\"point_size\": .03, \"point_color\": \"black\"})"
   ]
  },
  {
   "cell_type": "markdown",
   "metadata": {},
   "source": [
    "### 3. Embedding Map"
   ]
  },
  {
   "cell_type": "code",
   "execution_count": 184,
   "metadata": {},
   "outputs": [
    {
     "data": {
      "application/vnd.jupyter.widget-view+json": {
       "model_id": "345558f9427c42d1a762f65f07b2baed",
       "version_major": 2,
       "version_minor": 0
      },
      "text/plain": [
       "Renderer(camera=PerspectiveCamera(children=(DirectionalLight(color='white', intensity=0.6, position=(0.0, 0.0,…"
      ]
     },
     "metadata": {},
     "output_type": "display_data"
    },
    {
     "data": {
      "application/vnd.jupyter.widget-view+json": {
       "model_id": "cf0a1d62c4984af991e56cbdab99bdf0",
       "version_major": 2,
       "version_minor": 0
      },
      "text/plain": [
       "interactive(children=(Dropdown(description='mode', options=('Vertex Position', 'xMap', 'yMap', 'zMap'), value=…"
      ]
     },
     "metadata": {},
     "output_type": "display_data"
    }
   ],
   "source": [
    "def scalarToRGB(scalarMap):\n",
    "    rgbMap = []\n",
    "    for i in range(scalarMap.shape[0]):\n",
    "        r = scalarMap[i]\n",
    " \n",
    "        g = max(0,(scalarMap[i]-1/3))\n",
    " \n",
    "        b = max(0,(scalarMap[i]-2/3))\n",
    "            \n",
    "        rgbMap.append([r,g,b])\n",
    "    return np.array(rgbMap)\n",
    "\n",
    "def embeddingMaps(v):\n",
    "    xMap = v[:,0].copy()\n",
    "    yMap = v[:,1].copy()\n",
    "    zMap = v[:,2].copy()\n",
    "    xMap = normalizeZeroToOne(xMap)\n",
    "    yMap = normalizeZeroToOne(yMap)\n",
    "    zMap = normalizeZeroToOne(zMap)\n",
    "    \n",
    "    return scalarToRGB(xMap), scalarToRGB(yMap), scalarToRGB(zMap)\n",
    "\n",
    "v, f = igl.read_triangle_mesh(\"data/curve.off\")\n",
    "uv = parametrize(v,f)\n",
    "feature_edge_list, _ = feature_edges(v,f,10)\n",
    "xMap, yMap, zMap = embeddingMaps(v)\n",
    "\n",
    "a = mp.plot(uv, f, c=v, shading={\"wireframe\": 0, \"line_width\":0.2})\n",
    "a.add_lines(uv[feature_edge_list][:,0], uv[feature_edge_list][:,1], shading={\"line_color\": \"black\"})\n",
    "a.add_points(uv, shading={\"point_size\": .03, \"point_color\": \"black\"})\n",
    "@iw.interact(mode=['Vertex Position','xMap','yMap','zMap'])\n",
    "def switch(mode):\n",
    "    if mode == \"Vertex Position\":\n",
    "        mp.plot(uv, f, c=v, shading={\"wireframe\": 0, \"line_width\":0.2}, plot=a)\n",
    "        a.add_lines(uv[feature_edge_list][:,0], uv[feature_edge_list][:,1], shading={\"line_color\": \"black\"})\n",
    "        a.add_points(uv, shading={\"point_size\": .03, \"point_color\": \"black\"})\n",
    "        \n",
    "    if mode == \"xMap\":\n",
    "        mp.plot(uv, f, c=xMap, shading={\"wireframe\": 0, \"line_width\":0.2}, plot=a)\n",
    "        a.add_lines(uv[feature_edge_list][:,0], uv[feature_edge_list][:,1], shading={\"line_color\": \"black\"})\n",
    "        a.add_points(uv, shading={\"point_size\": .03, \"point_color\": \"black\"})\n",
    "        \n",
    "    if mode == \"yMap\":\n",
    "        mp.plot(uv, f, c=yMap, shading={\"wireframe\": 0, \"line_width\":0.2}, plot=a)\n",
    "        a.add_lines(uv[feature_edge_list][:,0], uv[feature_edge_list][:,1], shading={\"line_color\": \"black\"})\n",
    "        a.add_points(uv, shading={\"point_size\": .03, \"point_color\": \"black\"})\n",
    "        \n",
    "    if mode == \"zMap\":\n",
    "        mp.plot(uv, f, c=zMap, shading={\"wireframe\": 0, \"line_width\":0.2}, plot=a)\n",
    "        a.add_lines(uv[feature_edge_list][:,0], uv[feature_edge_list][:,1], shading={\"line_color\": \"black\"})\n",
    "        a.add_points(uv, shading={\"point_size\": .03, \"point_color\": \"black\"})\n"
   ]
  },
  {
   "cell_type": "markdown",
   "metadata": {},
   "source": [
    "### 4. Face Index Map"
   ]
  },
  {
   "cell_type": "code",
   "execution_count": 185,
   "metadata": {},
   "outputs": [
    {
     "data": {
      "application/vnd.jupyter.widget-view+json": {
       "model_id": "6f2b5756fc3843fea0860aa3e7a18263",
       "version_major": 2,
       "version_minor": 0
      },
      "text/plain": [
       "Renderer(camera=PerspectiveCamera(children=(DirectionalLight(color='white', intensity=0.6, position=(0.0, 0.0,…"
      ]
     },
     "metadata": {},
     "output_type": "display_data"
    },
    {
     "data": {
      "text/plain": [
       "2"
      ]
     },
     "execution_count": 185,
     "metadata": {},
     "output_type": "execute_result"
    }
   ],
   "source": [
    "def indexMap(v,f):\n",
    "    face_index_list = []\n",
    "    face_index_map = {}\n",
    "    \n",
    "    for i in range(f.shape[0]):\n",
    "        face_col = [random.uniform(0,255),random.uniform(0,255),random.uniform(0,255)]\n",
    "        face_index_list.append(face_col)\n",
    "        while str(face_index_list[i]) in face_index_map:\n",
    "            face_index_list[i] = [random.uniform(0,255),random.uniform(0,255),random.uniform(0,255)]\n",
    "        face_index_map[str(face_index_list[i])] = i\n",
    "        \n",
    "    face_index_list = np.array(face_index_list)\n",
    "    return face_index_list, face_index_map\n",
    "\n",
    "random.seed(1)\n",
    "v, f = igl.read_triangle_mesh(\"data/curve.off\")\n",
    "uv = parametrize(v,f)\n",
    "feature_edge_list, _ = feature_edges(v,f,10)\n",
    "face_index_list, face_index_map = indexMap(v,f)\n",
    "face_index_list = (1/255) * face_index_list\n",
    "\n",
    "a = mp.plot(uv, f, c=face_index_list, shading={\"wireframe\": 0, \"line_width\":0.2})\n",
    "a.add_lines(uv[feature_edge_list][:,0], uv[feature_edge_list][:,1], shading={\"line_color\": \"black\"})\n",
    "a.add_points(uv, shading={\"point_size\": .03, \"point_color\": \"black\"})"
   ]
  },
  {
   "cell_type": "markdown",
   "metadata": {},
   "source": [
    "### 5. (optional) Additional Maps\n",
    "\n",
    "ex: normal, texture, color\n",
    "\n",
    "Useful if the remeshed model needs these attributes added after remeshing, not needed for remeshing process itself."
   ]
  },
  {
   "cell_type": "code",
   "execution_count": 186,
   "metadata": {},
   "outputs": [
    {
     "data": {
      "application/vnd.jupyter.widget-view+json": {
       "model_id": "2b1296b46b0141d788d94686ba5fce04",
       "version_major": 2,
       "version_minor": 0
      },
      "text/plain": [
       "Renderer(camera=PerspectiveCamera(children=(DirectionalLight(color='white', intensity=0.6, position=(0.0, 0.0,…"
      ]
     },
     "metadata": {},
     "output_type": "display_data"
    },
    {
     "data": {
      "text/plain": [
       "2"
      ]
     },
     "execution_count": 186,
     "metadata": {},
     "output_type": "execute_result"
    }
   ],
   "source": [
    "v, f = igl.read_triangle_mesh(\"data/curve.off\")\n",
    "uv = parametrize(v,f)\n",
    "feature_edge_list, _ = feature_edges(v,f,10)\n",
    "\n",
    "v_p = np.hstack([uv, np.zeros((uv.shape[0],1))])\n",
    "pvn = igl.per_vertex_normals(v,f)\n",
    "\n",
    "a = mp.plot(uv, f, c=pvn, shading={\"wireframe\": 0, \"line_width\":0.2})\n",
    "a.add_lines(uv[feature_edge_list][:,0], uv[feature_edge_list][:,1], shading={\"line_color\": \"black\"})\n",
    "a.add_points(uv, shading={\"point_size\": .03, \"point_color\": \"black\"})"
   ]
  },
  {
   "cell_type": "markdown",
   "metadata": {},
   "source": [
    "## Combining Maps to Create Control Map"
   ]
  },
  {
   "cell_type": "code",
   "execution_count": 187,
   "metadata": {},
   "outputs": [
    {
     "data": {
      "application/vnd.jupyter.widget-view+json": {
       "model_id": "7a9fc7b6a0cb40cdadbeb23329eb6587",
       "version_major": 2,
       "version_minor": 0
      },
      "text/plain": [
       "Renderer(camera=PerspectiveCamera(children=(DirectionalLight(color='white', intensity=0.6, position=(0.0, 0.0,…"
      ]
     },
     "metadata": {},
     "output_type": "display_data"
    },
    {
     "data": {
      "application/vnd.jupyter.widget-view+json": {
       "model_id": "f070b5069a154ef2bd8618df89fe7692",
       "version_major": 2,
       "version_minor": 0
      },
      "text/plain": [
       "interactive(children=(FloatSlider(value=0.5, description='areaDistortionFactor', max=1.0), FloatSlider(value=0…"
      ]
     },
     "metadata": {},
     "output_type": "display_data"
    }
   ],
   "source": [
    "def designControlMap(v,f):\n",
    "    uv = parametrize(v,f)\n",
    "    feature_edge_list, _ = feature_edges(v,f,10)\n",
    "    \n",
    "    area_distortion = areaDistortion(v,uv,f)\n",
    "    gaussCurv, maxCurv, minCurv, totalCurv = curveMaps(v,f)\n",
    "\n",
    "    areaDistortionFactor = 0.5\n",
    "    gaussCurvFactor = 0.5\n",
    "    maxCurvFactor = 0.5\n",
    "    minCurvFactor = 0.5\n",
    "    totalCurvFactor = 0.5\n",
    "    \n",
    "    controlMap =  areaDistortionFactor * area_distortion + gaussCurvFactor * gaussCurv + maxCurvFactor * maxCurv + minCurvFactor * minCurv + totalCurvFactor * totalCurv\n",
    "    controlMap = normalizeZeroToOne(controlMap)\n",
    "\n",
    "    a = mp.plot(uv, f, c=controlMap, shading={\"wireframe\": 0, \"line_width\":0.2})\n",
    "    @mp.interact(areaDistortionFactor = (0.0,1.0),gaussCurvFactor = (0.0,1.0),maxCurvFactor = (0.0,1.0),minCurvFactor = (0.0,1.0),totalCurvFactor = (0.0,1.0))\n",
    "    def ff(areaDistortionFactor, gaussCurvFactor,maxCurvFactor,minCurvFactor,totalCurvFactor):\n",
    "        controlMap =  areaDistortionFactor * area_distortion + gaussCurvFactor * gaussCurv + maxCurvFactor * maxCurv + minCurvFactor * minCurv + totalCurvFactor * totalCurv\n",
    "        controlMap = normalizeZeroToOne(controlMap)\n",
    "        mp.plot(uv, f, c=controlMap, shading={\"wireframe\": 0, \"line_width\":0.2}, plot=a)\n",
    "        print(areaDistortionFactor,\",\",gaussCurvFactor,\",\",maxCurvFactor,\",\",minCurvFactor,\",\",totalCurvFactor)\n",
    "\n",
    "v, f = igl.read_triangle_mesh(\"data/curve.off\")\n",
    "\n",
    "feature_edge_list, _ = feature_edges(v,f,10)\n",
    "xMap, yMap, zMap = embeddingMaps(v)\n",
    "uv = parametrize(v,f)\n",
    "designControlMap(v,f)"
   ]
  },
  {
   "cell_type": "code",
   "execution_count": 286,
   "metadata": {},
   "outputs": [
    {
     "data": {
      "application/vnd.jupyter.widget-view+json": {
       "model_id": "e0490602180a40b4bd84d235954c1728",
       "version_major": 2,
       "version_minor": 0
      },
      "text/plain": [
       "Renderer(camera=PerspectiveCamera(children=(DirectionalLight(color='white', intensity=0.6, position=(0.0, 0.0,…"
      ]
     },
     "metadata": {},
     "output_type": "display_data"
    },
    {
     "data": {
      "text/plain": [
       "<meshplot.Viewer.Viewer at 0x1b1c2b03a10>"
      ]
     },
     "execution_count": 286,
     "metadata": {},
     "output_type": "execute_result"
    }
   ],
   "source": [
    "def createControlMap(v,f,\n",
    "                     areaDistortionFactor,gaussCurvFactor,maxCurvFactor,minCurvFactor,totalCurvFactor\n",
    "                    ):\n",
    "    uv = parametrize(v,f)    \n",
    "    area_distortion = areaDistortion(v,uv,f)\n",
    "    gaussCurv, maxCurv, minCurv, totalCurv = curveMaps(v,f)\n",
    "    controlMap =  areaDistortionFactor * area_distortion + gaussCurvFactor * gaussCurv + maxCurvFactor * maxCurv + minCurvFactor * minCurv + totalCurvFactor * totalCurv\n",
    "    return normalizeZeroToOne(controlMap)\n",
    "\n",
    "controlMap = createControlMap(v,f,\n",
    "                             1.0 , 0.0 , 0.0 , 0.0 , 0.0\n",
    "                             )\n",
    "mp.plot(uv, f, c=controlMap, shading={\"wireframe\": 0, \"line_width\":0.2, \"colormap\": \"Greys\"})"
   ]
  },
  {
   "cell_type": "code",
   "execution_count": 287,
   "metadata": {},
   "outputs": [],
   "source": [
    "def buildGLBuffers(uv,f,map):\n",
    "    vertexBuffer = []\n",
    "    colorBuffer = []\n",
    "    if (map.shape[0] == uv.shape[0]):\n",
    "        if (len(map.shape) > 1):\n",
    "            for face in f:\n",
    "                for vert in face:\n",
    "                    vertexBuffer.append(tuple(uv[vert]))\n",
    "                    colorBuffer.append((map[vert][0],map[vert][1],map[vert][2],0))\n",
    "        else:\n",
    "            for face in f:\n",
    "                for vert in face:\n",
    "                    vertexBuffer.append(tuple(uv[vert]))\n",
    "                    colorBuffer.append((map[vert],map[vert],map[vert],0))\n",
    "                \n",
    "    if (map.shape[0] == f.shape[0]):\n",
    "        if (len(map.shape) > 1):\n",
    "            for facei, face in enumerate(f):\n",
    "                for vert in face:\n",
    "                    vertexBuffer.append(tuple(uv[vert]))\n",
    "                    colorBuffer.append((map[facei][0],map[facei][1],map[facei][2],0))\n",
    "                    \n",
    "    return vertexBuffer, colorBuffer\n"
   ]
  },
  {
   "cell_type": "code",
   "execution_count": 288,
   "metadata": {},
   "outputs": [],
   "source": [
    "class Canvas(app.Canvas):\n",
    "    def __init__(self):\n",
    "        super().__init__(size=(256, 256))\n",
    "\n",
    "        self.program = Program(vertex, fragment, len(vertexBuffer))\n",
    "        self.program['color'] = colorBuffer\n",
    "        self.program['position'] = vertexBuffer\n",
    "        \n",
    "        gloo.set_viewport(0, 0, *self.physical_size)\n",
    "\n",
    "        self.show()\n",
    "\n",
    "    def on_draw(self, event):\n",
    "        gloo.clear()\n",
    "        self.program.draw('triangles')\n",
    "\n",
    "    def on_resize(self, event):\n",
    "        gloo.set_viewport(0, 0, *event.physical_size)"
   ]
  },
  {
   "cell_type": "code",
   "execution_count": 289,
   "metadata": {},
   "outputs": [
    {
     "data": {
      "application/vnd.jupyter.widget-view+json": {
       "model_id": "7ed4b245e47048dab6283f97efdd2a5a",
       "version_major": 2,
       "version_minor": 0
      },
      "text/plain": [
       "RFBOutputContext()"
      ]
     },
     "metadata": {},
     "output_type": "display_data"
    },
    {
     "data": {
      "application/vnd.jupyter.widget-view+json": {
       "model_id": "5b59bd7343414ed5b94a29600c2b730c",
       "version_major": 2,
       "version_minor": 0
      },
      "text/html": [
       "<div class='snapshot-5b59bd7343414ed5b94a29600c2b730c' style='position:relative;'><img src='data:image/png;base64,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' style='width:256.0px;height:256.0px;' /><div style='position: absolute; top:0; left:0; padding:1px 3px; background: #777; color:#fff; font-size: 90%; font-family:sans-serif; '>snapshot</div></div>"
      ],
      "text/plain": [
       "CanvasBackend(css_height='256px', css_width='256px')"
      ]
     },
     "execution_count": 289,
     "metadata": {},
     "output_type": "execute_result"
    }
   ],
   "source": [
    "vertex = \"\"\"\n",
    "    attribute vec4 color;\n",
    "    attribute vec2 position;\n",
    "    varying vec4 v_color;\n",
    "    void main()\n",
    "    {\n",
    "        gl_Position = vec4(position, 0.0, 1.0);\n",
    "        v_color = vec4(1,1,1,1)-color;\n",
    "    } \"\"\"\n",
    "\n",
    "fragment = \"\"\"\n",
    "    varying vec4 v_color;\n",
    "    void main()\n",
    "    {\n",
    "        gl_FragColor = v_color;\n",
    "    } \"\"\"\n",
    "\n",
    "vertexBuffer, colorBuffer =  buildGLBuffers(uv,f,controlMap)\n",
    "\n",
    "\n",
    "c = Canvas()\n",
    "c"
   ]
  },
  {
   "cell_type": "code",
   "execution_count": 290,
   "metadata": {},
   "outputs": [],
   "source": [
    "img=c.render('triangle_strip')\n",
    "vispy.io.image.write_png(\"controlMap.png\", img)"
   ]
  },
  {
   "cell_type": "code",
   "execution_count": 291,
   "metadata": {},
   "outputs": [
    {
     "data": {
      "application/vnd.jupyter.widget-view+json": {
       "model_id": "f0844ec6b10844e99179ac123e584d73",
       "version_major": 2,
       "version_minor": 0
      },
      "text/plain": [
       "RFBOutputContext()"
      ]
     },
     "metadata": {},
     "output_type": "display_data"
    },
    {
     "data": {
      "application/vnd.jupyter.widget-view+json": {
       "model_id": "7b10ed8df70a4857984b0ca57eff5e4f",
       "version_major": 2,
       "version_minor": 0
      },
      "text/html": [
       "<div class='snapshot-7b10ed8df70a4857984b0ca57eff5e4f' style='position:relative;'><img src='data:image/png;base64,iVBORw0KGgoAAAANSUhEUgAAAQAAAAEACAYAAABccqhmAABIiElEQVR42t3X+eO3U7X/8Zu6IyKlyBDHEBVKhCRTkSJTZIgjGUpCCMlBhsxkimQooiRCIY2UOoaU4WSWOaGUSjJ3fc++zlnv7/qsz5r3vt733fnh9Sc8H3vtKVsdu0i38uWXu7b0mW/u3nvZHqHNfspDqb1qw5+kdvw/T+1u+sfp6Z19xUXdQyf8R7fQXrdVbcdXz9Fvu/U2arKP7rrAaPdeeWXT3f2db7q30rwHh7bmkpeKu/2OTdy78I2P9XvoTXektuj9K/S7aOb1w1ttzcP6nffuI8P77Mfn7d7wzOnhHXfEduG95gfzhjbzIh/rpqx++wXdkAis8PJL+kUBWG++7UeLAgCrQQAggNUgwK0VBtKGRAC2x0lvZRcJmwYuLRo6Xjb4bPglelgk+i9//mX9ouHP98j8qfiPfvbN/wPAuBCIQoAR8EKAAchiAABwEERB0BCohcEDgReIaOSeRSOPRs/FHg2fxt4qfG/8EH0m/hL+wnf8vF8m/kkAeBEoAMCiAEQQoAB4MJAAiEBAAdAg8IAQRSAKQw0EZQct9MfRrvvNpk22y7U7Tlo2fCv0SPha8Jn4afTe+Gn4kfhL+Jn4S/g4/gkAYAQ8EEQQoABEINAQ4CCwAPBCICFgQSBh0AIBC4ZI6NZaRW+Nhh+NXQvfG3s0fCl6K34u+kj8EH6r+CcBEEEAAzCtEcAYeAGwINAA8EJAQRgKAbxN176ne/ZVM4Riz2IQCf07h7+S3dYfXItdJvpM8JH4M+Fr0Xvj58JvEb8JQEsEJAA8EHgBeOTlc3RTp75htFoIPAhEIDjr6XNGK6G2Xgkfb44f3Vk9CoEVdGRS/NZK+LWxe8O3opfi94RvxY/Dz8QP4UvxswBEEKAAWBAMjUABAIYh4ObBwAuAFwIMAF3L8Fsi8MJ7PsJuXOGvt+prJ+yo278/YUPE742exu+N3oqfhk/j9wDgiV8EgENAgiCCgAWABkEkfi8CFg4ZBDQINACiKGjR10AgBa+tRfg0dG40/hoIaqOHRaPX4ufCr40/DcAQCHgBkCCIxF+LQNlts7633wJzzzRaDQRRADgQouFbCGSCj4IQDT0SfhSBbPg/2WexSfvMgW8erSZ+b/hW/DR8K/4UABwCEgAcBK0R0OLPIgDh42EEuHkg8Ib+jXP+Iu7Ut9xfte+ssUI372yLj2UfOfeoVPDR8L0QWNFzkVvhRxHwhD+u+E0ANAQoBF4EogBQCDIARBDg4o9AoOHgjdxaNny6IYKXNo7wJQho9N7QI/F7IPCEP874N150NRsALwIWAEMg4I3fA4EVfi0CZau88s/dkkdf0q8GgAgCXPgtMdCiz0DQIvzZD1pqtPtnubkq+Ej4GgTZ8LX4ufAj8d/58rd1U75305rdPi+fLQ1ABoEsALBs/BICkfizCJT48QACvJYIeMOPQhAN3otBJGprJXq6ccePZ4WvxS8B0CL+HoBvv/fgHoAWCHgAKLtg612777zuY1X74h/0eRDIhJ+FgAIgIRCFoVX4GgY1kb/9gl3UrXjjCqG4o+HXAJAN/ty5Du53z+92mq7iL+HDJgAAV4AFgYVAGRc7t2ev/3wVAP98xfX9LAik7T/P0t1Wd1zWb2gEuPgzEEgoRMJ/3/O7u/ftrxzWz4o4uhI93pDhZxHIBI9X4rcA0MLn4pfCz8Y/AoBDgIPAA8ChiywiRt8SAQAgi0ABAAYQ0LWCwAIgi0DZVntv0i8Stjd8upbR1wLgjT6KQDZ4Gv70Ej8On8Y/CYBaBEr8ZSvdvJcbAFgNABkEMAAaAlEUMvFnIIDw8YYKPwuBFn0WgGz4HgQywXPhjzN+DQAr/gkAaAhQCLT4x4UABSAKAQUgCoGGQjZ+DwJc+LUQeMP3QOCNPgpAi/AlBDLBa/FLAFjhUwCs8CPxVwOAIbDiBwBgXgAiCEgAeBGQAKiBgC4LAAeBJ/wMAtn4KQSZ8C0AWkfPIZAJXgt/WsfPhS/FLwIQQYCLvxYBDwQaAB4ELABqEdj0tgX6HXvIHOkVBKLheyGIRr7H/fOKe/iso8VlAGgV+AqfOkrc116xS3ft309qGv6/WvyTAIggUKbFTwHQEOAAsBCwALAg8ACQhQDix8sicMd523YLHzOfOS8EmcCtaQB4YLDC10KOrEQP4cNaxk8B8IYP8XvC5+KXwq8GwELge1v+dHAEJAi8AEgIRACIIMDFn0WgxI/ngUBbTeQt44e976FT+rUKXIueiz+CgBX+v2L8LACRK6AAYCFAAZAQ0ADgEIgAwCEQBcADgRZ/BgEKQA0CZx36GnbjBACCpxtH+FL8FgCe8GviL8vEb4Xvid8FgIYAAJBBgIMggkAUAIpAFgANAQ8AEQg4ALIISADUgJANfigAuOi18C0AvPFjAKzYN1xztgn789mrDBK/B4Djtvo4D0AWAQkCCQCKgAUAhiADAKwmfgmCSPweBKT4MxB444+CkA2+JQBS9N74OQQi4UP83uBx+HheAFrE/+ynt+3XA/DD097jAkBCgAIwLgSkuL9821bm7v/Z4t2Sv31ZehSCTPwWBB4AvAjUACChUBN8bfxW9NH4AYBo+DArdit+C4FI+JH4ewA2XvEfHYdADQAcAhoAGAEr/P23XmK0Ly7/PVfwEgK1EJTdv9N5/XZcbcZJyyLgjd+DQKvoD9p6swn7/jv/2m+cAAwRftkZ12zdHbnzg+GdMdeK7uit+CUEhoifBSCLgARABgGAQIueApBFAACohQAAkBDQJkEQBUCDoDZ0btffcFc/QACvNQDe6DPxl/Az8Zfwy+b7xu5N46cIRMLXAMDh4/hHAESuAIqABgBFwANAmRa9hEAUAgpAFgEMQAYBui9tfmr3ow0WGq0GgRaxS/FLAEQwaBV9Nvxo/BD+kPHDxhH/JACmBwS+9cqP9ssAEIWAQyACAY2/BQIFAIqANQmCmtCt+L0IaBi0CN8bP44+Ej+OHsKHDRH/h7c/pJtr2/P71cRPw3cDQBFoAQCGwBN/2b6feUW/IRGQAPBCIAGQhQDizyBAN+ed5/QbMv4IABwINdF74+fC98RPw6fxewGIxv+LC2cZARBBIBP/BABqEPACICGAw6cAeBDgAPBAYAGgIWDFH0WAxl+DAMSPNxQAWQRuXW29f5nwh46/hM/F74UgG78KAEZAAgAQiABQpoU/BAISBB4AJAi8AHgQkOLPIMDFX4uBFn8UgBI+Xsv4peit+KXopfg9AETCh/g1ACQErPBDAEgIaAD0c4b/zG6PjWbFTwHwQDA0AhiCCAAaAlb8UQQ8AEQgsOKPIEDjzyCQCV+K3wp/eopfQqAmfhcAHgTwFYAj1/bte+bq1xIBCwAOgigA/YLxaxB4AfAgEInfg4E3fgsAKfwIAtnwufg94UvxWwBEwsfxewHAEFjhW/GzAEgI4OA/+LcPT5o3fAqAhQAHQAsEAAIt9COf+Ci7uzfcpvvpas+K8yIQid9CoCZ+DoNI/BoCnvgtADLRc/F7w9fi1wCIhF8Tf5kn/qYAPD91QzZ82P5XnN0vA4AFgYQAB0EEgDIpcm0FAAsBC4hM/BICLaI/dO5fTdg9z1wyWgYAb/gWAtnwIf5I9EPEz4VP448AcOqTD3bnz/36JvHffd23eQA4BAoAp610bDMEOAAkBDQAahC4/E2X9nvlB55OAVCDwIc/sWz37aPeIS4CQTRua9+8e2o/jIA0DoFM/BSBmvD7JcK34pcAGGf8XgA88b+49v4xALxXgAcBCQAOAgsAioA3fAxABAEMQBaCAoCFgLWCQDRub/xeAOjW3WnV0DgEcMiPr7BFeFdN2X2Q+DkAIuFz8XsBwPHXAlDiTwPgvQKmBQIYAk/4FIBxIQDx1yJw495b9Rsi/gwA+/5tnX5RBPCO3PWqVPQ4fti449fCl+K3AIDwcfwWAN74ewAW/ND3Ow8CGAANAQyAhYAFAIbACwAg4AlfQsADAQeAFwEKQBYBAKAVAjUAQPxZAEr4eLXxRxDwxE8BGHf83tffE/8EAH68xDe6ggAHAQeAhQAFQEPAC0AGgTJv/BwAFgISAB4EOACiCOD4WyBA448ggOOPAkDDbw2AhUBt/Fb4WvwSADT8Fq8/F/8kADQEvABEEIgAcNTit3S3nL9uaBt/6VE3AFEENAA0BKT4owhwAGQRkOL3AEDjjyAgxZ9BQIpfQsAbPgUgEv4Q8WsAeOI3AaAIcABkrgAOAU/0eI+99A1hACIIcABIEFgASAhYAHgRkACIQqDFbwEgxW8BYIUfBcCKnyIQjR8AaBk/BwAXfy0AWvwjADwISABEEcAQeMPHAEQQAAC8CGgAUAQ8AHAIeACwILDi9yJgxa8hoMUvIeANP4KAN34AoCZ+b/jR+KXwufglADLxqwBgBCwAOAQ0AAABb/gUAC8CGIDWCHgBwAhE4tcQ8AJgIZAFwBM/BSATvwVAJP7jV3xtvwuf39QcBSASvid+DMC44jcBkBAo4wCwrgALgDJv+BwAHgQoAB4ILABgEQAAgQwAFIFI/BoC3vgpAN74YdnwLQQi0Ufip5vxhW8OEr8Wfi0A3vjdAJRZAGQQOGeZTd3xcwBYCEgA1CJw40MbdBtdfE548z98UL8aBDIAUAQi8UcAeMtGG0zaFzbeZLRxAUDDzwBQwi+77jcv6dcq/rJs/BwAnvibAHDibeeHERgHABoCGgAaAh4AMgh874rvjxDwjEMgCwAsGj9GwIrdAoBbBoFI9NH4IXwKgIWAJ/zj79u+Kn4KQG38kwDQEPjgZ1/GIpC9Akr8sCEAsOLXEPDEH0WgxA+LIIB333p3d8/PcljV5nr5Nt0aDx0Xnjf4KABeELj4reijAGjxawhY0cOe+J19+mvxSwBI4Q8CQBQBDwBeBCQAOAS8AEQQoPFHEMAAZBEoANQgUOKHRQF44fJb+w0NgIZCNHovADR8DQCKgBV9SwBaxx8GQEKAAoAR8ALgQUADgCIQAYCDIAKABwEKQBQBiL8GAQxABAGIH2/cCDz+9BrdVZvsO7b4PQB4osfxWwB4X39v/BYA86/wlckASAhQADACHAAaAlz8LQDACGQAwAhE4rcQ4OKPIkAByCBAAfAiwAEQgaAmeliJH68WAC18LX6YJ/oIAFb8FIDa+N998E/8AED8FAAMQQsALAQ8AAACWQA4BDzxZwHwIsABEEGAi9+LgAaAB4Ga8CUAvBBk4rcA2Gav61PxtwDAG78GQIk/DYCEgHYFeOO3EPACUFYDACAQiV9DwALAQkCKP4KABoCFgAWABUFN+BYAFgTR8C0ASvwRAHD8EgCe+Mtaxy8CQBHwAPCN617nQsADgISAN/7Z/vLd7plFDui+ftYO4VEEogBQBDzxWwhYAFgIWPFbEHgBkCDIRu+NX0NgiPhbAuCNv8wbvwQAxD8BgNm2PC0MgITAZU/sNBpFYFwAlPjLljv1pjQCsHeuf1C/X599+2hRBCIASAh4ANAQiABAEYjGL0GQCT8KAIUgGr4GAI7fCwCNPwvAl9f8Vnfy+//ZPP4RABwCGQDKFYARwBiUK8Abv4SAJ3wKQA0CAABFgJuEQBQAioA3fg2BKAAYgRoAMASZ8LMAlD2+51qDxd8KAE/4Zae85Wo3AFb8IgAaAhwAHAISALBr7/hFFQLe+CkAWQgiAHDLxE8RiAJAEcjEjxHIBD/D1PUm7fgHdhpL/CX8sh3OWm+0GgC4+D0A1MQP4bcAQIu/B2C5N/97JyGQAUBDYKmTftsjgBdBwBM+xA+rQQADkEHgtHs/3i32h7tc4xDIxE8RyIS/20Lbj8bFHF2JH28IACB8DoAIAp74LQC4+D0A0PBx/LCa+F0AcAhIAFAEMgB4MOAAkOK3APAiQOOPIlDih3kRoFtjvvd0u316Pfc4BGjQkb1tvm/1aw1ABIJo+BIAHghaxO8BwBM+xJ8FgIvfDQBGIAOAhEABwEJAAgEDoMXvAcCDgASAF4FWAEQRwLv0gZel48cA1EIgAeCBIBK9Fb8FgSf+7OsPAHjCzwCQiV8FABAYAoAIAhgDK3wOgCwCGgAWAjj+GgQAgCwCBQBYCwAyCFjxaxBEw48AwCHgiV8DQIsfA2CFL8WvIWDFnwIAENAAwAhgAFpdAXg/evjKpgBIEFjxWwhwAEQRwPFnEMDxZxDg4s8gEAGAQhANPxI/hcAbfw0AnvBx/F4AsvGPANAQOGSrg7qHv7phCgAOgZoroADgQYACEEXACwCHgBR/FAEOgAgCHAARBDQAvAhk4p8AQSD8GgCeOn5Jd/wSAFr46xz4SL9o/BEAtPirAXj7zxfuEdAgyAAQQQDiHwoAjEAEAIyAFX8LALwISAB4EbAA8ECQif6Wtd/Yb8F1H+w3NAAl/ocfv6PfEABA/C0BwAjUxL/AXfPpAJT4y3a56toRAHgeACgCLQCwEMgCUBaNHyPgAcCDgBa/BwAtfg8C3vgtBCLB0wEAEQSi4cMAAC8Cmfg9AHjjxwBY8WsAfOFXc8gAQPwAAL4CJAgyAHgRoABoCHAAeBF4+wxrdes/cUVqd842dxMELAAsBDwAaAhEAeAQyETPxR9BIBo+B4AHgUz8FgA0fg8AnvglAMrrHwZAQ6BMAgAjkAGAi19DIAtAib/s90f+vl8GANjQAEgIeOPXEMgAQBGIRm8BYCGQCZ+L34OABgAXvgUAF78FwDaPLFsV/yQAMAI0fi8A77nsvn5RACwENAAoAlL8FgAQfw0CGAAPBDXxSwhEAaAIZOPHCGSi9wCgIRAN3wJAQqB1/JnXv+x3R62QAgDiFwHA8WMAPAgAABIEGgAaAq0A0BCQAPAiwMXvgaAWAIpABgCMQDT4m76xwaRtdcg8g8SvIRAN34pfQkACQIt/iNffA4AVfxqALAJDAYARyABA46cAeBCwAJAgaAEAIJCNH48LOrISP2woACgC0fAjAFAEaPxW+BoAUvwaABA/zAsAjl8EgMbfAgAKgQYAh4AnfoxAFAAu/gwCXgA4CGoBOPe4E/stu/ELVdvsxFn7tQIgCoE3fopANPxI/BSBTPxRALT4vQBorz8LwK+fe8QEwIOABADMugIoAhEAyiwAKAIRADQIogBQCLzxQ+x0p13wwX7TEgAu/ggEUQDKouG3AiASPwdA9PWH+DMASPGPACjxly2969QQABwCFgA/uOTibufrn+jXCoCNPr7laNt+cunRLAC0+KMIZAGAUQCk0LX4axEAALIIWABYCHijP+GYQ0db98CTxgIAIJCJnwKgxc8BIMWvISDFPwkAiH+cAGz10KIjBCQMLABw9BIAdBgBT/waABSBbPh/uP2ifh+79sLuomMfCYUvAZBBAMefQcATvwaBN3i6AkAUgUz8Zcsc++Xua//8cRUANfF7AdDirwbAQsCKXwKAw8ATfAQAPC8AXgS8oUsDAGA18WcQ4ACIIBAFgEIQiZ7Gj9cagBI9bN5Ht+4BwBsSABp/BABP/CwAFAEPAB4EIH4AwEKgzBt9FIDXvvSl3auXPrxfLQAwb+hS/BQADwZa/BEEpPi9CGTjxwh4gvcAYCGQCR/i5wDwYuCJHwPgjZ8iEHn9ewAev22x6RaAj//2pH4tESjxw7wIeADIhO8FQILAA4AHAgsAC4Fs+LPMeU+/xR7bqCkAGgKR6Gn8FgAaBp74AQAu/ggAUvxuADACXgAwAlr8GAALgTO/9v8RiEDgiR8DUIvA8z94W7+a+D0AYAgi8VsIeACQEMgET1cAiCKgxS8hEA2/BgC8pw4/bdD4AQAr/mYAWFeAFn8NAF4IPPFzCGgQeACIIoDjjyIw2zxHjVaDgDd+CYFs9BwAEQQ8AFAEItFz8WcAWOX6HXsA6FoDUBaNvzkAgEAEAAmBEj8sioA3fg6AKAI4/nEBsOLXt++HEaDzIhAFACNQEz0XfwQBLwAYgUj4reKXAOAmxe8B4CdvPjkMwJ9WulMGABCIAoAR4OLnAOAQsADQIPDGryHAQWDFH0GAi98DAMRvAWCBkI0fI5CN3gLAQiASPywSfgsAIH4vAI9dvWRV/Ifs+GB3/gJruAEo8T9z+dx5AKwrQIq/NQAcBJH4NQAsBLIASPFHAYgiQEGoAaAmeit+CwFv9Efe/ORoT9/0eFX8EQBw/B4ASvxZAEr8GAAJARr/oADssMA6YQAoAhiAKAJRACwEMARW/B4EsgDQ+LMAvPUTP+y3zuc26u59eGp6lxzx8KAASAhEwof4IwBw8XsByMafAYCL3wIA4p8AACBAASiLAlDiL9tilznHDgAsGr8HAEDAC4CEgBa/BgAXfwYBiB8AqEGgAIA3BAAUAW/00wIAGr8FAI5fAsCKnwOAQyAFwKW3z9zt9tC8/TwAQPwAgISABABGoAaAg17Yqzvz1FubAwAIeOKf3gDA4VMAsghQACIQeOOnCETCx/F7AZDitwDg4o8CwCHgiZ8DgCLAxR8CQIKAix8DwCFgAUDjjyBQ4gcAYK0R2OKwKf2iCFjxSwho8VsIcOFLCEQhkADwQBAFABDwRC8BYCGgxa8BIMWvAcDFTwGw4vcCQON3AVDiv+idy04CgELAxU8BiCLQAgCKgAcCT/w7H/1gP0CATkLAG38rAKzwJQAiCFgAaBBEwt/nsT/1u+KZI6viHwIALX4JACl+CwAavwUAIEDjbwIAjIufA4AiIMV/06mbdzPOs3AKABw/B4AHAk/8FgIUhBoAPPFjBLzhawB4EfACQCGwQpc2JABW/BwArePXANDi1wAoGxSAGz5/rBsAjACNHq8AEEWAxq8BoEHgjT+CwHtPWq07Yf0D+kUAiMR/xS8ODsevATAUAmVW6FL8sGz8EgCe+CkAVvwcAFb8GAArfi8Al35iITF+EYASPwCgIbDkdfeEAQAEuPA9CEQAaIWAFH8EAIyAhYEHgBI83ZZ/OadfKwA8EETj/8CH7Zdei78WAA6BKACe+LMAAAKt4ncDUJYFIIOAFj8GwIOAFL8HAA4Cb/xeBAAADgEOAy5+LngJgCgENQhEwodNTwB44wcAvPFTALzxYwCk+GtefxMAiN8CoMSfBeC5Xfbulnv/kW4AKAJDAEAh8MZvIYDjtxDAGHiCtwDwQuABQEIgEn4GARq/BwEtfgxAJP6ySPwYgEj8ZZH4JQCk1/9fFgCMgDf+LAJlkfijAHgQ+MDFMzQDwELACwCHQCZ+LwBS/OMCYJM9FhhtyXff3f1klgP7DRX/Yp9Yq58Wfy0AOP40ABA/BoBDwAJAQ4ADgCLgiT8DwP5f37o76h9XjZZFQIrfg0ABIIqABoAGQQQADwJa+K0AkBCw4odxkWvDAOBpAHhip3vJMcdWAwDxhwHA8WMAKAI1AJT4awAABCIARBAo8cMwAl4MIgBoCAAAXgQ88UsQRAGgEETj9wBgxZ8F4PZ3vrefN3yIXwJAAgEDIMWeAYDGTwHA8VsArLXPL7spVz/xVAfzAIDjbwGAhIAGQNkRXz29OQA4fgkAC4MhAPBAEAWAQlCDQCR8DwCe+DkAPOEPDQAsEj0FQEOgBgD6+k8CYKmTDq4CgCIwJAAL/m3mHgEvBNH4PQBIGHjj1xDgANAQyAIACHiDv/KAQyctGn8rACgCnvCjAED8EQA+cuV/dNcf97l0/BIAXPwYABp/cwBo/FEAIH4KAIeAFT8GwAtBJP4MAhiDCABRBDgIMuEfeuKLo3Fhe3fBbX/u1wKASPwYAG/4UQSiAJT4xwmA9vprAJT4b5379DoAaPwUAQ2AmisAAOAQ0CCIxp8FYInj7u1uWODK7s49l65CQAOAIhANHu/ED57VryZ+vCwC0fgxApHwvQDg+D0AQPwAQAQBHD8HQOb1bwrA7J/506AAeK8AHL8EgARBNP4MACV+AAAQgEURsADACESClwDIIMAB4IWgFQDR8D0A0PgtALj4xwWAFD8GgMYvAoARaAkAjb8VABYCFIJI/K0B8GIQAQAWCV4DIIqABoAFQYv491x7aveJrY5OAaAhEAEAx08B8CJAAaAIDAbAqlfO0BwADgEPABSBVgBgCCLxRxGA+DEAGgIaBh4A/j7DtaN1qy/bJP4IAp74NQQyAJTg6QoAsBYAcPFLCND4OQAsBLj4MQBS/GVa/BwAEH8IgKcW+HIPAEVg3ABw8UcR2OKpAwcBAMefQYDDgEMAR08ByCAgAeBBIAIAB4EVPxc73Uc2v7IfRiACQQ0AXPzjBGC2H9w8/QIACEjxSwBgBFoDUOIvO/Dkl/drBQAXPwUgggDGQIueAyCKwLgBwBDQ+D3BewHwQhCJHwMgxS8BICEgxQ8AcNHDbnny+H4WAFL8IgCAAMSPAcAIjBMALX4PAhA/BiACQTR+DoAMAtdeckUYAC8CWvweBGoAKJvp1l1S0dP4NQA8EEQB0OIfCgAcPgVAQ8ANAI5/WgMACLQAAIcvAeBBoBUAEQRK/LAoAB4EPABICNRED9voVc+NDQANAm/8n77lGTN+DQAOAQ2ALd60Gxt+BgAc/9gAKJPi9wAACHji5xDg4tcQ0CCIxq8B4EUAA2AhwAFgIeAFgEMgEzxdAaAGgQwAHARS/CV4uuO/+4cqADACUvi/n/ll/SIASAikASiD+CkAgMCQAOArIAOAFr8GgARBNH4LAA8CFAANAQkACYJI/BwC2eg5ADII4PgzAGAIMABc9Dh+WDZ+CQCIHk8DgMbPISDFPygAi64+14Ttv/FC3Uyvur5f9hvgjf/eu6/pZ8XvAYCDIBJ/CwQ4ACQELAAoAhkAAIFs8FL8GQRaAbDnmkd3s17yvBo+B4CEgAeAMi386QKA8zZd2QUADV4DAM97BUiRa/vyA79pBgBGIBq/BwANAQkADgEPABiBLABl2egtALwI0PijCJTo8bIAcBB44v/wjlPV8CH+DAAYAev8rwLgaz/Y0IxfAwB25rc2VecJnsYPa4lAWTR+LwAcAlr8HAJeAMqksP/4q4XNPbPP4d2sNy/9LwUADZ7GD8sCgBHQosdbYpUrXABwCGjxYwQKANrrPwKgjMbfEgANAS3+WS6d0r2w3hJpACwEIvF/7OJT+53+rnPE1QBAEfAAgBGwot/34w+M9qF/fN8VuwRACwQkADwIWABowQ8FACCgRY/jHxqAMuv8v+59i08GAOIve/rca1UAnvzjOWMBIIIABUBDIBq/BwG6vV/6b/2iCHgBAAS04OkKALBM/AAArGX8FgJS/GWR8Gn8LQAok6KPAIDjrwGAi18FgMYvAQDxRwCQENDih0UQ4ACQEMjEHwFgybvW7wcIcJMQ8Mb/0t9v0k8LXgPAiwCOnwIQhcADgIQAF/6lm805WjZ+DwJW/Kv8cNXBAfCEP9Pq+/T759GH+wHA8UcA0BDA8bcAwIOABEAGAS7+CAIAgIUAHUTt3fUnzVIFgAcBCkANAl4AKAJa+EMD4Ikf5olfQyALAIRf9vSS+6kAlPgP2edH4wWAQ8CKnwJgIaABwCGQid+DAI4/CsBli+0ZBiCCAAeABgEXvwSABUEkfg0ALn4vAlL8GgLe+IcAACPgiX9QAEr8FAAJgaEA0BCwAKAIZOO3EKAAeBEo8cOiAHgR0ACgCEjxZxGIAoARsML3ItASABp/LQBc/ACAJ3yIHwCgCED8EwA4+YE7RAAAgVYAUASs+CUAJAQ8AGAEauKXEODiHxcAHgQsADAENQBwEGQAKPOGbwFgxS8h4I1fQ4DGXwMAF34VAFvPP5MJAMQ/FABc/BoAHAJeADgEMvFTAKT4PQjg+CMIUAA0BLzxl83/sfmaAIAh4OL++F72PnnJr7sLjvprvxoEWgGgxR8BgCLgAcATPwYAIzAYABwC4wCAIhABABCoiZ8iYAGgIcAB4EGgNQAlfNjhSyzWrxaBd/x5xu6gqw9xxW4BgBcBwBs/h0Ak/iwAUvwAgBa+FwCIfwIAJf5xAoARsOKPIBCNH1YbP8wTvwSAFH8WAAmBSPwYAA0CK3xYASCDQIkfxiGgQdACgGj8EgJZAHa7dfbu+XVOqQIAEEgBUIbjlwCgCIwTgDIa9q07XGFui3Ondo/seWt34S9vqNpBV+zUbfO++ftlENAAsBCQAOAQ8IYvASBBoIVPAYgi4AFAwyATP0YgEz8FQIofI8CFD/MAoMUvAgDnPwaAxj8EAICAJ34LgE8tNrWfJ/ghACjxYwDoLASs+C0ENAAoApH4NQAoBFr4NP4oAhgALwIYgxYAROOnCFgAcNG3BgDHX7b+MTv7APjSXvu6AcAIDAUABE+XiR8AyCIA8WsASBhMDwBo8XsAgEnhawB4EKDxRwEoe/KW47ovbbeEOg2BbPwRAKTwvQDg+NMAAALjAqBMi36h9+89mhR9FgCIvwYAHL8XAIqBN34NAQsAjIA3/AgCa/zzg/3GBUAEgfOe3MUFgLZ15/rZhEUB4ILf9aLzJuz782yrxg/LArDnMUt0Z/z9S3EASvxHXHJcPy8AgIAW/q+uv6kfjlzbM0ft1wwBHD8GIIIAjT8DwIF/vbg78fUn9KtBwAMAIBCNXwMAwq8BwEKgBoASPwCQReCCv57TrfuhoyYhYA0jwAXfEgAavweA8v83ASjxZwGQgqfb6c87uOKHTQ8AcPFHACjhl5258Gv6AQJeDDLxl912xcXdvs+/qwkANH4NAS1+DQEpfg8CEH8zABIIwKz4hwagxD92AKTgafxRACwEovFTACwEpPg9AED4FgAeCLwAlOjx1vndoj0CeBEApPBrAeAQsACQEMDxYwCiCJT4YVkAvrLrTW4AJARqAID4wwBA/BgAjIAW/4q77t/96tQZ3QBYCFAANASi8UcA0OLXAKDhUwA0BDQMNABo+BgADgENBW/8tQBQBDIA0PgpABEEJgGQQKAA4EHACwBFgIu/GgAcfxSAEn9LALj4MwB445cQsOKXAJDijwLAYUABkKLnAPAgAFtqlze64ucQiMSPEfDEzyEwOABBBDwAQPwcAjT+CAA4fg6Aoz7x6GQAyrIAQPzjAEBCYAgAPPFTALTwafwZBGCe6CUAogh4IagFoCwDABc/B4AHARz/JAACCAAAGgJZAKT4y7j4XQDseuQJYvwYAS3+EQAGAhgACQENAA6BSPwaAIBANH4r/JYAfH37R7rvfWu1KgC8CAAAXggyAOz82ZeN9qsf3NQ9f/OGrhUEpPinJQA4/v/TAIjxKwDQ+DkArPg5BCLxWwAs8/qF3Hv/rAe445cA8CJQwocVALwIcPFnAbAw8ACAg6eLAFB29lXvCAGgIUDjzyJAAZAQoABgBDgAymjwL7y44ISlAJjzrT8PA0DjrwGAIjAtATh5wTX6RQCIIJAFAMePAfAgIAHgQUADgINAil+LHscP88Y/TQAwEKgFQIq/jAaP98pzD/IDgF9/LwBlXPgsAAICFgDe+CkCkfhbAQDxexGQ4rcQoPFHEdAAsBDwAEAxiEQvAeBBAACQEJAA4BCQ4hcBEBDg4o8AUIaD3/VVX5qwWgDe8+LGEwEo8XsBOGiLNQcDABCIAgAIROKXAID4vQhQACwEogBI4XMAaAhYAGgIRAGY7+A/dOcu85Zw/BwAFgIYAA6B6QkADgEJABo9bLe37N4vC0B5/asA+PXNq06XAAAC3vg5AGj8FgBc/BYCFgAYASt+DgAJAQ8ALRAo8QMAGQRqAaAIaABgBLT4owjUAnDPVq+rAoAioAKA48cASK+/BsCk+BkEtPjLZp1/0W75Ve9IrSCQBYCLvwYACQEvAJ74JQA4BLwASAhE4qcIeCHg4rcQ4ADACFgAAAJa+Js9cFG/U+c5woWABgBGQIp/KADKTAAAAS5+AEBCoBaAGbbduQqA566eo1vzjH/0awWAhIAVP4eAFf6Ru9z7Pzv7kmoAKAIRADgEIuFzAHgg0ADgEJDirwEAYudWAMDjELDi1wCA+CUAIH4JAYgfA4DjTwMA8Q8FQAkfVgDIIIDjx/MAoMVfCwBGQI0e778B8CKgAYARiAJAEYjGLwGgIdASAEBAC/+Ra04aTQtfAoDDwAMAICDFPyQAJf4RABC/BgCOPw0AQkCLPwtAiV8CQMPAEz+HQCR+jIAaPQOABwELAFgGAIxAJHwLAAkCCwCKgAUARQAHT3f0au+qAgC2/IMr94sAQOOfbgCQ4m8FgBR/BAGI3wMAhcAbfwsAvvjZg+3wEwB4EXjx+tu7R/fZOY1ANH4PABgCT/wUASv+V+xxcT8tfAxALQL7fm+/EQDcOAC4+DkAaPwcAhgAQEACoGwKF38ZF78FgBr//wIghZ8FAMcfAaDsK4dt2e27xWZhALyxc1tuuQfDALS4Akr8AIA1CYFo/FEEps731TACUvB0126yvBsACwEtfpiGAJ4UP4dACwA+eu6PfABw8VMAKAImAP89LX4OAA0BGn8WAGkSAt7YufhhUQAsBLwAeBHgtuzPtw7H7wXgb0te3b33Jev3CHhWANCCrwVAQ6AVAC988vXdQv9459gAKPFPcwCi8Q8FQInfAoCbN3YLABMBBgANAW/8tQDs/edjRmsBQAkfVgCIIDDXfgeEAGiFgBV/FAANAQ8AgACNHwMA8Zc9OMvKOgB77b1/d8R2MzQF4NTZ9+73revXDgPAIcDF7wUA4s8g8OKt2/drAYCKgACAhIA3/iwCJX4YRsCDgSf+DACAgAcCAMBCgALgRSAKQIkfAyAh4IlfA6AMx18FAI3fCwCOvwUAUvxDA/DLSzbsl0WAA0CEQAGAQyASfwYBDICEgAaBFj4FIHoFeBDAAGgIcABwCGjxexDgAOAQyAIw47vuGy0EAMTvBQAQsOLHAEgIaAAAAlr8HgBo/F4EIH4MQBQCDYBJCBgAUASi8UcAoPFrAEgYWPFnEcAAaAhQACQEJAAoAjUAQPwcABQBLwBlNHw3ANzrXwsADt8DgBV/mRW/BYAUfy0AXggsACYg4AAAI5ABwIsAB4AXAZgVPgeABwEKgIRACwAwAlb8EgA4fs8V4Il/9X3m7cfFLwEACEyhr38LALj4KQAUAS38//z+2/rtec2XB3n9LQBw/DUIeAAYIeAEgEPAG78HASn+KAAXfeDPYwOAQ4ADoAUCQwCAEZAAgOjxJAAuOPS4egCk+CkA3vg9AED4EH8NAFr8FgIRADQIvAD0CAQAAAQy8WsAaPFHECjxw6IAWAhIAFAIJAA4BCwAAAEtfg4BLn4JAECAAsCFX/bpvW/plwYA4scAYAQsAKTwNQAwAlL4FAANgZr4JQC4+D0AUASs4A//0QsT9h+nr9E985fl1FEAMvFrCHgA8CCAAbAQ4ADQELAAAAQ0ACgCHgCWX3adbt5jPjkoAGVa9IMAgOP3AvDGZ35TBYAW/r8yABgCK3huHgTw5rlloX4tEPDGbwFA47cQkACQEPAAUGYBgBHwxA8A4GkASPFbAFz8qaubAgDxw6oB+NqPH6sCoEwLn8avIVATP4eAFH8GAU/wHAARBH76hk+NEKAbEgANAQkACYGhANjhpW/tPjR1xioAIHw8igCFoAaAzf76dD8PAhYAgMAkALTzXwOghA8rAFgISPE/tOQ5gwEQjR8DYMXvBWDPmVbqt+act6QB8CKgAeBFIRO/BIAWv4SABkAWgRI/AIAXQYCLXwKAQqDF3xoADoFqALT4PQBo8VsAcPFLCExPAED4GIChESgARBGgywLAIeABgCJgAcAh4ImfA0DCAAMghe8BAGYBwCEA8QMAGgI4/ggAb3n0jG6KFj8FgIaP49cQmBYAZOKHeeKXAKDhUwCiEGAALAgAgBoEzj7/j9091109YRkEvPFnAKAIWOF7AKAYeOL3IHDGWat0X/j0xv28AOD4MQASAoMCUCbFXwMAxK8BoMXPIVAb/9IHHdJvoYU/NJoXASn8WgQ4ACQEagEo8cMoAl4UMgDUXgGe+KMIvGrGI5oB4EFgHACU4fjdAEjxZwHA8dcCgBGIxg/B4y212CP9MALSCgCe8CUAPAhIAHAIYAAyCGAAPAhIKETjpwhErwBv/F4ALnnrz/t5EYgAIEEgxU8B4BCgAFAEKAAQvwuA5x891x0/h4AVfysAPK8/FzwXvxeAsh2X8L3+EgAtEagBgMafAQC2Y/fL7uQNFxNnIeAFABDwxu8BAOIHAGAZBCB+DgCKgBS/B4HBANh59nubAsDFLyHgjR/GxW8FrwHgQaDED6sBwEJAAwAjQAHwIsDFn0WgxA/TENC27BOnTZiFgDd+DwISABYCGQAwBOMCAMc/AQDu9c8CgBHwxN8CgEzwWvxRADwIaABoCFgAlHHxexHQAIgggOPPIrDIFkv2owhom7rKq5sAgOPnANAQ0OL3IKDFzwEACHDxawDM+NwCPgAg/hYAWPFTAKLxL7Pl/d1ufz+lOQAWAhQACwELAAkBDwDH7jFrCgAr/loAIghA/FEECgCwLAA0fg0BCYIaALZffvGmAGAEcPwuAEr8FgBa/DBv/FkASviwAkAWASl+DQAufgsBDwAZBEr8eF4EPPF7EZDi9yJA469BwILAG78GAIeAFr8HAA0BDoCysQDAIeABwBt/FAAcPo4/g4AWv4aABoCEgBcADgFv/BIEtQBoCFjxWxBI8UcQoABYGHjitwCgEEwLAL4xy0v6VQHAxV8LwPHLHtjd9YvjwwBEwpcAiCAwFAAcAhEAKALR+C0EovG3AoBDwALAg4AGAAdBSwAoAhIAGgIAQBSBow/YR0QAAwDxuwHA8VMAPPEDALAaAKTwpfi9CHji5xDwxM8hEAUAQxANX4IgG7+EQDR+ioAnfg8CHgAwBJ74IwAAAlr8EgA4/ggAJX4MAIcAff0pAhMAkF7/CAAQ/0/W/eIEACwMMvH/KwCAIcgCgBHIxI9XCwBGIBs/LBK/hUAEgLIvnrKKC4AoAgtd/FQ1ABICHgAoAlz8LAA4/iwAEL8FAAcBBcAK3wOAhkAkfopABoCyGgDKuKAvvXmb0G5b8VXdozNvyK41AO/63H7qbrp5xu6Au57uV4uAN/zbvnDOaF4EvPFveMfvegCiCLQGAEOQAoDGjwHwxu8BAEMAAHjD98QvIZCJHxaN/iV/32C0tXY8pdt22ZvSe/7SDcPB0/jLVp9hQREB76y4PSsAYAQiGGQAwPEDAB4EvPHDLAQ8AHAISABoCJgAeF5/DQAcfhaAskj4UQAoApnw99h+k3446OhqACjxtwSgFoF1PnVDd/KdazUBgEPAA4EXABo+BcBCIBI/BkBCwAsARSADwIUn3s0CAAhMofFHAODizwDw+dkv6G5+8CeDAgAIaHFb+/asO/XLxg+rASCLAMSPAcgiUOIHAGC1AEgIWBhoAEjhcwBkEaDxUwA4BLzxa1cAjt8C4NenvdsPABc/RsAbfwSAEj9sqPjLVvivI9yxtwQAx59BAMefRUACIIMAAEARiEJAAbAQkDDgALDilxCQIKgBQEPAAkC6AigAEgIAAIdAGAArfgqABwF4/aMIRMK/b6dn+hUAsghA/BkEhgAgggCOvwUCGAAOAS8EHABeBCgEgIA3fA0ADgFv/F4ExgmAhEAYAC18Ln4LAC5+DwDR8HH8GQBo/BEAuPgjCEjxewHg4ucAiCDgAcADQS0AeAWAaPwaABSBSPwSABiBCAAYgVoAMAIhAP46dfumAJT4JQAsBKLxUwCiCHAAeBHQAPAgoAHgQSACgAcBGr8HAQkCCYAMAnvdM2e3zicPbQqAhIAVvwYARcALACAgxR8BACMwxfv637Dysc0AsOK3EIiEz8UfQUCK3wOAFb8FgBW/hYAUvwaAhUAWAA4CDYAIAiV+AGBIBLzxWwAAAq0B4BCQAAAEXACU178AoCHAxc8BAPF7AOAQiIQ/NAAaAp74NQS88UsIaPFbAGgISABEEAAILAA8CED8GIAoAhYAsAgAHgQi8WMEMgBICJgA4PhbAuCJn0MgEr4WvwcBK34NgQgAHAJDA5BBQIs/isDrdli8+9rav+yXRQDHzyHghcALwIIvfL0pAD+Ya4luk5OvYzd2AKT4WwIQff01AKzwvQBoCGQBiMZPAYjGTxHwxO8BgCLQCoASPwwQsDDwxM8B4EHAE/9pKz3VryDghUCL/7Gnn1YB0KYBQBFIAwDxewCQ4scA4PijAAACkfC98UsAeOOnCGTipwhkAQAEWgKAEfAAYCGA45cQkECw4pcAsBDwxo8B8ECgxQ+LIvDckRd19y732hQAHAIsAFL8EgIWALXxwyLxRwCgCETjbwVAmRX44bsfoO73v36km+MfNzQFoMwbvwYAF78FAJ0Wv4WABoEnfgkBCQItfAxABIECACAgQSDFLwIgxe8BQIu/jMafAWCLN17dbfbNf/YbCgCMQAaAMi7og588MTQrcCt+AACvBoDTt7ms3x8XvrxfFgEp/igCZxw/exUAEgLe+CUAJAi0+FsAwCGQBsATfwSAn602f5P4MQBeBKLxw6S4tz32HHVH3r1SOHa6H26yaL9aADgEJAy06OkAAToLASv+CAIFAAsBCwAOAW/8HgQwBFr8GAAvAhwAEgIhAGj8NQCU8Mteuu/uaQAgfBq/F4Jo+Cut9I5+VugaADUIQPxZBHD8GgAUAy14LwASCJH4owBoCHgAoBBE4vcAANPipwB4EAAALAQkACgCKQAAASl8iJ8CkIlfA0BCIBI83tFH3lkVfxYAGn8UABp/BIHNtjylOQCwX3xyzRAAHgQwAEMg4Ik/gsBzN5zZDAAcPwcARsANQCZ+CgAOX4rfC0AkfgmBSPQ4flg2/gwCXPwRBKT4PQiU+GFDAbDTqjP3a4UABUBCIAIAIBCJ3wNAid8CIIIABUBCACBwAcDF7wGAC7/m9afhRwDACHiDl+JvAUAEgekFAA8C0fhhgEAEgggAHARRALbbb+buwBP+vSkCAED0CpAQiABQJgGAEZiSib/Mij8CQG38sCOO2NAdvQaAFwEpfi8AWvweBKz4NQRo/B4EMvFTALwIZACIIlCix3t0+at6BCIQeOK3EBgKgKcfXWcYAD567ANm/BiAaPgZAEr8s5x8XpP4PQBo8XsQ8MSvIeCNPwpALQI0fgkBDwQZADAC3vAxABgBLwRDAEAR4OK3EHjyY98XEUgDIMUfBWCI+GG18Q8NQCT+FgBQBLT4LQQy8UsAeCCoQcAbvgaABwNP/BoCEgAYgRoAOAREAKz4va8/ADCO+DMAaPFbCHjilxCIxs8hEI2fIuABQEIgE38NAlkAyjzRcwBoCEgQDAUAIFALgISAG4Bo/BwAVvhRALj4vQhkAYjETwHIxo8RyMYPAHjjlyDIxm8BoEGQAeC2Vc/ulwXAQoBC4IlfQqAWAA6BEj9MQmASAFb8HABS/GVDxQ/hZwHwxC8hEAUAEKiNvwUAZRkAMALZ+L0ASBBEAID4y1ZbZvPBAKAQeAGIInDtjD9tBgBGwAWAFr/n9feG7wXAE7+GQCR+CkAmfgmAlZc9JbzVN1+r2+6Id6T3mcUW6la95hF2GQQi8bdEwBM+BsCLAAUggkCZN/4MAKvv/+lmAGAEVACy8cPrPy3jbw2AN/Z9nl150rZc/LhU8DR+WDZ+mISABwYAIBN/FAAKgQYAFz8GwIMAB0AEgReuuL87eMNTUwho8cMKAhoEEgAaAlM88UdP/7INfrpkUwBo/B4AKALR+DECVuTSSvyw2vCnBQDctv/u+RM2DgQAAgqAFD4HgIVADQAlfgAAVgsAjh8DICEQBaCMBaA2/menPhwGYIj4MQDR6M89YtXRIsFL8WcA4OLPIIDjr0HgiGV37nfX2itOQiCyM367rToLAU/4LQGwEID4OQQsCCQAaPwUAAsBCoCEwBQr/ggAf9jg/n4lflgNAFz4UQDKpLA9e+uLd/erjT+KgBZ/BAEu/igAED4GABaN/5s7XNfPQkDbz2a7MA2AhkAGABo/B4AFgRcADwJVALSIH17/CAJDxf9fTx7bzXjYAeHocfh4tfF7EfDE7wFAit+LAA2fAyCKAABQg0AB4JCTNu+XAUBCQAOAQ4CL30KAg4BeAVL8HAAUgRQAXPgcAJ74WwBQE3+JHlbizwDAxe8FwIrfAsAbvweBLABS+BIAXgRw/FkASvwwDwISABwCFgAUgSwAHAQAgBa/hgCGQAKAQ2CKN34JAIhfev0tBCLxSwDg6Gn8UQCk+L0IeACQEIjGryFgxc8hYIWvAWAhQOPPIoABwAhoEHgRiACgxR9BAENQCwAgMAgAnvg1ACQEsvFz0XPxRxCw4rcQ8MbPIZCNn0PAGz8A4A3fAkCDQAIgggCNnwIgQaABgBHwAFDmiT8CAMwTvwVAWRMAMvFHAfCGD9Oil8L3AuCNXwIgGj8GoDZ+DIAn+rl/s9xoV238l+YAUAS0+GsBkBDAEFgAAAJS8FMuXW/CLt/84H4tAdj1nC26qefv0QwBCQCKgAmAFX8EAIqAFf/l82wyWk38FgCR+DkEMvHDdjx+jn6tEOAi11YAwGsRP0XAAsCDgBS/B4EoADR4boCABYE3fthP1ntpvxoA9nxope47Z26TB0B7/Wvixwhw8ePgW8avAZCJHyOgxX37NV9V98OV9+8HCNRsi9tW7OcNn4vfA0EEgLJ3v+zrYwFAQ+D1r76++8gx95nzhM8BoCHgDR9WroBaBAoAGgJuACLxRwAok2IfIn4JgJr4y6zAPfG3AADijyKgASBBYAW/x33fnLSCgAeCmvgtADwIfO6CmftlANAg8MYPAHgR8ABgITDFEz8NPwvAfrvv2W/X736tGgBv+BIA0dgPeO4XE/ax09/Vrzb+GgBo+EMAQCHwBC8B4IGgBgAJAQBgXAhQCLzxcwBoCFgAYAQoBCoALeOH6HH8XgBaxU8BiMYuxR8FgIZfg4AUvxeBSPx4nuA9CEgQ1MQvIYABsBAAADwIaABQCDzxt0AAx08B4BCYor3+3vgpADR6Gr8HgJbxYwCisUvhRwHQ4o8AYIXvRSAa/r0nHtNvr7Vv7NcCAAmCWgAwAjT+CAAWAh4AYN74MQAeBKIAYARYAKz4NQCk8Gn8WQCy8ZdFY/fE70XAit+DQCR8DwLR8PGGQIBCUBO/BUArBCIALPD2K6oB8CBAAdAQmABATfxa+Fz8FgAtw99308u6axY4p98Q8VsAeOPXAMjGLyGQiZ4DIAqBBQBeLQCAgASAhgAFQIPAG3/ZSescHQaAQ4BCkAEAEJgEQDT+d/9m+6YAtIi/RA+D+LMIWPFrAETi5xCoDT8KgBW+BMAQCOz/28W7Ra6+3ZyFgAaAhIAEAIeAJ3wMgAcBCoCFgAWAhsAUb/wcANn4JQBq4sfRS/FHAfDELwGQiR8D0Cp+DoFs+BoAXggiAMA8EEjbeZVbBkXAG38tAhwAFAEpfhOAccfvASAbvRa/FwFv+BIC2fi3W+ar3WrL/Gq0IRDIRu8FoAUCOP5aBAoAsAgCGgAWAlL8GAALAe8VAAhYAEgITMnGbwGgxc8B4A1fi94Tv4VAJn4AwBO4tjlX+Wg/jEDLFQRqwvcCYEEQjb8GAQyABUEEAIyAN34KgIZABABAIAWAFT8FoEX8FABP/K3C1xDIxl9mxe2NfzAEVji+3+qv/M1oQwOQQUADIIoAF78FQRSBMm/8EQQ4ACwEBgGAi18DwBM/BkCL3xN9Nn6KgBX4XDe9XNwV21zYr1X8TRH43/A5AGowiCDAQZCJPwqBBYCEQRSABw//ozt+DoBWCOz23ce79U99RQiBKS3jzwKQjb42fgBAi9saxJ9FQIq/GgESvgeBCAZRADwIRADwIBABgEJgAVCix/vmJbv1ywLAIZAFQEMgBQCOv8XrDwBA/Jnoa+P/z9k/1X1poSP6tYo/ioAVfwoBJXwvAB4QMgBQCGri9yCQAQBDQBGg0UsIeCDwICABICFQAIgiMGVaxF9WE302/hI9DOLPAiDF7wHAG34IAUf4WQA4DGoA4BDIAqBBUAMAzIpeQ0DDQAIAI6ABwCFAAZAQMAGQ4pcAiMb/4UX+bbShw8fRc/FHAdDC9yCQiV9EIBB9KwDKTtr3a92XzvjppGUgaBG/hEA09jf/cBZ2u/3yvGoEKAQaAF4EJAAiCIQAqI1/m1uXmhB/BoFM8Fr8EQS88UsI1MQ/AYFk+DUAlOjxTrnr4X4cBNFtcOPfJ6wFAtnYJQAiCEgAUAg8CESuAAkADgERgHHHH0EgG70VvweAaPwUgWjo+6z4iUm7cYY3dX+c+/AJGxIAGj0HQC0CB1z/mn4Ugcg4CDKhjxOBsne8fzVz19//BjcCGAAOAQwBC8BQp3+J3wLAgiAbvSd+C4Bs/ACAFrV3JX4OAG41CGjRSwBkIYD4WyCAd/+jp3Z7fHj77qubvboZABgBLwQWALcsNqsbAQ2CCAAUgUkAtIwfwvfGLyGQjd4bv4ZAJvrDllt7tPef90KT8CMAeFCIBm/Fn0GAAtACgRI/DBBoBQEGwIOABwAPAp/eYI4RAhIGHAAWAhMAkOLnABgyfgpBNvpI+BwA0dDpSviwFuHXAoB32eaHdyvsNFMqfgsALwJc/LUQ4PgBABhAUIsBRcCCwAOAhUABgEMAYxAFABCY0jp+HH5N/Pv8eN1+44ofAxCNXYs/CoAUfg0AJXi8Ej9eawA8EFgARBGg8VsIZDHgAMgigAHQEAAANATKOAAsBHoApPgpAOOOPwtAJn5YNHYt/AgAVvgRAGjwFgBRCLwASAh44vciIIXPASAhEIWgFQIUAA8CGgAZBKZMT/Fvvc5NE+LPIJCJ/uu7XtRvv49s1zx+DwDe+CUArOA98UcgiADAQRABQEPAil9CQIPAg4EEgAaBFwAJAe8V8PZXrdwGAO/pT8NvHX8EgWjwOHxYy/AtACLhYwAiwWcA0DDIxI8RiMYvIeCNXwLAQsCCYNwIYABaIuACYMj4S/hW/B4EotFz8UcB8MTPARAJ/k0/f2C04xbdcrRxxM9B4I39zHnvYrfRvz3aPXXqNeI8CETir0VAw8BCgIPAC0ANAgUADgE3AFb8XPhDx68BEI1+nPFjADyRS8Px040DAJgUtmclfjwNAmlLbfv7FAAaAhEIMAYeACwENAAoAhSAFgioAAwVP4QfiZ9DIBq8FH4EgEj4MG/kmfi9IHgD3+ros8V95JIfj9YCgAwEBQC6FgBEEQAIMgiMEwCKgAmAFL8U/jjjxwhEo7fi9wAQiX6x+Tbs95prXznaOOKXMPAEbg0DkIFAAiAKAYeAF4TWCDz+zEe7Y149Z78IBF4AhkaABWCI+HH4NfGXfeNbi4bDt+LXAIhGz8WfgSAb/R27f27C5tzg8X6t449CYAHghcACQAPBAiACQYkfBgjgeRDwAIAR4ACQEMAAYAREALjXf3qK/71ff0UfP6xV+BoAkeCt8CMYZGOX4qdrDYAFgTd+LwRRBPBaIYABkBDQUIgAAAhIAGQRmCK9/lr43vhp+Nn4S/g0fi8C3vgpANHoM/FLEGRCjwIQwcAbvwZBBgANgmj0Ty940mhnrbpc9/ijr+uXRYDGH4UAFgEggwAFABCYBEAkfg8ALeKH8KX4LQgi8WMAIsG3iB+vJvZM/B4MMgBQCGoAkCCIRC8BQOeFQAMgisACT97YLfXIPO7VXgEYgSk4fk/4Vvxc+NH4I+FzCETDh2Wirwl/iSfWmLCNVvgdu3HFz2FQEz/sqROWagIAhSASPQVAQ0DCIAJABIECQBSBNR57quoKKBsB8H8hftjlLx6S2nuWX6vfUPHT2L3xZ1HIBP/g5ctN2rGP/KEPuGZrPH30aM/NvLp7Hggi4VMAPAhQELzxRyGIIlAAaIHAlBbxS+FH4sfhZ+K/87RZqsKXFo3fCr1F/BYI3ritlfjpagHIQKDtwAUfCcVPAYgiUPann27VHAEAIAJBBAERgGkdPw0/Gn8JPxq/Fb2FQU3sQ8Rf9uqD7h/thK/M2S8TvRZ/FgIOgFoISvh0WQCiCBQAyt6/2cnTFAEAoAYBFwDR8D3xc+FH4ofwI/Fnwy977ft+0L3p0CUmbZzx48ilQfx0rQHwQqDFn8WAiz8CAQdABAEAABCA1SJAAYgiwEFQDUDr+KXwPfHj6CPx10QvhW+tJn5P6JH4oyB44/dgEAHAA4EVvwcCCQAvAhgAikAtBBwCGgQUgCgCUyLxW+Fr8WvhW/Fz4Xvizwafjd4LQ23oLQCQMMjGL0GQAUCCIBK/BoEGgAcBCgCHgAeCCACtEHAD0Cr+IcK34s8EP2T4c5x1c7fI7zYfbYPv3DFp0yp+2PU3/me/R2f4brPdvfBu3X3P/lcVAgBBNn4OAgsACwEOAAkBC4IWCHAAcBBwCEyx4veE3zr+TPjZ4FuGX0LHw9Fr8WtrFT8Ebu3fr5xptBYAwAoENTtmxp/3e+PTb3JPgsADgIaABICGgIZBBAAJgggCKgAt4rfCl+LXwpfin1bR09il4GsB8MAQjdwLQC0GGIBaDAAAvAgGeL/e5c39Mgho8beEIIqABgBGgF4BU7j4veHT+D3hc/Fb4XPxZ4LPhM+FHo0+Ev8cnz3Mve1mOcW1FgBkMJAAyGDAAZDFAADA8yLgBcCDAAfBuBCYBEBN/N7wcfye6Ln4M8F7w7dijwa/zOxPjbbBlQ+yiwQfDT+60084tnv0Xeu5EPBg4AHAi4EFQAQDDgALgwwAXgQoBhEAKAQWAgABIDAF4o+ED/FHwof4I+Hj+DPBS9F7QvdEjwPnJkUfnRZ/ibbFSvieRSCIAqBhEAFAw8CKX8MgA0AUAYAgi4AHAECgByATfzT8smj4EH80eBx+NHQavBV4JvqDbv6na2t9ZdcmaxV+BIcWAFAMsgBQDKIAUAwyAGQQAAgiAGQQ+H9skerj6b7+twAAAABJRU5ErkJggg==' style='width:256.0px;height:256.0px;' /><div style='position: absolute; top:0; left:0; padding:1px 3px; background: #777; color:#fff; font-size: 90%; font-family:sans-serif; '>snapshot</div></div>"
      ],
      "text/plain": [
       "CanvasBackend(css_height='256px', css_width='256px')"
      ]
     },
     "execution_count": 291,
     "metadata": {},
     "output_type": "execute_result"
    }
   ],
   "source": [
    "vertex = \"\"\"\n",
    "    attribute vec4 color;\n",
    "    attribute vec2 position;\n",
    "    varying vec4 v_color;\n",
    "    void main()\n",
    "    {\n",
    "        gl_Position = vec4(position, 0.0, 1.0);\n",
    "        v_color = vec4(color.rgb,1);\n",
    "    } \"\"\"\n",
    "\n",
    "fragment = \"\"\"\n",
    "    varying vec4 v_color;\n",
    "    void main()\n",
    "    {\n",
    "        gl_FragColor = v_color;\n",
    "    } \"\"\"\n",
    "\n",
    "vertexBuffer, colorBuffer = buildGLBuffers(uv,f,face_index_list)\n",
    "\n",
    "c = Canvas()\n",
    "c"
   ]
  },
  {
   "cell_type": "code",
   "execution_count": 292,
   "metadata": {},
   "outputs": [],
   "source": [
    "img=c.render('triangle_strip')\n",
    "vispy.io.image.write_png(\"faceIndexMap.png\", img)"
   ]
  },
  {
   "cell_type": "code",
   "execution_count": 293,
   "metadata": {},
   "outputs": [
    {
     "data": {
      "application/vnd.jupyter.widget-view+json": {
       "model_id": "6dfb0b3952794fc99687a13058046ca6",
       "version_major": 2,
       "version_minor": 0
      },
      "text/plain": [
       "RFBOutputContext()"
      ]
     },
     "metadata": {},
     "output_type": "display_data"
    },
    {
     "data": {
      "application/vnd.jupyter.widget-view+json": {
       "model_id": "e21fc8cac4cd4619b93cd6afb3050db0",
       "version_major": 2,
       "version_minor": 0
      },
      "text/html": [
       "<div class='snapshot-e21fc8cac4cd4619b93cd6afb3050db0' style='position:relative;'><img src='data:image/png;base64,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' style='width:256.0px;height:256.0px;' /><div style='position: absolute; top:0; left:0; padding:1px 3px; background: #777; color:#fff; font-size: 90%; font-family:sans-serif; '>snapshot</div></div>"
      ],
      "text/plain": [
       "CanvasBackend(css_height='256px', css_width='256px')"
      ]
     },
     "execution_count": 293,
     "metadata": {},
     "output_type": "execute_result"
    }
   ],
   "source": [
    "vertex = \"\"\"\n",
    "    attribute vec4 color;\n",
    "    attribute vec2 position;\n",
    "    varying vec4 v_color;\n",
    "    void main()\n",
    "    {\n",
    "        gl_Position = vec4(position, 0.0, 1.0);\n",
    "        v_color = vec4(color.rgb,1);\n",
    "    } \"\"\"\n",
    "\n",
    "fragment = \"\"\"\n",
    "    varying vec4 v_color;\n",
    "    void main()\n",
    "    {\n",
    "        gl_FragColor = v_color;\n",
    "    } \"\"\"\n",
    "\n",
    "vertexBuffer, colorBuffer = buildGLBuffers(uv,f,xMap)\n",
    "c = Canvas()\n",
    "c"
   ]
  },
  {
   "cell_type": "code",
   "execution_count": 294,
   "metadata": {},
   "outputs": [],
   "source": [
    "img=c.render('triangle_strip')\n",
    "vispy.io.image.write_png(\"xMap.png\", img)"
   ]
  },
  {
   "cell_type": "code",
   "execution_count": 295,
   "metadata": {},
   "outputs": [
    {
     "data": {
      "application/vnd.jupyter.widget-view+json": {
       "model_id": "a17e237d47d74973b42f8652a5da83c3",
       "version_major": 2,
       "version_minor": 0
      },
      "text/plain": [
       "RFBOutputContext()"
      ]
     },
     "metadata": {},
     "output_type": "display_data"
    },
    {
     "data": {
      "application/vnd.jupyter.widget-view+json": {
       "model_id": "150ae8d319c942288e958eb8588b8de0",
       "version_major": 2,
       "version_minor": 0
      },
      "text/html": [
       "<div class='snapshot-150ae8d319c942288e958eb8588b8de0' style='position:relative;'><img src='data:image/png;base64,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' style='width:256.0px;height:256.0px;' /><div style='position: absolute; top:0; left:0; padding:1px 3px; background: #777; color:#fff; font-size: 90%; font-family:sans-serif; '>snapshot</div></div>"
      ],
      "text/plain": [
       "CanvasBackend(css_height='256px', css_width='256px')"
      ]
     },
     "execution_count": 295,
     "metadata": {},
     "output_type": "execute_result"
    }
   ],
   "source": [
    "vertexBuffer, colorBuffer = buildGLBuffers(uv,f,yMap)\n",
    "c = Canvas()\n",
    "c"
   ]
  },
  {
   "cell_type": "code",
   "execution_count": 296,
   "metadata": {},
   "outputs": [],
   "source": [
    "img=c.render('triangle_strip')\n",
    "vispy.io.image.write_png(\"yMap.png\", img)"
   ]
  },
  {
   "cell_type": "code",
   "execution_count": 297,
   "metadata": {},
   "outputs": [
    {
     "data": {
      "application/vnd.jupyter.widget-view+json": {
       "model_id": "dea15aea05bd4c339d298b5aa1f2a2c3",
       "version_major": 2,
       "version_minor": 0
      },
      "text/plain": [
       "RFBOutputContext()"
      ]
     },
     "metadata": {},
     "output_type": "display_data"
    },
    {
     "data": {
      "application/vnd.jupyter.widget-view+json": {
       "model_id": "2df3445cc019465eaf68e14621cbf553",
       "version_major": 2,
       "version_minor": 0
      },
      "text/html": [
       "<div class='snapshot-2df3445cc019465eaf68e14621cbf553' style='position:relative;'><img src='data:image/png;base64,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' style='width:256.0px;height:256.0px;' /><div style='position: absolute; top:0; left:0; padding:1px 3px; background: #777; color:#fff; font-size: 90%; font-family:sans-serif; '>snapshot</div></div>"
      ],
      "text/plain": [
       "CanvasBackend(css_height='256px', css_width='256px')"
      ]
     },
     "execution_count": 297,
     "metadata": {},
     "output_type": "execute_result"
    }
   ],
   "source": [
    "vertexBuffer, colorBuffer = buildGLBuffers(uv,f,zMap)\n",
    "c = Canvas()\n",
    "c"
   ]
  },
  {
   "cell_type": "code",
   "execution_count": 298,
   "metadata": {},
   "outputs": [],
   "source": [
    "img=c.render('triangle_strip')\n",
    "vispy.io.image.write_png(\"zMap.png\", img)"
   ]
  },
  {
   "cell_type": "code",
   "execution_count": 299,
   "metadata": {},
   "outputs": [],
   "source": [
    "# https://github.com/10mrohit/floyd-steinberg-dithering\n",
    "from math import floor\n",
    "from PIL import Image\n",
    "\n",
    "import os\n",
    "\n",
    "class Dither():\n",
    "    def __init__(self, path, algorithm=None, output=None):\n",
    "        self.path = self.get_path(path)\n",
    "        self.algorithm = algorithm\n",
    "        self.output = output\n",
    "        self.func = self.get_func(self.algorithm)\n",
    "        self.func(self.path)\n",
    "\n",
    "    def get_path(self, path):\n",
    "        if path.startswith('/') and not path.startswith('~/'):\n",
    "            return os.getcwd() + '/' + path\n",
    "        else:\n",
    "            return path\n",
    "\n",
    "    def get_func(self, algorithm):\n",
    "        return self.floyd_steinberg_dither\n",
    "\n",
    "    def apply_threshold(self, value):\n",
    "        return 255 * floor(value/128)\n",
    "\n",
    "    def floyd_steinberg_dither(self, image_file):\n",
    "        new_img = Image.open(image_file)\n",
    "\n",
    "        new_img = new_img.convert('RGB')\n",
    "        pixel = new_img.load()\n",
    "\n",
    "        x_lim, y_lim = new_img.size\n",
    "\n",
    "        for y in range(1, y_lim):\n",
    "            for x in range(1, x_lim):\n",
    "                oldpixel, _, _ = pixel[x, y]\n",
    "                newpixel = self.apply_threshold(oldpixel)\n",
    "              \n",
    "                pixel[x, y] = newpixel, newpixel, newpixel\n",
    "\n",
    "                error = oldpixel - newpixel\n",
    "            \n",
    "                if x < x_lim - 1:\n",
    "                    value = pixel[x+1, y][0] + round(error * 7/16)\n",
    "                    pixel[x+1, y] = (value, value, value)\n",
    "\n",
    "                if x > 1 and y < y_lim - 1:\n",
    "                    value = pixel[x-1, y+1][0] + round(error * 3/16)\n",
    "                    pixel[x-1, y+1] = (value, value, value)\n",
    "\n",
    "                if y < y_lim - 1:\n",
    "                    value = pixel[x, y+1][0] + round(error * 5/16)\n",
    "                    pixel[x, y+1] = (value, value, value)\n",
    "\n",
    "                if x < x_lim - 1 and y < y_lim - 1:\n",
    "                    value = pixel[x+1, y+1][0] + round(error * 1/16)\n",
    "                    pixel[x+1, y+1] = (value, value, value)\n",
    "\n",
    "        if self.output:\n",
    "            new_img.save(self.output)\n",
    "        else:\n",
    "            new_img.show()"
   ]
  },
  {
   "cell_type": "code",
   "execution_count": 300,
   "metadata": {},
   "outputs": [
    {
     "data": {
      "text/plain": [
       "<__main__.Dither at 0x1b1dfa6d690>"
      ]
     },
     "execution_count": 300,
     "metadata": {},
     "output_type": "execute_result"
    }
   ],
   "source": [
    "Dither(\"controlMap.png\", output=\"discreteControlMap.png\")"
   ]
  },
  {
   "cell_type": "code",
   "execution_count": 301,
   "metadata": {},
   "outputs": [
    {
     "data": {
      "application/vnd.jupyter.widget-view+json": {
       "model_id": "2c6d27380f68450a85b4f69fab1d3a6b",
       "version_major": 2,
       "version_minor": 0
      },
      "text/plain": [
       "Renderer(camera=PerspectiveCamera(children=(DirectionalLight(color='white', intensity=0.6, position=(0.0, 0.0,…"
      ]
     },
     "metadata": {},
     "output_type": "display_data"
    },
    {
     "data": {
      "text/plain": [
       "1"
      ]
     },
     "execution_count": 301,
     "metadata": {},
     "output_type": "execute_result"
    }
   ],
   "source": [
    "def imageToMapCoords(imgX,imgY,height,width):\n",
    "    x = (imgX*2-width) / width\n",
    "    y = -(imgY*2-height) / height\n",
    "    return x,y\n",
    "\n",
    "def mapToImageCoords(mapX, mapY, height, width):\n",
    "    x = (mapX + 1)/2 * width\n",
    "    y = (-mapY + 1)/2 * height\n",
    "\n",
    "    x = min(int(x), width-1)\n",
    "    y = min(int(y), height-1)\n",
    "    return x,y\n",
    "    \n",
    "def uvFromControlMap(filename):\n",
    "    newUV = []\n",
    "    im = np.array(Image.open(filename))\n",
    "\n",
    "    for y in range(im.shape[0]):\n",
    "        for x in range(im.shape[1]):\n",
    "            if (im[y,x,0] == 0):\n",
    "                u,v=imageToMapCoords(x,y,im.shape[0],im.shape[1])\n",
    "                newUV.append([u,v])\n",
    "    return np.array(newUV)\n",
    "            \n",
    "newUV=uvFromControlMap(\"discreteControlMap.png\")\n",
    "\n",
    "## add constraints\n",
    "for coord in uv[feature_edge_list]:\n",
    "    newUV = np.append(newUV, coord, axis=0)\n",
    "bnd = igl.boundary_loop(f)\n",
    "bnd_uv = igl.map_vertices_to_circle(v, bnd)\n",
    "bnd_uv = np.array([circle_to_square(x_circ,y_circ) for [x_circ,y_circ] in bnd_uv])\n",
    "newUV = np.append(newUV, bnd_uv, axis=0)\n",
    "#########################\n",
    "\n",
    "delauney = sp.spatial.Delaunay(newUV).simplices\n",
    "\n",
    "p=mp.plot(newUV, delauney, shading={\"wireframe\": 1, \"line_width\":0.9})\n",
    "p.add_points(newUV, shading={\"point_size\": .06, \"point_color\": \"black\"})"
   ]
  },
  {
   "cell_type": "code",
   "execution_count": null,
   "metadata": {},
   "outputs": [],
   "source": []
  },
  {
   "cell_type": "code",
   "execution_count": 302,
   "metadata": {},
   "outputs": [
    {
     "name": "stdout",
     "output_type": "stream",
     "text": [
      "2.0\n",
      "2.0\n",
      "0.6180300000000001\n"
     ]
    },
    {
     "data": {
      "application/vnd.jupyter.widget-view+json": {
       "model_id": "09f65e2611ad4a058d7f1067de292cc2",
       "version_major": 2,
       "version_minor": 0
      },
      "text/plain": [
       "Renderer(camera=PerspectiveCamera(children=(DirectionalLight(color='white', intensity=0.6, position=(4.0, 4.0,…"
      ]
     },
     "metadata": {},
     "output_type": "display_data"
    }
   ],
   "source": [
    "def uvMapToXYZ(uvCoords, v, xMapImg, yMapImg, zMapImg):\n",
    "    newV = []\n",
    "    Xim = np.array(Image.open(xMapImg))\n",
    "    Yim = np.array(Image.open(yMapImg))\n",
    "    Zim = np.array(Image.open(zMapImg))\n",
    "\n",
    "    xRange = max(v[:,0]) - min(v[:,0])\n",
    "    print(xRange)\n",
    "    yRange = max(v[:,1]) - min(v[:,1])\n",
    "    print(yRange)\n",
    "    zRange = max(v[:,2]) - min(v[:,2])\n",
    "    print(zRange)\n",
    "    \n",
    "    for [xMap, yMap] in uvCoords:\n",
    "        imX, imY = mapToImageCoords(xMap, yMap, Xim.shape[0], Xim.shape[1])\n",
    "        uvXYZ = [xRange*np.sum(Xim[imY,imX]),\n",
    "                 yRange*np.sum(Yim[imY,imX]),\n",
    "                 zRange*np.sum(Zim[imY,imX])]\n",
    "        newV.append(uvXYZ)\n",
    "\n",
    "    return (1/255)*np.array(newV)\n",
    "\n",
    "\n",
    "newV = uvMapToXYZ(newUV, v, \"xMap.png\", \"yMap.png\", \"zMap.png\")\n",
    "\n",
    "\n",
    "p=mp.plot(newV, delauney, shading={\"wireframe\": 1, \"line_width\":0.2})"
   ]
  },
  {
   "cell_type": "code",
   "execution_count": null,
   "metadata": {},
   "outputs": [],
   "source": []
  },
  {
   "cell_type": "code",
   "execution_count": null,
   "metadata": {},
   "outputs": [],
   "source": []
  },
  {
   "cell_type": "code",
   "execution_count": null,
   "metadata": {},
   "outputs": [],
   "source": []
  }
 ],
 "metadata": {
  "kernelspec": {
   "display_name": "Python 3 (ipykernel)",
   "language": "python",
   "name": "python3"
  },
  "language_info": {
   "codemirror_mode": {
    "name": "ipython",
    "version": 3
   },
   "file_extension": ".py",
   "mimetype": "text/x-python",
   "name": "python",
   "nbconvert_exporter": "python",
   "pygments_lexer": "ipython3",
   "version": "3.11.5"
  }
 },
 "nbformat": 4,
 "nbformat_minor": 4
}
