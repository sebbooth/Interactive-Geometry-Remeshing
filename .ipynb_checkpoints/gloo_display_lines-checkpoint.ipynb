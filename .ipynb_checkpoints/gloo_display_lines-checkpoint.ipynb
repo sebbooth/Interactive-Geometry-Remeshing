{
 "cells": [
  {
   "cell_type": "markdown",
   "metadata": {},
   "source": [
    "# Jupyter Notebook backend demo"
   ]
  },
  {
   "cell_type": "markdown",
   "metadata": {},
   "source": [
    "This example shows how vispy's low-level gloo interface can be used to display a Canvas in a notebook. By default, vispy will detect that it is being run in a notebook and load the \"jupyter_rfb\" backend automatically. This does require that the \"jupyter_rfb\" package be installed.\n",
    "\n",
    "Due to the way widgets work in Jupyter, you can display the Canvas multiple times, but they will continue to represent the same object. In the case of timers, they will continue to run in the backgroudn until they are stopped, even if the output of your notebook cell is cleared and no canvas is visible."
   ]
  },
  {
   "cell_type": "code",
   "execution_count": 1,
   "metadata": {},
   "outputs": [],
   "source": [
    "import numpy as np\n",
    "import vispy\n",
    "import vispy.gloo as gloo\n",
    "from vispy import app\n",
    "from vispy.util.transforms import perspective, translate, rotate"
   ]
  },
  {
   "cell_type": "code",
   "execution_count": 2,
   "metadata": {},
   "outputs": [],
   "source": [
    "n = 100\n",
    "a_position = np.random.uniform(-1, 1, (n, 3)).astype(np.float32)\n",
    "a_id = np.random.randint(0, 30, (n, 1))\n",
    "a_id = np.sort(a_id, axis=0).astype(np.float32)"
   ]
  },
  {
   "cell_type": "code",
   "execution_count": 3,
   "metadata": {},
   "outputs": [],
   "source": [
    "VERT_SHADER = \"\"\"\n",
    "uniform mat4 u_model;\n",
    "uniform mat4 u_view;\n",
    "uniform mat4 u_projection;\n",
    "attribute vec3 a_position;\n",
    "attribute float a_id;\n",
    "varying float v_id;\n",
    "void main (void) {\n",
    "    v_id = a_id;\n",
    "    gl_Position = u_projection * u_view * u_model * vec4(a_position,1.0);\n",
    "}\n",
    "\"\"\"\n",
    "\n",
    "FRAG_SHADER = \"\"\"\n",
    "varying float v_id;\n",
    "void main()\n",
    "{\n",
    "    float f = fract(v_id);\n",
    "    // The second useless test is needed on OSX 10.8 (fuck)\n",
    "    if( (f > 0.0001) && (f < .9999) )\n",
    "        discard;\n",
    "    else\n",
    "        gl_FragColor = vec4(0,0,0,1);\n",
    "}\n",
    "\"\"\""
   ]
  },
  {
   "cell_type": "code",
   "execution_count": 8,
   "metadata": {},
   "outputs": [],
   "source": [
    "class Canvas(app.Canvas):\n",
    "\n",
    "    # ---------------------------------\n",
    "    def __init__(self, size=None, show=True):\n",
    "        app.Canvas.__init__(self, keys='interactive', size=size)\n",
    "\n",
    "        self.program = gloo.Program(VERT_SHADER, FRAG_SHADER)\n",
    "\n",
    "        # Set uniform and attribute\n",
    "        self.program['a_id'] = gloo.VertexBuffer(a_id)\n",
    "        self.program['a_position'] = gloo.VertexBuffer(a_position)\n",
    "\n",
    "        self.translate = 5\n",
    "        self.view = translate((0, 0, -self.translate), dtype=np.float32)\n",
    "        self.model = np.eye(4, dtype=np.float32)\n",
    "\n",
    "        gloo.set_viewport(0, 0, self.physical_size[0], self.physical_size[1])\n",
    "        self.projection = perspective(45.0, self.size[0] /\n",
    "                                      float(self.size[1]), 1.0, 1000.0)\n",
    "        self.program['u_projection'] = self.projection\n",
    "\n",
    "        self.program['u_model'] = self.model\n",
    "        self.program['u_view'] = self.view\n",
    "\n",
    "        self.theta = 0\n",
    "        self.phi = 0\n",
    "\n",
    "        self.context.set_clear_color('white')\n",
    "        self.context.set_state('translucent')\n",
    "\n",
    "        self.timer = app.Timer('auto', connect=self.on_timer, start=True)\n",
    "\n",
    "        if show:\n",
    "            self.show()\n",
    "\n",
    "    # ---------------------------------\n",
    "    def on_key_press(self, event):\n",
    "        img=self.render('line_strip')\n",
    "        vispy.io.image.write_png(\"vispy.png\", img)\n",
    "        if event.text == ' ':\n",
    "            if self.timer.running:\n",
    "                self.timer.stop()\n",
    "            else:\n",
    "                self.timer.start()\n",
    "\n",
    "    # ---------------------------------\n",
    "    def on_timer(self, event):\n",
    "        self.theta += .5\n",
    "        self.phi += .5\n",
    "        self.model = np.dot(rotate(self.theta, (0, 0, 1)),\n",
    "                            rotate(self.phi, (0, 1, 0)))\n",
    "        self.program['u_model'] = self.model\n",
    "        self.update()\n",
    "\n",
    "    # ---------------------------------\n",
    "    def on_resize(self, event):\n",
    "        gloo.set_viewport(0, 0, event.physical_size[0], event.physical_size[1])\n",
    "        self.projection = perspective(45.0, event.size[0] /\n",
    "                                      float(event.size[1]), 1.0, 1000.0)\n",
    "        self.program['u_projection'] = self.projection\n",
    "\n",
    "    # ---------------------------------\n",
    "    def on_mouse_wheel(self, event):\n",
    "        self.translate += event.delta[1]\n",
    "        self.translate = max(2, self.translate)\n",
    "        self.view = translate((0, 0, -self.translate))\n",
    "        self.program['u_view'] = self.view\n",
    "        self.update()\n",
    "\n",
    "    # ---------------------------------\n",
    "    def on_draw(self, event):\n",
    "        self.context.clear()\n",
    "        self.program.draw('line_strip')"
   ]
  },
  {
   "cell_type": "markdown",
   "metadata": {},
   "source": [
    "Every cell above was preparing our GL Canvas for operation. Now we will create the Canvas instance and because of the `self.show()` in our `__init__` method our canvas will be shown and its timer started immediately."
   ]
  },
  {
   "cell_type": "code",
   "execution_count": 9,
   "metadata": {},
   "outputs": [
    {
     "data": {
      "application/vnd.jupyter.widget-view+json": {
       "model_id": "1af26772fd0f44bbab154a22c246a7ed",
       "version_major": 2,
       "version_minor": 0
      },
      "text/plain": [
       "RFBOutputContext()"
      ]
     },
     "metadata": {},
     "output_type": "display_data"
    },
    {
     "data": {
      "application/vnd.jupyter.widget-view+json": {
       "model_id": "10935dbb53a04b27a2655dd3340acb93",
       "version_major": 2,
       "version_minor": 0
      },
      "text/html": [
       "<div class='snapshot-10935dbb53a04b27a2655dd3340acb93' style='position:relative;'><img src='data:image/png;base64,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' style='width:300.0px;height:300.0px;' /><div style='position: absolute; top:0; left:0; padding:1px 3px; background: #777; color:#fff; font-size: 90%; font-family:sans-serif; '>snapshot</div></div>"
      ],
      "text/plain": [
       "CanvasBackend(css_width='300px')"
      ]
     },
     "execution_count": 9,
     "metadata": {},
     "output_type": "execute_result"
    }
   ],
   "source": [
    "c = Canvas(size=(300, 300))\n",
    "c"
   ]
  },
  {
   "cell_type": "markdown",
   "metadata": {},
   "source": [
    "When timers are involved we can run the `stop` and `start` methods to turn them on/off and see the result in the widget displayed above."
   ]
  },
  {
   "cell_type": "code",
   "execution_count": null,
   "metadata": {},
   "outputs": [],
   "source": [
    "c.timer.stop()"
   ]
  },
  {
   "cell_type": "code",
   "execution_count": null,
   "metadata": {},
   "outputs": [],
   "source": [
    "c.timer.start()"
   ]
  },
  {
   "cell_type": "code",
   "execution_count": null,
   "metadata": {},
   "outputs": [],
   "source": []
  }
 ],
 "metadata": {
  "kernelspec": {
   "display_name": "Python 3 (ipykernel)",
   "language": "python",
   "name": "python3"
  },
  "language_info": {
   "codemirror_mode": {
    "name": "ipython",
    "version": 3
   },
   "file_extension": ".py",
   "mimetype": "text/x-python",
   "name": "python",
   "nbconvert_exporter": "python",
   "pygments_lexer": "ipython3",
   "version": "3.11.5"
  }
 },
 "nbformat": 4,
 "nbformat_minor": 4
}
