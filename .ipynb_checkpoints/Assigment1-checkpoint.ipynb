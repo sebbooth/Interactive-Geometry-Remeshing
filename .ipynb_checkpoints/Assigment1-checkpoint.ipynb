{
 "cells": [
  {
   "cell_type": "markdown",
   "metadata": {},
   "source": [
    "# Neighborhood Computations"
   ]
  },
  {
   "cell_type": "code",
   "execution_count": 2,
   "metadata": {},
   "outputs": [],
   "source": [
    "import numpy as np\n",
    "import igl\n",
    "import math\n",
    "import meshplot as mp\n",
    "import scipy as sp\n",
    "import ipywidgets as iw"
   ]
  },
  {
   "cell_type": "markdown",
   "metadata": {},
   "source": [
    "## Defining Feature Edges With Dihedral Angle Thresholding\n",
    "### TODO: User Constraints?\n",
    "Not sure how to implememt click-to-select vertices/faces, but maybe user-inputted list?"
   ]
  },
  {
   "cell_type": "code",
   "execution_count": 3,
   "metadata": {},
   "outputs": [
    {
     "data": {
      "application/vnd.jupyter.widget-view+json": {
       "model_id": "f5ab6f5dcd4c4448b10ed29f6f2b56f1",
       "version_major": 2,
       "version_minor": 0
      },
      "text/plain": [
       "Renderer(camera=PerspectiveCamera(children=(DirectionalLight(color='white', intensity=0.6, position=(2.4139499…"
      ]
     },
     "metadata": {},
     "output_type": "display_data"
    },
    {
     "data": {
      "text/plain": [
       "1"
      ]
     },
     "execution_count": 3,
     "metadata": {},
     "output_type": "execute_result"
    }
   ],
   "source": [
    "def feature_edges(v,f,threshold):\n",
    "    edge_faces = []\n",
    "\n",
    "    dihedral_threshold = threshold/180 * np.pi\n",
    "    f_normals = igl.per_face_normals(v,f,np.ndarray([0,0]))\n",
    "    edge_flaps = igl.edge_flaps(f)\n",
    "    edges = edge_flaps[0]\n",
    "    \n",
    "    threshold_edges = []\n",
    "    for i in range(edges.shape[0]):\n",
    "        # find normals of faces connecting edge\n",
    "        edge_face_norms = f_normals[edge_flaps[2][i]]\n",
    "\n",
    "        # find dihedral angle between edge faces\n",
    "        f1n = edge_face_norms[0] / np.linalg.norm(edge_face_norms[0])\n",
    "        f2n = edge_face_norms[1] / np.linalg.norm(edge_face_norms[1])\n",
    "        dihedral_angle = np.arccos(np.clip(np.dot(f1n, f2n), -1.0, 1.0))\n",
    "\n",
    "        # add angles greater than threshold to list\n",
    "        if dihedral_angle > dihedral_threshold or (-1 in edge_flaps[2][i]):\n",
    "            threshold_edges.append(edges[i])\n",
    "            \n",
    "            # add edge faces to list\n",
    "            if edge_flaps[2][i][0] != -1:\n",
    "                edge_faces.append(edge_flaps[2][i][0])\n",
    "            if edge_flaps[2][i][1] != -1:\n",
    "                edge_faces.append(edge_flaps[2][i][1])\n",
    "\n",
    "    threshold_edges = np.array(threshold_edges)\n",
    "    return threshold_edges, edge_faces\n",
    "\n",
    "\n",
    "\n",
    "v, f = igl.read_triangle_mesh(\"data/fandisk.obj\")\n",
    "feature_edge_list, edge_faces = feature_edges(v,f,20)\n",
    "\n",
    "col = np.ones_like(f)\n",
    "col[edge_faces, 1:] = 0\n",
    "\n",
    "p = mp.plot(v, f, c=col, shading={\"wireframe\": 0})\n",
    "p.add_lines(v[feature_edge_list][:,0], v[feature_edge_list][:,1], shading={\"line_color\": \"yellow\"})"
   ]
  },
  {
   "cell_type": "markdown",
   "metadata": {},
   "source": [
    "## Parametrization onto Square Map"
   ]
  },
  {
   "cell_type": "code",
   "execution_count": 4,
   "metadata": {},
   "outputs": [
    {
     "data": {
      "application/vnd.jupyter.widget-view+json": {
       "model_id": "1fdf65c5b75245d6b4ae9f1879901f09",
       "version_major": 2,
       "version_minor": 0
      },
      "text/plain": [
       "Renderer(camera=PerspectiveCamera(children=(DirectionalLight(color='white', intensity=0.6, position=(2.4139499…"
      ]
     },
     "metadata": {},
     "output_type": "display_data"
    },
    {
     "data": {
      "application/vnd.jupyter.widget-view+json": {
       "model_id": "21da866475164e07b8b52ea2b11c3a9b",
       "version_major": 2,
       "version_minor": 0
      },
      "text/plain": [
       "interactive(children=(Dropdown(description='mode', options=('2D', '3D'), value='2D'), Output()), _dom_classes=…"
      ]
     },
     "metadata": {},
     "output_type": "display_data"
    }
   ],
   "source": [
    "def circle_to_square(x_circ,y_circ):\n",
    "    x = 0.5 * np.sqrt( 2 + x_circ**2 - y_circ**2 + 2*x_circ*np.sqrt(2) ) - 0.5 * np.sqrt( 2 + x_circ**2 - y_circ**2 - 2*x_circ*np.sqrt(2) )\n",
    "    y = 0.5 * np.sqrt( 2 - x_circ**2 + y_circ**2 + 2*y_circ*np.sqrt(2) ) - 0.5 * np.sqrt( 2 - x_circ**2 + y_circ**2 - 2*y_circ*np.sqrt(2) )\n",
    "    x = max(min(1,x),-1)\n",
    "    y = max(min(1,y),-1)\n",
    "    return [x,y]\n",
    "\n",
    "def parametrize(v,f):\n",
    "    ## Find the open boundary\n",
    "    bnd = igl.boundary_loop(f)\n",
    "    \n",
    "    ## Map the boundary to a circle, preserving edge proportions\n",
    "    bnd_uv = igl.map_vertices_to_circle(v, bnd)\n",
    "    \n",
    "    # remap circle boundary onto square\n",
    "    bnd_uv = np.array([circle_to_square(x_circ,y_circ) for [x_circ,y_circ] in bnd_uv])\n",
    "\n",
    "    ## Harmonic parametrization for the internal vertices\n",
    "    return igl.harmonic(v, f, bnd, bnd_uv, 1)\n",
    "\n",
    "\n",
    "v, f = igl.read_triangle_mesh(\"data/fandisk.obj\")\n",
    "uv = parametrize(v,f)\n",
    "feature_edge_list, _ = feature_edges(v,f,20)\n",
    "\n",
    "\n",
    "p = mp.plot(v, f, c=np.ones_like(f), shading={\"wireframe\": False})\n",
    "p.add_lines(v[feature_edge_list][:,0], v[feature_edge_list][:,1], shading={\"line_color\": \"yellow\"})\n",
    "@iw.interact(mode=['2D','3D'])\n",
    "def switch(mode):\n",
    "    if mode == \"3D\":\n",
    "        mp.plot(v, f, c=uv[:,0],shading={\"wireframe\": 0}, plot=p)\n",
    "        p.add_lines(v[feature_edge_list][:,0], v[feature_edge_list][:,1], shading={\"line_color\": \"yellow\"})\n",
    "        \n",
    "    if mode == \"2D\":\n",
    "        mp.plot(uv, f, c=np.ones_like(f), shading={\"wireframe\": 0, \"line_width\":0.2}, plot=p)\n",
    "        p.add_lines(uv[feature_edge_list][:,0], uv[feature_edge_list][:,1], shading={\"line_color\": \"black\"})\n",
    "        p.add_points(uv, shading={\"point_size\": .04})"
   ]
  },
  {
   "cell_type": "markdown",
   "metadata": {},
   "source": [
    "## Geometry Maps"
   ]
  },
  {
   "cell_type": "markdown",
   "metadata": {},
   "source": [
    "### 1. Area Distortion Map"
   ]
  },
  {
   "cell_type": "code",
   "execution_count": 4,
   "metadata": {},
   "outputs": [
    {
     "data": {
      "application/vnd.jupyter.widget-view+json": {
       "model_id": "4158cb1b77114e348004204ff12db250",
       "version_major": 2,
       "version_minor": 0
      },
      "text/plain": [
       "Renderer(camera=PerspectiveCamera(children=(DirectionalLight(color='white', intensity=0.6, position=(0.0, 0.0,…"
      ]
     },
     "metadata": {},
     "output_type": "display_data"
    },
    {
     "data": {
      "text/plain": [
       "2"
      ]
     },
     "execution_count": 4,
     "metadata": {},
     "output_type": "execute_result"
    }
   ],
   "source": [
    "v, f = igl.read_triangle_mesh(\"data/fandisk.obj\")\n",
    "uv = parametrize(v,f)\n",
    "feature_edge_list, _ = feature_edges(v,f,10)\n",
    "\n",
    "a3d = igl.doublearea(v,f)\n",
    "a2d = igl.doublearea(uv,f)\n",
    "\n",
    "area_distortion = a3d/a2d\n",
    "\n",
    "a = mp.plot(uv, f, c=area_distortion, shading={\"wireframe\": 0, \"line_width\":0.2})\n",
    "a.add_lines(uv[feature_edge_list][:,0], uv[feature_edge_list][:,1], shading={\"line_color\": \"black\"})\n",
    "a.add_points(uv, shading={\"point_size\": .03, \"point_color\": \"black\"})"
   ]
  },
  {
   "cell_type": "markdown",
   "metadata": {},
   "source": [
    "### 2. Curvature Maps"
   ]
  },
  {
   "cell_type": "code",
   "execution_count": 5,
   "metadata": {},
   "outputs": [
    {
     "data": {
      "application/vnd.jupyter.widget-view+json": {
       "model_id": "e000101d66fc44e492b60c8d23c5ef5e",
       "version_major": 2,
       "version_minor": 0
      },
      "text/plain": [
       "Renderer(camera=PerspectiveCamera(children=(DirectionalLight(color='white', intensity=0.6, position=(0.0, 0.0,…"
      ]
     },
     "metadata": {},
     "output_type": "display_data"
    },
    {
     "data": {
      "application/vnd.jupyter.widget-view+json": {
       "model_id": "9816ca699bf24838814b1ae7b19e6cfc",
       "version_major": 2,
       "version_minor": 0
      },
      "text/plain": [
       "interactive(children=(Dropdown(description='mode', options=('Gaussian', 'Max', 'Min', 'Total'), value='Gaussia…"
      ]
     },
     "metadata": {},
     "output_type": "display_data"
    }
   ],
   "source": [
    "v, f = igl.read_triangle_mesh(\"data/fandisk.obj\")\n",
    "uv = parametrize(v,f)\n",
    "feature_edge_list, _ = feature_edges(v,f,10)\n",
    "\n",
    "gaussCurv = igl.gaussian_curvature(v,f)\n",
    "pd1, pd2, maxCurv, minCurv = igl.principal_curvature(v, f)\n",
    "totalCurv = maxCurv * maxCurv + minCurv * minCurv\n",
    "\n",
    "a = mp.plot(uv, f, c=gaussCurv, shading={\"wireframe\": 0, \"line_width\":0.2})\n",
    "a.add_lines(uv[feature_edge_list][:,0], uv[feature_edge_list][:,1], shading={\"line_color\": \"black\"})\n",
    "a.add_points(uv, shading={\"point_size\": .03, \"point_color\": \"black\"})\n",
    "@iw.interact(mode=['Gaussian','Max','Min','Total'])\n",
    "def switch(mode):\n",
    "    if mode == \"Gaussian\":\n",
    "        mp.plot(uv, f, c=gaussCurv, shading={\"wireframe\": 0, \"line_width\":0.2}, plot=a)\n",
    "        a.add_lines(uv[feature_edge_list][:,0], uv[feature_edge_list][:,1], shading={\"line_color\": \"black\"})\n",
    "        a.add_points(uv, shading={\"point_size\": .03, \"point_color\": \"black\"})\n",
    "        \n",
    "    if mode == \"Max\":\n",
    "        mp.plot(uv, f, c=maxCurv, shading={\"wireframe\": 0, \"line_width\":0.2}, plot=a)\n",
    "        a.add_lines(uv[feature_edge_list][:,0], uv[feature_edge_list][:,1], shading={\"line_color\": \"black\"})\n",
    "        a.add_points(uv, shading={\"point_size\": .03, \"point_color\": \"black\"})\n",
    "        \n",
    "    if mode == \"Min\":\n",
    "        mp.plot(uv, f, c=minCurv, shading={\"wireframe\": 0, \"line_width\":0.2}, plot=a)\n",
    "        a.add_lines(uv[feature_edge_list][:,0], uv[feature_edge_list][:,1], shading={\"line_color\": \"black\"})\n",
    "        a.add_points(uv, shading={\"point_size\": .03, \"point_color\": \"black\"})\\\n",
    "        \n",
    "    if mode == \"Total\":\n",
    "        mp.plot(uv, f, c=totalCurv, shading={\"wireframe\": 0, \"line_width\":0.2}, plot=a)\n",
    "        a.add_lines(uv[feature_edge_list][:,0], uv[feature_edge_list][:,1], shading={\"line_color\": \"black\"})\n",
    "        a.add_points(uv, shading={\"point_size\": .03, \"point_color\": \"black\"})"
   ]
  },
  {
   "cell_type": "markdown",
   "metadata": {},
   "source": [
    "### 3. Embedding Map"
   ]
  },
  {
   "cell_type": "code",
   "execution_count": 6,
   "metadata": {},
   "outputs": [
    {
     "data": {
      "application/vnd.jupyter.widget-view+json": {
       "model_id": "c357b6e8083040f6b5db08a2d61773fc",
       "version_major": 2,
       "version_minor": 0
      },
      "text/plain": [
       "Renderer(camera=PerspectiveCamera(children=(DirectionalLight(color='white', intensity=0.6, position=(0.0, 0.0,…"
      ]
     },
     "metadata": {},
     "output_type": "display_data"
    },
    {
     "data": {
      "text/plain": [
       "2"
      ]
     },
     "execution_count": 6,
     "metadata": {},
     "output_type": "execute_result"
    }
   ],
   "source": [
    "v, f = igl.read_triangle_mesh(\"data/fandisk.obj\")\n",
    "uv = parametrize(v,f)\n",
    "feature_edge_list, _ = feature_edges(v,f,10)\n",
    "\n",
    "a = mp.plot(uv, f, c=v, shading={\"wireframe\": 0, \"line_width\":0.2})\n",
    "a.add_lines(uv[feature_edge_list][:,0], uv[feature_edge_list][:,1], shading={\"line_color\": \"black\"})\n",
    "a.add_points(uv, shading={\"point_size\": .03, \"point_color\": \"black\"})"
   ]
  },
  {
   "cell_type": "markdown",
   "metadata": {},
   "source": [
    "### 4. Face Index Map"
   ]
  },
  {
   "cell_type": "code",
   "execution_count": 7,
   "metadata": {},
   "outputs": [
    {
     "data": {
      "application/vnd.jupyter.widget-view+json": {
       "model_id": "7bc13b693dc04c99ad63965c0a6844aa",
       "version_major": 2,
       "version_minor": 0
      },
      "text/plain": [
       "Renderer(camera=PerspectiveCamera(children=(DirectionalLight(color='white', intensity=0.6, position=(0.0, 0.0,…"
      ]
     },
     "metadata": {},
     "output_type": "display_data"
    },
    {
     "data": {
      "text/plain": [
       "2"
      ]
     },
     "execution_count": 7,
     "metadata": {},
     "output_type": "execute_result"
    }
   ],
   "source": [
    "import random\n",
    "v, f = igl.read_triangle_mesh(\"data/fandisk.obj\")\n",
    "uv = parametrize(v,f)\n",
    "feature_edge_list, _ = feature_edges(v,f,10)\n",
    "\n",
    "def randDecimal(length):\n",
    "    return float(random.uniform(0,length))/float(length)\n",
    "\n",
    "face_index_list = []\n",
    "face_index_map = {}\n",
    "\n",
    "for i in range(f.shape[0]):\n",
    "    face_col = [randDecimal(10),randDecimal(10),randDecimal(10)]\n",
    "    face_index_list.append(face_col)\n",
    "    while str(face_index_list[i]) in face_index_map:\n",
    "        face_index_list[i] = [randDecimal(10000),randDecimal(10000),randDecimal(10000)]\n",
    "    face_index_map[str(face_index_list[i])] = i\n",
    "face_index_list = np.array(face_index_list)\n",
    "\n",
    "a = mp.plot(uv, f, c=face_index_list, shading={\"wireframe\": 0, \"line_width\":0.2})\n",
    "a.add_lines(uv[feature_edge_list][:,0], uv[feature_edge_list][:,1], shading={\"line_color\": \"black\"})\n",
    "a.add_points(uv, shading={\"point_size\": .03, \"point_color\": \"black\"})"
   ]
  },
  {
   "cell_type": "markdown",
   "metadata": {},
   "source": [
    "### 5. (optional) Additional Maps\n",
    "ex: normal, texture, color"
   ]
  },
  {
   "cell_type": "code",
   "execution_count": 8,
   "metadata": {},
   "outputs": [
    {
     "data": {
      "application/vnd.jupyter.widget-view+json": {
       "model_id": "e181c5bab5d84a769a6059043b9a4b11",
       "version_major": 2,
       "version_minor": 0
      },
      "text/plain": [
       "Renderer(camera=PerspectiveCamera(children=(DirectionalLight(color='white', intensity=0.6, position=(0.0, 0.0,…"
      ]
     },
     "metadata": {},
     "output_type": "display_data"
    },
    {
     "data": {
      "text/plain": [
       "2"
      ]
     },
     "execution_count": 8,
     "metadata": {},
     "output_type": "execute_result"
    }
   ],
   "source": [
    "v, f = igl.read_triangle_mesh(\"data/fandisk.obj\")\n",
    "uv = parametrize(v,f)\n",
    "feature_edge_list, _ = feature_edges(v,f,10)\n",
    "\n",
    "pvn = igl.per_vertex_normals(v,f)\n",
    "\n",
    "a = mp.plot(uv, f, c=pvn, shading={\"wireframe\": 0, \"line_width\":0.2})\n",
    "a.add_lines(uv[feature_edge_list][:,0], uv[feature_edge_list][:,1], shading={\"line_color\": \"black\"})\n",
    "a.add_points(uv, shading={\"point_size\": .03, \"point_color\": \"black\"})"
   ]
  },
  {
   "cell_type": "code",
   "execution_count": 9,
   "metadata": {},
   "outputs": [
    {
     "data": {
      "application/vnd.jupyter.widget-view+json": {
       "model_id": "11729750ede54624b33047ee9e12e8a2",
       "version_major": 2,
       "version_minor": 0
      },
      "text/plain": [
       "Renderer(camera=PerspectiveCamera(children=(DirectionalLight(color='white', intensity=0.6, position=(2.4139499…"
      ]
     },
     "metadata": {},
     "output_type": "display_data"
    },
    {
     "data": {
      "text/plain": [
       "'\\n@iw.interact(mode=[\\'2Da\\',\\'2Db\\',\\'3Da\\',\\'3Db\\'])\\ndef switch(mode):\\n    if mode == \"3Da\":\\n        mp.plot(v, f, c=col, shading={\"wireframe\": 0}, plot=p)\\n        p.add_lines(v[feature_edge_list][:,0], v[feature_edge_list][:,1], shading={\"line_color\": \"yellow\"})\\n        \\n        p.add_lines(v[del_edges][:,0], v[del_edges][:,1], shading={\"line_color\": \"black\"})\\n        \\n    if mode == \"3Db\":\\n        mp.plot(v, f, c=col, shading={\"wireframe\": 1}, plot=p)\\n        p.add_lines(v[feature_edge_list][:,0], v[feature_edge_list][:,1], shading={\"line_color\": \"yellow\"})\\n            \\n    if mode == \"2Da\":\\n        mp.plot(v_p, f, c=col, shading={\"wireframe\": 0, \"line_width\":0.2}, plot=p)\\n        p.add_lines(v_p[feature_edge_list][:,0], v_p[feature_edge_list][:,1], shading={\"line_color\": \"yellow\"})\\n        p.add_points(v_p, shading={\"point_size\": .1})\\n        \\n        p.add_lines(v_p[del_edges][:,0], v_p[del_edges][:,1], shading={\"line_color\": \"black\"})\\n\\n    if mode == \"2Db\":\\n        mp.plot(v_p, f, c=col, shading={\"wireframe\": 1, \"line_width\":0.2}, plot=p)\\n        p.add_lines(v_p[feature_edge_list][:,0], v_p[feature_edge_list][:,1], shading={\"line_color\": \"yellow\"})\\n        p.add_points(v_p, shading={\"point_size\": .1})\\n    '"
      ]
     },
     "execution_count": 9,
     "metadata": {},
     "output_type": "execute_result"
    }
   ],
   "source": [
    "from scipy.spatial import Delaunay\n",
    "f_p = sp.spatial.Delaunay(uv).simplices\n",
    "del_edges = igl.edges(f_p)\n",
    "\n",
    "mp.plot(v, f_p, c=gaussCurv, shading={\"wireframe\": 0})\n",
    "\n",
    "\n",
    "\"\"\"\n",
    "@iw.interact(mode=['2Da','2Db','3Da','3Db'])\n",
    "def switch(mode):\n",
    "    if mode == \"3Da\":\n",
    "        mp.plot(v, f, c=col, shading={\"wireframe\": 0}, plot=p)\n",
    "        p.add_lines(v[feature_edge_list][:,0], v[feature_edge_list][:,1], shading={\"line_color\": \"yellow\"})\n",
    "        \n",
    "        p.add_lines(v[del_edges][:,0], v[del_edges][:,1], shading={\"line_color\": \"black\"})\n",
    "        \n",
    "    if mode == \"3Db\":\n",
    "        mp.plot(v, f, c=col, shading={\"wireframe\": 1}, plot=p)\n",
    "        p.add_lines(v[feature_edge_list][:,0], v[feature_edge_list][:,1], shading={\"line_color\": \"yellow\"})\n",
    "            \n",
    "    if mode == \"2Da\":\n",
    "        mp.plot(v_p, f, c=col, shading={\"wireframe\": 0, \"line_width\":0.2}, plot=p)\n",
    "        p.add_lines(v_p[feature_edge_list][:,0], v_p[feature_edge_list][:,1], shading={\"line_color\": \"yellow\"})\n",
    "        p.add_points(v_p, shading={\"point_size\": .1})\n",
    "        \n",
    "        p.add_lines(v_p[del_edges][:,0], v_p[del_edges][:,1], shading={\"line_color\": \"black\"})\n",
    "\n",
    "    if mode == \"2Db\":\n",
    "        mp.plot(v_p, f, c=col, shading={\"wireframe\": 1, \"line_width\":0.2}, plot=p)\n",
    "        p.add_lines(v_p[feature_edge_list][:,0], v_p[feature_edge_list][:,1], shading={\"line_color\": \"yellow\"})\n",
    "        p.add_points(v_p, shading={\"point_size\": .1})\n",
    "    \"\"\""
   ]
  },
  {
   "cell_type": "code",
   "execution_count": 3,
   "metadata": {},
   "outputs": [],
   "source": [
    "# https://github.com/10mrohit/floyd-steinberg-dithering\n",
    "from math import floor\n",
    "from PIL import Image\n",
    "\n",
    "import os\n",
    "\n",
    "\n",
    "class Dither():\n",
    "    def __init__(self, path, algorithm=None, output=None):\n",
    "        self.path = self.get_path(path)\n",
    "        self.algorithm = algorithm\n",
    "        self.output = output\n",
    "        self.func = self.get_func(self.algorithm)\n",
    "        self.func(self.path)\n",
    "\n",
    "    def get_path(self, path):\n",
    "        if path.startswith('/') and not path.startswith('~/'):\n",
    "            return os.getcwd() + '/' + path\n",
    "        else:\n",
    "            return path\n",
    "\n",
    "    def get_func(self, algorithm):\n",
    "        return self.floyd_steinberg_dither\n",
    "\n",
    "    def apply_threshold(self, value):\n",
    "        return 255 * floor(value/128)\n",
    "\n",
    "    def floyd_steinberg_dither(self, image_file):\n",
    "        new_img = Image.open(image_file)\n",
    "\n",
    "        new_img = new_img.convert('RGB')\n",
    "        pixel = new_img.load()\n",
    "\n",
    "        x_lim, y_lim = new_img.size\n",
    "\n",
    "        for y in range(1, y_lim):\n",
    "            for x in range(1, x_lim):\n",
    "                red_oldpixel, green_oldpixel, blue_oldpixel = pixel[x, y]\n",
    "\n",
    "                red_newpixel = self.apply_threshold(red_oldpixel)\n",
    "                green_newpixel = self.apply_threshold(green_oldpixel)\n",
    "                blue_newpixel = self.apply_threshold(blue_oldpixel)\n",
    "\n",
    "                pixel[x, y] = red_newpixel, green_newpixel, blue_newpixel\n",
    "\n",
    "                red_error = red_oldpixel - red_newpixel\n",
    "                blue_error = blue_oldpixel - blue_newpixel\n",
    "                green_error = green_oldpixel - green_newpixel\n",
    "\n",
    "                if x < x_lim - 1:\n",
    "                    red = pixel[x+1, y][0] + round(red_error * 7/16)\n",
    "                    green = pixel[x+1, y][1] + round(green_error * 7/16)\n",
    "                    blue = pixel[x+1, y][2] + round(blue_error * 7/16)\n",
    "\n",
    "                    pixel[x+1, y] = (red, green, blue)\n",
    "\n",
    "                if x > 1 and y < y_lim - 1:\n",
    "                    red = pixel[x-1, y+1][0] + round(red_error * 3/16)\n",
    "                    green = pixel[x-1, y+1][1] + round(green_error * 3/16)\n",
    "                    blue = pixel[x-1, y+1][2] + round(blue_error * 3/16)\n",
    "\n",
    "                    pixel[x-1, y+1] = (red, green, blue)\n",
    "\n",
    "                if y < y_lim - 1:\n",
    "                    red = pixel[x, y+1][0] + round(red_error * 5/16)\n",
    "                    green = pixel[x, y+1][1] + round(green_error * 5/16)\n",
    "                    blue = pixel[x, y+1][2] + round(blue_error * 5/16)\n",
    "\n",
    "                    pixel[x, y+1] = (red, green, blue)\n",
    "\n",
    "                if x < x_lim - 1 and y < y_lim - 1:\n",
    "                    red = pixel[x+1, y+1][0] + round(red_error * 1/16)\n",
    "                    green = pixel[x+1, y+1][1] + round(green_error * 1/16)\n",
    "                    blue = pixel[x+1, y+1][2] + round(blue_error * 1/16)\n",
    "\n",
    "                    pixel[x+1, y+1] = (red, green, blue)\n",
    "\n",
    "        if self.output:\n",
    "            new_img.save(self.output)\n",
    "        else:\n",
    "            new_img.show()"
   ]
  },
  {
   "cell_type": "code",
   "execution_count": 11,
   "metadata": {},
   "outputs": [
    {
     "data": {
      "text/plain": [
       "<__main__.Dither at 0x2024d83e9a0>"
      ]
     },
     "execution_count": 11,
     "metadata": {},
     "output_type": "execute_result"
    }
   ],
   "source": [
    "Dither(\"img/components.png\")"
   ]
  },
  {
   "cell_type": "code",
   "execution_count": 5,
   "metadata": {},
   "outputs": [
    {
     "ename": "ValueError",
     "evalue": "('Expected 12 byte array, got 8 byte array', (0.7523357477332342, 0.8156960205753185), None)",
     "output_type": "error",
     "traceback": [
      "\u001b[1;31m---------------------------------------------------------------------------\u001b[0m",
      "\u001b[1;31mValueError\u001b[0m                                Traceback (most recent call last)",
      "\u001b[1;32m<ipython-input-5-231414f684fd>\u001b[0m in \u001b[0;36m<module>\u001b[1;34m\u001b[0m\n\u001b[0;32m     40\u001b[0m         \u001b[0mpygame\u001b[0m\u001b[1;33m.\u001b[0m\u001b[0mtime\u001b[0m\u001b[1;33m.\u001b[0m\u001b[0mwait\u001b[0m\u001b[1;33m(\u001b[0m\u001b[1;36m10\u001b[0m\u001b[1;33m)\u001b[0m\u001b[1;33m\u001b[0m\u001b[1;33m\u001b[0m\u001b[0m\n\u001b[0;32m     41\u001b[0m \u001b[1;33m\u001b[0m\u001b[0m\n\u001b[1;32m---> 42\u001b[1;33m \u001b[0mmain\u001b[0m\u001b[1;33m(\u001b[0m\u001b[1;33m)\u001b[0m\u001b[1;33m\u001b[0m\u001b[1;33m\u001b[0m\u001b[0m\n\u001b[0m",
      "\u001b[1;32m<ipython-input-5-231414f684fd>\u001b[0m in \u001b[0;36mmain\u001b[1;34m()\u001b[0m\n\u001b[0;32m     36\u001b[0m                 \u001b[0mquit\u001b[0m\u001b[1;33m(\u001b[0m\u001b[1;33m)\u001b[0m\u001b[1;33m\u001b[0m\u001b[1;33m\u001b[0m\u001b[0m\n\u001b[0;32m     37\u001b[0m         \u001b[0mglClear\u001b[0m\u001b[1;33m(\u001b[0m\u001b[0mGL_COLOR_BUFFER_BIT\u001b[0m\u001b[1;33m|\u001b[0m\u001b[0mGL_DEPTH_BUFFER_BIT\u001b[0m\u001b[1;33m)\u001b[0m\u001b[1;33m\u001b[0m\u001b[1;33m\u001b[0m\u001b[0m\n\u001b[1;32m---> 38\u001b[1;33m         \u001b[0mCube\u001b[0m\u001b[1;33m(\u001b[0m\u001b[1;33m)\u001b[0m\u001b[1;33m\u001b[0m\u001b[1;33m\u001b[0m\u001b[0m\n\u001b[0m\u001b[0;32m     39\u001b[0m         \u001b[0mpygame\u001b[0m\u001b[1;33m.\u001b[0m\u001b[0mdisplay\u001b[0m\u001b[1;33m.\u001b[0m\u001b[0mflip\u001b[0m\u001b[1;33m(\u001b[0m\u001b[1;33m)\u001b[0m\u001b[1;33m\u001b[0m\u001b[1;33m\u001b[0m\u001b[0m\n\u001b[0;32m     40\u001b[0m         \u001b[0mpygame\u001b[0m\u001b[1;33m.\u001b[0m\u001b[0mtime\u001b[0m\u001b[1;33m.\u001b[0m\u001b[0mwait\u001b[0m\u001b[1;33m(\u001b[0m\u001b[1;36m10\u001b[0m\u001b[1;33m)\u001b[0m\u001b[1;33m\u001b[0m\u001b[1;33m\u001b[0m\u001b[0m\n",
      "\u001b[1;32m<ipython-input-5-231414f684fd>\u001b[0m in \u001b[0;36mCube\u001b[1;34m()\u001b[0m\n\u001b[0;32m     17\u001b[0m     \u001b[1;32mfor\u001b[0m \u001b[0mface\u001b[0m \u001b[1;32min\u001b[0m \u001b[0mfaces\u001b[0m\u001b[1;33m:\u001b[0m\u001b[1;33m\u001b[0m\u001b[1;33m\u001b[0m\u001b[0m\n\u001b[0;32m     18\u001b[0m         \u001b[1;32mfor\u001b[0m \u001b[0mvertex\u001b[0m \u001b[1;32min\u001b[0m \u001b[0mface\u001b[0m\u001b[1;33m:\u001b[0m\u001b[1;33m\u001b[0m\u001b[1;33m\u001b[0m\u001b[0m\n\u001b[1;32m---> 19\u001b[1;33m             \u001b[0mglVertex3fv\u001b[0m\u001b[1;33m(\u001b[0m\u001b[0mtuple\u001b[0m\u001b[1;33m(\u001b[0m\u001b[0mvertices\u001b[0m\u001b[1;33m[\u001b[0m\u001b[0mvertex\u001b[0m\u001b[1;33m]\u001b[0m\u001b[1;33m)\u001b[0m\u001b[1;33m)\u001b[0m\u001b[1;33m\u001b[0m\u001b[1;33m\u001b[0m\u001b[0m\n\u001b[0m\u001b[0;32m     20\u001b[0m     \u001b[0mglEnd\u001b[0m\u001b[1;33m(\u001b[0m\u001b[1;33m)\u001b[0m\u001b[1;33m\u001b[0m\u001b[1;33m\u001b[0m\u001b[0m\n\u001b[0;32m     21\u001b[0m \u001b[1;33m\u001b[0m\u001b[0m\n",
      "\u001b[1;32msrc/latebind.pyx\u001b[0m in \u001b[0;36mOpenGL_accelerate.latebind.LateBind.__call__\u001b[1;34m()\u001b[0m\n",
      "\u001b[1;32msrc/wrapper.pyx\u001b[0m in \u001b[0;36mOpenGL_accelerate.wrapper.Wrapper.__call__\u001b[1;34m()\u001b[0m\n",
      "\u001b[1;32msrc/wrapper.pyx\u001b[0m in \u001b[0;36mOpenGL_accelerate.wrapper.PyArgCalculator.c_call\u001b[1;34m()\u001b[0m\n",
      "\u001b[1;32msrc/wrapper.pyx\u001b[0m in \u001b[0;36mOpenGL_accelerate.wrapper.PyArgCalculatorElement.c_call\u001b[1;34m()\u001b[0m\n",
      "\u001b[1;32msrc/wrapper.pyx\u001b[0m in \u001b[0;36mOpenGL_accelerate.wrapper.PyArgCalculatorElement.c_call\u001b[1;34m()\u001b[0m\n",
      "\u001b[1;32msrc/arraydatatype.pyx\u001b[0m in \u001b[0;36mOpenGL_accelerate.arraydatatype.AsArrayTypedSizeChecked.c_call\u001b[1;34m()\u001b[0m\n",
      "\u001b[1;31mValueError\u001b[0m: ('Expected 12 byte array, got 8 byte array', (0.7523357477332342, 0.8156960205753185), None)"
     ]
    }
   ],
   "source": [
    "import pygame\n",
    "import igl\n",
    "\n",
    "from pygame.locals import *\n",
    "\n",
    "from OpenGL.GL import *\n",
    "from OpenGL.GLU import *\n",
    "\n",
    "v, f = igl.read_triangle_mesh(\"data/curve.off\")\n",
    "uv = parametrize(v,f)\n",
    "v_p = np.hstack([uv, np.zeros((uv.shape[0],1))])\n",
    "\n",
    "vertices = list(v_p)\n",
    "faces = list(f)\n",
    "\n",
    "def Cube():\n",
    "    glBegin(GL_TRIANGLES)\n",
    "    for face in faces:\n",
    "        for vertex in face:\n",
    "            glVertex3fv(tuple(vertices[vertex]))\n",
    "    glEnd()\n",
    "\n",
    "def main():\n",
    "    pygame.init()\n",
    "    display = (800,600)\n",
    "    pygame.display.set_mode(display, DOUBLEBUF|OPENGL)\n",
    "\n",
    "    gluPerspective(45, (display[0]/display[1]), 0.1, 50.0)\n",
    "    \n",
    "    glPolygonMode( GL_FRONT_AND_BACK, GL_LINE );\n",
    "    glTranslatef(0.0,0.0, -5)\n",
    "\n",
    "    while True:\n",
    "        for event in pygame.event.get():\n",
    "            if event.type == pygame.QUIT:\n",
    "                pygame.quit()\n",
    "                quit()\n",
    "        glClear(GL_COLOR_BUFFER_BIT|GL_DEPTH_BUFFER_BIT)\n",
    "        Cube()\n",
    "        pygame.display.flip()\n",
    "        pygame.time.wait(10)\n",
    "\n",
    "main()"
   ]
  },
  {
   "cell_type": "code",
   "execution_count": null,
   "metadata": {},
   "outputs": [],
   "source": []
  },
  {
   "cell_type": "code",
   "execution_count": null,
   "metadata": {},
   "outputs": [],
   "source": []
  }
 ],
 "metadata": {
  "kernelspec": {
   "display_name": "Python 3",
   "language": "python",
   "name": "python3"
  },
  "language_info": {
   "codemirror_mode": {
    "name": "ipython",
    "version": 3
   },
   "file_extension": ".py",
   "mimetype": "text/x-python",
   "name": "python",
   "nbconvert_exporter": "python",
   "pygments_lexer": "ipython3",
   "version": "3.8.8"
  }
 },
 "nbformat": 4,
 "nbformat_minor": 4
}
