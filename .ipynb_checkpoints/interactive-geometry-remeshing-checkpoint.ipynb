{
 "cells": [
  {
   "cell_type": "markdown",
   "metadata": {},
   "source": [
    "# Neighborhood Computations"
   ]
  },
  {
   "cell_type": "code",
   "execution_count": null,
   "metadata": {},
   "outputs": [],
   "source": [
    "import numpy as np\n",
    "import igl\n",
    "import math\n",
    "import random\n",
    "import meshplot as mp\n",
    "import scipy as sp\n",
    "import ipywidgets as iw\n",
    "\n",
    "import vispy\n",
    "from vispy import io\n",
    "from vispy import app, gloo\n",
    "from vispy.gloo import Program\n",
    "from PIL import Image\n",
    "import jupyter_rfb"
   ]
  },
  {
   "cell_type": "markdown",
   "metadata": {},
   "source": [
    "## Defining Feature Edges With Dihedral Angle Thresholding\n",
    "### TODO: User Constraints?\n",
    "Not sure how to implememt click-to-select vertices/faces, but maybe user-inputted list?"
   ]
  },
  {
   "cell_type": "code",
   "execution_count": 1213,
   "metadata": {},
   "outputs": [
    {
     "data": {
      "application/vnd.jupyter.widget-view+json": {
       "model_id": "7d7d85dc64734e3db8d48d6120649b6c",
       "version_major": 2,
       "version_minor": 0
      },
      "text/plain": [
       "Renderer(camera=PerspectiveCamera(children=(DirectionalLight(color='white', intensity=0.6, position=(1.9967555…"
      ]
     },
     "metadata": {},
     "output_type": "display_data"
    },
    {
     "data": {
      "text/plain": [
       "1"
      ]
     },
     "execution_count": 1213,
     "metadata": {},
     "output_type": "execute_result"
    }
   ],
   "source": [
    "def feature_edges(v,f,threshold):\n",
    "    edge_faces = []\n",
    "\n",
    "    dihedral_threshold = threshold/180 * np.pi\n",
    "    f_normals = igl.per_face_normals(v,f,np.ndarray([0,0]))\n",
    "    edge_flaps = igl.edge_flaps(f)\n",
    "    edges = edge_flaps[0]\n",
    "    \n",
    "    threshold_edges = []\n",
    "    for i in range(edges.shape[0]):\n",
    "        # find normals of faces connecting edge\n",
    "        edge_face_norms = f_normals[edge_flaps[2][i]]\n",
    "\n",
    "        # find dihedral angle between edge faces\n",
    "        f1n = edge_face_norms[0] / np.linalg.norm(edge_face_norms[0])\n",
    "        f2n = edge_face_norms[1] / np.linalg.norm(edge_face_norms[1])\n",
    "        dihedral_angle = np.arccos(np.clip(np.dot(f1n, f2n), -1.0, 1.0))\n",
    "\n",
    "        # add angles greater than threshold to list\n",
    "        if dihedral_angle > dihedral_threshold or (-1 in edge_flaps[2][i]):\n",
    "            threshold_edges.append(edges[i])\n",
    "            \n",
    "            # add edge faces to list\n",
    "            if edge_flaps[2][i][0] != -1:\n",
    "                edge_faces.append(edge_flaps[2][i][0])\n",
    "            if edge_flaps[2][i][1] != -1:\n",
    "                edge_faces.append(edge_flaps[2][i][1])\n",
    "\n",
    "    threshold_edges = np.array(threshold_edges)\n",
    "    return threshold_edges, edge_faces\n",
    "\n",
    "\n",
    "\n",
    "v, f = igl.read_triangle_mesh(\"data/camel_head.off\")\n",
    "feature_edge_list, edge_faces = feature_edges(v,f,20)\n",
    "\n",
    "col = np.ones_like(f)\n",
    "col[edge_faces, 1:] = 0\n",
    "\n",
    "p = mp.plot(v, f, c=col, shading={\"wireframe\": 0})\n",
    "p.add_lines(v[feature_edge_list][:,0], v[feature_edge_list][:,1], shading={\"line_color\": \"yellow\"})"
   ]
  },
  {
   "cell_type": "markdown",
   "metadata": {},
   "source": [
    "## Parametrization onto Square Map"
   ]
  },
  {
   "cell_type": "code",
   "execution_count": 1214,
   "metadata": {},
   "outputs": [
    {
     "data": {
      "application/vnd.jupyter.widget-view+json": {
       "model_id": "c8374de048a4467a9fd9c795d4a75e2d",
       "version_major": 2,
       "version_minor": 0
      },
      "text/plain": [
       "Renderer(camera=PerspectiveCamera(children=(DirectionalLight(color='white', intensity=0.6, position=(1.9967555…"
      ]
     },
     "metadata": {},
     "output_type": "display_data"
    },
    {
     "data": {
      "application/vnd.jupyter.widget-view+json": {
       "model_id": "ec5357dc258046998e38dc43fbd0ee22",
       "version_major": 2,
       "version_minor": 0
      },
      "text/plain": [
       "interactive(children=(Dropdown(description='mode', options=('2D', '3D'), value='2D'), Output()), _dom_classes=…"
      ]
     },
     "metadata": {},
     "output_type": "display_data"
    }
   ],
   "source": [
    "def circle_to_square(x_circ,y_circ):\n",
    "    x = 0.5 * np.sqrt( 2 + x_circ**2 - y_circ**2 + 2*x_circ*np.sqrt(2) ) - 0.5 * np.sqrt( 2 + x_circ**2 - y_circ**2 - 2*x_circ*np.sqrt(2) )\n",
    "    y = 0.5 * np.sqrt( 2 - x_circ**2 + y_circ**2 + 2*y_circ*np.sqrt(2) ) - 0.5 * np.sqrt( 2 - x_circ**2 + y_circ**2 - 2*y_circ*np.sqrt(2) )\n",
    "    x = round(max(min(1,x),-1),5)\n",
    "    y = round(max(min(1,y),-1),5)\n",
    "    return [x,y]\n",
    "\n",
    "def parametrize(v,f):\n",
    "    ## Find the open boundary\n",
    "    bnd = igl.boundary_loop(f)\n",
    "    \n",
    "    ## Map the boundary to a circle, preserving edge proportions\n",
    "    bnd_uv = igl.map_vertices_to_circle(v, bnd)\n",
    "    \n",
    "    # remap circle boundary onto square\n",
    "    bnd_uv = np.array([circle_to_square(x_circ,y_circ) for [x_circ,y_circ] in bnd_uv])\n",
    "\n",
    "    # force points into corners\n",
    "    TL = np.array([-1,1])\n",
    "    TR = np.array([1,1])\n",
    "    BL = np.array([-1,-1])\n",
    "    BR = np.array([1,-1])\n",
    "    bndTL = 0\n",
    "    bndTR = 0\n",
    "    bndBL = 0\n",
    "    bndBR = 0\n",
    "    for coordi, coord in enumerate(bnd_uv):\n",
    "        if np.linalg.norm(coord-TL) < np.linalg.norm(bnd_uv[bndTL]-TL):\n",
    "            bndTL = coordi\n",
    "        if np.linalg.norm(coord-TR) < np.linalg.norm(bnd_uv[bndTR]-TR):\n",
    "            bndTR = coordi\n",
    "        if np.linalg.norm(coord-BL) < np.linalg.norm(bnd_uv[bndBL]-BL):\n",
    "            bndBL = coordi\n",
    "        if np.linalg.norm(coord-BR) < np.linalg.norm(bnd_uv[bndBR]-BR):\n",
    "            bndBR = coordi\n",
    "\n",
    "    bnd_uv[bndTL] = TL\n",
    "    bnd_uv[bndTR] = TR\n",
    "    bnd_uv[bndBL] = BL\n",
    "    bnd_uv[bndBR] = BR\n",
    "    ## Harmonic parametrization for the internal vertices\n",
    "    return igl.harmonic(v, f, bnd, bnd_uv, 1)\n",
    "\n",
    "\n",
    "v, f = igl.read_triangle_mesh(\"data/camel_head.off\")\n",
    "uv = parametrize(v,f)\n",
    "feature_edge_list, _ = feature_edges(v,f,20)\n",
    "\n",
    "\n",
    "p = mp.plot(v, f, c=np.ones_like(f), shading={\"wireframe\": False})\n",
    "p.add_lines(v[feature_edge_list][:,0], v[feature_edge_list][:,1], shading={\"line_color\": \"yellow\"})\n",
    "@iw.interact(mode=['2D','3D'])\n",
    "def switch(mode):\n",
    "    if mode == \"3D\":\n",
    "        mp.plot(v, f, c=uv[:,0],shading={\"wireframe\": 0}, plot=p)\n",
    "        p.add_lines(v[feature_edge_list][:,0], v[feature_edge_list][:,1], shading={\"line_color\": \"yellow\"})\n",
    "        \n",
    "    if mode == \"2D\":\n",
    "        mp.plot(uv, f, c=uv[:,0], shading={\"wireframe\": 1, \"line_width\":0.2}, plot=p)\n",
    "        p.add_lines(uv[feature_edge_list][:,0], uv[feature_edge_list][:,1], shading={\"line_color\": \"yellow\"})\n",
    "        p.add_points(uv, shading={\"point_size\": .04})"
   ]
  },
  {
   "cell_type": "markdown",
   "metadata": {},
   "source": [
    "## Geometry Maps\n",
    "\n",
    "- Using the chosen paramterization, generate an atlas of geometry maps containing useful data pertaining to the input mesh.\n",
    "- The area distortion and curvature maps will be used to generate a control map which determines the densities of resamplings on the parameterization. (Allows user to control how vertices are distributed across remesh).\n",
    "- The embedding and face index maps can be used to convert the 2D remesh back into 3D. (allows for quick lookups of xyz coordinates based on uv coordinates)\n",
    "- Additional maps (normal, colour, texture) can be generated if we wish for our remesh to contain any such attributes."
   ]
  },
  {
   "cell_type": "markdown",
   "metadata": {},
   "source": [
    "### 1. Area Distortion Map"
   ]
  },
  {
   "cell_type": "code",
   "execution_count": 1216,
   "metadata": {},
   "outputs": [
    {
     "data": {
      "application/vnd.jupyter.widget-view+json": {
       "model_id": "eeb348a6106049ca9798be6a4dac7aed",
       "version_major": 2,
       "version_minor": 0
      },
      "text/plain": [
       "Renderer(camera=PerspectiveCamera(children=(DirectionalLight(color='white', intensity=0.6, position=(0.0, 0.0,…"
      ]
     },
     "metadata": {},
     "output_type": "display_data"
    },
    {
     "data": {
      "text/plain": [
       "2"
      ]
     },
     "execution_count": 1216,
     "metadata": {},
     "output_type": "execute_result"
    }
   ],
   "source": [
    "def normalizeZeroToOne(arr):\n",
    "    if(min(arr) < 0):\n",
    "        arr -= min(arr)\n",
    "    return (1/max(arr)) * arr\n",
    "    \n",
    "def areaDistortion(v,uv,f):\n",
    "    a3d = igl.doublearea(v,f)\n",
    "    a2d = igl.doublearea(uv,f)\n",
    "\n",
    "    VF, NI = igl.vertex_triangle_adjacency(f,v.shape[0])\n",
    "    face_area_distortion = a3d/a2d\n",
    "\n",
    "    vert_area_distortion = np.zeros_like(v[:,0])\n",
    "    for i in range(v.shape[0]):\n",
    "        face0 = NI[i]\n",
    "        facen = NI[i+1]\n",
    "        faces = VF[face0:facen]\n",
    "        faceAreas = a3d[faces]\n",
    "        faceAreas = (1/np.sum(faceAreas)) * faceAreas\n",
    "        #print(i, faces,faceAreas)\n",
    "\n",
    "        vertAD = 0\n",
    "        for facei, face in enumerate(faces):\n",
    "            vertAD += face_area_distortion[face] * faceAreas[facei]\n",
    "        vert_area_distortion[i] = vertAD\n",
    "\n",
    "    return normalizeZeroToOne(vert_area_distortion)\n",
    "\n",
    "\n",
    "v, f = igl.read_triangle_mesh(\"data/camel_head.off\")\n",
    "uv = parametrize(v,f)\n",
    "feature_edge_list, _ = feature_edges(v,f,10)\n",
    "area_distortion = areaDistortion(v,uv,f)\n",
    "\n",
    "a = mp.plot(uv, f, c=area_distortion, shading={\"wireframe\": 0, \"line_width\":0.2})\n",
    "a.add_lines(uv[feature_edge_list][:,0], uv[feature_edge_list][:,1], shading={\"line_color\": \"black\"})\n",
    "a.add_points(uv, shading={\"point_size\": .03, \"point_color\": \"black\"})"
   ]
  },
  {
   "cell_type": "markdown",
   "metadata": {},
   "source": [
    "### 2. Curvature Maps"
   ]
  },
  {
   "cell_type": "code",
   "execution_count": 1217,
   "metadata": {},
   "outputs": [
    {
     "data": {
      "application/vnd.jupyter.widget-view+json": {
       "model_id": "0c1a1ad5c84945e3a11ee14ee7e322ed",
       "version_major": 2,
       "version_minor": 0
      },
      "text/plain": [
       "Renderer(camera=PerspectiveCamera(children=(DirectionalLight(color='white', intensity=0.6, position=(0.0, 0.0,…"
      ]
     },
     "metadata": {},
     "output_type": "display_data"
    },
    {
     "data": {
      "application/vnd.jupyter.widget-view+json": {
       "model_id": "248ed13e0dd44d56b629ef4332abd3de",
       "version_major": 2,
       "version_minor": 0
      },
      "text/plain": [
       "interactive(children=(Dropdown(description='mode', options=('Gaussian', 'Max', 'Min', 'Total'), value='Gaussia…"
      ]
     },
     "metadata": {},
     "output_type": "display_data"
    }
   ],
   "source": [
    "def curveMaps(v,f):\n",
    "    gaussCurv = igl.gaussian_curvature(v,f)\n",
    "    _, _, maxCurv, minCurv = igl.principal_curvature(v, f)\n",
    "    totalCurv = maxCurv * maxCurv + minCurv * minCurv\n",
    "\n",
    "    gaussCurv = normalizeZeroToOne(gaussCurv * gaussCurv)\n",
    "    maxCurv = normalizeZeroToOne(maxCurv)\n",
    "    minCurv = normalizeZeroToOne(minCurv)\n",
    "    totalCurv = normalizeZeroToOne(totalCurv)\n",
    "\n",
    "    return gaussCurv, maxCurv, minCurv, totalCurv\n",
    "\n",
    "\n",
    "v, f = igl.read_triangle_mesh(\"data/camel_head.off\")\n",
    "uv = parametrize(v,f)\n",
    "feature_edge_list, _ = feature_edges(v,f,10)\n",
    "gaussCurv, maxCurv, minCurv, totalCurv = curveMaps(v,f)\n",
    "\n",
    "a = mp.plot(uv, f, c=gaussCurv, shading={\"wireframe\": 0, \"line_width\":0.2})\n",
    "a.add_lines(uv[feature_edge_list][:,0], uv[feature_edge_list][:,1], shading={\"line_color\": \"black\"})\n",
    "a.add_points(uv, shading={\"point_size\": .03, \"point_color\": \"black\"})\n",
    "@iw.interact(mode=['Gaussian','Max','Min','Total'])\n",
    "def switch(mode):\n",
    "    if mode == \"Gaussian\":\n",
    "        mp.plot(uv, f, c=gaussCurv, shading={\"wireframe\": 0, \"line_width\":0.2}, plot=a)\n",
    "        a.add_lines(uv[feature_edge_list][:,0], uv[feature_edge_list][:,1], shading={\"line_color\": \"black\"})\n",
    "        a.add_points(uv, shading={\"point_size\": .03, \"point_color\": \"black\"})\n",
    "        \n",
    "    if mode == \"Max\":\n",
    "        mp.plot(uv, f, c=maxCurv, shading={\"wireframe\": 0, \"line_width\":0.2}, plot=a)\n",
    "        a.add_lines(uv[feature_edge_list][:,0], uv[feature_edge_list][:,1], shading={\"line_color\": \"black\"})\n",
    "        a.add_points(uv, shading={\"point_size\": .03, \"point_color\": \"black\"})\n",
    "        \n",
    "    if mode == \"Min\":\n",
    "        mp.plot(uv, f, c=minCurv, shading={\"wireframe\": 0, \"line_width\":0.2}, plot=a)\n",
    "        a.add_lines(uv[feature_edge_list][:,0], uv[feature_edge_list][:,1], shading={\"line_color\": \"black\"})\n",
    "        a.add_points(uv, shading={\"point_size\": .03, \"point_color\": \"black\"})\n",
    "        \n",
    "    if mode == \"Total\":\n",
    "        mp.plot(uv, f, c=totalCurv, shading={\"wireframe\": 0, \"line_width\":0.2}, plot=a)\n",
    "        a.add_lines(uv[feature_edge_list][:,0], uv[feature_edge_list][:,1], shading={\"line_color\": \"black\"})\n",
    "        a.add_points(uv, shading={\"point_size\": .03, \"point_color\": \"black\"})"
   ]
  },
  {
   "cell_type": "markdown",
   "metadata": {},
   "source": [
    "### 3. Embedding Map"
   ]
  },
  {
   "cell_type": "code",
   "execution_count": 1218,
   "metadata": {},
   "outputs": [
    {
     "data": {
      "application/vnd.jupyter.widget-view+json": {
       "model_id": "0406348a09144bf19bef3301e5ccd125",
       "version_major": 2,
       "version_minor": 0
      },
      "text/plain": [
       "Renderer(camera=PerspectiveCamera(children=(DirectionalLight(color='white', intensity=0.6, position=(0.0, 0.0,…"
      ]
     },
     "metadata": {},
     "output_type": "display_data"
    },
    {
     "data": {
      "application/vnd.jupyter.widget-view+json": {
       "model_id": "d67ad55089024bcd8b373e25c972b023",
       "version_major": 2,
       "version_minor": 0
      },
      "text/plain": [
       "interactive(children=(Dropdown(description='mode', options=('Vertex Position', 'xMap', 'yMap', 'zMap'), value=…"
      ]
     },
     "metadata": {},
     "output_type": "display_data"
    }
   ],
   "source": [
    "def scalarToRGB(scalarMap):\n",
    "    rgbMap = []\n",
    "    for i in range(scalarMap.shape[0]):\n",
    "        r = min(1/3,scalarMap[i])\n",
    " \n",
    "        g = min(max(0,(scalarMap[i]-1/3)),1/3)\n",
    " \n",
    "        b = min(max(0,(scalarMap[i]-2/3)),1/3)\n",
    "            \n",
    "        rgbMap.append([r,g,b])\n",
    "    return np.array(rgbMap)\n",
    "\n",
    "def embeddingMaps(v):\n",
    "    xMap = v[:,0].copy()\n",
    "    yMap = v[:,1].copy()\n",
    "    zMap = v[:,2].copy()\n",
    "    xMap = normalizeZeroToOne(xMap)\n",
    "    yMap = normalizeZeroToOne(yMap)\n",
    "    zMap = normalizeZeroToOne(zMap)\n",
    "    \n",
    "    return scalarToRGB(xMap), scalarToRGB(yMap), scalarToRGB(zMap)\n",
    "\n",
    "v, f = igl.read_triangle_mesh(\"data/camel_head.off\")\n",
    "uv = parametrize(v,f)\n",
    "feature_edge_list, _ = feature_edges(v,f,10)\n",
    "xMap, yMap, zMap = embeddingMaps(v)\n",
    "\n",
    "a = mp.plot(uv, f, c=v, shading={\"wireframe\": 0, \"line_width\":0.2})\n",
    "a.add_lines(uv[feature_edge_list][:,0], uv[feature_edge_list][:,1], shading={\"line_color\": \"black\"})\n",
    "a.add_points(uv, shading={\"point_size\": .03, \"point_color\": \"black\"})\n",
    "@iw.interact(mode=['Vertex Position','xMap','yMap','zMap'])\n",
    "def switch(mode):\n",
    "    if mode == \"Vertex Position\":\n",
    "        mp.plot(uv, f, c=v, shading={\"wireframe\": 0, \"line_width\":0.2}, plot=a)\n",
    "        a.add_lines(uv[feature_edge_list][:,0], uv[feature_edge_list][:,1], shading={\"line_color\": \"black\"})\n",
    "        a.add_points(uv, shading={\"point_size\": .03, \"point_color\": \"black\"})\n",
    "        \n",
    "    if mode == \"xMap\":\n",
    "        mp.plot(uv, f, c=xMap, shading={\"wireframe\": 0, \"line_width\":0.2}, plot=a)\n",
    "        a.add_lines(uv[feature_edge_list][:,0], uv[feature_edge_list][:,1], shading={\"line_color\": \"black\"})\n",
    "        a.add_points(uv, shading={\"point_size\": .03, \"point_color\": \"black\"})\n",
    "        \n",
    "    if mode == \"yMap\":\n",
    "        mp.plot(uv, f, c=yMap, shading={\"wireframe\": 0, \"line_width\":0.2}, plot=a)\n",
    "        a.add_lines(uv[feature_edge_list][:,0], uv[feature_edge_list][:,1], shading={\"line_color\": \"black\"})\n",
    "        a.add_points(uv, shading={\"point_size\": .03, \"point_color\": \"black\"})\n",
    "        \n",
    "    if mode == \"zMap\":\n",
    "        mp.plot(uv, f, c=zMap, shading={\"wireframe\": 0, \"line_width\":0.2}, plot=a)\n",
    "        a.add_lines(uv[feature_edge_list][:,0], uv[feature_edge_list][:,1], shading={\"line_color\": \"black\"})\n",
    "        a.add_points(uv, shading={\"point_size\": .03, \"point_color\": \"black\"})\n"
   ]
  },
  {
   "cell_type": "markdown",
   "metadata": {},
   "source": [
    "### 4. Face Index Map"
   ]
  },
  {
   "cell_type": "code",
   "execution_count": 1219,
   "metadata": {},
   "outputs": [
    {
     "data": {
      "application/vnd.jupyter.widget-view+json": {
       "model_id": "dcba17427dcd413ba6802bad541f00d2",
       "version_major": 2,
       "version_minor": 0
      },
      "text/plain": [
       "Renderer(camera=PerspectiveCamera(children=(DirectionalLight(color='white', intensity=0.6, position=(0.0, 0.0,…"
      ]
     },
     "metadata": {},
     "output_type": "display_data"
    },
    {
     "data": {
      "text/plain": [
       "2"
      ]
     },
     "execution_count": 1219,
     "metadata": {},
     "output_type": "execute_result"
    }
   ],
   "source": [
    "def indexMap(v,f):\n",
    "    face_index_list = []\n",
    "    face_index_map = {}\n",
    "    \n",
    "    for i in range(f.shape[0]):\n",
    "        face_col = [random.uniform(0,255),random.uniform(0,255),random.uniform(0,255)]\n",
    "        face_index_list.append(face_col)\n",
    "        while str(face_index_list[i]) in face_index_map:\n",
    "            face_index_list[i] = [random.uniform(0,255),random.uniform(0,255),random.uniform(0,255)]\n",
    "        face_index_map[str(face_index_list[i])] = i\n",
    "        \n",
    "    face_index_list = np.array(face_index_list)\n",
    "    return face_index_list, face_index_map\n",
    "\n",
    "random.seed(1)\n",
    "v, f = igl.read_triangle_mesh(\"data/camel_head.off\")\n",
    "uv = parametrize(v,f)\n",
    "feature_edge_list, _ = feature_edges(v,f,10)\n",
    "face_index_list, face_index_map = indexMap(v,f)\n",
    "face_index_list = (1/255) * face_index_list\n",
    "\n",
    "a = mp.plot(uv, f, c=face_index_list, shading={\"wireframe\": 0, \"line_width\":0.2})\n",
    "a.add_lines(uv[feature_edge_list][:,0], uv[feature_edge_list][:,1], shading={\"line_color\": \"black\"})\n",
    "a.add_points(uv, shading={\"point_size\": .03, \"point_color\": \"black\"})"
   ]
  },
  {
   "cell_type": "markdown",
   "metadata": {},
   "source": [
    "### 5. (optional) Additional Maps\n",
    "\n",
    "ex: normal, texture, color\n",
    "\n",
    "Useful if the remeshed model needs these attributes added after remeshing, not needed for remeshing process itself."
   ]
  },
  {
   "cell_type": "code",
   "execution_count": 1220,
   "metadata": {},
   "outputs": [
    {
     "data": {
      "application/vnd.jupyter.widget-view+json": {
       "model_id": "a84b91c536b44807814c1ea55a745f03",
       "version_major": 2,
       "version_minor": 0
      },
      "text/plain": [
       "Renderer(camera=PerspectiveCamera(children=(DirectionalLight(color='white', intensity=0.6, position=(0.0, 0.0,…"
      ]
     },
     "metadata": {},
     "output_type": "display_data"
    },
    {
     "data": {
      "text/plain": [
       "2"
      ]
     },
     "execution_count": 1220,
     "metadata": {},
     "output_type": "execute_result"
    }
   ],
   "source": [
    "v, f = igl.read_triangle_mesh(\"data/camel_head.off\")\n",
    "uv = parametrize(v,f)\n",
    "feature_edge_list, _ = feature_edges(v,f,10)\n",
    "\n",
    "v_p = np.hstack([uv, np.zeros((uv.shape[0],1))])\n",
    "pvn = igl.per_vertex_normals(v,f)\n",
    "\n",
    "a = mp.plot(uv, f, c=pvn, shading={\"wireframe\": 0, \"line_width\":0.2})\n",
    "a.add_lines(uv[feature_edge_list][:,0], uv[feature_edge_list][:,1], shading={\"line_color\": \"black\"})\n",
    "a.add_points(uv, shading={\"point_size\": .03, \"point_color\": \"black\"})"
   ]
  },
  {
   "cell_type": "markdown",
   "metadata": {},
   "source": [
    "## Combining Maps to Create Control Map (User-Controlled)"
   ]
  },
  {
   "cell_type": "code",
   "execution_count": 1237,
   "metadata": {},
   "outputs": [
    {
     "data": {
      "application/vnd.jupyter.widget-view+json": {
       "model_id": "b7b6bd5ee415430495ce0de47f5d6057",
       "version_major": 2,
       "version_minor": 0
      },
      "text/plain": [
       "Renderer(camera=PerspectiveCamera(children=(DirectionalLight(color='white', intensity=0.6, position=(0.0, 0.0,…"
      ]
     },
     "metadata": {},
     "output_type": "display_data"
    },
    {
     "data": {
      "application/vnd.jupyter.widget-view+json": {
       "model_id": "14544b63fbc64744a1d78c1ce31d5a1f",
       "version_major": 2,
       "version_minor": 0
      },
      "text/plain": [
       "interactive(children=(FloatSlider(value=0.5, description='areaDistortionFactor', max=1.0), FloatSlider(value=0…"
      ]
     },
     "metadata": {},
     "output_type": "display_data"
    }
   ],
   "source": [
    "def designControlMap(v,f):\n",
    "    uv = parametrize(v,f)\n",
    "    feature_edge_list, _ = feature_edges(v,f,10)\n",
    "    \n",
    "    area_distortion = areaDistortion(v,uv,f)\n",
    "    gaussCurv, maxCurv, minCurv, totalCurv = curveMaps(v,f)\n",
    "\n",
    "    areaDistortionFactor = 0.5\n",
    "    gaussCurvFactor = 0.5\n",
    "    maxCurvFactor = 0.5\n",
    "    minCurvFactor = 0.5\n",
    "    totalCurvFactor = 0.5\n",
    "    \n",
    "    controlMap =  areaDistortionFactor * area_distortion + gaussCurvFactor * gaussCurv + maxCurvFactor * maxCurv + minCurvFactor * minCurv + totalCurvFactor * totalCurv\n",
    "    controlMap = normalizeZeroToOne(controlMap)\n",
    "\n",
    "    a = mp.plot(uv, f, c=controlMap, shading={\"wireframe\": 0, \"line_width\":0.2})\n",
    "    @mp.interact(areaDistortionFactor = (0.0,1.0),gaussCurvFactor = (0.0,1.0),maxCurvFactor = (0.0,1.0),minCurvFactor = (0.0,1.0),totalCurvFactor = (0.0,1.0))\n",
    "    def ff(areaDistortionFactor, gaussCurvFactor,maxCurvFactor,minCurvFactor,totalCurvFactor):\n",
    "        controlMap =  areaDistortionFactor * area_distortion + gaussCurvFactor * gaussCurv + maxCurvFactor * maxCurv + minCurvFactor * minCurv + totalCurvFactor * totalCurv\n",
    "        controlMap = normalizeZeroToOne(controlMap)\n",
    "        mp.plot(uv, f, c=controlMap, shading={\"wireframe\": 0, \"line_width\":0.2}, plot=a)\n",
    "        print(\"Control Map Parameters:\")\n",
    "        print(areaDistortionFactor,\",\",gaussCurvFactor,\",\",maxCurvFactor,\",\",minCurvFactor,\",\",totalCurvFactor)\n",
    "\n",
    "v, f = igl.read_triangle_mesh(\"data/camel_head.off\")\n",
    "\n",
    "feature_edge_list, _ = feature_edges(v,f,10)\n",
    "xMap, yMap, zMap = embeddingMaps(v)\n",
    "uv = parametrize(v,f)\n",
    "designControlMap(v,f)"
   ]
  },
  {
   "cell_type": "markdown",
   "metadata": {},
   "source": [
    "## Save Control Map Based on User Preferences\n",
    "\n",
    "Instructions:\n",
    "\n",
    "1. Adjust control map parameters above to your preference. (For most meshes I would recommend only using the area distortion and total curvature)\n",
    "2. Copy the parameters output at the bottom and paste them into the function call for ```createControlMap(v,f, <Control Map Parameters> )```"
   ]
  },
  {
   "cell_type": "code",
   "execution_count": 1238,
   "metadata": {},
   "outputs": [
    {
     "data": {
      "application/vnd.jupyter.widget-view+json": {
       "model_id": "40a6aa9f6d7c415da34a28c02632a5fb",
       "version_major": 2,
       "version_minor": 0
      },
      "text/plain": [
       "Renderer(camera=PerspectiveCamera(children=(DirectionalLight(color='white', intensity=0.6, position=(0.0, 0.0,…"
      ]
     },
     "metadata": {},
     "output_type": "display_data"
    },
    {
     "data": {
      "text/plain": [
       "<meshplot.Viewer.Viewer at 0x1b53927d850>"
      ]
     },
     "execution_count": 1238,
     "metadata": {},
     "output_type": "execute_result"
    }
   ],
   "source": [
    "def createControlMap(v,f,\n",
    "                     areaDistortionFactor,gaussCurvFactor,maxCurvFactor,minCurvFactor,totalCurvFactor\n",
    "                    ):\n",
    "    uv = parametrize(v,f)    \n",
    "    area_distortion = areaDistortion(v,uv,f)\n",
    "    gaussCurv, maxCurv, minCurv, totalCurv = curveMaps(v,f)\n",
    "    controlMap =  areaDistortionFactor * area_distortion + gaussCurvFactor * gaussCurv + maxCurvFactor * maxCurv + minCurvFactor * minCurv + totalCurvFactor * totalCurv\n",
    "    return normalizeZeroToOne(controlMap)\n",
    "\n",
    "controlMap = createControlMap(v,f,\n",
    "0.3 , 0.0 , 0.2 , 0.2 , 0.0\n",
    "                             )\n",
    "mp.plot(uv, f, c=controlMap, shading={\"wireframe\": 0, \"line_width\":0.2, \"colormap\": \"Greys\"})"
   ]
  },
  {
   "cell_type": "markdown",
   "metadata": {},
   "source": [
    "## Generating Images of Maps with OpenGL\n",
    "\n",
    "- For converting the igl generated scalar maps (which are just NumPy arrays containing vertex/face attributes) into images, I pack the maps into vertex buffers and pass them through an OpenGL shader.\n",
    "- I found that there was some sort of conflict when running Meshplot and PyOpenGL in the same environment so I used the VisPy library for this step.\n",
    "\n",
    "  Note: Make sure when running the following code blocks that you don't resize any of the renders before they've been exporting as the export is based on the window size - If the maps are different sizes it causes issues.\n"
   ]
  },
  {
   "cell_type": "code",
   "execution_count": 1239,
   "metadata": {},
   "outputs": [],
   "source": [
    "def buildGLBuffers(uv,f,map):\n",
    "    vertexBuffer = []\n",
    "    colorBuffer = []\n",
    "    if (map.shape[0] == uv.shape[0]):\n",
    "        if (len(map.shape) > 1):\n",
    "            for face in f:\n",
    "                for vert in face:\n",
    "                    vertexBuffer.append(tuple(uv[vert]))\n",
    "                    colorBuffer.append((map[vert][0],map[vert][1],map[vert][2],0))\n",
    "        else:\n",
    "            for face in f:\n",
    "                for vert in face:\n",
    "                    vertexBuffer.append(tuple(uv[vert]))\n",
    "                    colorBuffer.append((map[vert],map[vert],map[vert],0))\n",
    "                \n",
    "    if (map.shape[0] == f.shape[0]):\n",
    "        if (len(map.shape) > 1):\n",
    "            for facei, face in enumerate(f):\n",
    "                for vert in face:\n",
    "                    vertexBuffer.append(tuple(uv[vert]))\n",
    "                    colorBuffer.append((map[facei][0],map[facei][1],map[facei][2],0))\n",
    "                    \n",
    "    return vertexBuffer, colorBuffer\n"
   ]
  },
  {
   "cell_type": "code",
   "execution_count": 1240,
   "metadata": {},
   "outputs": [],
   "source": [
    "class Canvas(app.Canvas):\n",
    "    def __init__(self):\n",
    "        super().__init__(size=(256, 256))\n",
    "\n",
    "        self.program = Program(vertex, fragment, len(vertexBuffer))\n",
    "        self.program['color'] = colorBuffer\n",
    "        self.program['position'] = vertexBuffer\n",
    "        \n",
    "        gloo.set_viewport(0, 0, *self.physical_size)\n",
    "\n",
    "        self.show()\n",
    "\n",
    "    def on_draw(self, event):\n",
    "        gloo.clear()\n",
    "        self.program.draw('triangles')\n",
    "\n",
    "    def on_resize(self, event):\n",
    "        gloo.set_viewport(0, 0, *event.physical_size)"
   ]
  },
  {
   "cell_type": "code",
   "execution_count": 1241,
   "metadata": {},
   "outputs": [
    {
     "data": {
      "application/vnd.jupyter.widget-view+json": {
       "model_id": "f90e70c6869f45bcb405a4c9678ddb93",
       "version_major": 2,
       "version_minor": 0
      },
      "text/plain": [
       "RFBOutputContext()"
      ]
     },
     "metadata": {},
     "output_type": "display_data"
    },
    {
     "data": {
      "application/vnd.jupyter.widget-view+json": {
       "model_id": "ab52ef77bebc48eaa2bce02518f9beae",
       "version_major": 2,
       "version_minor": 0
      },
      "text/html": [
       "<div class='snapshot-ab52ef77bebc48eaa2bce02518f9beae' style='position:relative;'><img src='data:image/png;base64,iVBORw0KGgoAAAANSUhEUgAAAQAAAAEACAYAAABccqhmAAAZKklEQVR42u2dR5IkNw+F5/6X0EIhs9DI25EdebuQDqCrzB+oCHRA/GlAC5B8ixfdXV2VxWTifQRNMp+9ePHi1U764osvoA1lHTdQXM+sCwAAnC/rmIEOAgAgsJ+s4wU6DACAwD6yjhPoUAAAAnvIOkaggwEACPiWdWxAFwAAEPAp65iAAAAIAIBuAAAg4E/W8QBdBgBAwJesYwG6EACAgA9ZxwB0MQAAAXtZX3/ocgAAAgAABABAMD90KwAAAQAAuhwAgAAAAF0OAEAAAIAAAAjmh24FACAAAECXAwAQAACgywEACAAAEAAAwfzQrQAABAAA6HIAAAIAAAQAQDD/9boWAIAAAABdDgBAAAC4Xc9uv4DW5jlB1tcQ6gTA7RfR2kA7y/raQYMAcPPFtDbRzrK+dhAAAAgAANAIANx+Qa3NtKOsrxk0GAA3X1RrM+0m6+sFTQLAzRfX2lQ7yfpaQQAAIAAAQDMAcPMFtjbWLrK+TtBkANx8ka3NtYOsrxG0AAC3Xmhrc3mX9fWBFgLg1gtubTLPsr42EAAACAAA0CoA3HrRrY3mVdbXBTIAwK0X3tpsHmV9TSAjANx48a3N5lHW1wQCAAABmH9Lffnll0+yLksTAG4MAmvTeZL1tdhR0vShtgTAbYFgbTpPsr4WOylnfA8g6ALAbcFgbTwvsr4O3lVjegBgI1kbz4Osr4EXtZrcGwS6AXBTUFibz4Osr4G1Zhl/awDcFBjWBrSWdf2fanwrCAwDwC3BYW1AmP9c4wMAm8jaiADAmca3gMBQANwSJNZGBADONf72ALghUKyNCPOfa/wjAHBDwFgbEgA4z/QWEJgGgFOD5kYAWNf1jeY/AgAnB5C1KQGAc42/EgJLAHBaEN0GAet6vtH4xwHglEC6DQDWdXyz+Y8DwCkBdQsArOv3ZuMfC4ATAusGCFjX6+3GPxoAuwcYAOBX1oYFAC4IstMBYF2nMP4lANg12E4GgHV9wviXAWDHoDsVANZ1CfNfCoBdA/AkCFjXIYwPAGwXiKcAwLr+YH47CLgDwG4BuTsArOsOxgcAtg7MnQFgXW8wPgCwfYDuCgDrOptp/K+++kola2MDAAcE6o4QsK6rXtPnTP3111//RyeA4GoAeA7YHQFgXU8txs+Z/JtvvqlSCQ7WZl8NgS0A4DVwdwOAdR3VGD9meDbxt99++6TvvvtOJfkZUggE79nB9QDwGMA7AcC6fjTmD00fGp7N/PLlyyflTK5VmBmEQLA2PwDgPJi9A8C6blqML02vMXtNNyAHglRWAAA4k3Ug7wIA63rJmT/V2sdMHzO6drAvbN1T3YlYRuClSwAAOA9u67rwXkc544etfcz0owbuUuMKIQwkZDyMDQAAzgPcuh681k3J+LJfXzJ9rzFqBxlvgMD2APAS6N4gYF0XKcOFab5s7Uum7617DZjCrMQTBAAA5wFvXQde6qPU6qeMrzH9jPqRZfUMAQDAcdB7AoAn88fS/TDNl0aqrdfPP/88qZq6SkEgBIHlwCAA4Dz4rc/dsg5ig21kltD4YZofC+4Ws2ulAUFsdoJBYAkBAMC5CazP2eLcU6PsstXvMf4I02thoIEAALCRAIB1xo+l/CnjW5q+BIISBCyzAADAqRk8QcCy1ZfmL7X41qbvgYBVJgAAODbFDQDItfqhQXYxvhYCuXMEADYQADDW+CljeDf+Z5991gUBy64AAODQHKcDIGX83OYb3oxPpg9VA4HargAA4FQAwJhWPzR/GPixurBs8VPSQMBTVwAAcGSQkwFQMr80gtdWvxcCsTqNdQVWZgEAgCOTeIXADOOH5o8F+ohWX3uOVhCITXcCAJsKANCbPwWAXvP3nqunrsCKbgAA4MQspwGg1fwtKf+Mc/bSFZidBQAADsxyGwBqWv2UIVect8csYIduwNUAmAWB3c5HC4Aa81ucew8EtN2VXBYAAGyqkwBQez4jzT+6vDMgMBMAO3YDAIAJENjpXDQAiAXf6nq2zgLCc7DqBgAAToxzOgBGmn81XE/uBgAAToxzCgRaAs+iPmu+vzUL6AFACgIAwGYCAPKBZ2n82RCoWbsgAbBzFgAAHAoA7bmMNP8K42vreAUATugGAACXA0ADgdI5rTb+KAC0KDzvWDcAANhYK9NUT+eTmvrLnYuV8b1AIKw3AOAAnQYAzTnFzC8B4NH4XgBg0Q0AADaBgPV5aM8pHMxKtf7WZgcAxkMAALgkC0idW9iHJWkCbPV0lUcAcH3uPA4AAFwIAA6i2O42uSf0aIy/0vxWAEhNBwIAh+h0ANDDOuh32tjyxx9/fPX9998/ntdHf8e6AFaLVHYDwI4DgQDAZAB4gwAFI5XprbfeevxOpv/hhx8eECARHDiAU+avOecbABBmARgE3FyrA3W2ZOBSYNJrn3766aNcZP7wibj0M5wBiPV/PdSxNQDCLAAAOEA7AEB73DBwKRj59U8++eQRUPz38+fPH7/zQGAYbK1Gm1nXVgAojQOkdkwGADaQRbo6s+WXS105gOh3ygJI/D96PXywRy7wtGabWc+7AGAkBACATQGwEgIyUOV6dyoDBSP9/sEHHzwBgD7DQcxBpg3CkuEsWv9aAPTeHSgXUwEAm+skAIQBTf+jwKS/P/zww/+0/rJ7wO8NQRAGcikb8N765/YJ7N0rEADYVDMBsAICqQCXr3H6L01Ov8cMEGvlShBYUb+9ACiZX7tjcAwAMwcCAYDNATAbBKWgJ+PzgKBc/VfKHHLdgprzWlF3IwGQggAygEO1CgCjIVA7gBV7oq8skzRKqlugfRrwyPrtrYca43sEABYCAQDNxg9NXNr5NzSO/DwfgxcPaW4hHlHHvRlQqwCAS7QSAD0Q6F28kkrpY2WLQUCChJcS524jHlHHFq0/AHCZVgOgBQQjzF9bptxxeYqRVhbOgoCl+QGAi2QFAC0ESoG9EgB8bF5XQD9/++23p3sO5GetANBrfADgMlkCoDbQawJVc27h+7Qmo//RugISzTL88ccf/weBnrruaf0BAABgKwBogl5j/pZza4UPv/b++++/+uijjx4QoFuNNRAolcuD+QGAi2Rt/JQB5LRbmF7Hpus059SyoCdlLpoNIABQFvDxxx8/IECDg1oItGqF+TWZFQBwiKwNnzIq36bLZaSgotfod7nAp+ZcUoFVkwXQ9/KdhfQ7QYAAQK/R3wQGXmZ8ivmRARwsa7PHTMobdMSm4th4EgA1x66FQAwAZHj6zD///PPqnXfeeXQDCAAMAeoO8DFzLekI8wMAAMAxEJAr7uRGHdJ4lHKT0Xq/owUCXA4yPL3++++/P8pCMwIMABK9l8qfMq7n1t8jAEZBAABwCoDwYlMw0UIbEm3dRUFJxuK+NpU53M2nBwAlCEgjMACoTLQO4Ndff3317rvvPnUDWFRumcXkxix2af05VrjOAIBD5MH0MqjI2L/88stTf/r111//T4Dye7TbevdAIGY4BhFB6Keffnr8LbsBPEZA5UzNIJRMbgEA7cIqAOAwWZueg4mNTaIRdW7hOa0m0XFSj/RKfVcLBFJ9eM5GyPAU9AQp+smzAQwAzlJaAaDVbPOn0n8A4DBZtvixQOIuAP3NxpfB0GJwLYzCbCA0BHcDZDnpbwkAniqMdQFGAqAXAprjAwAXyNL88jFd8m8yFqfT4X388titLbwm6Pj7pGl4QJLewxmLBIDsItSMAfRAYJZiMRIDd+xZi94gAAAYQKBk/FzQcD9frgmQgdna3agJOAkAnn5kAMguC48D0E8GQGwmoOZ6WJtfCwDNtQQANtBs85eMH36WysStP70WWxcwEwKxDIAXAkkAUEsfAoA+w+fQKw/m57pOdd0AgAO00vzaCyvfE6bTsXLHWquRAOBBQJKcriTzSwBw638yAFL9/1kA6IUAAGBgfo3xS2WImVGTUvdCIDcISAAgk9NAHwGAZgHkOAC9pqlbrzAo1aVM/wGAA7TS/CkDxMyhzQJ6IRDLOKThpAH5+QJkfpquJAPQakAGAB9DW6/esgNNPSIDOEizzC+DI9Xq1wKgNgvQQiD23TFTMADod1rtR6sB6TUCAJmfykWtfwwque+ccV1Hmz81BrBqELAXAgDARACUzF8K9lTLGB57FgRy5g/FU5M///zzAwDvvffe0z0KtDJQa4DR2UALGGriI5bZAQAbamR/P9UqxMxfW55Y8IUm1WwMooFAzPyphTKUAdBn/vzzz4fp+V4AAkIs6wnrpzaYvcRK7joDAI412vCpoAj7hBrz1wIgZVYNBFIZSwwquU0x+D00BvD2228/Wn/eLjwHAK6n3mC2NL8HALTWmykAZprQSqH5cw/eaDF/ruWW72ntz4bflWr5+f/yXHmQ799//+0eBOu5Blat/7UAsDadF8mLweYPH5jRU5elQEyZtwYGUtL8msVGVAb5bABNkM4AwCwYlFr/4wBgbaidVGv+mtZYC4AcBEo3utTcBcffyd8j/yefNVgboLMzg1Yg5MqqNf8KALTUzzMYfSwApPnlvfmxVrkWuKn3y2AsASAnnsuX5UuZn88rPDa9h+9TiAWn9ny9wKBUPk8AaKmDZ9bGOUEyGHgdfMn8qZtKagNWloEDMJbKhzfuyNY+BgBNthI7Ns/5p/YlqG1hV40bhGXUwgkAuFwp86e27h5p/hAA9J008k5/8wYc/Fm5hZjcsVeaX5o4lfqnxhbkMeh9MhspncNICIwEQY35c/P/AMChipk/1u/XrilvAUD4efruv/7668nk9H0cnLxgh5bnynX6UnInXyn6HjZ1akxBbk0e25uwtgtkYQit+WsB4LH/DwAMMr+8Ay5M/UeYPwRAKYugMtGSXF6Jx63633///diwk9fqc2YQml12A9jw3LLTucnPpSDAS39l2VrGQKyMoSlHrrUHAA5WzvyjU38tAMLj8gNDuKXnVp/KyMt1eaGOXKzDmQyJQEHvo4d90tw+mZsznBAeIQR4jUCu66DpCmiNNxMEmjJYp/8AwGLzp1J/rfl7AaAZvaZdhDnl5xSfswLevJNv3ZXiO/ooi6CfZPA333zzcXOPnOWIZQL8/ZwFxMClXZ6cqvNeo61s+VeZHwAwNL8m9R/V+tfOX1NrH/bvJQioXFTu2PQlmZre9/z588fjvsL5fc5+2PDc8rN4F6Aa89csuhlhuFrzewVAa0wDAI3m70n9VwGA03AqX/iQDoaC7B5QC8/iR33zwz75eQSxgOMxB5n+a0E4AwAzjVdrfgDgEMXMz33oGaP+owBA4gE/CYAcDLjLwI/5pnGA1B4Gsoz0OkOAXqPMgbODWIZQGs/oBcBo83k1PwCwuPWX217VLvixAABDgMopDR92C8LXGXSpu/lSZaRzljBk8/Pjw2r2KigBILcDz0gjtpjfe+sPAAxq/XPm7+n75wDQAgkqKw0Mcqucmv+n43HKH65wywVeCAG5GIlEXYvaOtCaXwOC1eYHAA6QdesfM3dPlkDvpXJTn5126mGQMdR4u3F5/rGALn0/nTs/Mpwk1xHETFVjwJTxZ2QD3s0PACw0f6r1ZwPU7CTbCoCerKGUSZT632HApfrzcj3Aa6+99uqNN954/M3PDpQzDuGGISlpTF8LgpRJe0wPAByisJI5aHta/1YAtKpk0NR6/1Q9xI6bu72Y+/70GTJEbGPQWkNLcKRUC4FZ8m5+AEBpfpn6a0f+R7X+IyGQu/df2/KXzB/+n2cHuL7k6/x9MsOqNbtci8ELsjyAYIfWHwCoaP059dfO+3sBQKyMPQBIQSDXxeA65GPE6igGgpTJtYqB4CTzAwCLWn+5bDa20Yd2yy0vAMiVNayH1OBfzRgDZ1AyA8htM5YCQc7sfH3C5c0W2cAu5gcAlACQfX/t1J8nAJTKmhv8iwV17Lix8YYQAPST/5/bgCQEAcMgB4IQAFYg2Kn1BwCUrX+Y/pcG/0opsSUAwvJqVt+VAi+3uo8BwIbj9/MCoRQEciDIwaAFAiNBAABsLE36rxn88w6AVN+9VB/aLCBM66VxuRsgIcALkLRQ0sCgBQK9IFhpfgBgkfnDqT/N3P8OANCUrRUAUmF/XnafeCxArkLMPXykBQYtEGgFwW7mBwAUAGhJ/2vvd/cCgBoIaI7Pn5cmldOBMQjMAkFpdqAXAju2/gBAJshb5/61t7x6NH8PBHIACLOAWB1yVyC2YWnrwGUOBqOzgB3NDwBkgjtM/2sB4CULqDV/DQRS3xd+LjRk2A2QKwclBEIQlGCgBYFm9WANBHY0PgDwIr/jS+vin56NL7yYP1WulqBMASAEqdyePNyvIHyWQQoIGhDUQsALAGbFCACgAIDmKT+tAJgFgR7z92YB4XtDA8a6AeHzCWIbl/SAIIRQCgYjbibawfjXAyBX6RIAnP7PBMBoEJS+pyc7KQVprC7DNDwcDAy7AaFSzyqIwSB1c1NsLCIGAU8AWOGDKwFQqngeAJQAqO3/W0GgZPzecYraIE6l35osoEYpEJQygR4A7Gx8AKAQsFYA6IFArflbbltuNb985oDMAsL6bAVA7JmHOQh4BcBqL1wHAE3Qhg/ISA1czYRADQg0KX9tGXvqUJo/BoAQqiEAUg8y1WQIuSwg1g1oBcDuxr8SANrAzbVWKwFQMqPmsz1l7IFozvypcRUtALRK3W6cmxG4yfwAwCIAjIBAi3rLNwMA4W3VsaXBswGgnQVYAQBrT1wDgJp+6wwArIbAiLK11GdolhQAUt2AVJpfY/rUlKC3DMDaEwBAYcQ6lqr2AGAFBHLfnVpJNwsAsaW4KQDQMXMDgaXVgKXz8gYAaz9cBYDakeuZAJgJgpL5SwZaCYDc7kqlbkCL+SUANF2AG1p/AMAQACNBUPoOTao8KguoAUBsiXUPAHLlz13fW1v/KwBQe3FmjgGMhIH2mFrzWwGgZRxAW2cx8/cA4DTzHw+AlgukBcAsCIyUdqBsNQBevnz5HwCkugE9AIiVMbbGY2X6b+0HAOAiANSMlLcCIFbHrQAodQNyW5nnyhpe1xQAbmz9jwZA60XKAUC2Up4BUDtVpm1Ne7OA1F59sZuDNGXPlbE0u1OT/p9qfgDgQAC0zJWvAkBuHCA3G1Bq/VvMr03/Tzb/sQDouVjhzUAxAHiFQOtimZoBtZkAiN0cJM8rVtZcWTTLkUt9/5PNDwBkgpf3A9gFALVLZEcBIGe82L33qd16W7ZcL7X6Fq2/dewDAAMBEAaJ125Ayxr5mQDozQJidZwrTw14ZrX+1jEPAAwwfw0APEFghPlLAJiZBWgyrZpWv7Q1OMwPABQBsMs4wKjWfyUAaiGQ+z7t99QA4AbjHwmAESO2sb5jGCxeINB6i+wKAJRa5VTLHNZzzbUqHX+U+a3jHAAwAIAmRfVufs2NNK0Q0Bo0Z9KwnlOmbGn1R6X+1jEOABgDwEsWcAoAWlblaYEC818EgBHmjw0E5rIAKwjMMv9IAOQMW3pAh+a5fT3mb0n9reMbADAAQK4bUBqtBgDyACiBoMb4veYHADbXSPPvAIFZ5rcAQItiwCgt8mk1v3VsAwBOAZDqCoQguAEApfpbAQBNBoGWHwAwgcAMEMwwfwkAHlr/GAg07715rv9oAMwyf2oUuwcCo0HgsfVvNX9ppL9FvRt7WMc2AOAIALHbhHMLV1ZlA6Na/pbWf4T5UybNqfdYAAAA0A2B3N1kq7OBHtNbmb/F+L2C6QGAoV2B3AKTVEDN7hbA/Gj1rwKARRZQygRaQWABgxrz72b82utsHccAgFMAaCBQWnRSC4LZMOhp9VsG7EaZt8XYMD8AsGRMQLPTTC7oSqPwswyvbfFnD/StvI4AAAAwbWCwFwQaGGgAMcv0Jxn/ZvMDAIMhEGYD2q2nNcHYAoRRG3qMmNP3aH7ruPUgAGAgCEp3qWnWp88O1BaozZjPh/F96AgAWEKgZJrYTSsjb1YZUeZW03s3vnVM7iAAYKKpam9iWTF9NmIN/oopORgfANgKADUg0N7R1rJBxgytnIuH4QGArQHQAoMeMMyAw+oFODA/AHAkAEp9bstWfWT3wqperWPuBB0DAO8QyIFgBSBGjiNY16N1nJ0kAGADEFjLur5OMf7MdRwAwGYQ8AYG63M/2fijADADAscBYHcIzISD9TncbP5RABgNAQAAcivrOLIy+EoIHAkAQGBvWcfODgAYBYFjAQAI7CnrmNkJACMgAABALmQdK7sCoBcCRwMAEPAv6/g4AQA9EDgeAICAT1nHxGkAaIXAFQAABPzIOg5OBkALBK4BAEAA498AgFoIXAcAQADGPx0ANRC4EgCAAAw/2vTeAKCFwLUAAAhg9pEA8CoAABCA2S81vwYCAAAgAJMfDoAcBACAy0FgXd87y9rUIyAAAFwIA+t6PUXWhh4BAQDgIhBY1+NpsjbzCAgAABeAwLreTpS1iUdBAAA4FAbW9XODrE08AgIAwGEwsK6L22Rt4l4BAJtCwvp8oDMgAABAEAAAQdCNEAAAIOhiCAAAEHQxBAAACLoYAgAABAEAEATdCAEAAIIuhgAAAEEXQwAAgKCLIQAAQNDFEAAAIAgAgCDoRggAABB0MQQAAAi6GAIAAARdDAEAAIIAAAiCboTA/wALYO9UieWwYAAAAABJRU5ErkJggg==' style='width:256.0px;height:256.0px;' /><div style='position: absolute; top:0; left:0; padding:1px 3px; background: #777; color:#fff; font-size: 90%; font-family:sans-serif; '>snapshot</div></div>"
      ],
      "text/plain": [
       "CanvasBackend(css_height='256px', css_width='256px')"
      ]
     },
     "execution_count": 1241,
     "metadata": {},
     "output_type": "execute_result"
    }
   ],
   "source": [
    "vertex = \"\"\"\n",
    "    attribute vec4 color;\n",
    "    attribute vec2 position;\n",
    "    varying vec4 v_color;\n",
    "    void main()\n",
    "    {\n",
    "        gl_Position = vec4(position, 0.0, 1.0);\n",
    "        v_color = vec4(1,1,1,1)-color;\n",
    "    } \"\"\"\n",
    "\n",
    "fragment = \"\"\"\n",
    "    varying vec4 v_color;\n",
    "    void main()\n",
    "    {\n",
    "        gl_FragColor = v_color;\n",
    "    } \"\"\"\n",
    "\n",
    "vertexBuffer, colorBuffer =  buildGLBuffers(uv,f,controlMap)\n",
    "\n",
    "\n",
    "c = Canvas()\n",
    "c"
   ]
  },
  {
   "cell_type": "code",
   "execution_count": 1242,
   "metadata": {},
   "outputs": [],
   "source": [
    "img=c.render('triangle_strip')\n",
    "vispy.io.image.write_png(\"controlMap.png\", img)"
   ]
  },
  {
   "cell_type": "code",
   "execution_count": 1243,
   "metadata": {},
   "outputs": [
    {
     "data": {
      "application/vnd.jupyter.widget-view+json": {
       "model_id": "9617f5343a354a8ab33e97970237d14b",
       "version_major": 2,
       "version_minor": 0
      },
      "text/plain": [
       "RFBOutputContext()"
      ]
     },
     "metadata": {},
     "output_type": "display_data"
    },
    {
     "data": {
      "application/vnd.jupyter.widget-view+json": {
       "model_id": "b99c0d13c7cd4fd696060aa3b86b0e7c",
       "version_major": 2,
       "version_minor": 0
      },
      "text/html": [
       "<div class='snapshot-b99c0d13c7cd4fd696060aa3b86b0e7c' style='position:relative;'><img src='data:image/png;base64,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' style='width:256.0px;height:256.0px;' /><div style='position: absolute; top:0; left:0; padding:1px 3px; background: #777; color:#fff; font-size: 90%; font-family:sans-serif; '>snapshot</div></div>"
      ],
      "text/plain": [
       "CanvasBackend(css_height='256px', css_width='256px')"
      ]
     },
     "execution_count": 1243,
     "metadata": {},
     "output_type": "execute_result"
    }
   ],
   "source": [
    "vertex = \"\"\"\n",
    "    attribute vec4 color;\n",
    "    attribute vec2 position;\n",
    "    varying vec4 v_color;\n",
    "    void main()\n",
    "    {\n",
    "        gl_Position = vec4(position, 0.0, 1.0);\n",
    "        v_color = vec4(color.rgb,1);\n",
    "    } \"\"\"\n",
    "\n",
    "fragment = \"\"\"\n",
    "    varying vec4 v_color;\n",
    "    void main()\n",
    "    {\n",
    "        gl_FragColor = v_color;\n",
    "    } \"\"\"\n",
    "\n",
    "vertexBuffer, colorBuffer = buildGLBuffers(uv,f,face_index_list)\n",
    "\n",
    "c = Canvas()\n",
    "c"
   ]
  },
  {
   "cell_type": "code",
   "execution_count": 1244,
   "metadata": {},
   "outputs": [],
   "source": [
    "img=c.render('triangle_strip')\n",
    "vispy.io.image.write_png(\"faceIndexMap.png\", img)"
   ]
  },
  {
   "cell_type": "code",
   "execution_count": 1245,
   "metadata": {},
   "outputs": [
    {
     "data": {
      "application/vnd.jupyter.widget-view+json": {
       "model_id": "197b8a94d1ca4444be12e71e1b3e12ac",
       "version_major": 2,
       "version_minor": 0
      },
      "text/plain": [
       "RFBOutputContext()"
      ]
     },
     "metadata": {},
     "output_type": "display_data"
    },
    {
     "data": {
      "application/vnd.jupyter.widget-view+json": {
       "model_id": "4d78bc179a0c42c78961240dc4014a6a",
       "version_major": 2,
       "version_minor": 0
      },
      "text/html": [
       "<div class='snapshot-4d78bc179a0c42c78961240dc4014a6a' style='position:relative;'><img src='data:image/png;base64,iVBORw0KGgoAAAANSUhEUgAAAQAAAAEACAYAAABccqhmAABAiklEQVR42u2de59Uxc6FawDxfgNUEJTxgoggIIrIRcHL8Xg7iszM9/8ofbp6KtPpdFKVVKX23j30H/m9r8IMR6bXUysr2bXDwRdhdnA91Y1UX6a6mepWqtupvkJ1J9XXqb6Z191U36a6N6/vUt1P9SDVw3k9SvV9qh9SPU71ZF4/pvop1c+pfkn1n1S/zuu/qX5L9XuqP1L9meqvVP9L9Xeqf1A9RfUv1M7s4FmqPVT7qA5inUB1EtWpVC+gOo3qRVQvpXqZ1CuoXkX1GqrXSb2B6k2m3mLqbVJnmDrL1Dmh3snUu0K9J9R5oS4I9b5QFwt1KVMfKOtDQ13uVLtrFRYAqIEABkFvCDwZEQIsAMISAFUQODXLQ4ADAIWABgAUAkMBYCv+6YlfAsC1BAALBDg3gCHwjSMEsAvQQuDXISCww0PA3QVYAZBzAWMCYCv+qYn/EACfzz/M11JpIJBrCVog8JCBANcKlCCAXYAXBJpcQAkAFhcgAUDbBgwBgK34pyd+DgCH/z4cXJ1/kLUQ0OQCJQjc6wgBrhUACIzaCni5gNYcYGoAOK7itwh/PPEfAuCz+YdYAwFLOOgFgVwoSCEwZB6wAoDg7AI82gApB+gBgOMk/kuz4yd+CoDVXzsEAIYAgABDoGZCMCQEhgoFRRdQggAGgKcLaMkBhgCAVfwSALbi9wHA+q+FgyvzD++VDARaxoR0MqCBAA4FNRDoHQpqWgENAPa9XIBXDtAbAF7ilwCwFb9e/PKvh4NPEwAwBHBL0AsCOBSshUBtKDhKKyC5AG0Y2NIG9AKA9fTfin9Y8ZcrHHwy/+BOHQKt40GvVqAYCIZ1AOwN6QJag8CeANiKf2riPwTAx/MPLUAAQMBBwDom7AmB1smAZyuwBoAguIATGQhYXYC1DRgaAL1Cv6HE32PMNz3xLwEgQaB1QtACgdKiUC0EavIAcytQgIDZBVh2AkouoAUA3qf/VvxjVzj4KAFAA4GaCYEXBGp3BEqhoEcroAHAXo0L6NEG9AbAVvybIv5DAOzOP6y1ECi1BFwmoH1uwAMCPULBJhdwgoGAdiSYCwM3DQBb8U+lDgFQgkDLmLAnBGp3BGrzAG0rgAHwrOQCPNoAKQewTgK87X+vRZ8xxG8V/vTFfwiAywkAFghYJwQtEKhZFOoRCla1AgwA9qgLODnLu4CWNmBoAAxx+m/F7w+AVghoJgReECjtCLTkAQAB11aAQuAE0wr0agOmBoCt+KdW4eDDBIApQED7BGHLjoBHHpBrBSQAPEMAWIOAdxugHQXmAOBt/58H8Y8v6DoATB0CXotCLaFg9VRgh3cBexIAatsAj12AXqf/VvxTrXDwQQLAEBDgNgZrHh5q2RGoyQOaW4FaF1DbBmwCAMYQ//OZ9OcBcGn+Ae0FAQDBVCBQsyRkbQVcXEBrG1AzChzS/m/FP5U6BEAOAh9tCARKOwJeS0I1rYA2C3BrA4YGgOX0b531b8XvC4CLCQCbAIHWHYHWUNDaCri4AMuzAVMAQM/Tfyv+PgDYVAhYdgRal4S0uwFSK2B2AZo2oHYUqAWAt/3fin9qFQ7eTwAYAgJewaDHjoBlSUjbCtS6AHUYKOUAHrsAve3/VvxTrHBwYf7B9IQAfnbACwLei0K1eUBrIKhyAS05wNgAsJz+HqHfdsHHBwDHGQK1oWBrK1DtAqzTgCEAMMXTfzvj9wHA+QSATYaA9TKR2jygJhDU3h9odgE1QSAFgDYAHOv034p/GAAcNwhodgRq9wMsrQDnAtg2oAYAAIEaANQGgNrwbyv+Talw8F4CwFQhULpQxLojoAkFpTxAagVcXAABwL52HDgWAGpO/00R//jCHBYAmwqBlh2Bljyg1AqoXEDIhIEcAEptwFQAYDn9LaFfrfi3p34eAO8mAGwSBFoWhTShoJQHaFoBTxdgygE8AFCaAIx1+m/F3w8A78w/iO+mOm4QkBaFrKFgTStgcQF7WhdgmQR4AYALAHud/lvx9631/95DADwvEKChoDUP0LYC1S5A2waMAQDO/tee/lvxjyf81QoH5xIAjgsENDsCNXmA1gVgCNS6AFUYWBoF9gJA6+k/JfGPLczxhL8KgOMAAeuOgBYCtBXwdAFVYaAWANwykHYHQNP/j3H6b8XvKf5DAJxNANhUCLSOB7V5QG0gaNkLqM4BLACwTAC09n+I038rfk/hrwJgKhDAV46XINC6KFSbB1gCQbULYACwhwCw3zIJaBkBaux/7nHf0um/Ff9Ywl8C4EwCwKZAQLpfsAcEvFqBLi5gigCwnP5b8Y8p/FUAHFcIaCcDljzA0grQsaDVBVTnAFwLoA0ANeO/1t7fK/TbCr8dAG8nAAwBgdrXkGkgUDMetOQB1lbA4gLUYeAYAMj1/2Oe/s+r+H2EvwqA5w0CtaGgthWwuABTG6ANAnsAwGL/t+LfBPEfAuCtBIBNhkDNolBrHqBpBXJjQdYFFMJAcw5gmQLUjP96Wf9W8Y8t1M0Q/xIAvSEAIKiFgDQibF0U0uQBFAKaVoAGgrkV4SYX4AUAT/tvOf234h9L+EsAvJkAUAsBAEEPCGjuGPRYFNKEgrWtQMkFmMPAUg7QAwBa+285/b3FP7ZQN0/8SwBMDQIAgt4QKIWCHAQ0rQAXCGpcgBQGmnKAEgC4TUAtACz23+v0fx5P/WHEfwiANxIAekAAQMBBAEAwdQhwoaClFSgtB6nbAJoDaILAEgCsAeDQp//zKP5hhL8EwOvzD9yUIAAgGBoCpcmARyvATQRyI0FzDqABAG4BNADI2X/N6d9L/GMLderil/4eV/+eDwEAEAAQPC8QqJkMaLcEa11AdRvgDQCL/dda/634hxO+rpYAoBCgIPCCAIBgShAohYJaCJRaAW45yBQGTgEAJftvOf234h9D9KsAeA0BYAoQ4FaHpwCB3KowlwdoXIAmDBwcANr+n7P/ltO/Ju0fW6xTE3+98FcBYIEAgGDTIcA9N6B5ZqB2KqB1ATQM5ADA5gB0FCg9EFQDgBr772n9xxbq8RP+EgCvJgBQEGggACBohYD2IaIeEOAWhTSTAU0roHUBxc1ATRBYAkDuMpBSAGg9/T2t/9hinZL4/YS/CgAPCAAIchAAEEwRAprxYGlVWBsI5iYCVW0AtwugBUBN/99y+k9F/Lukpix+f+GvA8ATAhQEmwQBzWRAMxrULgdpXEC2DdAsA3kAIBf+aU//McW/m6nnT/iHdWkOgFcQAHpCwPv5AQ8I0LsEWkJBayugdgGlcaAmCKQZgASAXP9fY/+HFP9uZT0P4r8k1iEAoDgQ0HDwOELAMhnQbglaloM4F1DVBnA5QC0Aauy/h/UfQvRDQGCsXv+SqcLBywgAWjcwxtbgEBCQJgMlCFhbgRoX0BUANQFgj9N/aOH3AsD0hb8KgBoIWLcGa3MBzfMD3hCQJgPaPKAmEKxqAzRBYGkMaAkAc/bfcvpPSfzeABha/HXCXwdACwSkhSGvcLAnBLhbhUrPDGi3BKVWwN0FcDlArQPIBYA19t9L/D2E7wmAMSx/m/gPAfASAoAnBIa4YcgTApbxIOcCKARqAkGVC6gBAJ4EWACgtf/a079G/D2F7wWAzRP+KgCgLCDoAYGaXCB3sUgNBKTJwNfBngfkWoGSCyi2AbkcoBUAOftfe/pPVfwtABj61PcT/hIALyIADAUBCgKvcNAKgS+MELAsCZVagVoXUMwBhgIAF/5ZrP8UhN8CgCHF7yn61T2NQwAMAQHvpSELBPA9gxwEuEtGNRDQ7AfkWoEWAOxpAUCXgbjnAFoA4H36b4L4awEwpPAvqmoJgJ4QGDoXoFuDQ0CAPi/g5QJMOUBpGSgHAGkEiPv/nP1vFf/Qwm8BQG/x9xP8OgBOIwC0QABAQCEwVjiYWx2m1457QsDaClS5gNpJgAUAXABoPf2nLv6hANBT/HXCXwUAVC0IWiYEEghqcgHLhGBICHBrwiUX4J4DaAAgTQBK9l97+k9N/DUAmJLlbxP/IQBeQADwcgPeLUFtLmAZE9ZAoBQKWgJBjQtQ7QOMCQCL+McWfi0ENv/UP6zDn+EhAJ4nCOQmBBoIlFzAvaBvBXIuQD0N8AZAqf+vOf1bxP9RpoYGwJji9xM9riUAhoBAzaiwNRewTgg8IFBqBXKBYM4F5NoAMwDoGLAVAN7i/8hYUwHAlIT/frHCwan5B+oUgsAYbqB3LpC7V2AICGhaAa0LgCcE1eNADgDcswBSAGi1/y3it4reCwhTFH8/0fMAqIGAJSBscQPe4WBpQuAFgVIrYHEBxTYgFwRyl4LkWgAJAJbTXyt+T9G3AGEoAPQQvk30MgCm5AY0V45ZcgHrhKAWAq2tAHYB6jaglANwDwRxdwFIAGg9/ccWvxYILQAY49SvFz78TMPByfmHCao3CLwfKLLkAtZw0AoBSx4gtQK5iUCuDajKAUoAKPX/2tPfU/gfN1QrBFoA4C3+NtHjCvtz4eMaFAS1kwJLS9ATArWhIF4TzrmA0mYgmwP0AoD29G8Vv0bMnxhKAwQNCHqJv7fwL2RrDQD72BFQGHiAwPvJQktLYJ0Q5CBQEwpqWgHJBajaAMgBhgKA5fT3FvynyipBQQKBBwC8xO8r+iIA1kDg5Qhq3IDlnQSalsA6IfCCgKYV0LgAGgZmcwAJANJ9gBQAWvtfI36L4KmoryirBIQSCDQAqBF/D+HrRa8GQJUbkEDg1RbUuIFcS6B5kKgVAqXRoMYFZNuAnUwOUHIA0hag9vS3il8j+pzYPzNUDgolEFAIWADQKv7+wj+s83MAnJgL/UQeAoO1BZ6vKZPcAG0JNBOCVghweYDUCpRcAA0D90IBANIuwJsz/QTAcvpL4teKPif2q8bKASEHAq0LsJ7+UxD++ZVaAgDXkCDwdgOlNWKuJdA8Q9ACgVwegHcDOBeA9wI4F0ABsK/ZBSgBgOv/ufCvVvw54Uti/7yiJCDkQJBzARQCWvF7nvptgl8DwN5c8LkqQqAFBD1CQssasSUc5CBwVQmBXB7AtQI5F8CFgQsAUBfQCgC6AFSy/xrxa0VPhXytsiQYSCDQQCAHgJ4nv5/oTQA4AsEJZxDUtgW1bkAaF0q5QAkCGAQlCNBQsNQKcCvCdDFI3Qa0ACBn/6XT3yp8Knoq4i8KdT0V92scDCQQaJ2ABIAa8XsKXy/6KgDsZVoEMwiGags0bkBqCbhwMPf8QA4CuTyATgW4pwUlFyC1AeIkoBYA9PSvFX/utOfEfh3VjUJdZ4qDAQWBBAEuFKQuoMX6jyv8w3rPBoA1EJzIQEACQUtb0MMNSC0BlwuUVoclCORCQbogJLkAuh681gaE1AYMDQBJ/FT4+MSnpz0VPBX3l4rKQaEEAg0EOBdQC4Axhf/eSoW9nbmocXmDYOy2wDouzLUEmjEhB4HcZIDmAVIgiF2A1AZADnBAcwAPANDeH5/+nPhLwpdET4V9U1k5KFAQSBDQ5AFaAPQ69dtFvwKAZxQARhhIUwT3tgBA4NUSSG4gNyrUTgg0EMjlAVwgSF0A1wbsJwgccEEgjAJLANCc/lrxS8KXRE9FfctQOSDkQEDbAQoB6gJwG2ARf+vJ7yN4FgDqOnFYWhC4tQVcPtDLDWi3B3MQ4EaE0mRAGg3iVoDLArg2IALgIALgxGzZBlgAYDn9dxEApF4fxM8Jn4qeCvq2sSQgcC0CQAA7gRIEuDbA6/T3EL5e9PUAQGVxBAccDLz2Bywg0LiBmpagBQJcHkBbgZwLwG3AAgAhAeDkbDUHKAFAY/9z4rcInzvlqaC/MlQOCBwIsBPIQYACgLYBWgBMTfjvHlU1AHIg2K8BQW1GYAGB5AZKLYE0JdDsCnyegYCUB9AnBqkLwItBtA0QAYBHgRYA0NEftv5a8VPhU9FTQd8xlgQE6gi0EKAAoC6AywGGFn+96FcBEOZChmoBwY4RBBQGY4Kg1BJIUwIvCNA8AC8ISS4AjwRpG3CUA9QAQHP6c+LXCp8TPRbz18bKwYBzAzkISFMBSxvQIn5v4b9brFUANMJgb1NAkGsLat0AhINWCOBQELcCUiCIXQAeCeI2YGUciCcBEgDwBCAHAPjwY/FrTn1O+DnBf6OsHBAsEOBCwZo2QHP614rfT/QrAPh3LvZ/JQhUwoCbJOxrQKCBgQUErW2BhxuQIEB3BHAoWGoFsAvg2oC1fQAtADj7z53+nPgtwi+J/a6ickDgHIEGAhIAOBdQAoCX+PsIH25/PgKAqXZWywKCYljoAQIvN4BBkAsINS1BDQSkVoC6ANwGrGwFUgDALgAGgDQBwKd/i/g54WvE/q1QGiBwbkByAhwASi6gBgBW8fcQ/jtrVQcAAQZFCChhMBoIpN2B3LiQGxWWIICnAxwEIA+gUwGNCzh6OAjWgukosAQAbP/x6Q99P+75seW3CF8jdG1JIChBwOoCSkEgBoBG/K2nfr3oVwDwdC5iXB4wULcHOxMCgaUt0LoBDQToohCeDOA8wOoCVgCAR4E5ANDTH1t/Kn588nPizwmfivheZUkgsEKgBgDUBUgA8Ba/j/BFAHBVA4OqvCCVCAEKA08QSG0BnRZo3QBtCXLtAAcBrhXIuYC1NoA+GkwBADcC0QkAPf2x9beKPyd8KubvlKUFQQkCEgBqXIAEAE/L7yf6ZZ3TAaAJCgpXIMFgH9UBVC8QaPKBnBvgAkIuF8ATAisEci6AbQNKAMAjQOj/cfgH1h/3/Rbxl4Qvifw+UxogaCAgBYItbYAWADXi9xb+uZUK/8xFKpU7FBTBoTsIuOcNtCCQtgmlkaHkBmogwOUB0ApwLgDaAJoDFAGAJwBg//HpD9YfQr9rgvip5afi50R/v6EkEOQgwE0FvAEg2f8ep3698FUAaIVC6yRBgsAKCDAMtKvGORBo8gEpJKRuoJQLSBDAOwIYArQVwC4AwsCjNoCbBEgA4Ow/Pv1x6AdpPz35qeWXhM+J+YGySiDIQUByAb0A0CJ+L+GfK5YZAC1QqIVBDgRN7UENCKxtAbgBmgvQXQEOAppWAFwAhIErbQCdBGgAAOEfPf3B+sOoL2f7S8KXBP6QKS0MchCwuIAhAFArfh/RrwDg77kAteUNB2ubsNfSHnAwsIIgNzbUQAC7ARoOaiEArQAOBP8TVsPAtRwA7wJQAHD2P3f6W8UvCf9hZeVAUIKAxQV4AUAr/mGFf5j9nLUBoBUKZofQCoJSeyCBAGDQCwS1EKCtAOcC1toACAIpAPAEgAOAdPrfVIifnvqS6B8ZKgeCEgQkF1BqA7wBYBW/t/DPrlUzAFrgYAWCtJq8BoJwWAcWV5BrD3Ig4PIBLiTk3ADNBfDqMIUAzgNwK0BdALQBJgBw9h+f/lj8twzi54TPift7pqwgsLgAaw5gBYBW/EMI/2y2wv/mQqktTzDUZAcsDMJh7aM60MCgNwioG+CmBHhCQCGAQ0HIA6AVABcAYSBuA1YmAQAAvARE+3+w/3D6c9a/Rvw5sWsqBwINBFoA8FkjADzF3y56NwB4gMHqDorLRwkMbiAAGFhAkBsbcm4AtwR4QgAQgJXhW2GZB8BoEFoB7AKgDTjKASQA0AAQ23/u9KfWPyf+nPB/UFYJBCUI5ABwZ7bcCuwBgNzpbxW/z2m/XmeWAPjLWL0g4QEE/CQjB4JF1YwSpcDQAoKcG6C5QA4C0Arg3QDsAtbaAMkB4Bbgg9nS/tec/pz4JdE/FkoDAg4CORfAjQSpC/BuATzE30P4Z1YqWIXfAwxeMKBA4ECwAgQuPNS2B7Ug4NoCcAM0F5AgcJuBAHYBEAY+TQA44ACAtwDPpw8vPv0h+IOFH3z614r/sbFyIChBgAKg1AZIALCEgDgApOIfU/hnxHIHgAcsvPKD3F0HK0Dg9gtyoWEpJ6CbhXRiQNsCcAO0JShBAPKA+8gF/JxcwJ/QBsAloS8kAMQ7Ad+aLTcAYQpwabbs/TXBnyR+bPmp8J8oKwcCDgK1bYAHALSnv5f46097FgB/zgXgVVMBAoVCrkU4AoI0VpRuOS65ApoTlECA3QBtCSAcxBCAyQDkAXEq8ANxAf9LbcDiijAMgDOz5akPe/9Y/Ndm6ws/WvFrhP8jUyUQcBCQXIAVALVjQK399+j1/UTfDQCesKhtHTTuQDNezD2huN+SE0ggoCHhBSMEYisAgSC4AGgDFrcFn0oAeCN9oC7OVk97+houav1x318SPxX+j4bSQEDrAnoBQNP/c+K3pvt9RH+Y/xzWaABocRFdgaC865B9I1Jpy7AEAskNwKhwl4EADgWhFfgxuQAIAxe3Bccc4KUEgHfSh/c2EsvdJAgQg7Trj09/SfyS8H9iqgQBrQvQ5AAWAEibgNoAkAKgx4lfJ/oVAPwx/9APWb3ail5AYN0Bd6MRfllqbtNQCwLODWAIXEkQgB0ByAOgFcAuYNEGxBwgLgO9nj5gl9IH/qcknG9mq70wt/LLOQANAH4qVA0EqAuoBYBlFdgyASid/rXCbxf9qAAYChJal1ACgsodYBicFGAgtQgQGFIQ4LEhuAFoCXZTOBghcC1BAELBe6kVeIJcwD/QBsQc4JX0wz+fPswg9C9n+RaAzv5xC6BxAFYI1LoASwsgLQJxDwNZR4C503984WcB8HunGgoOFqeQA4IIgx0lDDAQTmVggF0BBgHOB8ANQEtwWYAA5AHfp0BQdAFn0wf2o9n6Sz20E4BcBtDqAqQswAMA0iZg7Q6AFABS8VuF7yv21XprUaGX2McChhUKtUAorSWz16JLzkBqDzAIsBu4IEDgyxQK3iWtwG8pC1iMBCEMfDN9AC/M1heAPp+VF4A0QaDFCbSEgSUAwB5AbhXYOwCkp7+3+OtFj6sLAH4r1NCQsLiFUtugAYIKBicUMMAggLYA3AC0BB+mCQGFQMwDHnKtAIwEYyvwRvqwvTfjF4Guz+RJgGYUqAkEPaYBpSmAdQfAq/+XTv9xRa8CQEnEY1VvOJRcgtUh0Bes0BuRWRiUQABuAFqCDxgI3EF5QJwKxMeF43LQ0yDsBbybPsQfIgjAPsDNmbwFSJ/9xyAoQcBrHFjaA7AEgNZnAEqnv+bUbxX+W9UVhhD8f5kaGxAtLUSLQ1jbRuR2DTgYAAheQ23BWdQSUAjcTKGgmAdoIADPA9xIYpEeAvp2tu4IWiFQygByY8DcBKC1/7ee/jnxjyP6Zb05C61CnkJ5QkLrFixOQQuFtdVkCgMOBG+jluBSmhBoIXAAkwFYEJIgAM8EQBZA9wEAAnRCQCGgBYF3/29dAW6d/9PT33LqDyN8qDCG4H9FNUVYaOFgzRQ07QOGwtGDSwgGR64AQPB6cgPnGAjEuwRupcnA/SDsB9BM4MxsNRP4JAkC8oCvZnwQCBCgU4IcBLQlAUCzBqy1/9JdgJL9157+HsL3Fb0IgF4iH6N6QKIXGDAcKBQoEI5uOjqJQPBqygbOplxAA4HfAhkPnk4QeHO2DAYvpQ/9p0kYN5AL4IJADAEABIUAbQlqxW85/e/O9Ol/6QGg2tPfKvx6UVsqbJqw/yPUUNBohYMVEBgMAIQjGAAITic38EYKCC0QiA8MPcMQeHW2HBGeny0fFLqSRAIu4GsGABoI0OcFcjDQil/T+1vDP8vyjxT+5cQ/rvDVAOgt3KmUFyg8s4dcCPl3AkKEweJJxRfSDsHrBAIxGIzPDsTnBm6jHYHHDAQOYFHotfRBe2e2zANwKwCBIO758Y1ANRDQ3AtQEr+l97ee/tbenxN/q833E/5hu/fGOgCmKu5fOlZvaPQKM/9IMIggiMHhIh94yQiBeItQfHT4bw4Cb6cP9cXZshW4NlsGgtQFUBjcmy0teC0ErA//jL36iwHQcuL7CLxUYSzB9xT0GNXbjcDf2c/z+inVzwkc0SH8gyFgdQIYAitPDsJ4EF8YAlOBm8gFgOjoFIBCQHqASHs3oMejv5bk37r5J53+ltPeV+AuABhL4D9vcHn9d+Lf82Re38/r4bwezOvRvH5Mf99/JAgsQkKAwBspGDyf9gTi2nB870B8biC3LbiAAL0/4MJs2QrgQBC7AAjb4LTnpgP4MeLSJaGl5/5rbv7x3PvXnP5aiz+c6LMAGPpE9xLcT8egfhQKfv3xvL6b1615XZ/XnQSCJ+lnEJ1AbAcW4eALjRBYeXoQ5wGXZ8stQeoCvkH/zLkACgHNNeGe135prH/L2i9O/jXiH1bsy3r9qELvE34Kwv5xYvVEqMdCwa//MK+787o2rzfntTuv2/O6n349tgMxJIyTgsUV6C+k6cCbaE8gBwF2ZRgmA5AH4FbgOnEBAABwATgP+Ha23CKkeYDmrUClW39r7v7Pvf5rd1a+90+a++PT3yL8NjHXVOh1uvcUei8B9qjHhfqB1PeFiqf+lXmdm9eHyQlEKDxKf48xHPxfgsCRE8AQiGvD8QGieKlIvFBEem7gaFsQP0IMdwniVuDL2XI5CK/a4kUhECm8m4+2Atr3AeZe+uEpfo/gj4rf47RvE7saAL0EP+QJ3lO0VlGXRP4o1UOhHqS6Fw7tfwTAB/P6JCxbgfvpz/6Fg8BpAwTwyvDReBBfJ3YuiWB3trobACc/CO8OOplBpCBO3AqUXg9eetvP0C/+9BD/OGIvAqDXCd9D7EMJuyRmywn+iBQn8vuovkt1L53yX8/ry3l9lsR/dV435vXVvL5N3+dJ+vn8niAQ9wQOAAKvorVhDgL0uYGjHQG4RwDyANoKAASw6G7PlnsA4A4wHLi3CuXKInxrz98qftr31wq/VdCvmStohd/D0vc40XuJu2TNOYFLJ/uDsC54LPZ7SdDfIuHfSaf/jST8z+f1RfrnW+n33Et/HoSCKxA4QSAQHyCKjxLHS0Xiewfow0OwLQjjwaNQEPKA95JAPp4tbxYGscGVYvAIMX4VF8CBPlpMi77csyR867v+WsQvnf6S+D0Ebxe3CgBTFb2n4McQOSf23AmPBf9Nqq/T6R6Dvpvp9P8iif9aquvp399OX/OdBwTwyvAvgVwmcjp9eHAeAE8Nfo4KuwI6f8cQACF/g+ouKfxrmhN/LPEDAHLCH0/sh/VqGQDe1n5IwfcUuVXskuDpSU9FfwcJ/1YS+A0kflwAgZvpa+6mP+t7CQI7CgjAcwOwKPQfPBmg9wrClWIfJUF9Mlu+WRjuFsRP3NH7BvGlo1BfMwW/hk/7WuF7ip+e/pz4vQT/KvPPbRV6BXleou8teC+hU7FTwUv2XhI9nPg3ksCvJcFfJZWDADgBmgnsl5wAPDwE24JP0HjwaDIAoeDZ2fItQx+mgqvFwBVcmy237cAdwJ2DAAKAAdRXpPCvgeix1eeErzn1e4q/RfDt4lYDYEh73yr6Fivf62TXiN5D+DH8u5LqM1QAAgoB3A7Q6UDWCcAThLAyjHcEFuNBeOEorAu/PVu+ZBS/afhjdOJCwe3D1xAIwCUAEDAUoG7OVkWPT3ut8Eunfov4AQCc+McW+yupGAAcB9F79uwtJzwVPBU9tvol4YPdx8L/lNSVsAoECgHIBB6mv0fYEzhaFpIgsEsg8C3aEYDx4NEzA/DgELxy/EwSCrQGl1FBm4CvIQcQYBjgIBGLHZ/0WPTU6muEL5362p6/JH4vwb/SsQQADCX8FnvfM6hrOeWx6Dnh41NfEj6c+nDCg/jj6O/jVJ+gAiAABL4Iq8HgPQIBdmNQgsB1tC34iI4HoR2AV49Djwr3CbyXxPT+bNki7CYxUhDgVgED4Tr6Zyp4ED0+7anV1whfc69/rfinIHS5grfwe/b1Q/TyGsGXRI+Fj+0+TvVxuEeFT099EP5HpD4Oq0AAV3A1LEeEt9Of+2367/sh/RzhKcKnGAKvMBD4DEEALwoBBI6uFYtu4NRs9WahM0k0cLnIReQKwA18ikCAYSAVFjwnenzaU6ufs/ulW301aT8W/5hif5lUAQBDCL/HaT9kgMeJXiN8rtfHp75G+CD+uPt/Of1fKAoDAMFn6fvCnsCdsDohiD+zXwPzABGGwEUEgRsMBP6bgsF/khtYtAWwL/ByEgJkBBIEwA1ARgCC/oypK7NVwXMnPRfuaYRfutMvJ37a67eI/eUBCgFgTJvfI8xrtfitpz0VvmT5ObsP/Tw99UH4sT5MBf8swQDcAG4JcC7APUq8p4EAXhmGYPD3FA7+nWBwAPkAvWz03SQ4DIFdBAKAAQYCFjo+4SXBU9FLVj/3Fl966mvCPir+sUWuq3AchN8jvW8RPhU/DvpKIR+1+yD+KPoPSJVgAG7galh1A7A1CKvDa/cJcBCIF4pcJRCAl5D+ktzA78kRrFwsgq8YAxfwfhIljAxBwB+R+pj5d7szneCp6LkeX7rDP/c8v8byt4r9JaGsX2MEQO9lnTFDvRbha60+Fn5O/Jpen576UfCXmMIgoDAAN/BJWLoBmBLcCctcAB4i+j0ITiC+fOQSggB+eAjuEvg5LQzBbcMr14u9KgDgg9nq7kCpPpyti70keEn0ueu7JeFzll868WsE3rsEAGxasOeR5nsIP3fqe4gfn/pR7Bfn9X6qi6kkEAAMMAiwG4ApAeQC8WfxM4LAUSYQpwPx5SPxajG4S4B7jPhJcgL4PoEDfJ9ACQC0PpjxIsdCx2LnBF8Sfe76Lk740qmfE/1YYtdVGHNT77gIv1b8IPyc+EH4IP4LqDAIPgjrbQIHAuwGYErwDYJAdAKxHVgEg3FjML6fML6FKN4vGC8UKT1B+J/UCqw8OwAAgGWhiwgAktBLIqdC58QuvaCzJPpSnw/i54SvFd+LHasRAFMTfq9wT9PnW8TPBX5Sz59L+an44dSPoj+PCkPgEhI7fC2FAYDg47DaEtxCEIg/u5gJxD2BoweI4k3D8Wox7jFieHjoQVjNA+KIcPEEITw8BDcKXRDEX+rZscCpyLVv4uVu6eWe2y8FfJz4hxS4HxCCZ7h33Pr8WvHjUZ828MuJH078KPr3UGEIAAB20//FrQF1BACBT8OqE7ib/m7j5yBuDMZ3DxyFgtAKvJt2BAAC8PDQXbQoBCvDexgAcLswrAlz4peWcXIC17x+S7qRl3tkl1vhzYV7XoI/TWoYKISpCn/sU79F/PQJvmuN4ocTP4r+XVQYAtAGXE7fE0MARE8LO4Ev03/Dd2HZCsQdgcW2IHYBZ8LyjcQYArdTK/AYtQHPAACvz5Y3C+Pe3+MVW9q79nPP50s7+7kenxP+6ZHLDoJQEn+vp/GGfiin5dS3ip/r+z1O/ij6d1JRCFAXsBtWW4HLYX2FmOYBX6W/k/jzgUBwsSm4g7KAtxIE4I3EEAxeS4tCD8PyjUOLJwdfTKKDF4zg4A8AAOK3XLNVc7lm7qm83LZeyeZzYnyBKcuvDwOEsAkP6LTu6vcWv9b6c+LXnP5U/LgAArQVgO+PIQD/Hosf1obBAcCtQnE6FNuAOBFYrAq/mNqANxIEYjsALyO9mCDwRcoDHicALCYBLyXxwnsG8UiPil+6YUf7mG3t03e5EV6ury8Jukf5QiFM2e5PXfxDWH8q/nOoMACkVoALBcEN4JVh2BSEHCB+DuKq8MqTg/BK8tcQCM6gcPCj9NzAvZQDLADwchI1vG4cFnjgJRvn0akPwtcu3LTu1mvGdjmLj4V5qqHGg0IY4tSvEb6H5fcWv3T697D+tO+n4gcAUAjAVIDmAXiRCNzAblheLvpF+t//dfp7iz83eGgo3iEQ30a8eOPQC8kNvExAAAHh5bQtGMeCeztJtO/Nlk8C7jLiP8cIHy/alKx4afmlZTRXOuVbhD8+FMLU0v2ep76n+C2pv2bFt3T6nxNKggDNA/Cfg8eC0BJcDfJIEMLAxSvJQ3IDJxMQXkyu4PVUb6WtwZtpHLgQ4AUk/g+T+MHyn0XCp6LnwrZW26v5/ZKoJLGebKj0PfYL1QyIDACm3usPLX7t6d8r+MPjPgqAs6m4VkDKAygEOAB8FngXAGFgdAExD3iaYPAsAWHhDEKaFJxKYHghZQN3IAiMAIC+/2I69UH4bzCix2KVxEcE5HaS5r5X+jP3U62J+QRTCggsvp8CAiIY6l1C6HHqDyF+i+W3jPq8T/8rwSf4owDIQQDnARQCl8P68wKQBQAAYBwIbcCvCQJxQzC6gb9I/Q/9/3+m37dwCmdSILgQNqwBv5OE/zoR/GkiQEZU+5qSBCqdpMZTHH//fU7whto/aSx/IIShTv1NEX/N6c/d4Wc9/bX2/2zgIcC1AhwE6IUi9EEheFoQXyUWIQCvLf8vKfzq8vj7nqTPCNw+tHgb0QO4I+DtJPrTSHRRDDuHtY8rrNaeUEe/Z4epDCiqBJv7fjtCab5XBxAooRDGPPW9+v0hxV86/b2SfysArBAA4XPXiOHLQx6lz8WPSeD49ijYIXkclq8tv4/+3uPXRnew2Bn4LQn2aap/Uj011r9MPUPFAmJHUSd0v2cP/b69E6tfd6CoEpjMYGiDQegp/CH6/Rrx9+79ryrEr7H/GgBIrQBeF+aeF8AQgCcE6YWi9xAE4FTHnxf42VPh3w3LV5XBPsFiaQg2BeHRYbhD4I/0BOGfaYX4r/QsAa2/Sf3DgIQDg+Qe4pSiVBgA2t+3eAYCF+dwesDA2iqcmoUWuz9l8Xud/pp9/9a5vzcAqAugzwzgESG3EISvEAMIPGR+tvDzwm83AvFDhhDbg3930pjwStoWvJ/GhE/SswO/ICD8N7mF3xEc/iCQ4EBBocC5hmdc7ch1JHAGFiu/J6z+Xtq+HJRaFQsIfFuGMKTwpyx+CwC0N/xYR38aAFjaAAkCdE+A3iEILgAuE/0O/Syk9xnC3y8AAwLEGAouHit+K60Nfx6WV40/SCCIruDHBIOfERB+JVD4TYADBwUNEI5qZ72ehUxhUJTaD6m0bUlfGATPkM+73/cWfw0ALFt/HvafA0DOBeT2AmgrID09iB8KolnAN0jYuZ8D/PODsLx0NIaEi1XiUykMjNuC8NwAvH4stgUPEQieMDAAIAAUKBg4IFgcgiVnkLIHWqPAwAIEAQBTOfWHFr8VAK3hXwsAcsU9J1ByAfi2IPzGYXABYOslCMDP62FYvpMQLhZZrBHHvYC4MfhucgH49WNfJzdwH4HgBwYGOSBQl6CFAc0RcmD4V1klEBSB4AmDMhDCFC1/D/F72H8p/Kt93n8IAFAIaNoACANzLgD/rB4Q8cPLR45WiOPbh+KWYHxmgL55KG4MxoWheJ/AvQwIOBjgdoGDgcYZlICgnVZoYGAGQn8QhDEs/9TErwGAZvYv2X9LACgBQAsBCQClHAC2AWEfgLYBEAjSPADCwfhZwTsDR3cLYgDAtWLwCDG8dCRC4KvUEnyb2oIHBATUFeScAW4TJFeAYZADgtUpWGCQnVDUOAN7bhB6nPo9xD8VANDXeXF3+1se+5UAUAMBTvw1AMDTANwGYABw4o99f7T+K28dgvcPxgeH4IGh+PhwfGgoXiZylUAAWgJwAxEEjwQQAAwsLUIpQKwZQeag0NoqcKNLRxCEqYj/uzCe+LUAoC/ytPb/HgCQQMDdE6DNAOhloVIOAADA4of9gCj+aP1hbXjlLcT4MpG4FHQhuYD4+HDMAz5nIAAtAXYDGASPDY4glxVwMKBAKDkES8vQ0ibk9hgqYRCOu/g9AJBb/rH0/5rbfjkASBDIVan/L+0D0HEg3gl4EFZP/tj3g/WH0z/eJ7jo/+FmYXj5aMwB4BKR6AJiK3CFQCCOCWMugFsCcAMeIODaAy8YtLgDDxgYQRCG6PenLn4rAKT+3wsArRDQ2P/cViAGALxclC4Fxc/LD0j80frD6R8fCnoKADiJABBHgfEWIbhTMLqA3XDYCsQ84FoGApIbkMJCCwhyroDCoDU74GDQGiBWtQkEAL1O/THF3woA7fafZQLQAgANCKj48enPAYA+G2ABALb+cPrH0R/Y/30OAPg+wegC4sWi0AoABG4wEMAtgeQGciDAUwMLCDTbiFxuUBMkavMCNQzKIAhTDPtK4vc+/bUAyAWANQDg7v3XQqBUud6f3gqErwfDGQBtAaD/h96fO/2j/Y/p/+KdArHg0hC4TxAAENuAOBKMl4dAKxAhcFWAAOQCUksgtQUSCLgRIgaBBQatAeIQ4aEEgOMqfi8AcP0/93bf2vf8aQBgBQH+Gun0h/4/BwAcAsJKMAAgd/ov3i8Yxb/DACBOAmIOAG0AuIDdsMwDIgS+IBDA4SBuCTg3oAFBbpdgKFfQMkmodQVaAPSw/FMV/xgA4NoADQRyMKC/hzv98WvEcP+PAQB7AAAAWASCOwKo/Y+nf3ziD8K/o/4fAPASAQDkAOeJC4itwCdhGQpKEKC5QM4NeIGAexahJwh6ZwVptyAM1e8PKf7eAMATAC0AcqvAHADoa8DeMxT+Oun0l/p/2ASki0C0/8f2P57+YP8jAI76/zgBeIEA4K0EAGgDwAV8gCAAeUAJAhY3oAVBKSMoPZjknRN0BkHYFPH3PP2HBgDXBmggUIIB/X058cPpn+v/uQCQ9v/Y/sf0/58cAODSUMgBqAvArYAEgVsJAjgclCBQAwJtWGgBQW6MKIGgNjQ0bhyGKYh/7NNfgkBpBKgFgBQESi5AA4Fc4a/F1p/2/rmbgegSEA0Acf//W1jt/59pAAA5gOQCoBW4WoCAlAtIbUEJBFxb0CMsHCMwZEAQevb7Y4h/6gDg2gANBDQwoMLnxM+d/pz9h0tBcP8Pj/pK/X8EwNOAJgAYAHB1OAYAtAHUBXAQuFaAQM4NaECAIVATFLaEhTU5gdNzCGHq4h8LAJqHgEoA0LQBJQhIIJAKf50k/tzpj+2/pv/H4781AMAV4RgAcRcAgkDcBoAL4FoBDIHrBAJ4TMhBQGoLNBMDrRuwgCC3VNQbBAwMwnETf08A4B2AEgA0LoBmARgCHAgkGNDfg4Uvib90+nMrwNz8nwaARxMADQBwG4BdAG4FaB4gQUAKB6W2IJcPYAiU3EBpdDgUCCpHiGErfpsDKC0CcW2AxQVQCEgg4Ap/TUn82tOfzv8BAHj+D+u/IgDg7UGvIQDgNkByAbgV0EJA6wZybUGNG7CAoLYt6PAgUpiq+McAAIaABgDwLIC2Dci5AA0INIWFnxM/JP/a07+0/qsGAH6pKG4DsAuAQBC3ApAH4MmABQK5kDC3P4Ah4AGCHvlAgyMIx0n8YwBA2wZwLgBDIAeCHBDo78HCz4kfrD93+msAAP0/TAAAAPAOwTUAcC8ThTaAuoBcK0AnA1oIWN1AzaRAAoHWDYwAgnCcxD8VAEguQIKA5AYkEEiip8LPiR+sPz39NfYfB4B0BJgFAIwCcRugdQG0FbBAoMYN1GYDnmPD3nsETxMAtuKXcwANACQXUGoFcm6Ag4FU+Guw8LXi15z+sP+fmwCsAQBeGHqaAQBuA+hIkHMBu2HZCmAIwHgQIPAlgoC2JahxAxIEtNMC62pxp4wgHBfxewGAugAJADkXUIIAB4LLgXcEmqIv/MTvAOTED30/WH/c+3Onf67/VwMAJgG0DaBhIHUBNBDk8oAaCEiTgpaAUJsNlNyAJR9obA3CVMS/CQAotQG5VkADAQkGpcJfi4VfEj9Yf5z8c9d/UfvvAgDaBpRcANcK4DyAg0AuFxhqXNjiBgYAQagRvlb8m3j6cwCwugANBDgQcDDQFH3jLxZ+Tvyc9cenPw3/pP7fBIBSG1ByAbuBbwWsEBgqF6hxA7m2wGN0iEAQjoP4ewKAawM0WQAHgZwb4GCgLfz1kvCh56fix8GfdPpj+88B4K8SALggkLYB3GJQzgXQVsAKAUsuUBoV0lygJSAcOB8I3pZ/DPF7AwAgwAGAawOsEJAcAQeEUuGvxcKvET93+ufsPx0BsgCgkwBNG4AfEsIuAAeCtBXgJgNWCHguDrW0BBQCtfsDChCE4yD+XgCgOUDOBZQgkHMDEgw0RUWPhS+JH4/8sPXXnv64/6dLQFkA4BwAtwG5kSDnAmggSCFAXYAEgdpwsOb2oZrlIS83kMkHwnEQPwWA52pwyQWUIKABgQSEUlHRS8LPiR+/+Sd3+kP6D/YfB4AiAHYQALgcQGoDLC5Amwd4QKCUC1AIcCDQLg9Z7x6obAvCGOLvefp7uodSGFgDAQ4EEhCkol+HRf85+jOp8LHtB/HTl3/m7v0H+88FgGoAQA6A24BSGCi5AICA1ApweYAGAh4TAo+A0CMkLIAgDBn29T79vVsIKQzUQkALAgkIXNGvwd+PCl8jfvriTzz3x2/9ofafCwBFAOBJAM4BpDZAGglqXMBYENDeQ9jqBmohIIAgbLr4e7YSrRDIgYADAgcFSeyc6CXha8VPrT+c/pL95wDwLAcAGgRq2wD6pCDnAnpDQBoTajYHawNC650DFW4gbMVvcwK4FchBoAQCCQjawt8Di/4G+vOx8DXix9Yf9/749Af7T/t/mAAUAcDlAJY2QIIABcDYEBizJTCAIGzFr4cAdgEUAlYQSEDQFP0enPC5U78kfu70h94fn/64/1cDgE4CuByg5AJyAMi5gF4Q0E4IvANC7bhQAYIwhPg3DQAcCLhWIAcBDgQUBhwQSkW/nhN97tTHgR8nfu3pLwWARxeC5gCAg0BrG1ALgc9DflFoCAi07gzUuoEMCMJW/HoQaCEggYDCQIKCVPTr8PeVhF8jfhz8cac/tv80AFQDgOYAkguwAEADgWuVENBsDWruHhyqJVC6gbAVv78b0MIgB4Wc2G+S74lFLwnfIn7p9MfhH7X/eAIgAoBOAmraAIsLKIWCmwYBzQahEQRhK35fN5ADAYWBBIZbhaLfUxI+PvVrxA+nPx790fQfAwD6/30QP2wClgAguQAOADWtwBAQ6BEOtrQEynViFQC24te7gRwMOCBYi34/LHoqfHrq14pfCv+4/h8AsD8HwD4HADwKLAHA6gJKeUAPCJR2BWoh4NESKCBQBMDzKH7Nf1fuFiEJBhwQLEW/F/5zpBOfnvot4qf2n+v/VwBwUgCAFARyAKhtBSQIfBbk8aAnBKwvJtFOCDQtgeEJQ3cAjC3eGrGXhF8DAg4GHBAsxQmenvZU+PTUz4kfA0Ajftr/HwEgnf6iA7C0ASUAlFoB63iwNwSGbAkUk4LwPIq/xtVYQMDBIAcFTXGC1wofn/oa8WtP/xIADjwAYGkFakLBTYFAbUtQgEDYit8fBhwQSmDgSvoe0n+PJHx86vcW/xEApBBQAwCNC2jJAzQ7ApsIgYpxYdiKX1dWUGoCxFKV/hvw/w7Y5ygJn+v5c+I3A2CnwgF4uABrHjAEBLQLQ7W5gMPiUNiK3y76mtzE638vJ3pJ+Njug/C14ree/s+S+Pfw6a8BQK0LsLYCHASkyUDpLoFjBIHwPIi/BgBasWs3Kb3+7JzoqfCx3ecsv1X8WQAg8R+FgCB+CoBSG2B1AVIrYAkFpw6BTqPCsBW/TfiaS1NbLlWR/gx6eWtO9Jzd5/p9Kn6p75dO/xX7v7Nq/6P4WQDkcgCuDZBcgKUV4PKAKUPAc1RYgEDYil9/4teI31rSOxroS1wfBf605+y+ZPlL4uesPz39af+/d4KMAGkLoG0DLC6AawW0eYBmMtATAt4tgXFCELbi9xF+6Q1LmnqYqUeBF73U4+MTXzr1JfFzfX/29A+MA5AyAAwAqQ3gwkDqArStQA8I0MeIx4BAy3MECAQmAIwt6B4AaBF/i6C1Qqdipyc9J/xcr0/FT3v+Ut8vnv4B9f9SCEiDQM00oOQCtK2AJg94DiGgBsDYYh769Pey6iVxl8SeE3xJ9PTUlyw/J/6c9V9L/8PqCvCBBgClNqDkAmpbAU0e0AsC2icJB4SACgBji3nTxd8idir4FuFzpz4Vv3T6awFw9BgwBUBuElAKA60uQNMKWCBAdwSOEQSKABhbzFMS/5DCzwme6++x6LHwa8Qv9f45AOxTANBNwFwQmGsDchMBzW5ASx5gWRRqhUDuScKOEAhb8Q8n/l7C5058LHyN7afi505/rv+nADhqATAAtEFgrQuwtgLWUHBsCGifJtQ+SIRAEJ438UsAGFr8VuHXnvpU/NyKryR+MwDIIhALAG0OUOMCSq1AKQ/IhYJDQ6DkBpwgELbizwPAIn6t5fc+9WvFbwUAtv9rGQAzBlzbBdDmAFIYqB0LWluBGgjQRaENhUDYin9zxF978g8JALwIBNuA+yD+ljagxgVYRoO5UDA3HtxwCIRNFn/Pvr9V/N79vub07yn+HACeIfEf1ckMAIZ2AZZWQIJAbjw4NgRq3kj0EwHA2ELeir9N/CXr3w0AO6lOrAJg/+RqsQDQTAM0LiA3FsQuIDcabIUAHg9OHQIIBOF5Fb/2oZseAKgN/Fqsfw8A/IsBQBzA/gkjACxtQKsL0OQBGAKW8SD33MDQEKCvK89AIIwt5CmJf5NO/97iNzsA0gasPBEoBYGtbUDNWNCaB9SMB6cEgcINQ8cWAMdZ/EOe/qYMgALgRAYAXA5QGwZaA0FrHuAFAXyr0EQgsHEAeF7Fr930y4nfw/6vtQAUAGQMKI4CcwDwdgHWVqAEAe2OwAZAYKMAMHTf7yn+KZ3+rgDYYQCg2QXI5QA1YaBHK6DJA6w7AiUI3B4XAhsDgKH7/qmKf9MAcFDaCMzlAFwboHUBLa1AKQ+w7gi0QoB7lNgJAscKAM+r9a+1/80A2MkAYCcDgFwQyOUAXi6g1ArUQkCzIzBRCGwEAHpe7DG2+Gutv+fp3w0A9LHgmhxgKBdQmwfULgpNBAKTB8AURn5e4p/66Z8DwNoUYGcVAM9qHIClDbDuBXAuwNIKWPKAXhC40x8CkwaAh/iHCv68+/4xT383AGAHYMkBNGGg1QV4tgIcBKRQ0LIyPAIENh4Anta/5+nfYv21p/+YABBbAM82oNYFtLYCtaHgBkBgsgCYgvU/Dqd/i/3PAiAUpgD0YpAebUDOBXDLQa2tgDYPKO0IWB4e4iCAx4ONEJgkAHpa/00I/mp6/94AMC0ClQBgmQZIEMAAqHUBNa1ATSg4YQhMDgBjiF8LgCFm/h5z/8EBEJQAaFkKKrkA7YqwdysAECiFgq0QwJMBRwgcSwBYr/falNO/xf73AMCzsH4zMAuA2jZAsxPQwwVoWwFtHqBdGR4BApMCwPb09w3/xgAAvhvQDQC9XUDPVmDiEJgMADyu9pr6xt8Qp78GANwEwBUAqUwA8GwDaseCvfOAoR4jNkBg4wDg/RqvqS795E5/L/tfMwI0AQBDQAJArQuwAECzHDRGHtDzCcIcBNDbiScBgClbf6+xX6/Tf2MB0LsNsLgALhAcKg+ogYD2CUIOAsQNjA6A42j9xzr9hwAAOwGwAGCoHKDkAnKB4NB5wIgQGBUAvcU/ldP/xzDt078HAA4oAGqCwF4QsAaCta1ADQR63CWQgcBGAMDb+h+X3n8jAIAhYA0Ch3IBmkDQ2goABHJ5gDcEuJXhAgRGA8Amnv5jJ/9a++8h/kEAYGkDNqkVqMkDRoLAKADwEn9PAAw195+q/XfLADgAaNqAni7AqxWw5gHaULDHY8QCBAYHwCaIf2v/HacAGABebcAUWoEh8gDvJwgZCGwB4AiAVvs/Rvo/OgCGDgNbdgPGyAO8Hh4SIDAoACzi7wEA7eu8p7D2e+wB0NoG9HYBmt2AofKAjhAYDABW8W9a+NcbAFr7PyQANDmAuBJcuxXY0wUM2QoMAQHuuQECgUEAUCP+KQFgiM2/4wyA4qPBrW1AbxdgmQpoWgFrHtARAt0B0EP8U3vkd2j7rw0AJwEA6XowLQB6tQFjtQIAAS4P0ISCXk8Qfs0A4G6qqQNgava/9+lf2/8PCQApB8AAEG8K9mwDPFyAZTdA0wrUjAa1oWAjBAIW/lTEP9aFH5to/7UB4JQAsF8LAK82YMhWYIg8oOYx4gSBcNzF/zzZ/8kDQHppqASAMVyAZytQOxqsyQNqnhu40xEAU7H/2tHfVE//HgFgbwCsQCADgPjq8H0rAGpdQO9A0NIK5EaDNXlAAwRCL/H3GP1tYvg3xf5/agDY1wCgNgysWRG2QkDjAnrnAZUQCL3E/zzM/sc+/T36/9EAcJJUDQBq24ChXECP0aAmDzBA4P+VFjdDGzzCXwAAAABJRU5ErkJggg==' style='width:256.0px;height:256.0px;' /><div style='position: absolute; top:0; left:0; padding:1px 3px; background: #777; color:#fff; font-size: 90%; font-family:sans-serif; '>snapshot</div></div>"
      ],
      "text/plain": [
       "CanvasBackend(css_height='256px', css_width='256px')"
      ]
     },
     "execution_count": 1245,
     "metadata": {},
     "output_type": "execute_result"
    }
   ],
   "source": [
    "vertex = \"\"\"\n",
    "    attribute vec4 color;\n",
    "    attribute vec2 position;\n",
    "    varying vec4 v_color;\n",
    "    void main()\n",
    "    {\n",
    "        gl_Position = vec4(position, 0.0, 1.0);\n",
    "        v_color = vec4(color.rgb,1);\n",
    "    } \"\"\"\n",
    "\n",
    "fragment = \"\"\"\n",
    "    varying vec4 v_color;\n",
    "    void main()\n",
    "    {\n",
    "        gl_FragColor = v_color;\n",
    "    } \"\"\"\n",
    "\n",
    "vertexBuffer, colorBuffer = buildGLBuffers(uv,f,xMap)\n",
    "c = Canvas()\n",
    "c"
   ]
  },
  {
   "cell_type": "code",
   "execution_count": 1246,
   "metadata": {},
   "outputs": [],
   "source": [
    "img=c.render('triangle_strip')\n",
    "vispy.io.image.write_png(\"xMap.png\", img)"
   ]
  },
  {
   "cell_type": "code",
   "execution_count": 1247,
   "metadata": {},
   "outputs": [
    {
     "data": {
      "application/vnd.jupyter.widget-view+json": {
       "model_id": "65f50e77acdc49a788890a636a5ac1b2",
       "version_major": 2,
       "version_minor": 0
      },
      "text/plain": [
       "RFBOutputContext()"
      ]
     },
     "metadata": {},
     "output_type": "display_data"
    },
    {
     "data": {
      "application/vnd.jupyter.widget-view+json": {
       "model_id": "cc1718e59dc74a5dbd25d4cfa907c317",
       "version_major": 2,
       "version_minor": 0
      },
      "text/html": [
       "<div class='snapshot-cc1718e59dc74a5dbd25d4cfa907c317' style='position:relative;'><img src='data:image/png;base64,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' style='width:256.0px;height:256.0px;' /><div style='position: absolute; top:0; left:0; padding:1px 3px; background: #777; color:#fff; font-size: 90%; font-family:sans-serif; '>snapshot</div></div>"
      ],
      "text/plain": [
       "CanvasBackend(css_height='256px', css_width='256px')"
      ]
     },
     "execution_count": 1247,
     "metadata": {},
     "output_type": "execute_result"
    }
   ],
   "source": [
    "vertexBuffer, colorBuffer = buildGLBuffers(uv,f,yMap)\n",
    "c = Canvas()\n",
    "c"
   ]
  },
  {
   "cell_type": "code",
   "execution_count": 1248,
   "metadata": {},
   "outputs": [],
   "source": [
    "img=c.render('triangle_strip')\n",
    "vispy.io.image.write_png(\"yMap.png\", img)"
   ]
  },
  {
   "cell_type": "code",
   "execution_count": 1249,
   "metadata": {},
   "outputs": [
    {
     "data": {
      "application/vnd.jupyter.widget-view+json": {
       "model_id": "69941df063fb493f971e1211265f8298",
       "version_major": 2,
       "version_minor": 0
      },
      "text/plain": [
       "RFBOutputContext()"
      ]
     },
     "metadata": {},
     "output_type": "display_data"
    },
    {
     "data": {
      "application/vnd.jupyter.widget-view+json": {
       "model_id": "861e0ac02a3046c6a1002e21f6b5ddd9",
       "version_major": 2,
       "version_minor": 0
      },
      "text/html": [
       "<div class='snapshot-861e0ac02a3046c6a1002e21f6b5ddd9' style='position:relative;'><img src='data:image/png;base64,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' style='width:256.0px;height:256.0px;' /><div style='position: absolute; top:0; left:0; padding:1px 3px; background: #777; color:#fff; font-size: 90%; font-family:sans-serif; '>snapshot</div></div>"
      ],
      "text/plain": [
       "CanvasBackend(css_height='256px', css_width='256px')"
      ]
     },
     "execution_count": 1249,
     "metadata": {},
     "output_type": "execute_result"
    }
   ],
   "source": [
    "vertexBuffer, colorBuffer = buildGLBuffers(uv,f,zMap)\n",
    "c = Canvas()\n",
    "c"
   ]
  },
  {
   "cell_type": "code",
   "execution_count": 1250,
   "metadata": {},
   "outputs": [],
   "source": [
    "img=c.render('triangle_strip')\n",
    "vispy.io.image.write_png(\"zMap.png\", img)"
   ]
  },
  {
   "cell_type": "markdown",
   "metadata": {},
   "source": [
    "## Discretize the Control Map with an Error-Diffusion Dithering Algorithm\n",
    "\n",
    "- Using a dithering algorithm on the control map, we generate a set of sampling points for creating the new set of vertices for the remesh.\n",
    "- Code is a modified version of https://github.com/10mrohit/floyd-steinberg-dithering by 10mrohit on github\n",
    "- Made to work more like  \"A Simple and Efficient Error-Diffusion Algorithm\" by Victor Ostromoukhov\n",
    "\n",
    "  Dither() is called like so: ```Dither(\"controlMap.png\", output=\"discreteControlMap.png\", level=75, intensity=1)```\n",
    "\n",
    "  - Set ```level``` to an integer from 0 to 127 and adjust if necessary to reduce artifacts in the output - it selects a set of coefficients from a hardcoded list of 128 smoothly interpolated sets.\n",
    "  - Set ```Intensity``` to a float at or around 1 to adjust the number of samples. Any values under 0.95 will start to create a lot of artifacts and you are better off adjusting the input control map to a smaller size if you want even less samples."
   ]
  },
  {
   "cell_type": "code",
   "execution_count": 1251,
   "metadata": {},
   "outputs": [],
   "source": [
    "from math import floor\n",
    "from PIL import Image\n",
    "\n",
    "import os\n",
    "import numpy as np\n",
    "\n",
    "class Dither():\n",
    "    def __init__(self, path, level=1, intensity=1, algorithm=None, output=None):\n",
    "        self.distribution = np.array([\n",
    "            [13, 0, 5],[13, 0, 5],[21, 0, 10],[7, 0, 4],[8, 0, 5],[47, 3, 28],[23, 3, 13],\n",
    "            [15, 3, 8],[22, 6, 11],[43, 15, 20],[7, 3, 3],[501, 224, 211],[249, 116, 103],\n",
    "            [165, 80, 67],[123, 62, 49],[489, 256, 191],[81, 44, 31],[483, 272, 181],[60, 35, 22],\n",
    "            [53, 32, 19],[237, 148, 83],[471, 304, 161],[3, 2, 1],[481, 314, 185],[354, 226, 155],\n",
    "            [1389, 866, 685],[227, 138, 125],[267, 158, 163],[327, 188, 220],[61, 34, 45],[627, 338, 505],\n",
    "            [1227, 638, 1075],[20, 10, 19],[1937, 1000, 1767],[977, 520, 855],[657, 360, 551],[71, 40, 57],\n",
    "            [2005, 1160, 1539],[337, 200, 247],[2039, 1240, 1425],[257, 160, 171],[691, 440, 437],[1045, 680, 627],\n",
    "            [301, 200, 171],[177, 120, 95],[2141, 1480, 1083],[1079, 760, 513],[725, 520, 323],[137, 100, 57],[2209, 1640, 855],\n",
    "            [53, 40, 19],[2243, 1720, 741],[565, 440, 171],[759, 600, 209],[1147, 920, 285],[2311, 1880, 513],[97, 80, 19],\n",
    "            [335, 280, 57],[1181, 1000, 171],[793, 680, 95],[599, 520, 57],[2413, 2120, 171],[405, 360, 19],[2447, 2200, 57],\n",
    "            [11, 10, 0],[158, 151, 3],[178, 179, 7],[1030, 1091, 63],[248, 277, 21],[318, 375, 35],[458, 571, 63],[878, 1159, 147],\n",
    "            [5, 7, 1],[172, 181, 37],[97, 76, 22],[72, 41, 17],[119, 47, 29],[4, 1, 1],[4, 1, 1],[4, 1, 1],[4, 1, 1],[4, 1, 1],\n",
    "            [4, 1, 1],[4, 1, 1],[4, 1, 1],[4, 1, 1],[65, 18, 17],[95, 29, 26],[185, 62, 53],[30, 11, 9],[35, 14, 11],[85, 37, 28],\n",
    "            [55, 26, 19],[80, 41, 29],[155, 86, 59],[5, 3, 2],[5, 3, 2],[5, 3, 2],[5, 3, 2],[5, 3, 2],[5, 3, 2],[5, 3, 2],[5, 3, 2],\n",
    "            [5, 3, 2],[5, 3, 2],[5, 3, 2],[5, 3, 2],[5, 3, 2],[305, 176, 119],[155, 86, 59],[105, 56, 39],[80, 41, 29],[65, 32, 23],\n",
    "            [55, 26, 19],[335, 152, 113],[85, 37, 28],[115, 48, 37],[35, 14, 11],[355, 136, 109],[30, 11, 9],[365, 128, 107],[185, 62, 53],\n",
    "            [25, 8, 7],[95, 29, 26],[385, 112, 103],[65, 18, 17],[395, 104, 101],[4, 1, 1]\n",
    "        ])\n",
    "        self.intensity = intensity\n",
    "        self.distCoeffs = (1/np.sum(self.distribution[level])) * self.distribution[level]\n",
    "        self.path = self.get_path(path)\n",
    "        self.algorithm = algorithm\n",
    "        self.output = output\n",
    "        self.func = self.get_func(self.algorithm)\n",
    "        self.func(self.path)\n",
    "\n",
    "    def get_path(self, path):\n",
    "        if path.startswith('/') and not path.startswith('~/'):\n",
    "            return os.getcwd() + '/' + path\n",
    "        else:\n",
    "            return path\n",
    "\n",
    "    def get_func(self, algorithm):\n",
    "        return self.floyd_steinberg_dither\n",
    "\n",
    "    def apply_threshold(self, value):\n",
    "        return 255 * floor(value/128)\n",
    "\n",
    "    def floyd_steinberg_dither(self, image_file):\n",
    "        samples = 0\n",
    "        d10 = self.distCoeffs[0]\n",
    "        d01 = self.distCoeffs[1]\n",
    "        dn11 = self.distCoeffs[2]\n",
    "        new_img = Image.open(image_file)\n",
    "\n",
    "        new_img = new_img.convert('RGB')\n",
    "        pixel = new_img.load()\n",
    "        \n",
    "        x_lim, y_lim = new_img.size\n",
    "        \n",
    "        for y in range(1, y_lim):\n",
    "            for x in range(1, x_lim):\n",
    "                pixel[x, y] = (int(pixel[x, y][0] * (1/self.intensity)),0,0)\n",
    "                \n",
    "        for y in range(1, y_lim):\n",
    "            for x in range(1, x_lim):\n",
    "                oldpixel, _, _ = pixel[x, y]\n",
    "                newpixel = self.apply_threshold(oldpixel)\n",
    "                pixel[x, y] = newpixel, newpixel, newpixel\n",
    "                error = oldpixel - newpixel\n",
    "            \n",
    "                if x < x_lim - 1:\n",
    "                    value = pixel[x+1, y][0] + round(error * d10)\n",
    "                    pixel[x+1, y] = (value, value, value)\n",
    "\n",
    "                if x > 1 and y < y_lim - 1:\n",
    "                    value = pixel[x-1, y+1][0] + round(error * d01)\n",
    "                    pixel[x-1, y+1] = (value, value, value)\n",
    "\n",
    "                if y < y_lim - 1:\n",
    "                    value = pixel[x, y+1][0] + round(error * dn11)\n",
    "                    pixel[x, y+1] = (value, value, value)\n",
    "\n",
    "                if pixel[x, y][0] == 0:\n",
    "                    samples +=1\n",
    "        print(\"Samples:\",samples)\n",
    "        if self.output:\n",
    "            new_img.save(self.output)\n",
    "            display(new_img)\n",
    "        else:\n",
    "            new_img.show()\n"
   ]
  },
  {
   "cell_type": "code",
   "execution_count": 1252,
   "metadata": {},
   "outputs": [
    {
     "name": "stdout",
     "output_type": "stream",
     "text": [
      "Samples: 14084\n"
     ]
    },
    {
     "data": {
      "image/png": "[encoded data removed]",
      "text/plain": [
       "<PIL.Image.Image image mode=RGB size=229x229>"
      ]
     },
     "metadata": {},
     "output_type": "display_data"
    },
    {
     "data": {
      "text/plain": [
       "<__main__.Dither at 0x1b5391b1c10>"
      ]
     },
     "execution_count": 1252,
     "metadata": {},
     "output_type": "execute_result"
    }
   ],
   "source": [
    "Dither(\"controlMap.png\", output=\"discreteControlMap.png\", level=105, intensity=1)"
   ]
  },
  {
   "cell_type": "markdown",
   "metadata": {},
   "source": [
    "## Generate List of Vertices Based on Discretized Control Map and Triangulate with Delauney Algorithm"
   ]
  },
  {
   "cell_type": "code",
   "execution_count": 1253,
   "metadata": {},
   "outputs": [
    {
     "data": {
      "application/vnd.jupyter.widget-view+json": {
       "model_id": "2e0505c27b304e7396760fee642a5492",
       "version_major": 2,
       "version_minor": 0
      },
      "text/plain": [
       "Renderer(camera=PerspectiveCamera(children=(DirectionalLight(color='white', intensity=0.6, position=(0.0, 0.0,…"
      ]
     },
     "metadata": {},
     "output_type": "display_data"
    },
    {
     "data": {
      "text/plain": [
       "1"
      ]
     },
     "execution_count": 1253,
     "metadata": {},
     "output_type": "execute_result"
    }
   ],
   "source": [
    "def imageToMapCoords(imgX,imgY,height,width):\n",
    "    x = (imgX*2-width) / width\n",
    "    y = -(imgY*2-height) / height\n",
    "    return x,y\n",
    "\n",
    "def mapToImageCoords(mapX, mapY, height, width):\n",
    "    x = (mapX + 1)/2 * width\n",
    "    y = (-mapY + 1)/2 * height\n",
    "    x = min(int(x), width-1)\n",
    "    y = min(int(y), height-1)\n",
    "    return x,y\n",
    "    \n",
    "def uvFromControlMap(filename):\n",
    "    newUV = []\n",
    "    im = np.array(Image.open(filename))\n",
    "    for y in range(im.shape[0]):\n",
    "        for x in range(im.shape[1]):\n",
    "            if (im[y,x,0] == 0):\n",
    "                u,v=imageToMapCoords(x,y,im.shape[0],im.shape[1])\n",
    "                newUV.append([u,v])\n",
    "    return np.array(newUV)\n",
    "            \n",
    "def featureGraph(v,f):\n",
    "    feature_edge_list, _ = feature_edges(v,f,20)\n",
    "    bnd = igl.boundary_loop(f)\n",
    "    feature_graph = igl.map_vertices_to_circle(v, bnd)\n",
    "    feature_graph = np.array([circle_to_square(x_circ,y_circ) for [x_circ,y_circ] in feature_graph])\n",
    "    for coord in uv[feature_edge_list]:\n",
    "        feature_graph = np.append(feature_graph, coord, axis=0)\n",
    "    return feature_graph\n",
    "    \n",
    "\n",
    "\n",
    "remeshUV=uvFromControlMap(\"discreteControlMap.png\")\n",
    "feature_graph = featureGraph(v,f)\n",
    "\n",
    "\n",
    "\n",
    "\n",
    "remeshUV = np.append(remeshUV, feature_graph, axis=0)\n",
    "delauney = sp.spatial.Delaunay(remeshUV).simplices\n",
    "\n",
    "p=mp.plot(remeshUV, delauney, shading={\"wireframe\": 1, \"line_width\":0.9})\n",
    "p.add_points(remeshUV, shading={\"point_size\": .06, \"point_color\": \"black\"})"
   ]
  },
  {
   "cell_type": "markdown",
   "metadata": {},
   "source": [
    "## Optimize 2D Mesh\n",
    "\n",
    "### 1. Geometry Optimization with Laplacian Flow"
   ]
  },
  {
   "cell_type": "code",
   "execution_count": 1254,
   "metadata": {},
   "outputs": [],
   "source": [
    "'''\n",
    "newUV=uvFromControlMap(\"discreteControlMap.png\")\n",
    "feature_graph = featureGraph(v,f)\n",
    "bnd = igl.boundary_loop(f)\n",
    "newUV = np.append(newUV, feature_graph, axis=0)\n",
    "delauney = sp.spatial.Delaunay(newUV).simplices\n",
    "'''\n",
    "newUV = remeshUV\n",
    "\n",
    "def laplacianFlow(uvCoords, uvF, features):\n",
    "    adj_list = igl.adjacency_list(uvF)\n",
    "    for i in range(len(adj_list)):\n",
    "        p = uvCoords[i]\n",
    "        deltaT = 0.3\n",
    "        if p not in features:\n",
    "            lapFlow = np.array([0,0])\n",
    "    \n",
    "            w = 1/len(adj_list[i])\n",
    "            \n",
    "            for adjVi in adj_list[i]:\n",
    "                adjV = uvCoords[adjVi]\n",
    "                w = w                               # fix weight function\n",
    "                lapFlow = lapFlow + w * (adjV - p)\n",
    "            uvCoords[i] = p + deltaT*lapFlow\n",
    "    return uvCoords"
   ]
  },
  {
   "cell_type": "markdown",
   "metadata": {},
   "source": [
    "### 2. Connectivity Optimization with Edge Swaps"
   ]
  },
  {
   "cell_type": "code",
   "execution_count": null,
   "metadata": {},
   "outputs": [],
   "source": [
    "def edgeSwaps(uvCoords, uvF, features, numSwaps):\n",
    "    bnd_edges = igl.exterior_edges(uvF)\n",
    "    adj_list = igl.adjacency_list(uvF)\n",
    "    edgeList, _, edgeFaceTop = igl.edge_topology(uvCoords, uvF)\n",
    "    \n",
    "    for i in range(numSwaps):\n",
    "        edge = edgeList[random.randint(0,len(edgeList)-1)]\n",
    "        edgeV0 = uvCoords[edge[0]]\n",
    "        edgeV1 = uvCoords[edge[1]]\n",
    "\n",
    "        if edge in bnd_edges:\n",
    "            continue\n",
    "        elif edge in features:\n",
    "            continue\n",
    "        elif (edgeV0 in features) and (edgeV1 in features):\n",
    "            continue\n",
    "        else:\n",
    "            edgeV0Adj = adj_list[edge[0]]\n",
    "            edgeV1Adj = adj_list[edge[1]]\n",
    "            \n",
    "            oppEdge = []\n",
    "            for adjV in edgeV0Adj:\n",
    "                if adjV in edgeV1Adj:\n",
    "                    oppEdge.append(adjV)\n",
    "  \n",
    "            edgeV0AdjVal = len(edgeV0Adj)\n",
    "            edgeV1AdjVal = len(edgeV1Adj)\n",
    "            oppEdgeV0Val = len(adj_list[oppEdge[0]])\n",
    "            oppEdgeV1Val = len(adj_list[oppEdge[1]])\n",
    "\n",
    "            if (edgeV0AdjVal+edgeV1AdjVal > oppEdgeV0Val+oppEdgeV1Val):\n",
    "                edgeFaces = edgeFaceTop[i]\n",
    "    \n",
    "                v0 = uvF[edgeFaces][0][0]\n",
    "                v1 = uvF[edgeFaces][0][1]\n",
    "                v2 = uvF[edgeFaces][0][2]\n",
    "\n",
    "                for vn in  uvF[edgeFaces][0]:\n",
    "                    if vn not in uvF[edgeFaces][1]:\n",
    "                        v3 = vn\n",
    "\n",
    "                uvF[edgeFaces][0] = [v0,v2,v3]\n",
    "                uvF[edgeFaces][1] = [v2,v3,v1]\n",
    "                adj_list = igl.adjacency_list(uvF)\n",
    "                edgeList, _, edgeFaceTop = igl.edge_topology(uvCoords, uvF)            \n",
    "    return uvF"
   ]
  },
  {
   "cell_type": "code",
   "execution_count": null,
   "metadata": {},
   "outputs": [],
   "source": [
    "feature_edge_list, _ = feature_edges(v,f,20)\n",
    "delauney = edgeSwaps(newUV, delauney, feature_edge_list,300)\n",
    "newUV = laplacianFlow(newUV, delauney, feature_graph)\n",
    "    \n",
    "p=mp.plot(newUV, delauney, shading={\"wireframe\": 1, \"line_width\":0.9})"
   ]
  },
  {
   "cell_type": "markdown",
   "metadata": {},
   "source": [
    "## Convert 2D UV Coordinates to 3D Using Embedding Maps"
   ]
  },
  {
   "cell_type": "code",
   "execution_count": 1210,
   "metadata": {},
   "outputs": [
    {
     "data": {
      "application/vnd.jupyter.widget-view+json": {
       "model_id": "1dd446a3430d40768aa2313194282b5b",
       "version_major": 2,
       "version_minor": 0
      },
      "text/plain": [
       "Renderer(camera=PerspectiveCamera(children=(DirectionalLight(color='white', intensity=0.6, position=(7.2418498…"
      ]
     },
     "metadata": {},
     "output_type": "display_data"
    }
   ],
   "source": [
    "def uvMapToXYZ(uvCoords, v, xMapImg, yMapImg, zMapImg):\n",
    "    newV = []\n",
    "    Xim = np.array(Image.open(xMapImg))\n",
    "    Yim = np.array(Image.open(yMapImg))\n",
    "    Zim = np.array(Image.open(zMapImg))\n",
    "\n",
    "    xRange = max(v[:,0]) - min(v[:,0])\n",
    "    yRange = max(v[:,1]) - min(v[:,1])\n",
    "    zRange = max(v[:,2]) - min(v[:,2])\n",
    "    \n",
    "    for [xMap, yMap] in uvCoords:\n",
    "        imX, imY = mapToImageCoords(xMap, yMap, Xim.shape[0], Xim.shape[1])\n",
    "        uvXYZ = [xRange*np.sum(Xim[imY,imX]),\n",
    "                 yRange*np.sum(Yim[imY,imX]),\n",
    "                 zRange*np.sum(Zim[imY,imX])]\n",
    "        newV.append(uvXYZ)\n",
    "\n",
    "    return (1/255)*np.array(newV)\n",
    "\n",
    "\n",
    "newV = uvMapToXYZ(newUV, v, \"xMap.png\", \"yMap.png\", \"zMap.png\")\n",
    "\n",
    "\n",
    "p=mp.plot(newV, delauney, shading={\"wireframe\": 1, \"line_width\":0.2})"
   ]
  },
  {
   "cell_type": "markdown",
   "metadata": {},
   "source": []
  }
 ],
 "metadata": {
  "kernelspec": {
   "display_name": "Python 3 (ipykernel)",
   "language": "python",
   "name": "python3"
  },
  "language_info": {
   "codemirror_mode": {
    "name": "ipython",
    "version": 3
   },
   "file_extension": ".py",
   "mimetype": "text/x-python",
   "name": "python",
   "nbconvert_exporter": "python",
   "pygments_lexer": "ipython3",
   "version": "3.11.5"
  }
 },
 "nbformat": 4,
 "nbformat_minor": 4
}
