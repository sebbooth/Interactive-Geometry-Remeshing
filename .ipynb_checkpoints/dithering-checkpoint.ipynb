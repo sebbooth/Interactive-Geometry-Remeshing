{
 "cells": [
  {
   "cell_type": "code",
   "execution_count": 18,
   "id": "9325fed6-7025-44d0-b300-28c2fe518d46",
   "metadata": {},
   "outputs": [],
   "source": [
    "# https://github.com/10mrohit/floyd-steinberg-dithering\n",
    "from math import floor\n",
    "from PIL import Image\n",
    "\n",
    "import os\n",
    "\n",
    "\n",
    "class Dither():\n",
    "    def __init__(self, path, algorithm=None, output=None):\n",
    "        self.path = self.get_path(path)\n",
    "        self.algorithm = algorithm\n",
    "        self.output = output\n",
    "        self.func = self.get_func(self.algorithm)\n",
    "        self.func(self.path)\n",
    "\n",
    "    def get_path(self, path):\n",
    "        if path.startswith('/') and not path.startswith('~/'):\n",
    "            return os.getcwd() + '/' + path\n",
    "        else:\n",
    "            return path\n",
    "\n",
    "    def get_func(self, algorithm):\n",
    "        return self.floyd_steinberg_dither\n",
    "\n",
    "    def apply_threshold(self, value):\n",
    "        return 255 * floor(value/128)\n",
    "\n",
    "    def floyd_steinberg_dither(self, image_file):\n",
    "        new_img = Image.open(image_file)\n",
    "\n",
    "        new_img = new_img.convert('RGB')\n",
    "        pixel = new_img.load()\n",
    "\n",
    "        x_lim, y_lim = new_img.size\n",
    "\n",
    "        for y in range(1, y_lim):\n",
    "            for x in range(1, x_lim):\n",
    "                oldpixel, _, _ = pixel[x, y]\n",
    "                newpixel = self.apply_threshold(oldpixel)\n",
    "              \n",
    "                pixel[x, y] = newpixel, newpixel, newpixel\n",
    "\n",
    "                error = oldpixel - newpixel\n",
    "            \n",
    "                if x < x_lim - 1:\n",
    "                    value = pixel[x+1, y][0] + round(error * 7/16)\n",
    "                    pixel[x+1, y] = (value, value, value)\n",
    "\n",
    "                if x > 1 and y < y_lim - 1:\n",
    "                    value = pixel[x-1, y+1][0] + round(error * 3/16)\n",
    "                    pixel[x-1, y+1] = (value, value, value)\n",
    "\n",
    "                if y < y_lim - 1:\n",
    "                    value = pixel[x, y+1][0] + round(error * 5/16)\n",
    "                    pixel[x, y+1] = (value, value, value)\n",
    "\n",
    "                if x < x_lim - 1 and y < y_lim - 1:\n",
    "                    value = pixel[x+1, y+1][0] + round(error * 1/16)\n",
    "                    pixel[x+1, y+1] = (value, value, value)\n",
    "\n",
    "        if self.output:\n",
    "            new_img.save(self.output)\n",
    "        else:\n",
    "            new_img.show()"
   ]
  },
  {
   "cell_type": "code",
   "execution_count": 19,
   "id": "1a9f027e-c34f-4488-977e-b739691e0bd9",
   "metadata": {},
   "outputs": [
    {
     "data": {
      "text/plain": [
       "<__main__.Dither at 0x20dad14f9d0>"
      ]
     },
     "execution_count": 19,
     "metadata": {},
     "output_type": "execute_result"
    }
   ],
   "source": [
    "Dither(\"controlMap.png\")"
   ]
  },
  {
   "cell_type": "code",
   "execution_count": 12,
   "id": "417b6d78-6b64-47b1-9d6b-c0c7ca77bea5",
   "metadata": {},
   "outputs": [],
   "source": [
    "# https://github.com/10mrohit/floyd-steinberg-dithering\n",
    "from math import floor\n",
    "from PIL import Image\n",
    "\n",
    "import os\n",
    "import numpy as np\n",
    "\n",
    "class Dither():\n",
    "    def __init__(self, path, intensity=1, algorithm=None, output=None):\n",
    "        self.distCoeffs = intensity * np.array([1/255, 64/255, 85/255, 127/255])\n",
    "        self.path = self.get_path(path)\n",
    "        self.algorithm = algorithm\n",
    "        self.output = output\n",
    "        self.func = self.get_func(self.algorithm)\n",
    "        self.func(self.path)\n",
    "\n",
    "    def get_path(self, path):\n",
    "        if path.startswith('/') and not path.startswith('~/'):\n",
    "            return os.getcwd() + '/' + path\n",
    "        else:\n",
    "            return path\n",
    "\n",
    "    def get_func(self, algorithm):\n",
    "        return self.floyd_steinberg_dither\n",
    "\n",
    "    def apply_threshold(self, value):\n",
    "        return 255 * floor(value/128)\n",
    "\n",
    "    def floyd_steinberg_dither(self, image_file):\n",
    "        d10 = self.distCoeffs[0]\n",
    "        d01 = self.distCoeffs[1]\n",
    "        dn11 = self.distCoeffs[2]\n",
    "        new_img = Image.open(image_file)\n",
    "\n",
    "        new_img = new_img.convert('RGB')\n",
    "        pixel = new_img.load()\n",
    "\n",
    "        x_lim, y_lim = new_img.size\n",
    "\n",
    "        for y in range(1, y_lim):\n",
    "            for x in range(1, x_lim):\n",
    "                oldpixel, _, _ = pixel[x, y]\n",
    "                newpixel = self.apply_threshold(oldpixel)\n",
    "                pixel[x, y] = newpixel, newpixel, newpixel\n",
    "                \n",
    "                error = oldpixel - newpixel\n",
    "            \n",
    "                if x < x_lim - 1:\n",
    "                    value = pixel[x+1, y][0] + round(error * d10)\n",
    "                    pixel[x+1, y] = (value, value, value)\n",
    "\n",
    "                if x > 1 and y < y_lim - 1:\n",
    "                    value = pixel[x-1, y+1][0] + round(error * d01)\n",
    "                    pixel[x-1, y+1] = (value, value, value)\n",
    "\n",
    "                if y < y_lim - 1:\n",
    "                    value = pixel[x, y+1][0] + round(error * dn11)\n",
    "                    pixel[x, y+1] = (value, value, value)\n",
    "\n",
    "        if self.output:\n",
    "            new_img.save(self.output)\n",
    "        else:\n",
    "            new_img.show()"
   ]
  },
  {
   "cell_type": "code",
   "execution_count": 13,
   "id": "9086c82f-d7e1-4067-9060-f58a1090b88c",
   "metadata": {},
   "outputs": [
    {
     "data": {
      "text/plain": [
       "<__main__.Dither at 0x20dae4262d0>"
      ]
     },
     "execution_count": 13,
     "metadata": {},
     "output_type": "execute_result"
    }
   ],
   "source": [
    "Dither(\"controlMap.png\")"
   ]
  },
  {
   "cell_type": "code",
   "execution_count": null,
   "id": "941c3457-b99b-41c6-b025-d10de9b5f0ec",
   "metadata": {},
   "outputs": [],
   "source": []
  }
 ],
 "metadata": {
  "kernelspec": {
   "display_name": "Python 3 (ipykernel)",
   "language": "python",
   "name": "python3"
  },
  "language_info": {
   "codemirror_mode": {
    "name": "ipython",
    "version": 3
   },
   "file_extension": ".py",
   "mimetype": "text/x-python",
   "name": "python",
   "nbconvert_exporter": "python",
   "pygments_lexer": "ipython3",
   "version": "3.11.5"
  }
 },
 "nbformat": 4,
 "nbformat_minor": 5
}
